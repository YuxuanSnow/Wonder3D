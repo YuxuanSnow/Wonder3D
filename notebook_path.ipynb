{
 "cells": [
  {
   "cell_type": "code",
   "execution_count": 3,
   "metadata": {},
   "outputs": [],
   "source": [
    "import numpy as np\n",
    "import os\n",
    "import shutil\n",
    "\n",
    "path = '/mnt/qb/ponsmoll/yxue/project/RVH-123/rendering_2k2k_32view/2k2k'\n",
    "\n",
    "i = 0\n",
    "for subj in os.listdir(path):\n",
    "    subj_path = os.path.join(path, subj)\n",
    "\n",
    "    old_img_path = os.path.join(subj_path, '0', '008.png')\n",
    "    new_img_path = os.path.join('/home/yuxuan/project/Wonder3D/2k2k_data', 'back', '_'+subj+'.png')\n",
    "    shutil.copy(old_img_path, new_img_path)\n",
    "\n",
    "    i += 1\n",
    "\n",
    "    if i >= 50:\n",
    "        break"
   ]
  },
  {
   "cell_type": "code",
   "execution_count": 5,
   "metadata": {},
   "outputs": [
    {
     "name": "stdout",
     "output_type": "stream",
     "text": [
      "Folder renamed from /home/yuxuan/project/Wonder3D/outputs/2k2k_front/cropsize-192-cfg1.0/00075 to /home/yuxuan/project/Wonder3D/outputs/2k2k_front/cropsize-192-cfg1.0/_00075\n",
      "Folder renamed from /home/yuxuan/project/Wonder3D/outputs/2k2k_front/cropsize-192-cfg1.0/00088 to /home/yuxuan/project/Wonder3D/outputs/2k2k_front/cropsize-192-cfg1.0/_00088\n",
      "Folder renamed from /home/yuxuan/project/Wonder3D/outputs/2k2k_front/cropsize-192-cfg1.0/00043 to /home/yuxuan/project/Wonder3D/outputs/2k2k_front/cropsize-192-cfg1.0/_00043\n",
      "Folder renamed from /home/yuxuan/project/Wonder3D/outputs/2k2k_front/cropsize-192-cfg1.0/00073 to /home/yuxuan/project/Wonder3D/outputs/2k2k_front/cropsize-192-cfg1.0/_00073\n",
      "Folder renamed from /home/yuxuan/project/Wonder3D/outputs/2k2k_front/cropsize-192-cfg1.0/00068 to /home/yuxuan/project/Wonder3D/outputs/2k2k_front/cropsize-192-cfg1.0/_00068\n",
      "Folder renamed from /home/yuxuan/project/Wonder3D/outputs/2k2k_front/cropsize-192-cfg1.0/00078 to /home/yuxuan/project/Wonder3D/outputs/2k2k_front/cropsize-192-cfg1.0/_00078\n",
      "Folder renamed from /home/yuxuan/project/Wonder3D/outputs/2k2k_front/cropsize-192-cfg1.0/00060 to /home/yuxuan/project/Wonder3D/outputs/2k2k_front/cropsize-192-cfg1.0/_00060\n",
      "Folder renamed from /home/yuxuan/project/Wonder3D/outputs/2k2k_front/cropsize-192-cfg1.0/00023 to /home/yuxuan/project/Wonder3D/outputs/2k2k_front/cropsize-192-cfg1.0/_00023\n",
      "Folder renamed from /home/yuxuan/project/Wonder3D/outputs/2k2k_front/cropsize-192-cfg1.0/00071 to /home/yuxuan/project/Wonder3D/outputs/2k2k_front/cropsize-192-cfg1.0/_00071\n",
      "Folder renamed from /home/yuxuan/project/Wonder3D/outputs/2k2k_front/cropsize-192-cfg1.0/00074 to /home/yuxuan/project/Wonder3D/outputs/2k2k_front/cropsize-192-cfg1.0/_00074\n",
      "Folder renamed from /home/yuxuan/project/Wonder3D/outputs/2k2k_front/cropsize-192-cfg1.0/00058 to /home/yuxuan/project/Wonder3D/outputs/2k2k_front/cropsize-192-cfg1.0/_00058\n",
      "Folder renamed from /home/yuxuan/project/Wonder3D/outputs/2k2k_front/cropsize-192-cfg1.0/00052 to /home/yuxuan/project/Wonder3D/outputs/2k2k_front/cropsize-192-cfg1.0/_00052\n",
      "Folder renamed from /home/yuxuan/project/Wonder3D/outputs/2k2k_front/cropsize-192-cfg1.0/00066 to /home/yuxuan/project/Wonder3D/outputs/2k2k_front/cropsize-192-cfg1.0/_00066\n",
      "Folder renamed from /home/yuxuan/project/Wonder3D/outputs/2k2k_front/cropsize-192-cfg1.0/00042 to /home/yuxuan/project/Wonder3D/outputs/2k2k_front/cropsize-192-cfg1.0/_00042\n",
      "Folder renamed from /home/yuxuan/project/Wonder3D/outputs/2k2k_front/cropsize-192-cfg1.0/00053 to /home/yuxuan/project/Wonder3D/outputs/2k2k_front/cropsize-192-cfg1.0/_00053\n",
      "Folder renamed from /home/yuxuan/project/Wonder3D/outputs/2k2k_front/cropsize-192-cfg1.0/00014 to /home/yuxuan/project/Wonder3D/outputs/2k2k_front/cropsize-192-cfg1.0/_00014\n",
      "Folder renamed from /home/yuxuan/project/Wonder3D/outputs/2k2k_front/cropsize-192-cfg1.0/00029 to /home/yuxuan/project/Wonder3D/outputs/2k2k_front/cropsize-192-cfg1.0/_00029\n",
      "Folder renamed from /home/yuxuan/project/Wonder3D/outputs/2k2k_front/cropsize-192-cfg1.0/00080 to /home/yuxuan/project/Wonder3D/outputs/2k2k_front/cropsize-192-cfg1.0/_00080\n",
      "Folder renamed from /home/yuxuan/project/Wonder3D/outputs/2k2k_front/cropsize-192-cfg1.0/00061 to /home/yuxuan/project/Wonder3D/outputs/2k2k_front/cropsize-192-cfg1.0/_00061\n",
      "Folder renamed from /home/yuxuan/project/Wonder3D/outputs/2k2k_front/cropsize-192-cfg1.0/00034 to /home/yuxuan/project/Wonder3D/outputs/2k2k_front/cropsize-192-cfg1.0/_00034\n",
      "Folder renamed from /home/yuxuan/project/Wonder3D/outputs/2k2k_front/cropsize-192-cfg1.0/00091 to /home/yuxuan/project/Wonder3D/outputs/2k2k_front/cropsize-192-cfg1.0/_00091\n",
      "Folder renamed from /home/yuxuan/project/Wonder3D/outputs/2k2k_front/cropsize-192-cfg1.0/00047 to /home/yuxuan/project/Wonder3D/outputs/2k2k_front/cropsize-192-cfg1.0/_00047\n",
      "Folder renamed from /home/yuxuan/project/Wonder3D/outputs/2k2k_front/cropsize-192-cfg1.0/00086 to /home/yuxuan/project/Wonder3D/outputs/2k2k_front/cropsize-192-cfg1.0/_00086\n",
      "Folder renamed from /home/yuxuan/project/Wonder3D/outputs/2k2k_front/cropsize-192-cfg1.0/00040 to /home/yuxuan/project/Wonder3D/outputs/2k2k_front/cropsize-192-cfg1.0/_00040\n",
      "Folder renamed from /home/yuxuan/project/Wonder3D/outputs/2k2k_front/cropsize-192-cfg1.0/00019 to /home/yuxuan/project/Wonder3D/outputs/2k2k_front/cropsize-192-cfg1.0/_00019\n",
      "Folder renamed from /home/yuxuan/project/Wonder3D/outputs/2k2k_front/cropsize-192-cfg1.0/00036 to /home/yuxuan/project/Wonder3D/outputs/2k2k_front/cropsize-192-cfg1.0/_00036\n",
      "Folder renamed from /home/yuxuan/project/Wonder3D/outputs/2k2k_front/cropsize-192-cfg1.0/00064 to /home/yuxuan/project/Wonder3D/outputs/2k2k_front/cropsize-192-cfg1.0/_00064\n",
      "Folder renamed from /home/yuxuan/project/Wonder3D/outputs/2k2k_front/cropsize-192-cfg1.0/00037 to /home/yuxuan/project/Wonder3D/outputs/2k2k_front/cropsize-192-cfg1.0/_00037\n",
      "Folder renamed from /home/yuxuan/project/Wonder3D/outputs/2k2k_front/cropsize-192-cfg1.0/00056 to /home/yuxuan/project/Wonder3D/outputs/2k2k_front/cropsize-192-cfg1.0/_00056\n",
      "Folder renamed from /home/yuxuan/project/Wonder3D/outputs/2k2k_front/cropsize-192-cfg1.0/00025 to /home/yuxuan/project/Wonder3D/outputs/2k2k_front/cropsize-192-cfg1.0/_00025\n",
      "Folder renamed from /home/yuxuan/project/Wonder3D/outputs/2k2k_front/cropsize-192-cfg1.0/00048 to /home/yuxuan/project/Wonder3D/outputs/2k2k_front/cropsize-192-cfg1.0/_00048\n",
      "Folder renamed from /home/yuxuan/project/Wonder3D/outputs/2k2k_front/cropsize-192-cfg1.0/00072 to /home/yuxuan/project/Wonder3D/outputs/2k2k_front/cropsize-192-cfg1.0/_00072\n",
      "Folder renamed from /home/yuxuan/project/Wonder3D/outputs/2k2k_front/cropsize-192-cfg1.0/00065 to /home/yuxuan/project/Wonder3D/outputs/2k2k_front/cropsize-192-cfg1.0/_00065\n",
      "Folder renamed from /home/yuxuan/project/Wonder3D/outputs/2k2k_front/cropsize-192-cfg1.0/00051 to /home/yuxuan/project/Wonder3D/outputs/2k2k_front/cropsize-192-cfg1.0/_00051\n",
      "Folder renamed from /home/yuxuan/project/Wonder3D/outputs/2k2k_front/cropsize-192-cfg1.0/00067 to /home/yuxuan/project/Wonder3D/outputs/2k2k_front/cropsize-192-cfg1.0/_00067\n",
      "Folder renamed from /home/yuxuan/project/Wonder3D/outputs/2k2k_front/cropsize-192-cfg1.0/00063 to /home/yuxuan/project/Wonder3D/outputs/2k2k_front/cropsize-192-cfg1.0/_00063\n",
      "Folder renamed from /home/yuxuan/project/Wonder3D/outputs/2k2k_front/cropsize-192-cfg1.0/00070 to /home/yuxuan/project/Wonder3D/outputs/2k2k_front/cropsize-192-cfg1.0/_00070\n",
      "Folder renamed from /home/yuxuan/project/Wonder3D/outputs/2k2k_front/cropsize-192-cfg1.0/00055 to /home/yuxuan/project/Wonder3D/outputs/2k2k_front/cropsize-192-cfg1.0/_00055\n",
      "Folder renamed from /home/yuxuan/project/Wonder3D/outputs/2k2k_front/cropsize-192-cfg1.0/00044 to /home/yuxuan/project/Wonder3D/outputs/2k2k_front/cropsize-192-cfg1.0/_00044\n",
      "Folder renamed from /home/yuxuan/project/Wonder3D/outputs/2k2k_front/cropsize-192-cfg1.0/00022 to /home/yuxuan/project/Wonder3D/outputs/2k2k_front/cropsize-192-cfg1.0/_00022\n",
      "Folder renamed from /home/yuxuan/project/Wonder3D/outputs/2k2k_front/cropsize-192-cfg1.0/00081 to /home/yuxuan/project/Wonder3D/outputs/2k2k_front/cropsize-192-cfg1.0/_00081\n",
      "Folder renamed from /home/yuxuan/project/Wonder3D/outputs/2k2k_front/cropsize-192-cfg1.0/00090 to /home/yuxuan/project/Wonder3D/outputs/2k2k_front/cropsize-192-cfg1.0/_00090\n",
      "Folder renamed from /home/yuxuan/project/Wonder3D/outputs/2k2k_front/cropsize-192-cfg1.0/00007 to /home/yuxuan/project/Wonder3D/outputs/2k2k_front/cropsize-192-cfg1.0/_00007\n",
      "Folder renamed from /home/yuxuan/project/Wonder3D/outputs/2k2k_front/cropsize-192-cfg1.0/00031 to /home/yuxuan/project/Wonder3D/outputs/2k2k_front/cropsize-192-cfg1.0/_00031\n",
      "Folder renamed from /home/yuxuan/project/Wonder3D/outputs/2k2k_front/cropsize-192-cfg1.0/00009 to /home/yuxuan/project/Wonder3D/outputs/2k2k_front/cropsize-192-cfg1.0/_00009\n",
      "Folder renamed from /home/yuxuan/project/Wonder3D/outputs/2k2k_front/cropsize-192-cfg1.0/00045 to /home/yuxuan/project/Wonder3D/outputs/2k2k_front/cropsize-192-cfg1.0/_00045\n",
      "Folder renamed from /home/yuxuan/project/Wonder3D/outputs/2k2k_front/cropsize-192-cfg1.0/00059 to /home/yuxuan/project/Wonder3D/outputs/2k2k_front/cropsize-192-cfg1.0/_00059\n",
      "Folder renamed from /home/yuxuan/project/Wonder3D/outputs/2k2k_front/cropsize-192-cfg1.0/00039 to /home/yuxuan/project/Wonder3D/outputs/2k2k_front/cropsize-192-cfg1.0/_00039\n",
      "Folder renamed from /home/yuxuan/project/Wonder3D/outputs/2k2k_front/cropsize-192-cfg1.0/00005 to /home/yuxuan/project/Wonder3D/outputs/2k2k_front/cropsize-192-cfg1.0/_00005\n"
     ]
    }
   ],
   "source": [
    "path = '/home/yuxuan/project/Wonder3D/outputs/2k2k_front/cropsize-192-cfg1.0'\n",
    "\n",
    "def rename_folder(old_name, new_name):\n",
    "    try:\n",
    "        os.rename(old_name, new_name)\n",
    "        print(f\"Folder renamed from {old_name} to {new_name}\")\n",
    "    except FileNotFoundError:\n",
    "        print(f\"The folder {old_name} does not exist\")\n",
    "    except Exception as e:\n",
    "        print(f\"Error occurred while renaming folder: {e}\")\n",
    "\n",
    "for subj in os.listdir(path):\n",
    "    subj_path = os.path.join(path, subj)\n",
    "\n",
    "    if subj.startswith('_'):\n",
    "        continue    \n",
    "\n",
    "    old_folder_name = subj_path\n",
    "    new_folder_name = os.path.join(path, '_'+subj)\n",
    "\n",
    "    rename_folder(old_folder_name, new_folder_name)"
   ]
  },
  {
   "cell_type": "code",
   "execution_count": 9,
   "metadata": {},
   "outputs": [
    {
     "name": "stderr",
     "output_type": "stream",
     "text": [
      "Global seed set to 42\n",
      "Using finite difference to compute gradients with eps=progressive\n",
      "Using 16bit None Automatic Mixed Precision (AMP)\n",
      "GPU available: True (cuda), used: True\n",
      "TPU available: False, using: 0 TPU cores\n",
      "IPU available: False, using: 0 IPUs\n",
      "HPU available: False, using: 0 HPUs\n",
      "`Trainer(limit_train_batches=1.0)` was configured so 100% of the batches per epoch will be used..\n",
      "[rank: 0] Global seed set to 42\n",
      "Initializing distributed: GLOBAL_RANK: 0, MEMBER: 1/1\n",
      "----------------------------------------------------------------------------------------------------\n",
      "distributed_backend=nccl\n",
      "All distributed processes registered. Starting with 1 processes\n",
      "----------------------------------------------------------------------------------------------------\n",
      "\n",
      "You are using a CUDA device ('NVIDIA GeForce RTX 4090') that has Tensor Cores. To properly utilize them, you should set `torch.set_float32_matmul_precision('medium' | 'high')` which will trade-off precision for performance. For more details, read https://pytorch.org/docs/stable/generated/torch.set_float32_matmul_precision.html#torch.set_float32_matmul_precision\n"
     ]
    },
    {
     "name": "stdout",
     "output_type": "stream",
     "text": [
      "(1024, 1024, 3)\n",
      "the loaded normals are defined in the system of front view\n",
      "(1024, 1024, 3)\n",
      "the loaded normals are defined in the system of front view\n",
      "(1024, 1024, 3)\n",
      "the loaded normals are defined in the system of front view\n",
      "(1024, 1024, 3)\n",
      "the loaded normals are defined in the system of front view\n",
      "(1024, 1024, 3)\n",
      "the loaded normals are defined in the system of front view\n",
      "(1024, 1024, 3)\n",
      "the loaded normals are defined in the system of front view\n",
      "(1024, 1024, 3)\n",
      "the loaded normals are defined in the system of front view\n",
      "(1024, 1024, 3)\n",
      "the loaded normals are defined in the system of front view\n",
      "(1024, 1024, 3)\n",
      "the loaded normals are defined in the system of front view\n",
      "(1024, 1024, 3)\n",
      "the loaded normals are defined in the system of front view\n",
      "(1024, 1024, 3)\n",
      "the loaded normals are defined in the system of front view\n",
      "(1024, 1024, 3)\n",
      "the loaded normals are defined in the system of front view\n"
     ]
    },
    {
     "name": "stderr",
     "output_type": "stream",
     "text": [
      "LOCAL_RANK: 0 - CUDA_VISIBLE_DEVICES: [0]\n",
      "\n",
      "  | Name  | Type             | Params\n",
      "-------------------------------------------\n",
      "0 | cos   | CosineSimilarity | 0     \n",
      "1 | model | NeuSModel        | 7.7 M \n",
      "-------------------------------------------\n",
      "7.7 M     Trainable params\n",
      "0         Non-trainable params\n",
      "7.7 M     Total params\n",
      "15.371    Total estimated model params size (MB)\n"
     ]
    },
    {
     "name": "stdout",
     "output_type": "stream",
     "text": [
      "Epoch 0: : 0it [00:00, ?it/s]"
     ]
    },
    {
     "name": "stderr",
     "output_type": "stream",
     "text": [
      "Update finite_difference_eps to 0.027204705103003882\n"
     ]
    },
    {
     "name": "stdout",
     "output_type": "stream",
     "text": [
      "Epoch 0: : 506it [00:14, 34.86it/s, loss=0.0815, train/loss_rgb_mse=0.0579, train/loss_normal=0.00982, train/loss_eikonal=0.0114, train/loss_mask=0.0134, train/loss_sparsity=0.00226, train/loss_3d_normal_smooth=0.0133, train/inv_s=81.50, train/num_rays=2889.0]"
     ]
    },
    {
     "name": "stderr",
     "output_type": "stream",
     "text": [
      "/home/yuxuan/miniconda3/envs/wonder3d/lib/python3.9/site-packages/torch/optim/lr_scheduler.py:163: UserWarning: The epoch parameter in `scheduler.step()` was not necessary and is being deprecated where possible. Please use `scheduler.step()` to step the scheduler. During the deprecation, if epoch is different from None, the closed form is used instead of the new chainable form, where available. Please open an issue if you are unable to replicate your use case: https://github.com/pytorch/pytorch/issues/new/choose.\n",
      "  warnings.warn(EPOCH_DEPRECATION_WARNING, UserWarning)\n"
     ]
    },
    {
     "name": "stdout",
     "output_type": "stream",
     "text": [
      "Epoch 0: : 1001it [00:27, 35.91it/s, loss=0.0587, train/loss_rgb_mse=0.0567, train/loss_normal=0.00641, train/loss_eikonal=0.0127, train/loss_mask=0.00595, train/loss_sparsity=0.00252, train/loss_3d_normal_smooth=0.0139, train/inv_s=182.0, train/num_rays=4854.0] "
     ]
    },
    {
     "name": "stderr",
     "output_type": "stream",
     "text": [
      "Update grid level to 5\n",
      "Update finite_difference_eps to 0.02061731110582648\n"
     ]
    },
    {
     "name": "stdout",
     "output_type": "stream",
     "text": [
      "Epoch 0: : 2014it [00:45, 44.02it/s, loss=0.0464, train/loss_rgb_mse=0.0473, train/loss_normal=0.00709, train/loss_eikonal=0.0217, train/loss_mask=0.00068, train/loss_sparsity=0.00372, train/loss_3d_normal_smooth=0.012, train/inv_s=260.0, train/num_rays=8192.0]   "
     ]
    },
    {
     "name": "stderr",
     "output_type": "stream",
     "text": [
      "Update grid level to 6\n",
      "Update finite_difference_eps to 0.015625000000000003\n"
     ]
    },
    {
     "name": "stdout",
     "output_type": "stream",
     "text": [
      "Epoch 0: : 3000it [00:59, 50.47it/s, loss=0.0391, train/loss_rgb_mse=0.0316, train/loss_normal=0.00626, train/loss_eikonal=0.0151, train/loss_mask=0.00068, train/loss_sparsity=0.00221, train/loss_3d_normal_smooth=0.00916, train/inv_s=299.0, train/num_rays=8192.0]  \n"
     ]
    },
    {
     "name": "stderr",
     "output_type": "stream",
     "text": [
      "`Trainer.fit` stopped: `max_steps=3000` reached.\n",
      "[rank: 0] Global seed set to 42\n",
      "You are using a CUDA device ('NVIDIA GeForce RTX 4090') that has Tensor Cores. To properly utilize them, you should set `torch.set_float32_matmul_precision('medium' | 'high')` which will trade-off precision for performance. For more details, read https://pytorch.org/docs/stable/generated/torch.set_float32_matmul_precision.html#torch.set_float32_matmul_precision\n"
     ]
    },
    {
     "name": "stdout",
     "output_type": "stream",
     "text": [
      "(1024, 1024, 3)\n",
      "the loaded normals are defined in the system of front view\n",
      "(1024, 1024, 3)\n",
      "the loaded normals are defined in the system of front view\n",
      "(1024, 1024, 3)\n",
      "the loaded normals are defined in the system of front view\n",
      "(1024, 1024, 3)\n",
      "the loaded normals are defined in the system of front view\n",
      "(1024, 1024, 3)\n",
      "the loaded normals are defined in the system of front view\n",
      "(1024, 1024, 3)\n",
      "the loaded normals are defined in the system of front view\n",
      "Testing: 0it [00:00, ?it/s]"
     ]
    },
    {
     "name": "stderr",
     "output_type": "stream",
     "text": [
      "LOCAL_RANK: 0 - CUDA_VISIBLE_DEVICES: [0]\n"
     ]
    },
    {
     "name": "stdout",
     "output_type": "stream",
     "text": [
      "Testing DataLoader 0: 100%|██████████| 6/6 [00:00<00:00, 731.48it/s]"
     ]
    },
    {
     "name": "stderr",
     "output_type": "stream",
     "text": [
      "Update grid level to 7\n",
      "Update finite_difference_eps to 0.011841535675862488\n"
     ]
    },
    {
     "name": "stdout",
     "output_type": "stream",
     "text": [
      "ortho scale is:  1.35\n",
      "Testing DataLoader 0: 100%|██████████| 6/6 [00:01<00:00,  3.17it/s] \n"
     ]
    },
    {
     "name": "stderr",
     "output_type": "stream",
     "text": [
      "Global seed set to 42\n",
      "Using finite difference to compute gradients with eps=progressive\n",
      "Using 16bit None Automatic Mixed Precision (AMP)\n",
      "GPU available: True (cuda), used: True\n",
      "TPU available: False, using: 0 TPU cores\n",
      "IPU available: False, using: 0 IPUs\n",
      "HPU available: False, using: 0 HPUs\n",
      "`Trainer(limit_train_batches=1.0)` was configured so 100% of the batches per epoch will be used..\n",
      "[rank: 0] Global seed set to 42\n",
      "Initializing distributed: GLOBAL_RANK: 0, MEMBER: 1/1\n",
      "----------------------------------------------------------------------------------------------------\n",
      "distributed_backend=nccl\n",
      "All distributed processes registered. Starting with 1 processes\n",
      "----------------------------------------------------------------------------------------------------\n",
      "\n",
      "You are using a CUDA device ('NVIDIA GeForce RTX 4090') that has Tensor Cores. To properly utilize them, you should set `torch.set_float32_matmul_precision('medium' | 'high')` which will trade-off precision for performance. For more details, read https://pytorch.org/docs/stable/generated/torch.set_float32_matmul_precision.html#torch.set_float32_matmul_precision\n"
     ]
    },
    {
     "name": "stdout",
     "output_type": "stream",
     "text": [
      "(1024, 1024, 3)\n",
      "the loaded normals are defined in the system of front view\n",
      "(1024, 1024, 3)\n",
      "the loaded normals are defined in the system of front view\n",
      "(1024, 1024, 3)\n",
      "the loaded normals are defined in the system of front view\n",
      "(1024, 1024, 3)\n",
      "the loaded normals are defined in the system of front view\n",
      "(1024, 1024, 3)\n",
      "the loaded normals are defined in the system of front view\n",
      "(1024, 1024, 3)\n",
      "the loaded normals are defined in the system of front view\n",
      "(1024, 1024, 3)\n",
      "the loaded normals are defined in the system of front view\n",
      "(1024, 1024, 3)\n",
      "the loaded normals are defined in the system of front view\n",
      "(1024, 1024, 3)\n",
      "the loaded normals are defined in the system of front view\n",
      "(1024, 1024, 3)\n",
      "the loaded normals are defined in the system of front view\n",
      "(1024, 1024, 3)\n",
      "the loaded normals are defined in the system of front view\n",
      "(1024, 1024, 3)\n",
      "the loaded normals are defined in the system of front view\n"
     ]
    },
    {
     "name": "stderr",
     "output_type": "stream",
     "text": [
      "LOCAL_RANK: 0 - CUDA_VISIBLE_DEVICES: [0]\n",
      "\n",
      "  | Name  | Type             | Params\n",
      "-------------------------------------------\n",
      "0 | cos   | CosineSimilarity | 0     \n",
      "1 | model | NeuSModel        | 7.7 M \n",
      "-------------------------------------------\n",
      "7.7 M     Trainable params\n",
      "0         Non-trainable params\n",
      "7.7 M     Total params\n",
      "15.371    Total estimated model params size (MB)\n"
     ]
    },
    {
     "name": "stdout",
     "output_type": "stream",
     "text": [
      "Epoch 0: : 0it [00:00, ?it/s]"
     ]
    },
    {
     "name": "stderr",
     "output_type": "stream",
     "text": [
      "Update finite_difference_eps to 0.027204705103003882\n"
     ]
    },
    {
     "name": "stdout",
     "output_type": "stream",
     "text": [
      "Epoch 0: : 504it [00:14, 34.55it/s, loss=0.0612, train/loss_rgb_mse=0.066, train/loss_normal=0.00727, train/loss_eikonal=0.0121, train/loss_mask=0.00765, train/loss_sparsity=0.00294, train/loss_3d_normal_smooth=0.0143, train/inv_s=118.0, train/num_rays=2920.0] "
     ]
    },
    {
     "name": "stderr",
     "output_type": "stream",
     "text": [
      "/home/yuxuan/miniconda3/envs/wonder3d/lib/python3.9/site-packages/torch/optim/lr_scheduler.py:163: UserWarning: The epoch parameter in `scheduler.step()` was not necessary and is being deprecated where possible. Please use `scheduler.step()` to step the scheduler. During the deprecation, if epoch is different from None, the closed form is used instead of the new chainable form, where available. Please open an issue if you are unable to replicate your use case: https://github.com/pytorch/pytorch/issues/new/choose.\n",
      "  warnings.warn(EPOCH_DEPRECATION_WARNING, UserWarning)\n"
     ]
    },
    {
     "name": "stdout",
     "output_type": "stream",
     "text": [
      "Epoch 0: : 1000it [00:27, 35.75it/s, loss=0.0477, train/loss_rgb_mse=0.0418, train/loss_normal=0.00701, train/loss_eikonal=0.00975, train/loss_mask=0.00419, train/loss_sparsity=0.00285, train/loss_3d_normal_smooth=0.0116, train/inv_s=255.0, train/num_rays=4860.0]"
     ]
    },
    {
     "name": "stderr",
     "output_type": "stream",
     "text": [
      "Update grid level to 5\n",
      "Update finite_difference_eps to 0.02061731110582648\n"
     ]
    },
    {
     "name": "stdout",
     "output_type": "stream",
     "text": [
      "Epoch 0: : 2008it [00:45, 44.23it/s, loss=0.0383, train/loss_rgb_mse=0.0414, train/loss_normal=0.00447, train/loss_eikonal=0.0162, train/loss_mask=0.000682, train/loss_sparsity=0.00254, train/loss_3d_normal_smooth=0.0113, train/inv_s=392.0, train/num_rays=8192.0]  "
     ]
    },
    {
     "name": "stderr",
     "output_type": "stream",
     "text": [
      "Update grid level to 6\n",
      "Update finite_difference_eps to 0.015625000000000003\n"
     ]
    },
    {
     "name": "stdout",
     "output_type": "stream",
     "text": [
      "Epoch 0: : 3000it [00:58, 51.18it/s, loss=0.0341, train/loss_rgb_mse=0.0233, train/loss_normal=0.00458, train/loss_eikonal=0.0114, train/loss_mask=0.000679, train/loss_sparsity=0.00168, train/loss_3d_normal_smooth=0.00958, train/inv_s=458.0, train/num_rays=8192.0] \n"
     ]
    },
    {
     "name": "stderr",
     "output_type": "stream",
     "text": [
      "`Trainer.fit` stopped: `max_steps=3000` reached.\n",
      "[rank: 0] Global seed set to 42\n",
      "You are using a CUDA device ('NVIDIA GeForce RTX 4090') that has Tensor Cores. To properly utilize them, you should set `torch.set_float32_matmul_precision('medium' | 'high')` which will trade-off precision for performance. For more details, read https://pytorch.org/docs/stable/generated/torch.set_float32_matmul_precision.html#torch.set_float32_matmul_precision\n"
     ]
    },
    {
     "name": "stdout",
     "output_type": "stream",
     "text": [
      "(1024, 1024, 3)\n",
      "the loaded normals are defined in the system of front view\n",
      "(1024, 1024, 3)\n",
      "the loaded normals are defined in the system of front view\n",
      "(1024, 1024, 3)\n",
      "the loaded normals are defined in the system of front view\n",
      "(1024, 1024, 3)\n",
      "the loaded normals are defined in the system of front view\n",
      "(1024, 1024, 3)\n",
      "the loaded normals are defined in the system of front view\n",
      "(1024, 1024, 3)\n",
      "the loaded normals are defined in the system of front view\n"
     ]
    },
    {
     "name": "stderr",
     "output_type": "stream",
     "text": [
      "LOCAL_RANK: 0 - CUDA_VISIBLE_DEVICES: [0]\n"
     ]
    },
    {
     "name": "stdout",
     "output_type": "stream",
     "text": [
      "Testing DataLoader 0: 100%|██████████| 6/6 [00:00<00:00, 817.42it/s]"
     ]
    },
    {
     "name": "stderr",
     "output_type": "stream",
     "text": [
      "Update grid level to 7\n",
      "Update finite_difference_eps to 0.011841535675862488\n"
     ]
    },
    {
     "name": "stdout",
     "output_type": "stream",
     "text": [
      "ortho scale is:  1.35\n",
      "Testing DataLoader 0: 100%|██████████| 6/6 [00:01<00:00,  3.19it/s] \n"
     ]
    },
    {
     "name": "stderr",
     "output_type": "stream",
     "text": [
      "Global seed set to 42\n",
      "Using finite difference to compute gradients with eps=progressive\n",
      "Using 16bit None Automatic Mixed Precision (AMP)\n",
      "GPU available: True (cuda), used: True\n",
      "TPU available: False, using: 0 TPU cores\n",
      "IPU available: False, using: 0 IPUs\n",
      "HPU available: False, using: 0 HPUs\n",
      "`Trainer(limit_train_batches=1.0)` was configured so 100% of the batches per epoch will be used..\n",
      "[rank: 0] Global seed set to 42\n",
      "Initializing distributed: GLOBAL_RANK: 0, MEMBER: 1/1\n",
      "----------------------------------------------------------------------------------------------------\n",
      "distributed_backend=nccl\n",
      "All distributed processes registered. Starting with 1 processes\n",
      "----------------------------------------------------------------------------------------------------\n",
      "\n",
      "You are using a CUDA device ('NVIDIA GeForce RTX 4090') that has Tensor Cores. To properly utilize them, you should set `torch.set_float32_matmul_precision('medium' | 'high')` which will trade-off precision for performance. For more details, read https://pytorch.org/docs/stable/generated/torch.set_float32_matmul_precision.html#torch.set_float32_matmul_precision\n"
     ]
    },
    {
     "name": "stdout",
     "output_type": "stream",
     "text": [
      "(1024, 1024, 3)\n",
      "the loaded normals are defined in the system of front view\n",
      "(1024, 1024, 3)\n",
      "the loaded normals are defined in the system of front view\n",
      "(1024, 1024, 3)\n",
      "the loaded normals are defined in the system of front view\n",
      "(1024, 1024, 3)\n",
      "the loaded normals are defined in the system of front view\n",
      "(1024, 1024, 3)\n",
      "the loaded normals are defined in the system of front view\n",
      "(1024, 1024, 3)\n",
      "the loaded normals are defined in the system of front view\n",
      "(1024, 1024, 3)\n",
      "the loaded normals are defined in the system of front view\n",
      "(1024, 1024, 3)\n",
      "the loaded normals are defined in the system of front view\n",
      "(1024, 1024, 3)\n",
      "the loaded normals are defined in the system of front view\n",
      "(1024, 1024, 3)\n",
      "the loaded normals are defined in the system of front view\n",
      "(1024, 1024, 3)\n",
      "the loaded normals are defined in the system of front view\n",
      "(1024, 1024, 3)\n",
      "the loaded normals are defined in the system of front view\n"
     ]
    },
    {
     "name": "stderr",
     "output_type": "stream",
     "text": [
      "LOCAL_RANK: 0 - CUDA_VISIBLE_DEVICES: [0]\n",
      "\n",
      "  | Name  | Type             | Params\n",
      "-------------------------------------------\n",
      "0 | cos   | CosineSimilarity | 0     \n",
      "1 | model | NeuSModel        | 7.7 M \n",
      "-------------------------------------------\n",
      "7.7 M     Trainable params\n",
      "0         Non-trainable params\n",
      "7.7 M     Total params\n",
      "15.371    Total estimated model params size (MB)\n"
     ]
    },
    {
     "name": "stdout",
     "output_type": "stream",
     "text": [
      "Epoch 0: : 0it [00:00, ?it/s]"
     ]
    },
    {
     "name": "stderr",
     "output_type": "stream",
     "text": [
      "Update finite_difference_eps to 0.027204705103003882\n"
     ]
    },
    {
     "name": "stdout",
     "output_type": "stream",
     "text": [
      "Epoch 0: : 504it [00:14, 34.29it/s, loss=0.0599, train/loss_rgb_mse=0.0412, train/loss_normal=0.00734, train/loss_eikonal=0.013, train/loss_mask=0.0112, train/loss_sparsity=0.00284, train/loss_3d_normal_smooth=0.0141, train/inv_s=113.0, train/num_rays=2899.0]  "
     ]
    },
    {
     "name": "stderr",
     "output_type": "stream",
     "text": [
      "/home/yuxuan/miniconda3/envs/wonder3d/lib/python3.9/site-packages/torch/optim/lr_scheduler.py:163: UserWarning: The epoch parameter in `scheduler.step()` was not necessary and is being deprecated where possible. Please use `scheduler.step()` to step the scheduler. During the deprecation, if epoch is different from None, the closed form is used instead of the new chainable form, where available. Please open an issue if you are unable to replicate your use case: https://github.com/pytorch/pytorch/issues/new/choose.\n",
      "  warnings.warn(EPOCH_DEPRECATION_WARNING, UserWarning)\n"
     ]
    },
    {
     "name": "stdout",
     "output_type": "stream",
     "text": [
      "Epoch 0: : 1005it [00:28, 35.41it/s, loss=0.0457, train/loss_rgb_mse=0.0319, train/loss_normal=0.00698, train/loss_eikonal=0.0125, train/loss_mask=0.00506, train/loss_sparsity=0.00237, train/loss_3d_normal_smooth=0.0127, train/inv_s=261.0, train/num_rays=4815.0]"
     ]
    },
    {
     "name": "stderr",
     "output_type": "stream",
     "text": [
      "Update grid level to 5\n",
      "Update finite_difference_eps to 0.02061731110582648\n"
     ]
    },
    {
     "name": "stdout",
     "output_type": "stream",
     "text": [
      "Epoch 0: : 2003it [00:46, 42.83it/s, loss=0.0358, train/loss_rgb_mse=0.0379, train/loss_normal=0.00668, train/loss_eikonal=0.016, train/loss_mask=0.000681, train/loss_sparsity=0.00305, train/loss_3d_normal_smooth=0.0109, train/inv_s=413.0, train/num_rays=8192.0]  "
     ]
    },
    {
     "name": "stderr",
     "output_type": "stream",
     "text": [
      "Update grid level to 6\n",
      "Update finite_difference_eps to 0.015625000000000003\n"
     ]
    },
    {
     "name": "stdout",
     "output_type": "stream",
     "text": [
      "Epoch 0: : 3000it [01:01, 48.77it/s, loss=0.0344, train/loss_rgb_mse=0.0385, train/loss_normal=0.00581, train/loss_eikonal=0.0103, train/loss_mask=0.00068, train/loss_sparsity=0.00232, train/loss_3d_normal_smooth=0.00965, train/inv_s=491.0, train/num_rays=8192.0]  \n"
     ]
    },
    {
     "name": "stderr",
     "output_type": "stream",
     "text": [
      "`Trainer.fit` stopped: `max_steps=3000` reached.\n",
      "[rank: 0] Global seed set to 42\n",
      "You are using a CUDA device ('NVIDIA GeForce RTX 4090') that has Tensor Cores. To properly utilize them, you should set `torch.set_float32_matmul_precision('medium' | 'high')` which will trade-off precision for performance. For more details, read https://pytorch.org/docs/stable/generated/torch.set_float32_matmul_precision.html#torch.set_float32_matmul_precision\n"
     ]
    },
    {
     "name": "stdout",
     "output_type": "stream",
     "text": [
      "(1024, 1024, 3)\n",
      "the loaded normals are defined in the system of front view\n",
      "(1024, 1024, 3)\n",
      "the loaded normals are defined in the system of front view\n",
      "(1024, 1024, 3)\n",
      "the loaded normals are defined in the system of front view\n",
      "(1024, 1024, 3)\n",
      "the loaded normals are defined in the system of front view\n",
      "(1024, 1024, 3)\n",
      "the loaded normals are defined in the system of front view\n",
      "(1024, 1024, 3)\n",
      "the loaded normals are defined in the system of front view\n"
     ]
    },
    {
     "name": "stderr",
     "output_type": "stream",
     "text": [
      "LOCAL_RANK: 0 - CUDA_VISIBLE_DEVICES: [0]\n"
     ]
    },
    {
     "name": "stdout",
     "output_type": "stream",
     "text": [
      "Testing DataLoader 0: 100%|██████████| 6/6 [00:00<00:00, 785.84it/s]"
     ]
    },
    {
     "name": "stderr",
     "output_type": "stream",
     "text": [
      "Update grid level to 7\n",
      "Update finite_difference_eps to 0.011841535675862488\n"
     ]
    },
    {
     "name": "stdout",
     "output_type": "stream",
     "text": [
      "ortho scale is:  1.35\n",
      "Testing DataLoader 0: 100%|██████████| 6/6 [00:01<00:00,  3.33it/s] \n"
     ]
    },
    {
     "name": "stderr",
     "output_type": "stream",
     "text": [
      "Global seed set to 42\n",
      "Using finite difference to compute gradients with eps=progressive\n",
      "Using 16bit None Automatic Mixed Precision (AMP)\n",
      "GPU available: True (cuda), used: True\n",
      "TPU available: False, using: 0 TPU cores\n",
      "IPU available: False, using: 0 IPUs\n",
      "HPU available: False, using: 0 HPUs\n",
      "`Trainer(limit_train_batches=1.0)` was configured so 100% of the batches per epoch will be used..\n",
      "[rank: 0] Global seed set to 42\n",
      "Initializing distributed: GLOBAL_RANK: 0, MEMBER: 1/1\n",
      "----------------------------------------------------------------------------------------------------\n",
      "distributed_backend=nccl\n",
      "All distributed processes registered. Starting with 1 processes\n",
      "----------------------------------------------------------------------------------------------------\n",
      "\n",
      "You are using a CUDA device ('NVIDIA GeForce RTX 4090') that has Tensor Cores. To properly utilize them, you should set `torch.set_float32_matmul_precision('medium' | 'high')` which will trade-off precision for performance. For more details, read https://pytorch.org/docs/stable/generated/torch.set_float32_matmul_precision.html#torch.set_float32_matmul_precision\n"
     ]
    },
    {
     "name": "stdout",
     "output_type": "stream",
     "text": [
      "(1024, 1024, 3)\n",
      "the loaded normals are defined in the system of front view\n",
      "(1024, 1024, 3)\n",
      "the loaded normals are defined in the system of front view\n",
      "(1024, 1024, 3)\n",
      "the loaded normals are defined in the system of front view\n",
      "(1024, 1024, 3)\n",
      "the loaded normals are defined in the system of front view\n",
      "(1024, 1024, 3)\n",
      "the loaded normals are defined in the system of front view\n",
      "(1024, 1024, 3)\n",
      "the loaded normals are defined in the system of front view\n",
      "(1024, 1024, 3)\n",
      "the loaded normals are defined in the system of front view\n",
      "(1024, 1024, 3)\n",
      "the loaded normals are defined in the system of front view\n",
      "(1024, 1024, 3)\n",
      "the loaded normals are defined in the system of front view\n",
      "(1024, 1024, 3)\n",
      "the loaded normals are defined in the system of front view\n",
      "(1024, 1024, 3)\n",
      "the loaded normals are defined in the system of front view\n",
      "(1024, 1024, 3)\n",
      "the loaded normals are defined in the system of front view\n"
     ]
    },
    {
     "name": "stderr",
     "output_type": "stream",
     "text": [
      "LOCAL_RANK: 0 - CUDA_VISIBLE_DEVICES: [0]\n",
      "\n",
      "  | Name  | Type             | Params\n",
      "-------------------------------------------\n",
      "0 | cos   | CosineSimilarity | 0     \n",
      "1 | model | NeuSModel        | 7.7 M \n",
      "-------------------------------------------\n",
      "7.7 M     Trainable params\n",
      "0         Non-trainable params\n",
      "7.7 M     Total params\n",
      "15.371    Total estimated model params size (MB)\n"
     ]
    },
    {
     "name": "stdout",
     "output_type": "stream",
     "text": [
      "Epoch 0: : 0it [00:00, ?it/s]"
     ]
    },
    {
     "name": "stderr",
     "output_type": "stream",
     "text": [
      "Update finite_difference_eps to 0.027204705103003882\n"
     ]
    },
    {
     "name": "stdout",
     "output_type": "stream",
     "text": [
      "Epoch 0: : 506it [00:14, 34.19it/s, loss=0.0737, train/loss_rgb_mse=0.0536, train/loss_normal=0.00669, train/loss_eikonal=0.0168, train/loss_mask=0.0119, train/loss_sparsity=0.00255, train/loss_3d_normal_smooth=0.0145, train/inv_s=101.0, train/num_rays=2870.0] "
     ]
    },
    {
     "name": "stderr",
     "output_type": "stream",
     "text": [
      "/home/yuxuan/miniconda3/envs/wonder3d/lib/python3.9/site-packages/torch/optim/lr_scheduler.py:163: UserWarning: The epoch parameter in `scheduler.step()` was not necessary and is being deprecated where possible. Please use `scheduler.step()` to step the scheduler. During the deprecation, if epoch is different from None, the closed form is used instead of the new chainable form, where available. Please open an issue if you are unable to replicate your use case: https://github.com/pytorch/pytorch/issues/new/choose.\n",
      "  warnings.warn(EPOCH_DEPRECATION_WARNING, UserWarning)\n"
     ]
    },
    {
     "name": "stdout",
     "output_type": "stream",
     "text": [
      "Epoch 0: : 1000it [00:28, 35.28it/s, loss=0.0515, train/loss_rgb_mse=0.0364, train/loss_normal=0.00657, train/loss_eikonal=0.0127, train/loss_mask=0.00837, train/loss_sparsity=0.00258, train/loss_3d_normal_smooth=0.0125, train/inv_s=230.0, train/num_rays=4814.0]"
     ]
    },
    {
     "name": "stderr",
     "output_type": "stream",
     "text": [
      "Update grid level to 5\n",
      "Update finite_difference_eps to 0.02061731110582648\n"
     ]
    },
    {
     "name": "stdout",
     "output_type": "stream",
     "text": [
      "Epoch 0: : 2005it [00:46, 43.29it/s, loss=0.0384, train/loss_rgb_mse=0.030, train/loss_normal=0.00488, train/loss_eikonal=0.0197, train/loss_mask=0.000685, train/loss_sparsity=0.00337, train/loss_3d_normal_smooth=0.0122, train/inv_s=460.0, train/num_rays=8192.0]  "
     ]
    },
    {
     "name": "stderr",
     "output_type": "stream",
     "text": [
      "Update grid level to 6\n",
      "Update finite_difference_eps to 0.015625000000000003\n"
     ]
    },
    {
     "name": "stdout",
     "output_type": "stream",
     "text": [
      "Epoch 0: : 3000it [01:00, 49.94it/s, loss=0.0342, train/loss_rgb_mse=0.0345, train/loss_normal=0.00527, train/loss_eikonal=0.0116, train/loss_mask=0.00068, train/loss_sparsity=0.00217, train/loss_3d_normal_smooth=0.00992, train/inv_s=576.0, train/num_rays=8192.0] \n"
     ]
    },
    {
     "name": "stderr",
     "output_type": "stream",
     "text": [
      "`Trainer.fit` stopped: `max_steps=3000` reached.\n",
      "[rank: 0] Global seed set to 42\n",
      "You are using a CUDA device ('NVIDIA GeForce RTX 4090') that has Tensor Cores. To properly utilize them, you should set `torch.set_float32_matmul_precision('medium' | 'high')` which will trade-off precision for performance. For more details, read https://pytorch.org/docs/stable/generated/torch.set_float32_matmul_precision.html#torch.set_float32_matmul_precision\n"
     ]
    },
    {
     "name": "stdout",
     "output_type": "stream",
     "text": [
      "(1024, 1024, 3)\n",
      "the loaded normals are defined in the system of front view\n",
      "(1024, 1024, 3)\n",
      "the loaded normals are defined in the system of front view\n",
      "(1024, 1024, 3)\n",
      "the loaded normals are defined in the system of front view\n",
      "(1024, 1024, 3)\n",
      "the loaded normals are defined in the system of front view\n",
      "(1024, 1024, 3)\n",
      "the loaded normals are defined in the system of front view\n",
      "(1024, 1024, 3)\n",
      "the loaded normals are defined in the system of front view\n"
     ]
    },
    {
     "name": "stderr",
     "output_type": "stream",
     "text": [
      "LOCAL_RANK: 0 - CUDA_VISIBLE_DEVICES: [0]\n"
     ]
    },
    {
     "name": "stdout",
     "output_type": "stream",
     "text": [
      "Testing DataLoader 0: 100%|██████████| 6/6 [00:00<00:00, 787.54it/s]"
     ]
    },
    {
     "name": "stderr",
     "output_type": "stream",
     "text": [
      "Update grid level to 7\n",
      "Update finite_difference_eps to 0.011841535675862488\n"
     ]
    },
    {
     "name": "stdout",
     "output_type": "stream",
     "text": [
      "ortho scale is:  1.35\n",
      "Testing DataLoader 0: 100%|██████████| 6/6 [00:01<00:00,  3.09it/s] \n"
     ]
    },
    {
     "name": "stderr",
     "output_type": "stream",
     "text": [
      "Global seed set to 42\n",
      "Using finite difference to compute gradients with eps=progressive\n",
      "Using 16bit None Automatic Mixed Precision (AMP)\n",
      "GPU available: True (cuda), used: True\n",
      "TPU available: False, using: 0 TPU cores\n",
      "IPU available: False, using: 0 IPUs\n",
      "HPU available: False, using: 0 HPUs\n",
      "`Trainer(limit_train_batches=1.0)` was configured so 100% of the batches per epoch will be used..\n",
      "[rank: 0] Global seed set to 42\n",
      "Initializing distributed: GLOBAL_RANK: 0, MEMBER: 1/1\n",
      "----------------------------------------------------------------------------------------------------\n",
      "distributed_backend=nccl\n",
      "All distributed processes registered. Starting with 1 processes\n",
      "----------------------------------------------------------------------------------------------------\n",
      "\n",
      "You are using a CUDA device ('NVIDIA GeForce RTX 4090') that has Tensor Cores. To properly utilize them, you should set `torch.set_float32_matmul_precision('medium' | 'high')` which will trade-off precision for performance. For more details, read https://pytorch.org/docs/stable/generated/torch.set_float32_matmul_precision.html#torch.set_float32_matmul_precision\n"
     ]
    },
    {
     "name": "stdout",
     "output_type": "stream",
     "text": [
      "(1024, 1024, 3)\n",
      "the loaded normals are defined in the system of front view\n",
      "(1024, 1024, 3)\n",
      "the loaded normals are defined in the system of front view\n",
      "(1024, 1024, 3)\n",
      "the loaded normals are defined in the system of front view\n",
      "(1024, 1024, 3)\n",
      "the loaded normals are defined in the system of front view\n",
      "(1024, 1024, 3)\n",
      "the loaded normals are defined in the system of front view\n",
      "(1024, 1024, 3)\n",
      "the loaded normals are defined in the system of front view\n",
      "(1024, 1024, 3)\n",
      "the loaded normals are defined in the system of front view\n",
      "(1024, 1024, 3)\n",
      "the loaded normals are defined in the system of front view\n",
      "(1024, 1024, 3)\n",
      "the loaded normals are defined in the system of front view\n",
      "(1024, 1024, 3)\n",
      "the loaded normals are defined in the system of front view\n",
      "(1024, 1024, 3)\n",
      "the loaded normals are defined in the system of front view\n",
      "(1024, 1024, 3)\n",
      "the loaded normals are defined in the system of front view\n"
     ]
    },
    {
     "name": "stderr",
     "output_type": "stream",
     "text": [
      "LOCAL_RANK: 0 - CUDA_VISIBLE_DEVICES: [0]\n",
      "\n",
      "  | Name  | Type             | Params\n",
      "-------------------------------------------\n",
      "0 | cos   | CosineSimilarity | 0     \n",
      "1 | model | NeuSModel        | 7.7 M \n",
      "-------------------------------------------\n",
      "7.7 M     Trainable params\n",
      "0         Non-trainable params\n",
      "7.7 M     Total params\n",
      "15.371    Total estimated model params size (MB)\n"
     ]
    },
    {
     "name": "stdout",
     "output_type": "stream",
     "text": [
      "Epoch 0: : 0it [00:00, ?it/s]"
     ]
    },
    {
     "name": "stderr",
     "output_type": "stream",
     "text": [
      "Update finite_difference_eps to 0.027204705103003882\n"
     ]
    },
    {
     "name": "stdout",
     "output_type": "stream",
     "text": [
      "Epoch 0: : 505it [00:14, 34.20it/s, loss=0.0552, train/loss_rgb_mse=0.0317, train/loss_normal=0.00647, train/loss_eikonal=0.0136, train/loss_mask=0.0106, train/loss_sparsity=0.00386, train/loss_3d_normal_smooth=0.0139, train/inv_s=127.0, train/num_rays=2893.0] "
     ]
    },
    {
     "name": "stderr",
     "output_type": "stream",
     "text": [
      "/home/yuxuan/miniconda3/envs/wonder3d/lib/python3.9/site-packages/torch/optim/lr_scheduler.py:163: UserWarning: The epoch parameter in `scheduler.step()` was not necessary and is being deprecated where possible. Please use `scheduler.step()` to step the scheduler. During the deprecation, if epoch is different from None, the closed form is used instead of the new chainable form, where available. Please open an issue if you are unable to replicate your use case: https://github.com/pytorch/pytorch/issues/new/choose.\n",
      "  warnings.warn(EPOCH_DEPRECATION_WARNING, UserWarning)\n"
     ]
    },
    {
     "name": "stdout",
     "output_type": "stream",
     "text": [
      "Epoch 0: : 1000it [00:28, 35.19it/s, loss=0.0437, train/loss_rgb_mse=0.0409, train/loss_normal=0.00645, train/loss_eikonal=0.00994, train/loss_mask=0.00706, train/loss_sparsity=0.00461, train/loss_3d_normal_smooth=0.012, train/inv_s=243.0, train/num_rays=4791.0]"
     ]
    },
    {
     "name": "stderr",
     "output_type": "stream",
     "text": [
      "Update grid level to 5\n",
      "Update finite_difference_eps to 0.02061731110582648\n"
     ]
    },
    {
     "name": "stdout",
     "output_type": "stream",
     "text": [
      "Epoch 0: : 2000it [00:48, 40.84it/s, loss=0.0339, train/loss_rgb_mse=0.0306, train/loss_normal=0.00618, train/loss_eikonal=0.0101, train/loss_mask=0.000685, train/loss_sparsity=0.00274, train/loss_3d_normal_smooth=0.0108, train/inv_s=356.0, train/num_rays=8192.0] "
     ]
    },
    {
     "name": "stderr",
     "output_type": "stream",
     "text": [
      "Update grid level to 6\n",
      "Update finite_difference_eps to 0.015625000000000003\n"
     ]
    },
    {
     "name": "stdout",
     "output_type": "stream",
     "text": [
      "Epoch 0: : 3000it [01:06, 45.29it/s, loss=0.0312, train/loss_rgb_mse=0.0196, train/loss_normal=0.00693, train/loss_eikonal=0.00891, train/loss_mask=0.00068, train/loss_sparsity=0.00398, train/loss_3d_normal_smooth=0.00988, train/inv_s=419.0, train/num_rays=8192.0] \n"
     ]
    },
    {
     "name": "stderr",
     "output_type": "stream",
     "text": [
      "`Trainer.fit` stopped: `max_steps=3000` reached.\n",
      "[rank: 0] Global seed set to 42\n",
      "You are using a CUDA device ('NVIDIA GeForce RTX 4090') that has Tensor Cores. To properly utilize them, you should set `torch.set_float32_matmul_precision('medium' | 'high')` which will trade-off precision for performance. For more details, read https://pytorch.org/docs/stable/generated/torch.set_float32_matmul_precision.html#torch.set_float32_matmul_precision\n"
     ]
    },
    {
     "name": "stdout",
     "output_type": "stream",
     "text": [
      "(1024, 1024, 3)\n",
      "the loaded normals are defined in the system of front view\n",
      "(1024, 1024, 3)\n",
      "the loaded normals are defined in the system of front view\n",
      "(1024, 1024, 3)\n",
      "the loaded normals are defined in the system of front view\n",
      "(1024, 1024, 3)\n",
      "the loaded normals are defined in the system of front view\n",
      "(1024, 1024, 3)\n",
      "the loaded normals are defined in the system of front view\n",
      "(1024, 1024, 3)\n",
      "the loaded normals are defined in the system of front view\n"
     ]
    },
    {
     "name": "stderr",
     "output_type": "stream",
     "text": [
      "LOCAL_RANK: 0 - CUDA_VISIBLE_DEVICES: [0]\n"
     ]
    },
    {
     "name": "stdout",
     "output_type": "stream",
     "text": [
      "Testing DataLoader 0: 100%|██████████| 6/6 [00:00<00:00, 785.94it/s]"
     ]
    },
    {
     "name": "stderr",
     "output_type": "stream",
     "text": [
      "Update grid level to 7\n",
      "Update finite_difference_eps to 0.011841535675862488\n"
     ]
    },
    {
     "name": "stdout",
     "output_type": "stream",
     "text": [
      "ortho scale is:  1.35\n",
      "Testing DataLoader 0: 100%|██████████| 6/6 [00:01<00:00,  3.04it/s] \n"
     ]
    },
    {
     "name": "stderr",
     "output_type": "stream",
     "text": [
      "Global seed set to 42\n",
      "Using finite difference to compute gradients with eps=progressive\n",
      "Using 16bit None Automatic Mixed Precision (AMP)\n",
      "GPU available: True (cuda), used: True\n",
      "TPU available: False, using: 0 TPU cores\n",
      "IPU available: False, using: 0 IPUs\n",
      "HPU available: False, using: 0 HPUs\n",
      "`Trainer(limit_train_batches=1.0)` was configured so 100% of the batches per epoch will be used..\n",
      "[rank: 0] Global seed set to 42\n",
      "Initializing distributed: GLOBAL_RANK: 0, MEMBER: 1/1\n",
      "----------------------------------------------------------------------------------------------------\n",
      "distributed_backend=nccl\n",
      "All distributed processes registered. Starting with 1 processes\n",
      "----------------------------------------------------------------------------------------------------\n",
      "\n",
      "You are using a CUDA device ('NVIDIA GeForce RTX 4090') that has Tensor Cores. To properly utilize them, you should set `torch.set_float32_matmul_precision('medium' | 'high')` which will trade-off precision for performance. For more details, read https://pytorch.org/docs/stable/generated/torch.set_float32_matmul_precision.html#torch.set_float32_matmul_precision\n"
     ]
    },
    {
     "name": "stdout",
     "output_type": "stream",
     "text": [
      "(1024, 1024, 3)\n",
      "the loaded normals are defined in the system of front view\n",
      "(1024, 1024, 3)\n",
      "the loaded normals are defined in the system of front view\n",
      "(1024, 1024, 3)\n",
      "the loaded normals are defined in the system of front view\n",
      "(1024, 1024, 3)\n",
      "the loaded normals are defined in the system of front view\n",
      "(1024, 1024, 3)\n",
      "the loaded normals are defined in the system of front view\n",
      "(1024, 1024, 3)\n",
      "the loaded normals are defined in the system of front view\n",
      "(1024, 1024, 3)\n",
      "the loaded normals are defined in the system of front view\n",
      "(1024, 1024, 3)\n",
      "the loaded normals are defined in the system of front view\n",
      "(1024, 1024, 3)\n",
      "the loaded normals are defined in the system of front view\n",
      "(1024, 1024, 3)\n",
      "the loaded normals are defined in the system of front view\n",
      "(1024, 1024, 3)\n",
      "the loaded normals are defined in the system of front view\n",
      "(1024, 1024, 3)\n",
      "the loaded normals are defined in the system of front view\n"
     ]
    },
    {
     "name": "stderr",
     "output_type": "stream",
     "text": [
      "LOCAL_RANK: 0 - CUDA_VISIBLE_DEVICES: [0]\n",
      "\n",
      "  | Name  | Type             | Params\n",
      "-------------------------------------------\n",
      "0 | cos   | CosineSimilarity | 0     \n",
      "1 | model | NeuSModel        | 7.7 M \n",
      "-------------------------------------------\n",
      "7.7 M     Trainable params\n",
      "0         Non-trainable params\n",
      "7.7 M     Total params\n",
      "15.371    Total estimated model params size (MB)\n"
     ]
    },
    {
     "name": "stdout",
     "output_type": "stream",
     "text": [
      "Epoch 0: : 0it [00:00, ?it/s]"
     ]
    },
    {
     "name": "stderr",
     "output_type": "stream",
     "text": [
      "Update finite_difference_eps to 0.027204705103003882\n"
     ]
    },
    {
     "name": "stdout",
     "output_type": "stream",
     "text": [
      "Epoch 0: : 504it [00:14, 33.90it/s, loss=0.0574, train/loss_rgb_mse=0.0621, train/loss_normal=0.00889, train/loss_eikonal=0.0119, train/loss_mask=0.00709, train/loss_sparsity=0.00343, train/loss_3d_normal_smooth=0.0141, train/inv_s=126.0, train/num_rays=2907.0]"
     ]
    },
    {
     "name": "stderr",
     "output_type": "stream",
     "text": [
      "/home/yuxuan/miniconda3/envs/wonder3d/lib/python3.9/site-packages/torch/optim/lr_scheduler.py:163: UserWarning: The epoch parameter in `scheduler.step()` was not necessary and is being deprecated where possible. Please use `scheduler.step()` to step the scheduler. During the deprecation, if epoch is different from None, the closed form is used instead of the new chainable form, where available. Please open an issue if you are unable to replicate your use case: https://github.com/pytorch/pytorch/issues/new/choose.\n",
      "  warnings.warn(EPOCH_DEPRECATION_WARNING, UserWarning)\n"
     ]
    },
    {
     "name": "stdout",
     "output_type": "stream",
     "text": [
      "Epoch 0: : 1000it [00:28, 35.34it/s, loss=0.0457, train/loss_rgb_mse=0.0349, train/loss_normal=0.00599, train/loss_eikonal=0.00989, train/loss_mask=0.0044, train/loss_sparsity=0.00141, train/loss_3d_normal_smooth=0.0113, train/inv_s=284.0, train/num_rays=4883.0] "
     ]
    },
    {
     "name": "stderr",
     "output_type": "stream",
     "text": [
      "Update grid level to 5\n",
      "Update finite_difference_eps to 0.02061731110582648\n"
     ]
    },
    {
     "name": "stdout",
     "output_type": "stream",
     "text": [
      "Epoch 0: : 2012it [00:46, 43.42it/s, loss=0.0366, train/loss_rgb_mse=0.0284, train/loss_normal=0.0057, train/loss_eikonal=0.0188, train/loss_mask=0.000689, train/loss_sparsity=0.00378, train/loss_3d_normal_smooth=0.0115, train/inv_s=444.0, train/num_rays=8192.0]   "
     ]
    },
    {
     "name": "stderr",
     "output_type": "stream",
     "text": [
      "Update grid level to 6\n",
      "Update finite_difference_eps to 0.015625000000000003\n"
     ]
    },
    {
     "name": "stdout",
     "output_type": "stream",
     "text": [
      "Epoch 0: : 3000it [01:00, 49.89it/s, loss=0.0319, train/loss_rgb_mse=0.0221, train/loss_normal=0.00524, train/loss_eikonal=0.0128, train/loss_mask=0.00068, train/loss_sparsity=0.00223, train/loss_3d_normal_smooth=0.00935, train/inv_s=535.0, train/num_rays=8192.0]  \n"
     ]
    },
    {
     "name": "stderr",
     "output_type": "stream",
     "text": [
      "`Trainer.fit` stopped: `max_steps=3000` reached.\n",
      "[rank: 0] Global seed set to 42\n",
      "You are using a CUDA device ('NVIDIA GeForce RTX 4090') that has Tensor Cores. To properly utilize them, you should set `torch.set_float32_matmul_precision('medium' | 'high')` which will trade-off precision for performance. For more details, read https://pytorch.org/docs/stable/generated/torch.set_float32_matmul_precision.html#torch.set_float32_matmul_precision\n"
     ]
    },
    {
     "name": "stdout",
     "output_type": "stream",
     "text": [
      "(1024, 1024, 3)\n",
      "the loaded normals are defined in the system of front view\n",
      "(1024, 1024, 3)\n",
      "the loaded normals are defined in the system of front view\n",
      "(1024, 1024, 3)\n",
      "the loaded normals are defined in the system of front view\n",
      "(1024, 1024, 3)\n",
      "the loaded normals are defined in the system of front view\n",
      "(1024, 1024, 3)\n",
      "the loaded normals are defined in the system of front view\n",
      "(1024, 1024, 3)\n",
      "the loaded normals are defined in the system of front view\n",
      "Testing: 0it [00:00, ?it/s]"
     ]
    },
    {
     "name": "stderr",
     "output_type": "stream",
     "text": [
      "LOCAL_RANK: 0 - CUDA_VISIBLE_DEVICES: [0]\n"
     ]
    },
    {
     "name": "stdout",
     "output_type": "stream",
     "text": [
      "Testing DataLoader 0: 100%|██████████| 6/6 [00:00<00:00, 802.71it/s]"
     ]
    },
    {
     "name": "stderr",
     "output_type": "stream",
     "text": [
      "Update grid level to 7\n",
      "Update finite_difference_eps to 0.011841535675862488\n"
     ]
    },
    {
     "name": "stdout",
     "output_type": "stream",
     "text": [
      "ortho scale is:  1.35\n",
      "Testing DataLoader 0: 100%|██████████| 6/6 [00:02<00:00,  2.99it/s] \n"
     ]
    },
    {
     "name": "stderr",
     "output_type": "stream",
     "text": [
      "Global seed set to 42\n",
      "Using finite difference to compute gradients with eps=progressive\n",
      "Using 16bit None Automatic Mixed Precision (AMP)\n",
      "GPU available: True (cuda), used: True\n",
      "TPU available: False, using: 0 TPU cores\n",
      "IPU available: False, using: 0 IPUs\n",
      "HPU available: False, using: 0 HPUs\n",
      "`Trainer(limit_train_batches=1.0)` was configured so 100% of the batches per epoch will be used..\n",
      "[rank: 0] Global seed set to 42\n",
      "Initializing distributed: GLOBAL_RANK: 0, MEMBER: 1/1\n",
      "----------------------------------------------------------------------------------------------------\n",
      "distributed_backend=nccl\n",
      "All distributed processes registered. Starting with 1 processes\n",
      "----------------------------------------------------------------------------------------------------\n",
      "\n",
      "You are using a CUDA device ('NVIDIA GeForce RTX 4090') that has Tensor Cores. To properly utilize them, you should set `torch.set_float32_matmul_precision('medium' | 'high')` which will trade-off precision for performance. For more details, read https://pytorch.org/docs/stable/generated/torch.set_float32_matmul_precision.html#torch.set_float32_matmul_precision\n"
     ]
    },
    {
     "name": "stdout",
     "output_type": "stream",
     "text": [
      "(1024, 1024, 3)\n",
      "the loaded normals are defined in the system of front view\n",
      "(1024, 1024, 3)\n",
      "the loaded normals are defined in the system of front view\n",
      "(1024, 1024, 3)\n",
      "the loaded normals are defined in the system of front view\n",
      "(1024, 1024, 3)\n",
      "the loaded normals are defined in the system of front view\n",
      "(1024, 1024, 3)\n",
      "the loaded normals are defined in the system of front view\n",
      "(1024, 1024, 3)\n",
      "the loaded normals are defined in the system of front view\n",
      "(1024, 1024, 3)\n",
      "the loaded normals are defined in the system of front view\n",
      "(1024, 1024, 3)\n",
      "the loaded normals are defined in the system of front view\n",
      "(1024, 1024, 3)\n",
      "the loaded normals are defined in the system of front view\n",
      "(1024, 1024, 3)\n",
      "the loaded normals are defined in the system of front view\n",
      "(1024, 1024, 3)\n",
      "the loaded normals are defined in the system of front view\n",
      "(1024, 1024, 3)\n",
      "the loaded normals are defined in the system of front view\n"
     ]
    },
    {
     "name": "stderr",
     "output_type": "stream",
     "text": [
      "LOCAL_RANK: 0 - CUDA_VISIBLE_DEVICES: [0]\n",
      "\n",
      "  | Name  | Type             | Params\n",
      "-------------------------------------------\n",
      "0 | cos   | CosineSimilarity | 0     \n",
      "1 | model | NeuSModel        | 7.7 M \n",
      "-------------------------------------------\n",
      "7.7 M     Trainable params\n",
      "0         Non-trainable params\n",
      "7.7 M     Total params\n",
      "15.371    Total estimated model params size (MB)\n"
     ]
    },
    {
     "name": "stdout",
     "output_type": "stream",
     "text": [
      "Epoch 0: : 0it [00:00, ?it/s]"
     ]
    },
    {
     "name": "stderr",
     "output_type": "stream",
     "text": [
      "Update finite_difference_eps to 0.027204705103003882\n"
     ]
    },
    {
     "name": "stdout",
     "output_type": "stream",
     "text": [
      "Epoch 0: : 501it [00:14, 33.89it/s, loss=0.0571, train/loss_rgb_mse=0.0467, train/loss_normal=0.0102, train/loss_eikonal=0.00999, train/loss_mask=0.00978, train/loss_sparsity=0.00171, train/loss_3d_normal_smooth=0.0128, train/inv_s=115.0, train/num_rays=2900.0] "
     ]
    },
    {
     "name": "stderr",
     "output_type": "stream",
     "text": [
      "/home/yuxuan/miniconda3/envs/wonder3d/lib/python3.9/site-packages/torch/optim/lr_scheduler.py:163: UserWarning: The epoch parameter in `scheduler.step()` was not necessary and is being deprecated where possible. Please use `scheduler.step()` to step the scheduler. During the deprecation, if epoch is different from None, the closed form is used instead of the new chainable form, where available. Please open an issue if you are unable to replicate your use case: https://github.com/pytorch/pytorch/issues/new/choose.\n",
      "  warnings.warn(EPOCH_DEPRECATION_WARNING, UserWarning)\n"
     ]
    },
    {
     "name": "stdout",
     "output_type": "stream",
     "text": [
      "Epoch 0: : 1004it [00:28, 35.19it/s, loss=0.0426, train/loss_rgb_mse=0.0412, train/loss_normal=0.00747, train/loss_eikonal=0.0104, train/loss_mask=0.00477, train/loss_sparsity=0.00606, train/loss_3d_normal_smooth=0.0128, train/inv_s=275.0, train/num_rays=4862.0] "
     ]
    },
    {
     "name": "stderr",
     "output_type": "stream",
     "text": [
      "Update grid level to 5\n",
      "Update finite_difference_eps to 0.02061731110582648\n"
     ]
    },
    {
     "name": "stdout",
     "output_type": "stream",
     "text": [
      "Epoch 0: : 2006it [00:46, 42.80it/s, loss=0.0341, train/loss_rgb_mse=0.0355, train/loss_normal=0.00631, train/loss_eikonal=0.0173, train/loss_mask=0.000688, train/loss_sparsity=0.00335, train/loss_3d_normal_smooth=0.0112, train/inv_s=462.0, train/num_rays=8192.0]  "
     ]
    },
    {
     "name": "stderr",
     "output_type": "stream",
     "text": [
      "Update grid level to 6\n",
      "Update finite_difference_eps to 0.015625000000000003\n"
     ]
    },
    {
     "name": "stdout",
     "output_type": "stream",
     "text": [
      "Epoch 0: : 3000it [01:01, 48.90it/s, loss=0.0312, train/loss_rgb_mse=0.0242, train/loss_normal=0.00617, train/loss_eikonal=0.0098, train/loss_mask=0.000687, train/loss_sparsity=0.0022, train/loss_3d_normal_smooth=0.00896, train/inv_s=563.0, train/num_rays=8192.0]  \n"
     ]
    },
    {
     "name": "stderr",
     "output_type": "stream",
     "text": [
      "`Trainer.fit` stopped: `max_steps=3000` reached.\n",
      "[rank: 0] Global seed set to 42\n",
      "You are using a CUDA device ('NVIDIA GeForce RTX 4090') that has Tensor Cores. To properly utilize them, you should set `torch.set_float32_matmul_precision('medium' | 'high')` which will trade-off precision for performance. For more details, read https://pytorch.org/docs/stable/generated/torch.set_float32_matmul_precision.html#torch.set_float32_matmul_precision\n"
     ]
    },
    {
     "name": "stdout",
     "output_type": "stream",
     "text": [
      "(1024, 1024, 3)\n",
      "the loaded normals are defined in the system of front view\n",
      "(1024, 1024, 3)\n",
      "the loaded normals are defined in the system of front view\n",
      "(1024, 1024, 3)\n",
      "the loaded normals are defined in the system of front view\n",
      "(1024, 1024, 3)\n",
      "the loaded normals are defined in the system of front view\n",
      "(1024, 1024, 3)\n",
      "the loaded normals are defined in the system of front view\n",
      "(1024, 1024, 3)\n",
      "the loaded normals are defined in the system of front view\n"
     ]
    },
    {
     "name": "stderr",
     "output_type": "stream",
     "text": [
      "LOCAL_RANK: 0 - CUDA_VISIBLE_DEVICES: [0]\n"
     ]
    },
    {
     "name": "stdout",
     "output_type": "stream",
     "text": [
      "Testing DataLoader 0: 100%|██████████| 6/6 [00:00<00:00, 793.45it/s]"
     ]
    },
    {
     "name": "stderr",
     "output_type": "stream",
     "text": [
      "Update grid level to 7\n",
      "Update finite_difference_eps to 0.011841535675862488\n"
     ]
    },
    {
     "name": "stdout",
     "output_type": "stream",
     "text": [
      "ortho scale is:  1.35\n",
      "Testing DataLoader 0: 100%|██████████| 6/6 [00:01<00:00,  3.06it/s] \n"
     ]
    },
    {
     "name": "stderr",
     "output_type": "stream",
     "text": [
      "Global seed set to 42\n",
      "Using finite difference to compute gradients with eps=progressive\n",
      "Using 16bit None Automatic Mixed Precision (AMP)\n",
      "GPU available: True (cuda), used: True\n",
      "TPU available: False, using: 0 TPU cores\n",
      "IPU available: False, using: 0 IPUs\n",
      "HPU available: False, using: 0 HPUs\n",
      "`Trainer(limit_train_batches=1.0)` was configured so 100% of the batches per epoch will be used..\n",
      "[rank: 0] Global seed set to 42\n",
      "Initializing distributed: GLOBAL_RANK: 0, MEMBER: 1/1\n",
      "----------------------------------------------------------------------------------------------------\n",
      "distributed_backend=nccl\n",
      "All distributed processes registered. Starting with 1 processes\n",
      "----------------------------------------------------------------------------------------------------\n",
      "\n",
      "You are using a CUDA device ('NVIDIA GeForce RTX 4090') that has Tensor Cores. To properly utilize them, you should set `torch.set_float32_matmul_precision('medium' | 'high')` which will trade-off precision for performance. For more details, read https://pytorch.org/docs/stable/generated/torch.set_float32_matmul_precision.html#torch.set_float32_matmul_precision\n"
     ]
    },
    {
     "name": "stdout",
     "output_type": "stream",
     "text": [
      "(1024, 1024, 3)\n",
      "the loaded normals are defined in the system of front view\n",
      "(1024, 1024, 3)\n",
      "the loaded normals are defined in the system of front view\n",
      "(1024, 1024, 3)\n",
      "the loaded normals are defined in the system of front view\n",
      "(1024, 1024, 3)\n",
      "the loaded normals are defined in the system of front view\n",
      "(1024, 1024, 3)\n",
      "the loaded normals are defined in the system of front view\n",
      "(1024, 1024, 3)\n",
      "the loaded normals are defined in the system of front view\n",
      "(1024, 1024, 3)\n",
      "the loaded normals are defined in the system of front view\n",
      "(1024, 1024, 3)\n",
      "the loaded normals are defined in the system of front view\n",
      "(1024, 1024, 3)\n",
      "the loaded normals are defined in the system of front view\n",
      "(1024, 1024, 3)\n",
      "the loaded normals are defined in the system of front view\n",
      "(1024, 1024, 3)\n",
      "the loaded normals are defined in the system of front view\n",
      "(1024, 1024, 3)\n",
      "the loaded normals are defined in the system of front view\n"
     ]
    },
    {
     "name": "stderr",
     "output_type": "stream",
     "text": [
      "LOCAL_RANK: 0 - CUDA_VISIBLE_DEVICES: [0]\n",
      "\n",
      "  | Name  | Type             | Params\n",
      "-------------------------------------------\n",
      "0 | cos   | CosineSimilarity | 0     \n",
      "1 | model | NeuSModel        | 7.7 M \n",
      "-------------------------------------------\n",
      "7.7 M     Trainable params\n",
      "0         Non-trainable params\n",
      "7.7 M     Total params\n",
      "15.371    Total estimated model params size (MB)\n"
     ]
    },
    {
     "name": "stdout",
     "output_type": "stream",
     "text": [
      "Epoch 0: : 0it [00:00, ?it/s]"
     ]
    },
    {
     "name": "stderr",
     "output_type": "stream",
     "text": [
      "Update finite_difference_eps to 0.027204705103003882\n"
     ]
    },
    {
     "name": "stdout",
     "output_type": "stream",
     "text": [
      "Epoch 0: : 500it [00:14, 33.61it/s, loss=0.0595, train/loss_rgb_mse=0.036, train/loss_normal=0.00859, train/loss_eikonal=0.0117, train/loss_mask=0.00837, train/loss_sparsity=0.00214, train/loss_3d_normal_smooth=0.0131, train/inv_s=109.0, train/num_rays=2893.0] "
     ]
    },
    {
     "name": "stderr",
     "output_type": "stream",
     "text": [
      "/home/yuxuan/miniconda3/envs/wonder3d/lib/python3.9/site-packages/torch/optim/lr_scheduler.py:163: UserWarning: The epoch parameter in `scheduler.step()` was not necessary and is being deprecated where possible. Please use `scheduler.step()` to step the scheduler. During the deprecation, if epoch is different from None, the closed form is used instead of the new chainable form, where available. Please open an issue if you are unable to replicate your use case: https://github.com/pytorch/pytorch/issues/new/choose.\n",
      "  warnings.warn(EPOCH_DEPRECATION_WARNING, UserWarning)\n"
     ]
    },
    {
     "name": "stdout",
     "output_type": "stream",
     "text": [
      "Epoch 0: : 1007it [00:29, 34.54it/s, loss=0.0503, train/loss_rgb_mse=0.0438, train/loss_normal=0.00594, train/loss_eikonal=0.0124, train/loss_mask=0.00507, train/loss_sparsity=0.00184, train/loss_3d_normal_smooth=0.0125, train/inv_s=214.0, train/num_rays=4884.0] "
     ]
    },
    {
     "name": "stderr",
     "output_type": "stream",
     "text": [
      "Update grid level to 5\n",
      "Update finite_difference_eps to 0.02061731110582648\n"
     ]
    },
    {
     "name": "stdout",
     "output_type": "stream",
     "text": [
      "Epoch 0: : 2006it [00:46, 42.93it/s, loss=0.0382, train/loss_rgb_mse=0.0372, train/loss_normal=0.0069, train/loss_eikonal=0.0216, train/loss_mask=0.000682, train/loss_sparsity=0.00349, train/loss_3d_normal_smooth=0.0117, train/inv_s=320.0, train/num_rays=8192.0]  "
     ]
    },
    {
     "name": "stderr",
     "output_type": "stream",
     "text": [
      "Update grid level to 6\n",
      "Update finite_difference_eps to 0.015625000000000003\n"
     ]
    },
    {
     "name": "stdout",
     "output_type": "stream",
     "text": [
      "Epoch 0: : 3000it [01:00, 49.82it/s, loss=0.0345, train/loss_rgb_mse=0.0287, train/loss_normal=0.00506, train/loss_eikonal=0.0132, train/loss_mask=0.000679, train/loss_sparsity=0.00223, train/loss_3d_normal_smooth=0.00944, train/inv_s=381.0, train/num_rays=8192.0] \n"
     ]
    },
    {
     "name": "stderr",
     "output_type": "stream",
     "text": [
      "`Trainer.fit` stopped: `max_steps=3000` reached.\n",
      "[rank: 0] Global seed set to 42\n",
      "You are using a CUDA device ('NVIDIA GeForce RTX 4090') that has Tensor Cores. To properly utilize them, you should set `torch.set_float32_matmul_precision('medium' | 'high')` which will trade-off precision for performance. For more details, read https://pytorch.org/docs/stable/generated/torch.set_float32_matmul_precision.html#torch.set_float32_matmul_precision\n"
     ]
    },
    {
     "name": "stdout",
     "output_type": "stream",
     "text": [
      "(1024, 1024, 3)\n",
      "the loaded normals are defined in the system of front view\n",
      "(1024, 1024, 3)\n",
      "the loaded normals are defined in the system of front view\n",
      "(1024, 1024, 3)\n",
      "the loaded normals are defined in the system of front view\n",
      "(1024, 1024, 3)\n",
      "the loaded normals are defined in the system of front view\n",
      "(1024, 1024, 3)\n",
      "the loaded normals are defined in the system of front view\n",
      "(1024, 1024, 3)\n",
      "the loaded normals are defined in the system of front view\n"
     ]
    },
    {
     "name": "stderr",
     "output_type": "stream",
     "text": [
      "LOCAL_RANK: 0 - CUDA_VISIBLE_DEVICES: [0]\n"
     ]
    },
    {
     "name": "stdout",
     "output_type": "stream",
     "text": [
      "Testing DataLoader 0: 100%|██████████| 6/6 [00:00<00:00, 796.92it/s]"
     ]
    },
    {
     "name": "stderr",
     "output_type": "stream",
     "text": [
      "Update grid level to 7\n",
      "Update finite_difference_eps to 0.011841535675862488\n"
     ]
    },
    {
     "name": "stdout",
     "output_type": "stream",
     "text": [
      "ortho scale is:  1.35\n",
      "Testing DataLoader 0: 100%|██████████| 6/6 [00:01<00:00,  3.10it/s] \n"
     ]
    },
    {
     "name": "stderr",
     "output_type": "stream",
     "text": [
      "Global seed set to 42\n",
      "Using finite difference to compute gradients with eps=progressive\n",
      "Using 16bit None Automatic Mixed Precision (AMP)\n",
      "GPU available: True (cuda), used: True\n",
      "TPU available: False, using: 0 TPU cores\n",
      "IPU available: False, using: 0 IPUs\n",
      "HPU available: False, using: 0 HPUs\n",
      "`Trainer(limit_train_batches=1.0)` was configured so 100% of the batches per epoch will be used..\n",
      "[rank: 0] Global seed set to 42\n",
      "Initializing distributed: GLOBAL_RANK: 0, MEMBER: 1/1\n",
      "----------------------------------------------------------------------------------------------------\n",
      "distributed_backend=nccl\n",
      "All distributed processes registered. Starting with 1 processes\n",
      "----------------------------------------------------------------------------------------------------\n",
      "\n",
      "You are using a CUDA device ('NVIDIA GeForce RTX 4090') that has Tensor Cores. To properly utilize them, you should set `torch.set_float32_matmul_precision('medium' | 'high')` which will trade-off precision for performance. For more details, read https://pytorch.org/docs/stable/generated/torch.set_float32_matmul_precision.html#torch.set_float32_matmul_precision\n"
     ]
    },
    {
     "name": "stdout",
     "output_type": "stream",
     "text": [
      "(1024, 1024, 3)\n",
      "the loaded normals are defined in the system of front view\n",
      "(1024, 1024, 3)\n",
      "the loaded normals are defined in the system of front view\n",
      "(1024, 1024, 3)\n",
      "the loaded normals are defined in the system of front view\n",
      "(1024, 1024, 3)\n",
      "the loaded normals are defined in the system of front view\n",
      "(1024, 1024, 3)\n",
      "the loaded normals are defined in the system of front view\n",
      "(1024, 1024, 3)\n",
      "the loaded normals are defined in the system of front view\n",
      "(1024, 1024, 3)\n",
      "the loaded normals are defined in the system of front view\n",
      "(1024, 1024, 3)\n",
      "the loaded normals are defined in the system of front view\n",
      "(1024, 1024, 3)\n",
      "the loaded normals are defined in the system of front view\n",
      "(1024, 1024, 3)\n",
      "the loaded normals are defined in the system of front view\n",
      "(1024, 1024, 3)\n",
      "the loaded normals are defined in the system of front view\n",
      "(1024, 1024, 3)\n",
      "the loaded normals are defined in the system of front view\n"
     ]
    },
    {
     "name": "stderr",
     "output_type": "stream",
     "text": [
      "LOCAL_RANK: 0 - CUDA_VISIBLE_DEVICES: [0]\n",
      "\n",
      "  | Name  | Type             | Params\n",
      "-------------------------------------------\n",
      "0 | cos   | CosineSimilarity | 0     \n",
      "1 | model | NeuSModel        | 7.7 M \n",
      "-------------------------------------------\n",
      "7.7 M     Trainable params\n",
      "0         Non-trainable params\n",
      "7.7 M     Total params\n",
      "15.371    Total estimated model params size (MB)\n"
     ]
    },
    {
     "name": "stdout",
     "output_type": "stream",
     "text": [
      "Epoch 0: : 0it [00:00, ?it/s]"
     ]
    },
    {
     "name": "stderr",
     "output_type": "stream",
     "text": [
      "Update finite_difference_eps to 0.027204705103003882\n"
     ]
    },
    {
     "name": "stdout",
     "output_type": "stream",
     "text": [
      "Epoch 0: : 503it [00:14, 34.55it/s, loss=0.0595, train/loss_rgb_mse=0.0777, train/loss_normal=0.00745, train/loss_eikonal=0.0102, train/loss_mask=0.00892, train/loss_sparsity=0.00252, train/loss_3d_normal_smooth=0.0125, train/inv_s=109.0, train/num_rays=2896.0] "
     ]
    },
    {
     "name": "stderr",
     "output_type": "stream",
     "text": [
      "/home/yuxuan/miniconda3/envs/wonder3d/lib/python3.9/site-packages/torch/optim/lr_scheduler.py:163: UserWarning: The epoch parameter in `scheduler.step()` was not necessary and is being deprecated where possible. Please use `scheduler.step()` to step the scheduler. During the deprecation, if epoch is different from None, the closed form is used instead of the new chainable form, where available. Please open an issue if you are unable to replicate your use case: https://github.com/pytorch/pytorch/issues/new/choose.\n",
      "  warnings.warn(EPOCH_DEPRECATION_WARNING, UserWarning)\n"
     ]
    },
    {
     "name": "stdout",
     "output_type": "stream",
     "text": [
      "Epoch 0: : 1006it [00:27, 36.66it/s, loss=0.0475, train/loss_rgb_mse=0.0528, train/loss_normal=0.00601, train/loss_eikonal=0.00987, train/loss_mask=0.00456, train/loss_sparsity=0.00214, train/loss_3d_normal_smooth=0.0119, train/inv_s=193.0, train/num_rays=4882.0]"
     ]
    },
    {
     "name": "stderr",
     "output_type": "stream",
     "text": [
      "Update grid level to 5\n",
      "Update finite_difference_eps to 0.02061731110582648\n"
     ]
    },
    {
     "name": "stdout",
     "output_type": "stream",
     "text": [
      "Epoch 0: : 2011it [00:44, 45.30it/s, loss=0.038, train/loss_rgb_mse=0.0325, train/loss_normal=0.00552, train/loss_eikonal=0.0177, train/loss_mask=0.00068, train/loss_sparsity=0.00281, train/loss_3d_normal_smooth=0.0108, train/inv_s=252.0, train/num_rays=8192.0]   "
     ]
    },
    {
     "name": "stderr",
     "output_type": "stream",
     "text": [
      "Update grid level to 6\n",
      "Update finite_difference_eps to 0.015625000000000003\n"
     ]
    },
    {
     "name": "stdout",
     "output_type": "stream",
     "text": [
      "Epoch 0: : 3000it [00:57, 51.84it/s, loss=0.0339, train/loss_rgb_mse=0.0245, train/loss_normal=0.00519, train/loss_eikonal=0.0124, train/loss_mask=0.00068, train/loss_sparsity=0.00226, train/loss_3d_normal_smooth=0.00912, train/inv_s=286.0, train/num_rays=8192.0]  \n"
     ]
    },
    {
     "name": "stderr",
     "output_type": "stream",
     "text": [
      "`Trainer.fit` stopped: `max_steps=3000` reached.\n",
      "[rank: 0] Global seed set to 42\n",
      "You are using a CUDA device ('NVIDIA GeForce RTX 4090') that has Tensor Cores. To properly utilize them, you should set `torch.set_float32_matmul_precision('medium' | 'high')` which will trade-off precision for performance. For more details, read https://pytorch.org/docs/stable/generated/torch.set_float32_matmul_precision.html#torch.set_float32_matmul_precision\n"
     ]
    },
    {
     "name": "stdout",
     "output_type": "stream",
     "text": [
      "(1024, 1024, 3)\n",
      "the loaded normals are defined in the system of front view\n",
      "(1024, 1024, 3)\n",
      "the loaded normals are defined in the system of front view\n",
      "(1024, 1024, 3)\n",
      "the loaded normals are defined in the system of front view\n",
      "(1024, 1024, 3)\n",
      "the loaded normals are defined in the system of front view\n",
      "(1024, 1024, 3)\n",
      "the loaded normals are defined in the system of front view\n",
      "(1024, 1024, 3)\n",
      "the loaded normals are defined in the system of front view\n"
     ]
    },
    {
     "name": "stderr",
     "output_type": "stream",
     "text": [
      "LOCAL_RANK: 0 - CUDA_VISIBLE_DEVICES: [0]\n"
     ]
    },
    {
     "name": "stdout",
     "output_type": "stream",
     "text": [
      "Testing DataLoader 0: 100%|██████████| 6/6 [00:00<00:00, 769.67it/s]"
     ]
    },
    {
     "name": "stderr",
     "output_type": "stream",
     "text": [
      "Update grid level to 7\n",
      "Update finite_difference_eps to 0.011841535675862488\n"
     ]
    },
    {
     "name": "stdout",
     "output_type": "stream",
     "text": [
      "ortho scale is:  1.35\n",
      "Testing DataLoader 0: 100%|██████████| 6/6 [00:01<00:00,  3.09it/s] \n"
     ]
    },
    {
     "name": "stderr",
     "output_type": "stream",
     "text": [
      "Global seed set to 42\n",
      "Using finite difference to compute gradients with eps=progressive\n",
      "Using 16bit None Automatic Mixed Precision (AMP)\n",
      "GPU available: True (cuda), used: True\n",
      "TPU available: False, using: 0 TPU cores\n",
      "IPU available: False, using: 0 IPUs\n",
      "HPU available: False, using: 0 HPUs\n",
      "`Trainer(limit_train_batches=1.0)` was configured so 100% of the batches per epoch will be used..\n",
      "[rank: 0] Global seed set to 42\n",
      "Initializing distributed: GLOBAL_RANK: 0, MEMBER: 1/1\n",
      "----------------------------------------------------------------------------------------------------\n",
      "distributed_backend=nccl\n",
      "All distributed processes registered. Starting with 1 processes\n",
      "----------------------------------------------------------------------------------------------------\n",
      "\n",
      "You are using a CUDA device ('NVIDIA GeForce RTX 4090') that has Tensor Cores. To properly utilize them, you should set `torch.set_float32_matmul_precision('medium' | 'high')` which will trade-off precision for performance. For more details, read https://pytorch.org/docs/stable/generated/torch.set_float32_matmul_precision.html#torch.set_float32_matmul_precision\n"
     ]
    },
    {
     "name": "stdout",
     "output_type": "stream",
     "text": [
      "(1024, 1024, 3)\n",
      "the loaded normals are defined in the system of front view\n",
      "(1024, 1024, 3)\n",
      "the loaded normals are defined in the system of front view\n",
      "(1024, 1024, 3)\n",
      "the loaded normals are defined in the system of front view\n",
      "(1024, 1024, 3)\n",
      "the loaded normals are defined in the system of front view\n",
      "(1024, 1024, 3)\n",
      "the loaded normals are defined in the system of front view\n",
      "(1024, 1024, 3)\n",
      "the loaded normals are defined in the system of front view\n",
      "(1024, 1024, 3)\n",
      "the loaded normals are defined in the system of front view\n",
      "(1024, 1024, 3)\n",
      "the loaded normals are defined in the system of front view\n",
      "(1024, 1024, 3)\n",
      "the loaded normals are defined in the system of front view\n",
      "(1024, 1024, 3)\n",
      "the loaded normals are defined in the system of front view\n",
      "(1024, 1024, 3)\n",
      "the loaded normals are defined in the system of front view\n",
      "(1024, 1024, 3)\n",
      "the loaded normals are defined in the system of front view\n"
     ]
    },
    {
     "name": "stderr",
     "output_type": "stream",
     "text": [
      "LOCAL_RANK: 0 - CUDA_VISIBLE_DEVICES: [0]\n",
      "\n",
      "  | Name  | Type             | Params\n",
      "-------------------------------------------\n",
      "0 | cos   | CosineSimilarity | 0     \n",
      "1 | model | NeuSModel        | 7.7 M \n",
      "-------------------------------------------\n",
      "7.7 M     Trainable params\n",
      "0         Non-trainable params\n",
      "7.7 M     Total params\n",
      "15.371    Total estimated model params size (MB)\n"
     ]
    },
    {
     "name": "stdout",
     "output_type": "stream",
     "text": [
      "Epoch 0: : 0it [00:00, ?it/s]"
     ]
    },
    {
     "name": "stderr",
     "output_type": "stream",
     "text": [
      "Update finite_difference_eps to 0.027204705103003882\n"
     ]
    },
    {
     "name": "stdout",
     "output_type": "stream",
     "text": [
      "Epoch 0: : 504it [00:14, 35.41it/s, loss=0.0541, train/loss_rgb_mse=0.035, train/loss_normal=0.00684, train/loss_eikonal=0.011, train/loss_mask=0.00556, train/loss_sparsity=0.00186, train/loss_3d_normal_smooth=0.0135, train/inv_s=126.0, train/num_rays=2919.0]  "
     ]
    },
    {
     "name": "stderr",
     "output_type": "stream",
     "text": [
      "/home/yuxuan/miniconda3/envs/wonder3d/lib/python3.9/site-packages/torch/optim/lr_scheduler.py:163: UserWarning: The epoch parameter in `scheduler.step()` was not necessary and is being deprecated where possible. Please use `scheduler.step()` to step the scheduler. During the deprecation, if epoch is different from None, the closed form is used instead of the new chainable form, where available. Please open an issue if you are unable to replicate your use case: https://github.com/pytorch/pytorch/issues/new/choose.\n",
      "  warnings.warn(EPOCH_DEPRECATION_WARNING, UserWarning)\n"
     ]
    },
    {
     "name": "stdout",
     "output_type": "stream",
     "text": [
      "Epoch 0: : 1003it [00:27, 37.11it/s, loss=0.0438, train/loss_rgb_mse=0.0358, train/loss_normal=0.00795, train/loss_eikonal=0.0104, train/loss_mask=0.00542, train/loss_sparsity=0.00234, train/loss_3d_normal_smooth=0.0131, train/inv_s=243.0, train/num_rays=4853.0] "
     ]
    },
    {
     "name": "stderr",
     "output_type": "stream",
     "text": [
      "Update grid level to 5\n",
      "Update finite_difference_eps to 0.02061731110582648\n"
     ]
    },
    {
     "name": "stdout",
     "output_type": "stream",
     "text": [
      "Epoch 0: : 2013it [00:44, 45.51it/s, loss=0.0349, train/loss_rgb_mse=0.0264, train/loss_normal=0.00521, train/loss_eikonal=0.0147, train/loss_mask=0.000684, train/loss_sparsity=0.00269, train/loss_3d_normal_smooth=0.011, train/inv_s=317.0, train/num_rays=8192.0]  "
     ]
    },
    {
     "name": "stderr",
     "output_type": "stream",
     "text": [
      "Update grid level to 6\n",
      "Update finite_difference_eps to 0.015625000000000003\n"
     ]
    },
    {
     "name": "stdout",
     "output_type": "stream",
     "text": [
      "Epoch 0: : 3000it [00:58, 51.60it/s, loss=0.0316, train/loss_rgb_mse=0.0245, train/loss_normal=0.00645, train/loss_eikonal=0.00898, train/loss_mask=0.000686, train/loss_sparsity=0.00345, train/loss_3d_normal_smooth=0.00892, train/inv_s=346.0, train/num_rays=8192.0]\n"
     ]
    },
    {
     "name": "stderr",
     "output_type": "stream",
     "text": [
      "`Trainer.fit` stopped: `max_steps=3000` reached.\n",
      "[rank: 0] Global seed set to 42\n",
      "You are using a CUDA device ('NVIDIA GeForce RTX 4090') that has Tensor Cores. To properly utilize them, you should set `torch.set_float32_matmul_precision('medium' | 'high')` which will trade-off precision for performance. For more details, read https://pytorch.org/docs/stable/generated/torch.set_float32_matmul_precision.html#torch.set_float32_matmul_precision\n"
     ]
    },
    {
     "name": "stdout",
     "output_type": "stream",
     "text": [
      "(1024, 1024, 3)\n",
      "the loaded normals are defined in the system of front view\n",
      "(1024, 1024, 3)\n",
      "the loaded normals are defined in the system of front view\n",
      "(1024, 1024, 3)\n",
      "the loaded normals are defined in the system of front view\n",
      "(1024, 1024, 3)\n",
      "the loaded normals are defined in the system of front view\n",
      "(1024, 1024, 3)\n",
      "the loaded normals are defined in the system of front view\n",
      "(1024, 1024, 3)\n",
      "the loaded normals are defined in the system of front view\n"
     ]
    },
    {
     "name": "stderr",
     "output_type": "stream",
     "text": [
      "LOCAL_RANK: 0 - CUDA_VISIBLE_DEVICES: [0]\n"
     ]
    },
    {
     "name": "stdout",
     "output_type": "stream",
     "text": [
      "Testing DataLoader 0: 100%|██████████| 6/6 [00:00<00:00, 637.43it/s]"
     ]
    },
    {
     "name": "stderr",
     "output_type": "stream",
     "text": [
      "Update grid level to 7\n",
      "Update finite_difference_eps to 0.011841535675862488\n"
     ]
    },
    {
     "name": "stdout",
     "output_type": "stream",
     "text": [
      "ortho scale is:  1.35\n",
      "Testing DataLoader 0: 100%|██████████| 6/6 [00:01<00:00,  3.15it/s] \n"
     ]
    },
    {
     "name": "stderr",
     "output_type": "stream",
     "text": [
      "Global seed set to 42\n",
      "Using finite difference to compute gradients with eps=progressive\n",
      "Using 16bit None Automatic Mixed Precision (AMP)\n",
      "GPU available: True (cuda), used: True\n",
      "TPU available: False, using: 0 TPU cores\n",
      "IPU available: False, using: 0 IPUs\n",
      "HPU available: False, using: 0 HPUs\n",
      "`Trainer(limit_train_batches=1.0)` was configured so 100% of the batches per epoch will be used..\n",
      "[rank: 0] Global seed set to 42\n",
      "Initializing distributed: GLOBAL_RANK: 0, MEMBER: 1/1\n",
      "----------------------------------------------------------------------------------------------------\n",
      "distributed_backend=nccl\n",
      "All distributed processes registered. Starting with 1 processes\n",
      "----------------------------------------------------------------------------------------------------\n",
      "\n",
      "You are using a CUDA device ('NVIDIA GeForce RTX 4090') that has Tensor Cores. To properly utilize them, you should set `torch.set_float32_matmul_precision('medium' | 'high')` which will trade-off precision for performance. For more details, read https://pytorch.org/docs/stable/generated/torch.set_float32_matmul_precision.html#torch.set_float32_matmul_precision\n"
     ]
    },
    {
     "name": "stdout",
     "output_type": "stream",
     "text": [
      "(1024, 1024, 3)\n",
      "the loaded normals are defined in the system of front view\n",
      "(1024, 1024, 3)\n",
      "the loaded normals are defined in the system of front view\n",
      "(1024, 1024, 3)\n",
      "the loaded normals are defined in the system of front view\n",
      "(1024, 1024, 3)\n",
      "the loaded normals are defined in the system of front view\n",
      "(1024, 1024, 3)\n",
      "the loaded normals are defined in the system of front view\n",
      "(1024, 1024, 3)\n",
      "the loaded normals are defined in the system of front view\n",
      "(1024, 1024, 3)\n",
      "the loaded normals are defined in the system of front view\n",
      "(1024, 1024, 3)\n",
      "the loaded normals are defined in the system of front view\n",
      "(1024, 1024, 3)\n",
      "the loaded normals are defined in the system of front view\n",
      "(1024, 1024, 3)\n",
      "the loaded normals are defined in the system of front view\n",
      "(1024, 1024, 3)\n",
      "the loaded normals are defined in the system of front view\n",
      "(1024, 1024, 3)\n",
      "the loaded normals are defined in the system of front view\n"
     ]
    },
    {
     "name": "stderr",
     "output_type": "stream",
     "text": [
      "LOCAL_RANK: 0 - CUDA_VISIBLE_DEVICES: [0]\n",
      "\n",
      "  | Name  | Type             | Params\n",
      "-------------------------------------------\n",
      "0 | cos   | CosineSimilarity | 0     \n",
      "1 | model | NeuSModel        | 7.7 M \n",
      "-------------------------------------------\n",
      "7.7 M     Trainable params\n",
      "0         Non-trainable params\n",
      "7.7 M     Total params\n",
      "15.371    Total estimated model params size (MB)\n"
     ]
    },
    {
     "name": "stdout",
     "output_type": "stream",
     "text": [
      "Epoch 0: : 0it [00:00, ?it/s]"
     ]
    },
    {
     "name": "stderr",
     "output_type": "stream",
     "text": [
      "Update finite_difference_eps to 0.027204705103003882\n"
     ]
    },
    {
     "name": "stdout",
     "output_type": "stream",
     "text": [
      "Epoch 0: : 504it [00:14, 35.55it/s, loss=0.0631, train/loss_rgb_mse=0.0481, train/loss_normal=0.00643, train/loss_eikonal=0.0148, train/loss_mask=0.00858, train/loss_sparsity=0.00256, train/loss_3d_normal_smooth=0.0147, train/inv_s=120.0, train/num_rays=2920.0]"
     ]
    },
    {
     "name": "stderr",
     "output_type": "stream",
     "text": [
      "/home/yuxuan/miniconda3/envs/wonder3d/lib/python3.9/site-packages/torch/optim/lr_scheduler.py:163: UserWarning: The epoch parameter in `scheduler.step()` was not necessary and is being deprecated where possible. Please use `scheduler.step()` to step the scheduler. During the deprecation, if epoch is different from None, the closed form is used instead of the new chainable form, where available. Please open an issue if you are unable to replicate your use case: https://github.com/pytorch/pytorch/issues/new/choose.\n",
      "  warnings.warn(EPOCH_DEPRECATION_WARNING, UserWarning)\n"
     ]
    },
    {
     "name": "stdout",
     "output_type": "stream",
     "text": [
      "Epoch 0: : 1002it [00:26, 37.47it/s, loss=0.0441, train/loss_rgb_mse=0.0284, train/loss_normal=0.00573, train/loss_eikonal=0.0146, train/loss_mask=0.00576, train/loss_sparsity=0.00266, train/loss_3d_normal_smooth=0.0139, train/inv_s=287.0, train/num_rays=4860.0]"
     ]
    },
    {
     "name": "stderr",
     "output_type": "stream",
     "text": [
      "Update grid level to 5\n",
      "Update finite_difference_eps to 0.02061731110582648\n"
     ]
    },
    {
     "name": "stdout",
     "output_type": "stream",
     "text": [
      "Epoch 0: : 2014it [00:43, 45.88it/s, loss=0.036, train/loss_rgb_mse=0.0289, train/loss_normal=0.00462, train/loss_eikonal=0.0182, train/loss_mask=0.000682, train/loss_sparsity=0.00457, train/loss_3d_normal_smooth=0.012, train/inv_s=525.0, train/num_rays=8192.0]   "
     ]
    },
    {
     "name": "stderr",
     "output_type": "stream",
     "text": [
      "Update grid level to 6\n",
      "Update finite_difference_eps to 0.015625000000000003\n"
     ]
    },
    {
     "name": "stdout",
     "output_type": "stream",
     "text": [
      "Epoch 0: : 3000it [00:57, 52.54it/s, loss=0.0315, train/loss_rgb_mse=0.026, train/loss_normal=0.00472, train/loss_eikonal=0.0108, train/loss_mask=0.000685, train/loss_sparsity=0.0029, train/loss_3d_normal_smooth=0.00936, train/inv_s=667.0, train/num_rays=8192.0]   \n"
     ]
    },
    {
     "name": "stderr",
     "output_type": "stream",
     "text": [
      "`Trainer.fit` stopped: `max_steps=3000` reached.\n",
      "[rank: 0] Global seed set to 42\n",
      "You are using a CUDA device ('NVIDIA GeForce RTX 4090') that has Tensor Cores. To properly utilize them, you should set `torch.set_float32_matmul_precision('medium' | 'high')` which will trade-off precision for performance. For more details, read https://pytorch.org/docs/stable/generated/torch.set_float32_matmul_precision.html#torch.set_float32_matmul_precision\n"
     ]
    },
    {
     "name": "stdout",
     "output_type": "stream",
     "text": [
      "(1024, 1024, 3)\n",
      "the loaded normals are defined in the system of front view\n",
      "(1024, 1024, 3)\n",
      "the loaded normals are defined in the system of front view\n",
      "(1024, 1024, 3)\n",
      "the loaded normals are defined in the system of front view\n",
      "(1024, 1024, 3)\n",
      "the loaded normals are defined in the system of front view\n",
      "(1024, 1024, 3)\n",
      "the loaded normals are defined in the system of front view\n",
      "(1024, 1024, 3)\n",
      "the loaded normals are defined in the system of front view\n"
     ]
    },
    {
     "name": "stderr",
     "output_type": "stream",
     "text": [
      "LOCAL_RANK: 0 - CUDA_VISIBLE_DEVICES: [0]\n"
     ]
    },
    {
     "name": "stdout",
     "output_type": "stream",
     "text": [
      "Testing DataLoader 0: 100%|██████████| 6/6 [00:00<00:00, 778.14it/s]"
     ]
    },
    {
     "name": "stderr",
     "output_type": "stream",
     "text": [
      "Update grid level to 7\n",
      "Update finite_difference_eps to 0.011841535675862488\n"
     ]
    },
    {
     "name": "stdout",
     "output_type": "stream",
     "text": [
      "ortho scale is:  1.35\n",
      "Testing DataLoader 0: 100%|██████████| 6/6 [00:01<00:00,  3.33it/s] \n"
     ]
    },
    {
     "name": "stderr",
     "output_type": "stream",
     "text": [
      "Global seed set to 42\n",
      "Using finite difference to compute gradients with eps=progressive\n",
      "Using 16bit None Automatic Mixed Precision (AMP)\n",
      "GPU available: True (cuda), used: True\n",
      "TPU available: False, using: 0 TPU cores\n",
      "IPU available: False, using: 0 IPUs\n",
      "HPU available: False, using: 0 HPUs\n",
      "`Trainer(limit_train_batches=1.0)` was configured so 100% of the batches per epoch will be used..\n",
      "[rank: 0] Global seed set to 42\n",
      "Initializing distributed: GLOBAL_RANK: 0, MEMBER: 1/1\n",
      "----------------------------------------------------------------------------------------------------\n",
      "distributed_backend=nccl\n",
      "All distributed processes registered. Starting with 1 processes\n",
      "----------------------------------------------------------------------------------------------------\n",
      "\n",
      "You are using a CUDA device ('NVIDIA GeForce RTX 4090') that has Tensor Cores. To properly utilize them, you should set `torch.set_float32_matmul_precision('medium' | 'high')` which will trade-off precision for performance. For more details, read https://pytorch.org/docs/stable/generated/torch.set_float32_matmul_precision.html#torch.set_float32_matmul_precision\n"
     ]
    },
    {
     "name": "stdout",
     "output_type": "stream",
     "text": [
      "(1024, 1024, 3)\n",
      "the loaded normals are defined in the system of front view\n",
      "(1024, 1024, 3)\n",
      "the loaded normals are defined in the system of front view\n",
      "(1024, 1024, 3)\n",
      "the loaded normals are defined in the system of front view\n",
      "(1024, 1024, 3)\n",
      "the loaded normals are defined in the system of front view\n",
      "(1024, 1024, 3)\n",
      "the loaded normals are defined in the system of front view\n",
      "(1024, 1024, 3)\n",
      "the loaded normals are defined in the system of front view\n",
      "(1024, 1024, 3)\n",
      "the loaded normals are defined in the system of front view\n",
      "(1024, 1024, 3)\n",
      "the loaded normals are defined in the system of front view\n",
      "(1024, 1024, 3)\n",
      "the loaded normals are defined in the system of front view\n",
      "(1024, 1024, 3)\n",
      "the loaded normals are defined in the system of front view\n",
      "(1024, 1024, 3)\n",
      "the loaded normals are defined in the system of front view\n",
      "(1024, 1024, 3)\n",
      "the loaded normals are defined in the system of front view\n"
     ]
    },
    {
     "name": "stderr",
     "output_type": "stream",
     "text": [
      "LOCAL_RANK: 0 - CUDA_VISIBLE_DEVICES: [0]\n",
      "\n",
      "  | Name  | Type             | Params\n",
      "-------------------------------------------\n",
      "0 | cos   | CosineSimilarity | 0     \n",
      "1 | model | NeuSModel        | 7.7 M \n",
      "-------------------------------------------\n",
      "7.7 M     Trainable params\n",
      "0         Non-trainable params\n",
      "7.7 M     Total params\n",
      "15.371    Total estimated model params size (MB)\n"
     ]
    },
    {
     "name": "stdout",
     "output_type": "stream",
     "text": [
      "Epoch 0: : 0it [00:00, ?it/s]"
     ]
    },
    {
     "name": "stderr",
     "output_type": "stream",
     "text": [
      "Update finite_difference_eps to 0.027204705103003882\n"
     ]
    },
    {
     "name": "stdout",
     "output_type": "stream",
     "text": [
      "Epoch 0: : 503it [00:14, 34.31it/s, loss=0.0556, train/loss_rgb_mse=0.0529, train/loss_normal=0.00681, train/loss_eikonal=0.0107, train/loss_mask=0.00774, train/loss_sparsity=0.00337, train/loss_3d_normal_smooth=0.0127, train/inv_s=119.0, train/num_rays=2910.0] "
     ]
    },
    {
     "name": "stderr",
     "output_type": "stream",
     "text": [
      "/home/yuxuan/miniconda3/envs/wonder3d/lib/python3.9/site-packages/torch/optim/lr_scheduler.py:163: UserWarning: The epoch parameter in `scheduler.step()` was not necessary and is being deprecated where possible. Please use `scheduler.step()` to step the scheduler. During the deprecation, if epoch is different from None, the closed form is used instead of the new chainable form, where available. Please open an issue if you are unable to replicate your use case: https://github.com/pytorch/pytorch/issues/new/choose.\n",
      "  warnings.warn(EPOCH_DEPRECATION_WARNING, UserWarning)\n"
     ]
    },
    {
     "name": "stdout",
     "output_type": "stream",
     "text": [
      "Epoch 0: : 1005it [00:27, 36.30it/s, loss=0.0436, train/loss_rgb_mse=0.0474, train/loss_normal=0.00482, train/loss_eikonal=0.0106, train/loss_mask=0.00571, train/loss_sparsity=0.00218, train/loss_3d_normal_smooth=0.0123, train/inv_s=265.0, train/num_rays=4869.0] "
     ]
    },
    {
     "name": "stderr",
     "output_type": "stream",
     "text": [
      "Update grid level to 5\n",
      "Update finite_difference_eps to 0.02061731110582648\n"
     ]
    },
    {
     "name": "stdout",
     "output_type": "stream",
     "text": [
      "Epoch 0: : 2006it [00:44, 44.84it/s, loss=0.0364, train/loss_rgb_mse=0.0355, train/loss_normal=0.00547, train/loss_eikonal=0.0164, train/loss_mask=0.000689, train/loss_sparsity=0.00439, train/loss_3d_normal_smooth=0.0105, train/inv_s=400.0, train/num_rays=8192.0] "
     ]
    },
    {
     "name": "stderr",
     "output_type": "stream",
     "text": [
      "Update grid level to 6\n",
      "Update finite_difference_eps to 0.015625000000000003\n"
     ]
    },
    {
     "name": "stdout",
     "output_type": "stream",
     "text": [
      "Epoch 0: : 3000it [00:58, 51.60it/s, loss=0.0325, train/loss_rgb_mse=0.0274, train/loss_normal=0.00581, train/loss_eikonal=0.0106, train/loss_mask=0.000687, train/loss_sparsity=0.00143, train/loss_3d_normal_smooth=0.00886, train/inv_s=466.0, train/num_rays=8192.0] \n"
     ]
    },
    {
     "name": "stderr",
     "output_type": "stream",
     "text": [
      "`Trainer.fit` stopped: `max_steps=3000` reached.\n",
      "[rank: 0] Global seed set to 42\n",
      "You are using a CUDA device ('NVIDIA GeForce RTX 4090') that has Tensor Cores. To properly utilize them, you should set `torch.set_float32_matmul_precision('medium' | 'high')` which will trade-off precision for performance. For more details, read https://pytorch.org/docs/stable/generated/torch.set_float32_matmul_precision.html#torch.set_float32_matmul_precision\n"
     ]
    },
    {
     "name": "stdout",
     "output_type": "stream",
     "text": [
      "(1024, 1024, 3)\n",
      "the loaded normals are defined in the system of front view\n",
      "(1024, 1024, 3)\n",
      "the loaded normals are defined in the system of front view\n",
      "(1024, 1024, 3)\n",
      "the loaded normals are defined in the system of front view\n",
      "(1024, 1024, 3)\n",
      "the loaded normals are defined in the system of front view\n",
      "(1024, 1024, 3)\n",
      "the loaded normals are defined in the system of front view\n",
      "(1024, 1024, 3)\n",
      "the loaded normals are defined in the system of front view\n"
     ]
    },
    {
     "name": "stderr",
     "output_type": "stream",
     "text": [
      "LOCAL_RANK: 0 - CUDA_VISIBLE_DEVICES: [0]\n"
     ]
    },
    {
     "name": "stdout",
     "output_type": "stream",
     "text": [
      "Testing DataLoader 0: 100%|██████████| 6/6 [00:00<00:00, 788.30it/s]"
     ]
    },
    {
     "name": "stderr",
     "output_type": "stream",
     "text": [
      "Update grid level to 7\n",
      "Update finite_difference_eps to 0.011841535675862488\n"
     ]
    },
    {
     "name": "stdout",
     "output_type": "stream",
     "text": [
      "ortho scale is:  1.35\n",
      "Testing DataLoader 0: 100%|██████████| 6/6 [00:01<00:00,  3.06it/s] \n"
     ]
    },
    {
     "name": "stderr",
     "output_type": "stream",
     "text": [
      "Global seed set to 42\n",
      "Using finite difference to compute gradients with eps=progressive\n",
      "Using 16bit None Automatic Mixed Precision (AMP)\n",
      "GPU available: True (cuda), used: True\n",
      "TPU available: False, using: 0 TPU cores\n",
      "IPU available: False, using: 0 IPUs\n",
      "HPU available: False, using: 0 HPUs\n",
      "`Trainer(limit_train_batches=1.0)` was configured so 100% of the batches per epoch will be used..\n",
      "[rank: 0] Global seed set to 42\n",
      "Initializing distributed: GLOBAL_RANK: 0, MEMBER: 1/1\n",
      "----------------------------------------------------------------------------------------------------\n",
      "distributed_backend=nccl\n",
      "All distributed processes registered. Starting with 1 processes\n",
      "----------------------------------------------------------------------------------------------------\n",
      "\n",
      "You are using a CUDA device ('NVIDIA GeForce RTX 4090') that has Tensor Cores. To properly utilize them, you should set `torch.set_float32_matmul_precision('medium' | 'high')` which will trade-off precision for performance. For more details, read https://pytorch.org/docs/stable/generated/torch.set_float32_matmul_precision.html#torch.set_float32_matmul_precision\n"
     ]
    },
    {
     "name": "stdout",
     "output_type": "stream",
     "text": [
      "(1024, 1024, 3)\n",
      "the loaded normals are defined in the system of front view\n",
      "(1024, 1024, 3)\n",
      "the loaded normals are defined in the system of front view\n",
      "(1024, 1024, 3)\n",
      "the loaded normals are defined in the system of front view\n",
      "(1024, 1024, 3)\n",
      "the loaded normals are defined in the system of front view\n",
      "(1024, 1024, 3)\n",
      "the loaded normals are defined in the system of front view\n",
      "(1024, 1024, 3)\n",
      "the loaded normals are defined in the system of front view\n",
      "(1024, 1024, 3)\n",
      "the loaded normals are defined in the system of front view\n",
      "(1024, 1024, 3)\n",
      "the loaded normals are defined in the system of front view\n",
      "(1024, 1024, 3)\n",
      "the loaded normals are defined in the system of front view\n",
      "(1024, 1024, 3)\n",
      "the loaded normals are defined in the system of front view\n",
      "(1024, 1024, 3)\n",
      "the loaded normals are defined in the system of front view\n",
      "(1024, 1024, 3)\n",
      "the loaded normals are defined in the system of front view\n"
     ]
    },
    {
     "name": "stderr",
     "output_type": "stream",
     "text": [
      "LOCAL_RANK: 0 - CUDA_VISIBLE_DEVICES: [0]\n",
      "\n",
      "  | Name  | Type             | Params\n",
      "-------------------------------------------\n",
      "0 | cos   | CosineSimilarity | 0     \n",
      "1 | model | NeuSModel        | 7.7 M \n",
      "-------------------------------------------\n",
      "7.7 M     Trainable params\n",
      "0         Non-trainable params\n",
      "7.7 M     Total params\n",
      "15.371    Total estimated model params size (MB)\n"
     ]
    },
    {
     "name": "stdout",
     "output_type": "stream",
     "text": [
      "Epoch 0: : 0it [00:00, ?it/s]"
     ]
    },
    {
     "name": "stderr",
     "output_type": "stream",
     "text": [
      "Update finite_difference_eps to 0.027204705103003882\n"
     ]
    },
    {
     "name": "stdout",
     "output_type": "stream",
     "text": [
      "Epoch 0: : 500it [00:14, 35.54it/s, loss=0.0512, train/loss_rgb_mse=0.0423, train/loss_normal=0.00635, train/loss_eikonal=0.0107, train/loss_mask=0.0102, train/loss_sparsity=0.00233, train/loss_3d_normal_smooth=0.0129, train/inv_s=118.0, train/num_rays=2877.0] "
     ]
    },
    {
     "name": "stderr",
     "output_type": "stream",
     "text": [
      "/home/yuxuan/miniconda3/envs/wonder3d/lib/python3.9/site-packages/torch/optim/lr_scheduler.py:163: UserWarning: The epoch parameter in `scheduler.step()` was not necessary and is being deprecated where possible. Please use `scheduler.step()` to step the scheduler. During the deprecation, if epoch is different from None, the closed form is used instead of the new chainable form, where available. Please open an issue if you are unable to replicate your use case: https://github.com/pytorch/pytorch/issues/new/choose.\n",
      "  warnings.warn(EPOCH_DEPRECATION_WARNING, UserWarning)\n"
     ]
    },
    {
     "name": "stdout",
     "output_type": "stream",
     "text": [
      "Epoch 0: : 1005it [00:27, 36.27it/s, loss=0.0391, train/loss_rgb_mse=0.0393, train/loss_normal=0.00469, train/loss_eikonal=0.0106, train/loss_mask=0.00506, train/loss_sparsity=0.00217, train/loss_3d_normal_smooth=0.0123, train/inv_s=300.0, train/num_rays=4812.0] "
     ]
    },
    {
     "name": "stderr",
     "output_type": "stream",
     "text": [
      "Update grid level to 5\n",
      "Update finite_difference_eps to 0.02061731110582648\n"
     ]
    },
    {
     "name": "stdout",
     "output_type": "stream",
     "text": [
      "Epoch 0: : 2005it [00:45, 43.87it/s, loss=0.0291, train/loss_rgb_mse=0.0197, train/loss_normal=0.00316, train/loss_eikonal=0.0151, train/loss_mask=0.000686, train/loss_sparsity=0.00547, train/loss_3d_normal_smooth=0.0112, train/inv_s=470.0, train/num_rays=8192.0] "
     ]
    },
    {
     "name": "stderr",
     "output_type": "stream",
     "text": [
      "Update grid level to 6\n",
      "Update finite_difference_eps to 0.015625000000000003\n"
     ]
    },
    {
     "name": "stdout",
     "output_type": "stream",
     "text": [
      "Epoch 0: : 3000it [00:59, 50.02it/s, loss=0.0269, train/loss_rgb_mse=0.0182, train/loss_normal=0.00374, train/loss_eikonal=0.00973, train/loss_mask=0.00068, train/loss_sparsity=0.00291, train/loss_3d_normal_smooth=0.00903, train/inv_s=566.0, train/num_rays=8192.0] \n"
     ]
    },
    {
     "name": "stderr",
     "output_type": "stream",
     "text": [
      "`Trainer.fit` stopped: `max_steps=3000` reached.\n",
      "[rank: 0] Global seed set to 42\n",
      "You are using a CUDA device ('NVIDIA GeForce RTX 4090') that has Tensor Cores. To properly utilize them, you should set `torch.set_float32_matmul_precision('medium' | 'high')` which will trade-off precision for performance. For more details, read https://pytorch.org/docs/stable/generated/torch.set_float32_matmul_precision.html#torch.set_float32_matmul_precision\n"
     ]
    },
    {
     "name": "stdout",
     "output_type": "stream",
     "text": [
      "(1024, 1024, 3)\n",
      "the loaded normals are defined in the system of front view\n",
      "(1024, 1024, 3)\n",
      "the loaded normals are defined in the system of front view\n",
      "(1024, 1024, 3)\n",
      "the loaded normals are defined in the system of front view\n",
      "(1024, 1024, 3)\n",
      "the loaded normals are defined in the system of front view\n",
      "(1024, 1024, 3)\n",
      "the loaded normals are defined in the system of front view\n",
      "(1024, 1024, 3)\n",
      "the loaded normals are defined in the system of front view\n"
     ]
    },
    {
     "name": "stderr",
     "output_type": "stream",
     "text": [
      "LOCAL_RANK: 0 - CUDA_VISIBLE_DEVICES: [0]\n"
     ]
    },
    {
     "name": "stdout",
     "output_type": "stream",
     "text": [
      "Testing DataLoader 0: 100%|██████████| 6/6 [00:00<00:00, 761.61it/s]"
     ]
    },
    {
     "name": "stderr",
     "output_type": "stream",
     "text": [
      "Update grid level to 7\n",
      "Update finite_difference_eps to 0.011841535675862488\n"
     ]
    },
    {
     "name": "stdout",
     "output_type": "stream",
     "text": [
      "ortho scale is:  1.35\n",
      "Testing DataLoader 0: 100%|██████████| 6/6 [00:01<00:00,  3.02it/s] \n"
     ]
    },
    {
     "name": "stderr",
     "output_type": "stream",
     "text": [
      "Global seed set to 42\n",
      "Using finite difference to compute gradients with eps=progressive\n",
      "Using 16bit None Automatic Mixed Precision (AMP)\n",
      "GPU available: True (cuda), used: True\n",
      "TPU available: False, using: 0 TPU cores\n",
      "IPU available: False, using: 0 IPUs\n",
      "HPU available: False, using: 0 HPUs\n",
      "`Trainer(limit_train_batches=1.0)` was configured so 100% of the batches per epoch will be used..\n",
      "[rank: 0] Global seed set to 42\n",
      "Initializing distributed: GLOBAL_RANK: 0, MEMBER: 1/1\n",
      "----------------------------------------------------------------------------------------------------\n",
      "distributed_backend=nccl\n",
      "All distributed processes registered. Starting with 1 processes\n",
      "----------------------------------------------------------------------------------------------------\n",
      "\n",
      "You are using a CUDA device ('NVIDIA GeForce RTX 4090') that has Tensor Cores. To properly utilize them, you should set `torch.set_float32_matmul_precision('medium' | 'high')` which will trade-off precision for performance. For more details, read https://pytorch.org/docs/stable/generated/torch.set_float32_matmul_precision.html#torch.set_float32_matmul_precision\n"
     ]
    },
    {
     "name": "stdout",
     "output_type": "stream",
     "text": [
      "(1024, 1024, 3)\n",
      "the loaded normals are defined in the system of front view\n",
      "(1024, 1024, 3)\n",
      "the loaded normals are defined in the system of front view\n",
      "(1024, 1024, 3)\n",
      "the loaded normals are defined in the system of front view\n",
      "(1024, 1024, 3)\n",
      "the loaded normals are defined in the system of front view\n",
      "(1024, 1024, 3)\n",
      "the loaded normals are defined in the system of front view\n",
      "(1024, 1024, 3)\n",
      "the loaded normals are defined in the system of front view\n",
      "(1024, 1024, 3)\n",
      "the loaded normals are defined in the system of front view\n",
      "(1024, 1024, 3)\n",
      "the loaded normals are defined in the system of front view\n",
      "(1024, 1024, 3)\n",
      "the loaded normals are defined in the system of front view\n",
      "(1024, 1024, 3)\n",
      "the loaded normals are defined in the system of front view\n",
      "(1024, 1024, 3)\n",
      "the loaded normals are defined in the system of front view\n",
      "(1024, 1024, 3)\n",
      "the loaded normals are defined in the system of front view\n"
     ]
    },
    {
     "name": "stderr",
     "output_type": "stream",
     "text": [
      "LOCAL_RANK: 0 - CUDA_VISIBLE_DEVICES: [0]\n",
      "\n",
      "  | Name  | Type             | Params\n",
      "-------------------------------------------\n",
      "0 | cos   | CosineSimilarity | 0     \n",
      "1 | model | NeuSModel        | 7.7 M \n",
      "-------------------------------------------\n",
      "7.7 M     Trainable params\n",
      "0         Non-trainable params\n",
      "7.7 M     Total params\n",
      "15.371    Total estimated model params size (MB)\n"
     ]
    },
    {
     "name": "stdout",
     "output_type": "stream",
     "text": [
      "Epoch 0: : 0it [00:00, ?it/s]"
     ]
    },
    {
     "name": "stderr",
     "output_type": "stream",
     "text": [
      "Update finite_difference_eps to 0.027204705103003882\n"
     ]
    },
    {
     "name": "stdout",
     "output_type": "stream",
     "text": [
      "Epoch 0: : 499it [00:14, 34.36it/s, loss=0.0647, train/loss_rgb_mse=0.0685, train/loss_normal=0.00601, train/loss_eikonal=0.0128, train/loss_mask=0.00909, train/loss_sparsity=0.00284, train/loss_3d_normal_smooth=0.0137, train/inv_s=108.0, train/num_rays=2880.0]"
     ]
    },
    {
     "name": "stderr",
     "output_type": "stream",
     "text": [
      "/home/yuxuan/miniconda3/envs/wonder3d/lib/python3.9/site-packages/torch/optim/lr_scheduler.py:163: UserWarning: The epoch parameter in `scheduler.step()` was not necessary and is being deprecated where possible. Please use `scheduler.step()` to step the scheduler. During the deprecation, if epoch is different from None, the closed form is used instead of the new chainable form, where available. Please open an issue if you are unable to replicate your use case: https://github.com/pytorch/pytorch/issues/new/choose.\n",
      "  warnings.warn(EPOCH_DEPRECATION_WARNING, UserWarning)\n"
     ]
    },
    {
     "name": "stdout",
     "output_type": "stream",
     "text": [
      "Epoch 0: : 1004it [00:27, 36.13it/s, loss=0.0497, train/loss_rgb_mse=0.0393, train/loss_normal=0.00551, train/loss_eikonal=0.0108, train/loss_mask=0.00476, train/loss_sparsity=0.00317, train/loss_3d_normal_smooth=0.0131, train/inv_s=207.0, train/num_rays=4803.0] "
     ]
    },
    {
     "name": "stderr",
     "output_type": "stream",
     "text": [
      "Update grid level to 5\n",
      "Update finite_difference_eps to 0.02061731110582648\n"
     ]
    },
    {
     "name": "stdout",
     "output_type": "stream",
     "text": [
      "Epoch 0: : 2006it [00:45, 44.47it/s, loss=0.0386, train/loss_rgb_mse=0.0379, train/loss_normal=0.00533, train/loss_eikonal=0.0185, train/loss_mask=0.000682, train/loss_sparsity=0.00406, train/loss_3d_normal_smooth=0.0121, train/inv_s=282.0, train/num_rays=8192.0] "
     ]
    },
    {
     "name": "stderr",
     "output_type": "stream",
     "text": [
      "Update grid level to 6\n",
      "Update finite_difference_eps to 0.015625000000000003\n"
     ]
    },
    {
     "name": "stdout",
     "output_type": "stream",
     "text": [
      "Epoch 0: : 3000it [00:59, 50.82it/s, loss=0.0343, train/loss_rgb_mse=0.0289, train/loss_normal=0.00488, train/loss_eikonal=0.0114, train/loss_mask=0.000679, train/loss_sparsity=0.00269, train/loss_3d_normal_smooth=0.00929, train/inv_s=332.0, train/num_rays=8192.0]\n"
     ]
    },
    {
     "name": "stderr",
     "output_type": "stream",
     "text": [
      "`Trainer.fit` stopped: `max_steps=3000` reached.\n",
      "[rank: 0] Global seed set to 42\n",
      "You are using a CUDA device ('NVIDIA GeForce RTX 4090') that has Tensor Cores. To properly utilize them, you should set `torch.set_float32_matmul_precision('medium' | 'high')` which will trade-off precision for performance. For more details, read https://pytorch.org/docs/stable/generated/torch.set_float32_matmul_precision.html#torch.set_float32_matmul_precision\n"
     ]
    },
    {
     "name": "stdout",
     "output_type": "stream",
     "text": [
      "(1024, 1024, 3)\n",
      "the loaded normals are defined in the system of front view\n",
      "(1024, 1024, 3)\n",
      "the loaded normals are defined in the system of front view\n",
      "(1024, 1024, 3)\n",
      "the loaded normals are defined in the system of front view\n",
      "(1024, 1024, 3)\n",
      "the loaded normals are defined in the system of front view\n",
      "(1024, 1024, 3)\n",
      "the loaded normals are defined in the system of front view\n",
      "(1024, 1024, 3)\n",
      "the loaded normals are defined in the system of front view\n",
      "Testing: 0it [00:00, ?it/s]"
     ]
    },
    {
     "name": "stderr",
     "output_type": "stream",
     "text": [
      "LOCAL_RANK: 0 - CUDA_VISIBLE_DEVICES: [0]\n"
     ]
    },
    {
     "name": "stdout",
     "output_type": "stream",
     "text": [
      "Testing DataLoader 0: 100%|██████████| 6/6 [00:00<00:00, 770.42it/s]"
     ]
    },
    {
     "name": "stderr",
     "output_type": "stream",
     "text": [
      "Update grid level to 7\n",
      "Update finite_difference_eps to 0.011841535675862488\n"
     ]
    },
    {
     "name": "stdout",
     "output_type": "stream",
     "text": [
      "ortho scale is:  1.35\n",
      "Testing DataLoader 0: 100%|██████████| 6/6 [00:01<00:00,  3.35it/s] \n"
     ]
    },
    {
     "name": "stderr",
     "output_type": "stream",
     "text": [
      "Global seed set to 42\n",
      "Using finite difference to compute gradients with eps=progressive\n",
      "Using 16bit None Automatic Mixed Precision (AMP)\n",
      "GPU available: True (cuda), used: True\n",
      "TPU available: False, using: 0 TPU cores\n",
      "IPU available: False, using: 0 IPUs\n",
      "HPU available: False, using: 0 HPUs\n",
      "`Trainer(limit_train_batches=1.0)` was configured so 100% of the batches per epoch will be used..\n",
      "[rank: 0] Global seed set to 42\n",
      "Initializing distributed: GLOBAL_RANK: 0, MEMBER: 1/1\n",
      "----------------------------------------------------------------------------------------------------\n",
      "distributed_backend=nccl\n",
      "All distributed processes registered. Starting with 1 processes\n",
      "----------------------------------------------------------------------------------------------------\n",
      "\n",
      "You are using a CUDA device ('NVIDIA GeForce RTX 4090') that has Tensor Cores. To properly utilize them, you should set `torch.set_float32_matmul_precision('medium' | 'high')` which will trade-off precision for performance. For more details, read https://pytorch.org/docs/stable/generated/torch.set_float32_matmul_precision.html#torch.set_float32_matmul_precision\n"
     ]
    },
    {
     "name": "stdout",
     "output_type": "stream",
     "text": [
      "(1024, 1024, 3)\n",
      "the loaded normals are defined in the system of front view\n",
      "(1024, 1024, 3)\n",
      "the loaded normals are defined in the system of front view\n",
      "(1024, 1024, 3)\n",
      "the loaded normals are defined in the system of front view\n",
      "(1024, 1024, 3)\n",
      "the loaded normals are defined in the system of front view\n",
      "(1024, 1024, 3)\n",
      "the loaded normals are defined in the system of front view\n",
      "(1024, 1024, 3)\n",
      "the loaded normals are defined in the system of front view\n",
      "(1024, 1024, 3)\n",
      "the loaded normals are defined in the system of front view\n",
      "(1024, 1024, 3)\n",
      "the loaded normals are defined in the system of front view\n",
      "(1024, 1024, 3)\n",
      "the loaded normals are defined in the system of front view\n",
      "(1024, 1024, 3)\n",
      "the loaded normals are defined in the system of front view\n",
      "(1024, 1024, 3)\n",
      "the loaded normals are defined in the system of front view\n",
      "(1024, 1024, 3)\n",
      "the loaded normals are defined in the system of front view\n"
     ]
    },
    {
     "name": "stderr",
     "output_type": "stream",
     "text": [
      "LOCAL_RANK: 0 - CUDA_VISIBLE_DEVICES: [0]\n",
      "\n",
      "  | Name  | Type             | Params\n",
      "-------------------------------------------\n",
      "0 | cos   | CosineSimilarity | 0     \n",
      "1 | model | NeuSModel        | 7.7 M \n",
      "-------------------------------------------\n",
      "7.7 M     Trainable params\n",
      "0         Non-trainable params\n",
      "7.7 M     Total params\n",
      "15.371    Total estimated model params size (MB)\n"
     ]
    },
    {
     "name": "stdout",
     "output_type": "stream",
     "text": [
      "Epoch 0: : 0it [00:00, ?it/s]"
     ]
    },
    {
     "name": "stderr",
     "output_type": "stream",
     "text": [
      "Update finite_difference_eps to 0.027204705103003882\n"
     ]
    },
    {
     "name": "stdout",
     "output_type": "stream",
     "text": [
      "Epoch 0: : 500it [00:14, 35.53it/s, loss=0.0537, train/loss_rgb_mse=0.0516, train/loss_normal=0.00509, train/loss_eikonal=0.0103, train/loss_mask=0.0099, train/loss_sparsity=0.00146, train/loss_3d_normal_smooth=0.0129, train/inv_s=115.0, train/num_rays=2883.0]  "
     ]
    },
    {
     "name": "stderr",
     "output_type": "stream",
     "text": [
      "/home/yuxuan/miniconda3/envs/wonder3d/lib/python3.9/site-packages/torch/optim/lr_scheduler.py:163: UserWarning: The epoch parameter in `scheduler.step()` was not necessary and is being deprecated where possible. Please use `scheduler.step()` to step the scheduler. During the deprecation, if epoch is different from None, the closed form is used instead of the new chainable form, where available. Please open an issue if you are unable to replicate your use case: https://github.com/pytorch/pytorch/issues/new/choose.\n",
      "  warnings.warn(EPOCH_DEPRECATION_WARNING, UserWarning)\n"
     ]
    },
    {
     "name": "stdout",
     "output_type": "stream",
     "text": [
      "Epoch 0: : 1007it [00:27, 36.65it/s, loss=0.0409, train/loss_rgb_mse=0.0239, train/loss_normal=0.00484, train/loss_eikonal=0.0111, train/loss_mask=0.00673, train/loss_sparsity=0.00208, train/loss_3d_normal_smooth=0.0126, train/inv_s=255.0, train/num_rays=4852.0] "
     ]
    },
    {
     "name": "stderr",
     "output_type": "stream",
     "text": [
      "Update grid level to 5\n",
      "Update finite_difference_eps to 0.02061731110582648\n"
     ]
    },
    {
     "name": "stdout",
     "output_type": "stream",
     "text": [
      "Epoch 0: : 2010it [00:44, 44.71it/s, loss=0.0332, train/loss_rgb_mse=0.0357, train/loss_normal=0.00407, train/loss_eikonal=0.0141, train/loss_mask=0.000684, train/loss_sparsity=0.00214, train/loss_3d_normal_smooth=0.0115, train/inv_s=416.0, train/num_rays=8192.0] "
     ]
    },
    {
     "name": "stderr",
     "output_type": "stream",
     "text": [
      "Update grid level to 6\n",
      "Update finite_difference_eps to 0.015625000000000003\n"
     ]
    },
    {
     "name": "stdout",
     "output_type": "stream",
     "text": [
      "Epoch 0: : 3000it [00:58, 51.39it/s, loss=0.0303, train/loss_rgb_mse=0.0243, train/loss_normal=0.00452, train/loss_eikonal=0.0106, train/loss_mask=0.000679, train/loss_sparsity=0.00232, train/loss_3d_normal_smooth=0.00899, train/inv_s=496.0, train/num_rays=8192.0]  \n"
     ]
    },
    {
     "name": "stderr",
     "output_type": "stream",
     "text": [
      "`Trainer.fit` stopped: `max_steps=3000` reached.\n",
      "[rank: 0] Global seed set to 42\n",
      "You are using a CUDA device ('NVIDIA GeForce RTX 4090') that has Tensor Cores. To properly utilize them, you should set `torch.set_float32_matmul_precision('medium' | 'high')` which will trade-off precision for performance. For more details, read https://pytorch.org/docs/stable/generated/torch.set_float32_matmul_precision.html#torch.set_float32_matmul_precision\n"
     ]
    },
    {
     "name": "stdout",
     "output_type": "stream",
     "text": [
      "(1024, 1024, 3)\n",
      "the loaded normals are defined in the system of front view\n",
      "(1024, 1024, 3)\n",
      "the loaded normals are defined in the system of front view\n",
      "(1024, 1024, 3)\n",
      "the loaded normals are defined in the system of front view\n",
      "(1024, 1024, 3)\n",
      "the loaded normals are defined in the system of front view\n",
      "(1024, 1024, 3)\n",
      "the loaded normals are defined in the system of front view\n",
      "(1024, 1024, 3)\n",
      "the loaded normals are defined in the system of front view\n"
     ]
    },
    {
     "name": "stderr",
     "output_type": "stream",
     "text": [
      "LOCAL_RANK: 0 - CUDA_VISIBLE_DEVICES: [0]\n"
     ]
    },
    {
     "name": "stdout",
     "output_type": "stream",
     "text": [
      "Testing DataLoader 0: 100%|██████████| 6/6 [00:00<00:00, 716.55it/s]"
     ]
    },
    {
     "name": "stderr",
     "output_type": "stream",
     "text": [
      "Update grid level to 7\n",
      "Update finite_difference_eps to 0.011841535675862488\n"
     ]
    },
    {
     "name": "stdout",
     "output_type": "stream",
     "text": [
      "ortho scale is:  1.35\n",
      "Testing DataLoader 0: 100%|██████████| 6/6 [00:01<00:00,  3.03it/s] \n"
     ]
    },
    {
     "name": "stderr",
     "output_type": "stream",
     "text": [
      "Global seed set to 42\n",
      "Using finite difference to compute gradients with eps=progressive\n",
      "Using 16bit None Automatic Mixed Precision (AMP)\n",
      "GPU available: True (cuda), used: True\n",
      "TPU available: False, using: 0 TPU cores\n",
      "IPU available: False, using: 0 IPUs\n",
      "HPU available: False, using: 0 HPUs\n",
      "`Trainer(limit_train_batches=1.0)` was configured so 100% of the batches per epoch will be used..\n",
      "[rank: 0] Global seed set to 42\n",
      "Initializing distributed: GLOBAL_RANK: 0, MEMBER: 1/1\n",
      "----------------------------------------------------------------------------------------------------\n",
      "distributed_backend=nccl\n",
      "All distributed processes registered. Starting with 1 processes\n",
      "----------------------------------------------------------------------------------------------------\n",
      "\n",
      "You are using a CUDA device ('NVIDIA GeForce RTX 4090') that has Tensor Cores. To properly utilize them, you should set `torch.set_float32_matmul_precision('medium' | 'high')` which will trade-off precision for performance. For more details, read https://pytorch.org/docs/stable/generated/torch.set_float32_matmul_precision.html#torch.set_float32_matmul_precision\n"
     ]
    },
    {
     "name": "stdout",
     "output_type": "stream",
     "text": [
      "(1024, 1024, 3)\n",
      "the loaded normals are defined in the system of front view\n",
      "(1024, 1024, 3)\n",
      "the loaded normals are defined in the system of front view\n",
      "(1024, 1024, 3)\n",
      "the loaded normals are defined in the system of front view\n",
      "(1024, 1024, 3)\n",
      "the loaded normals are defined in the system of front view\n",
      "(1024, 1024, 3)\n",
      "the loaded normals are defined in the system of front view\n",
      "(1024, 1024, 3)\n",
      "the loaded normals are defined in the system of front view\n",
      "(1024, 1024, 3)\n",
      "the loaded normals are defined in the system of front view\n",
      "(1024, 1024, 3)\n",
      "the loaded normals are defined in the system of front view\n",
      "(1024, 1024, 3)\n",
      "the loaded normals are defined in the system of front view\n",
      "(1024, 1024, 3)\n",
      "the loaded normals are defined in the system of front view\n",
      "(1024, 1024, 3)\n",
      "the loaded normals are defined in the system of front view\n",
      "(1024, 1024, 3)\n",
      "the loaded normals are defined in the system of front view\n"
     ]
    },
    {
     "name": "stderr",
     "output_type": "stream",
     "text": [
      "LOCAL_RANK: 0 - CUDA_VISIBLE_DEVICES: [0]\n",
      "\n",
      "  | Name  | Type             | Params\n",
      "-------------------------------------------\n",
      "0 | cos   | CosineSimilarity | 0     \n",
      "1 | model | NeuSModel        | 7.7 M \n",
      "-------------------------------------------\n",
      "7.7 M     Trainable params\n",
      "0         Non-trainable params\n",
      "7.7 M     Total params\n",
      "15.371    Total estimated model params size (MB)\n"
     ]
    },
    {
     "name": "stdout",
     "output_type": "stream",
     "text": [
      "Epoch 0: : 0it [00:00, ?it/s]"
     ]
    },
    {
     "name": "stderr",
     "output_type": "stream",
     "text": [
      "Update finite_difference_eps to 0.027204705103003882\n"
     ]
    },
    {
     "name": "stdout",
     "output_type": "stream",
     "text": [
      "Epoch 0: : 500it [00:13, 35.85it/s, loss=0.0693, train/loss_rgb_mse=0.0854, train/loss_normal=0.00683, train/loss_eikonal=0.013, train/loss_mask=0.012, train/loss_sparsity=0.00334, train/loss_3d_normal_smooth=0.014, train/inv_s=107.0, train/num_rays=2895.0]    "
     ]
    },
    {
     "name": "stderr",
     "output_type": "stream",
     "text": [
      "/home/yuxuan/miniconda3/envs/wonder3d/lib/python3.9/site-packages/torch/optim/lr_scheduler.py:163: UserWarning: The epoch parameter in `scheduler.step()` was not necessary and is being deprecated where possible. Please use `scheduler.step()` to step the scheduler. During the deprecation, if epoch is different from None, the closed form is used instead of the new chainable form, where available. Please open an issue if you are unable to replicate your use case: https://github.com/pytorch/pytorch/issues/new/choose.\n",
      "  warnings.warn(EPOCH_DEPRECATION_WARNING, UserWarning)\n"
     ]
    },
    {
     "name": "stdout",
     "output_type": "stream",
     "text": [
      "Epoch 0: : 1002it [00:26, 37.29it/s, loss=0.0534, train/loss_rgb_mse=0.0466, train/loss_normal=0.00626, train/loss_eikonal=0.0158, train/loss_mask=0.00795, train/loss_sparsity=0.00255, train/loss_3d_normal_smooth=0.0143, train/inv_s=259.0, train/num_rays=4871.0]"
     ]
    },
    {
     "name": "stderr",
     "output_type": "stream",
     "text": [
      "Update grid level to 5\n",
      "Update finite_difference_eps to 0.02061731110582648\n"
     ]
    },
    {
     "name": "stdout",
     "output_type": "stream",
     "text": [
      "Epoch 0: : 2015it [00:43, 45.80it/s, loss=0.0401, train/loss_rgb_mse=0.0366, train/loss_normal=0.00549, train/loss_eikonal=0.0195, train/loss_mask=0.000686, train/loss_sparsity=0.00142, train/loss_3d_normal_smooth=0.0109, train/inv_s=427.0, train/num_rays=8192.0] "
     ]
    },
    {
     "name": "stderr",
     "output_type": "stream",
     "text": [
      "Update grid level to 6\n",
      "Update finite_difference_eps to 0.015625000000000003\n"
     ]
    },
    {
     "name": "stdout",
     "output_type": "stream",
     "text": [
      "Epoch 0: : 3000it [00:57, 52.63it/s, loss=0.0348, train/loss_rgb_mse=0.0209, train/loss_normal=0.00571, train/loss_eikonal=0.0116, train/loss_mask=0.00068, train/loss_sparsity=0.00287, train/loss_3d_normal_smooth=0.00986, train/inv_s=508.0, train/num_rays=8192.0]  \n"
     ]
    },
    {
     "name": "stderr",
     "output_type": "stream",
     "text": [
      "`Trainer.fit` stopped: `max_steps=3000` reached.\n",
      "[rank: 0] Global seed set to 42\n",
      "You are using a CUDA device ('NVIDIA GeForce RTX 4090') that has Tensor Cores. To properly utilize them, you should set `torch.set_float32_matmul_precision('medium' | 'high')` which will trade-off precision for performance. For more details, read https://pytorch.org/docs/stable/generated/torch.set_float32_matmul_precision.html#torch.set_float32_matmul_precision\n"
     ]
    },
    {
     "name": "stdout",
     "output_type": "stream",
     "text": [
      "(1024, 1024, 3)\n",
      "the loaded normals are defined in the system of front view\n",
      "(1024, 1024, 3)\n",
      "the loaded normals are defined in the system of front view\n",
      "(1024, 1024, 3)\n",
      "the loaded normals are defined in the system of front view\n",
      "(1024, 1024, 3)\n",
      "the loaded normals are defined in the system of front view\n",
      "(1024, 1024, 3)\n",
      "the loaded normals are defined in the system of front view\n",
      "(1024, 1024, 3)\n",
      "the loaded normals are defined in the system of front view\n"
     ]
    },
    {
     "name": "stderr",
     "output_type": "stream",
     "text": [
      "LOCAL_RANK: 0 - CUDA_VISIBLE_DEVICES: [0]\n"
     ]
    },
    {
     "name": "stdout",
     "output_type": "stream",
     "text": [
      "Testing DataLoader 0: 100%|██████████| 6/6 [00:00<00:00, 776.60it/s]"
     ]
    },
    {
     "name": "stderr",
     "output_type": "stream",
     "text": [
      "Update grid level to 7\n",
      "Update finite_difference_eps to 0.011841535675862488\n"
     ]
    },
    {
     "name": "stdout",
     "output_type": "stream",
     "text": [
      "ortho scale is:  1.35\n",
      "Testing DataLoader 0: 100%|██████████| 6/6 [00:01<00:00,  3.18it/s] \n"
     ]
    },
    {
     "name": "stderr",
     "output_type": "stream",
     "text": [
      "Global seed set to 42\n",
      "Using finite difference to compute gradients with eps=progressive\n",
      "Using 16bit None Automatic Mixed Precision (AMP)\n",
      "GPU available: True (cuda), used: True\n",
      "TPU available: False, using: 0 TPU cores\n",
      "IPU available: False, using: 0 IPUs\n",
      "HPU available: False, using: 0 HPUs\n",
      "`Trainer(limit_train_batches=1.0)` was configured so 100% of the batches per epoch will be used..\n",
      "[rank: 0] Global seed set to 42\n",
      "Initializing distributed: GLOBAL_RANK: 0, MEMBER: 1/1\n",
      "----------------------------------------------------------------------------------------------------\n",
      "distributed_backend=nccl\n",
      "All distributed processes registered. Starting with 1 processes\n",
      "----------------------------------------------------------------------------------------------------\n",
      "\n",
      "You are using a CUDA device ('NVIDIA GeForce RTX 4090') that has Tensor Cores. To properly utilize them, you should set `torch.set_float32_matmul_precision('medium' | 'high')` which will trade-off precision for performance. For more details, read https://pytorch.org/docs/stable/generated/torch.set_float32_matmul_precision.html#torch.set_float32_matmul_precision\n"
     ]
    },
    {
     "name": "stdout",
     "output_type": "stream",
     "text": [
      "(1024, 1024, 3)\n",
      "the loaded normals are defined in the system of front view\n",
      "(1024, 1024, 3)\n",
      "the loaded normals are defined in the system of front view\n",
      "(1024, 1024, 3)\n",
      "the loaded normals are defined in the system of front view\n",
      "(1024, 1024, 3)\n",
      "the loaded normals are defined in the system of front view\n",
      "(1024, 1024, 3)\n",
      "the loaded normals are defined in the system of front view\n",
      "(1024, 1024, 3)\n",
      "the loaded normals are defined in the system of front view\n",
      "(1024, 1024, 3)\n",
      "the loaded normals are defined in the system of front view\n",
      "(1024, 1024, 3)\n",
      "the loaded normals are defined in the system of front view\n",
      "(1024, 1024, 3)\n",
      "the loaded normals are defined in the system of front view\n",
      "(1024, 1024, 3)\n",
      "the loaded normals are defined in the system of front view\n",
      "(1024, 1024, 3)\n",
      "the loaded normals are defined in the system of front view\n",
      "(1024, 1024, 3)\n",
      "the loaded normals are defined in the system of front view\n"
     ]
    },
    {
     "name": "stderr",
     "output_type": "stream",
     "text": [
      "LOCAL_RANK: 0 - CUDA_VISIBLE_DEVICES: [0]\n",
      "\n",
      "  | Name  | Type             | Params\n",
      "-------------------------------------------\n",
      "0 | cos   | CosineSimilarity | 0     \n",
      "1 | model | NeuSModel        | 7.7 M \n",
      "-------------------------------------------\n",
      "7.7 M     Trainable params\n",
      "0         Non-trainable params\n",
      "7.7 M     Total params\n",
      "15.371    Total estimated model params size (MB)\n"
     ]
    },
    {
     "name": "stdout",
     "output_type": "stream",
     "text": [
      "Epoch 0: : 0it [00:00, ?it/s]"
     ]
    },
    {
     "name": "stderr",
     "output_type": "stream",
     "text": [
      "Update finite_difference_eps to 0.027204705103003882\n"
     ]
    },
    {
     "name": "stdout",
     "output_type": "stream",
     "text": [
      "Epoch 0: : 505it [00:13, 36.43it/s, loss=0.0535, train/loss_rgb_mse=0.033, train/loss_normal=0.007, train/loss_eikonal=0.0135, train/loss_mask=0.0101, train/loss_sparsity=0.00213, train/loss_3d_normal_smooth=0.0139, train/inv_s=119.0, train/num_rays=2890.0]    "
     ]
    },
    {
     "name": "stderr",
     "output_type": "stream",
     "text": [
      "/home/yuxuan/miniconda3/envs/wonder3d/lib/python3.9/site-packages/torch/optim/lr_scheduler.py:163: UserWarning: The epoch parameter in `scheduler.step()` was not necessary and is being deprecated where possible. Please use `scheduler.step()` to step the scheduler. During the deprecation, if epoch is different from None, the closed form is used instead of the new chainable form, where available. Please open an issue if you are unable to replicate your use case: https://github.com/pytorch/pytorch/issues/new/choose.\n",
      "  warnings.warn(EPOCH_DEPRECATION_WARNING, UserWarning)\n"
     ]
    },
    {
     "name": "stdout",
     "output_type": "stream",
     "text": [
      "Epoch 0: : 1007it [00:27, 36.95it/s, loss=0.0432, train/loss_rgb_mse=0.027, train/loss_normal=0.00491, train/loss_eikonal=0.012, train/loss_mask=0.00667, train/loss_sparsity=0.00259, train/loss_3d_normal_smooth=0.0134, train/inv_s=244.0, train/num_rays=4868.0]  "
     ]
    },
    {
     "name": "stderr",
     "output_type": "stream",
     "text": [
      "Update grid level to 5\n",
      "Update finite_difference_eps to 0.02061731110582648\n"
     ]
    },
    {
     "name": "stdout",
     "output_type": "stream",
     "text": [
      "Epoch 0: : 2010it [00:45, 44.51it/s, loss=0.0339, train/loss_rgb_mse=0.0255, train/loss_normal=0.00542, train/loss_eikonal=0.0192, train/loss_mask=0.000684, train/loss_sparsity=0.00254, train/loss_3d_normal_smooth=0.0113, train/inv_s=379.0, train/num_rays=8192.0] "
     ]
    },
    {
     "name": "stderr",
     "output_type": "stream",
     "text": [
      "Update grid level to 6\n",
      "Update finite_difference_eps to 0.015625000000000003\n"
     ]
    },
    {
     "name": "stdout",
     "output_type": "stream",
     "text": [
      "Epoch 0: : 3000it [00:58, 51.28it/s, loss=0.0311, train/loss_rgb_mse=0.0268, train/loss_normal=0.00484, train/loss_eikonal=0.0118, train/loss_mask=0.00068, train/loss_sparsity=0.0038, train/loss_3d_normal_smooth=0.00941, train/inv_s=447.0, train/num_rays=8192.0]  \n"
     ]
    },
    {
     "name": "stderr",
     "output_type": "stream",
     "text": [
      "`Trainer.fit` stopped: `max_steps=3000` reached.\n",
      "[rank: 0] Global seed set to 42\n",
      "You are using a CUDA device ('NVIDIA GeForce RTX 4090') that has Tensor Cores. To properly utilize them, you should set `torch.set_float32_matmul_precision('medium' | 'high')` which will trade-off precision for performance. For more details, read https://pytorch.org/docs/stable/generated/torch.set_float32_matmul_precision.html#torch.set_float32_matmul_precision\n"
     ]
    },
    {
     "name": "stdout",
     "output_type": "stream",
     "text": [
      "(1024, 1024, 3)\n",
      "the loaded normals are defined in the system of front view\n",
      "(1024, 1024, 3)\n",
      "the loaded normals are defined in the system of front view\n",
      "(1024, 1024, 3)\n",
      "the loaded normals are defined in the system of front view\n",
      "(1024, 1024, 3)\n",
      "the loaded normals are defined in the system of front view\n",
      "(1024, 1024, 3)\n",
      "the loaded normals are defined in the system of front view\n",
      "(1024, 1024, 3)\n",
      "the loaded normals are defined in the system of front view\n",
      "Testing: 0it [00:00, ?it/s]"
     ]
    },
    {
     "name": "stderr",
     "output_type": "stream",
     "text": [
      "LOCAL_RANK: 0 - CUDA_VISIBLE_DEVICES: [0]\n"
     ]
    },
    {
     "name": "stdout",
     "output_type": "stream",
     "text": [
      "Testing DataLoader 0: 100%|██████████| 6/6 [00:00<00:00, 796.11it/s]"
     ]
    },
    {
     "name": "stderr",
     "output_type": "stream",
     "text": [
      "Update grid level to 7\n",
      "Update finite_difference_eps to 0.011841535675862488\n"
     ]
    },
    {
     "name": "stdout",
     "output_type": "stream",
     "text": [
      "ortho scale is:  1.35\n",
      "Testing DataLoader 0: 100%|██████████| 6/6 [00:01<00:00,  3.23it/s] \n"
     ]
    },
    {
     "name": "stderr",
     "output_type": "stream",
     "text": [
      "Global seed set to 42\n",
      "Using finite difference to compute gradients with eps=progressive\n",
      "Using 16bit None Automatic Mixed Precision (AMP)\n",
      "GPU available: True (cuda), used: True\n",
      "TPU available: False, using: 0 TPU cores\n",
      "IPU available: False, using: 0 IPUs\n",
      "HPU available: False, using: 0 HPUs\n",
      "`Trainer(limit_train_batches=1.0)` was configured so 100% of the batches per epoch will be used..\n",
      "[rank: 0] Global seed set to 42\n",
      "Initializing distributed: GLOBAL_RANK: 0, MEMBER: 1/1\n",
      "----------------------------------------------------------------------------------------------------\n",
      "distributed_backend=nccl\n",
      "All distributed processes registered. Starting with 1 processes\n",
      "----------------------------------------------------------------------------------------------------\n",
      "\n",
      "You are using a CUDA device ('NVIDIA GeForce RTX 4090') that has Tensor Cores. To properly utilize them, you should set `torch.set_float32_matmul_precision('medium' | 'high')` which will trade-off precision for performance. For more details, read https://pytorch.org/docs/stable/generated/torch.set_float32_matmul_precision.html#torch.set_float32_matmul_precision\n"
     ]
    },
    {
     "name": "stdout",
     "output_type": "stream",
     "text": [
      "(1024, 1024, 3)\n",
      "the loaded normals are defined in the system of front view\n",
      "(1024, 1024, 3)\n",
      "the loaded normals are defined in the system of front view\n",
      "(1024, 1024, 3)\n",
      "the loaded normals are defined in the system of front view\n",
      "(1024, 1024, 3)\n",
      "the loaded normals are defined in the system of front view\n",
      "(1024, 1024, 3)\n",
      "the loaded normals are defined in the system of front view\n",
      "(1024, 1024, 3)\n",
      "the loaded normals are defined in the system of front view\n",
      "(1024, 1024, 3)\n",
      "the loaded normals are defined in the system of front view\n",
      "(1024, 1024, 3)\n",
      "the loaded normals are defined in the system of front view\n",
      "(1024, 1024, 3)\n",
      "the loaded normals are defined in the system of front view\n",
      "(1024, 1024, 3)\n",
      "the loaded normals are defined in the system of front view\n",
      "(1024, 1024, 3)\n",
      "the loaded normals are defined in the system of front view\n",
      "(1024, 1024, 3)\n",
      "the loaded normals are defined in the system of front view\n"
     ]
    },
    {
     "name": "stderr",
     "output_type": "stream",
     "text": [
      "LOCAL_RANK: 0 - CUDA_VISIBLE_DEVICES: [0]\n",
      "\n",
      "  | Name  | Type             | Params\n",
      "-------------------------------------------\n",
      "0 | cos   | CosineSimilarity | 0     \n",
      "1 | model | NeuSModel        | 7.7 M \n",
      "-------------------------------------------\n",
      "7.7 M     Trainable params\n",
      "0         Non-trainable params\n",
      "7.7 M     Total params\n",
      "15.371    Total estimated model params size (MB)\n"
     ]
    },
    {
     "name": "stdout",
     "output_type": "stream",
     "text": [
      "Epoch 0: : 0it [00:00, ?it/s]"
     ]
    },
    {
     "name": "stderr",
     "output_type": "stream",
     "text": [
      "Update finite_difference_eps to 0.027204705103003882\n"
     ]
    },
    {
     "name": "stdout",
     "output_type": "stream",
     "text": [
      "Epoch 0: : 500it [00:13, 36.24it/s, loss=0.0641, train/loss_rgb_mse=0.0463, train/loss_normal=0.00662, train/loss_eikonal=0.0129, train/loss_mask=0.0104, train/loss_sparsity=0.0023, train/loss_3d_normal_smooth=0.0136, train/inv_s=108.0, train/num_rays=2876.0]  "
     ]
    },
    {
     "name": "stderr",
     "output_type": "stream",
     "text": [
      "/home/yuxuan/miniconda3/envs/wonder3d/lib/python3.9/site-packages/torch/optim/lr_scheduler.py:163: UserWarning: The epoch parameter in `scheduler.step()` was not necessary and is being deprecated where possible. Please use `scheduler.step()` to step the scheduler. During the deprecation, if epoch is different from None, the closed form is used instead of the new chainable form, where available. Please open an issue if you are unable to replicate your use case: https://github.com/pytorch/pytorch/issues/new/choose.\n",
      "  warnings.warn(EPOCH_DEPRECATION_WARNING, UserWarning)\n"
     ]
    },
    {
     "name": "stdout",
     "output_type": "stream",
     "text": [
      "Epoch 0: : 1007it [00:26, 37.75it/s, loss=0.0496, train/loss_rgb_mse=0.046, train/loss_normal=0.00738, train/loss_eikonal=0.0123, train/loss_mask=0.00747, train/loss_sparsity=0.00175, train/loss_3d_normal_smooth=0.013, train/inv_s=254.0, train/num_rays=4824.0]  "
     ]
    },
    {
     "name": "stderr",
     "output_type": "stream",
     "text": [
      "Update grid level to 5\n",
      "Update finite_difference_eps to 0.02061731110582648\n"
     ]
    },
    {
     "name": "stdout",
     "output_type": "stream",
     "text": [
      "Epoch 0: : 2003it [00:44, 44.98it/s, loss=0.039, train/loss_rgb_mse=0.0325, train/loss_normal=0.00585, train/loss_eikonal=0.0211, train/loss_mask=0.000681, train/loss_sparsity=0.00363, train/loss_3d_normal_smooth=0.0111, train/inv_s=464.0, train/num_rays=8192.0]  "
     ]
    },
    {
     "name": "stderr",
     "output_type": "stream",
     "text": [
      "Update grid level to 6\n",
      "Update finite_difference_eps to 0.015625000000000003\n"
     ]
    },
    {
     "name": "stdout",
     "output_type": "stream",
     "text": [
      "Epoch 0: : 3000it [00:57, 51.73it/s, loss=0.0341, train/loss_rgb_mse=0.0301, train/loss_normal=0.0064, train/loss_eikonal=0.0135, train/loss_mask=0.000679, train/loss_sparsity=0.00278, train/loss_3d_normal_smooth=0.00908, train/inv_s=568.0, train/num_rays=8192.0] \n"
     ]
    },
    {
     "name": "stderr",
     "output_type": "stream",
     "text": [
      "`Trainer.fit` stopped: `max_steps=3000` reached.\n",
      "[rank: 0] Global seed set to 42\n",
      "You are using a CUDA device ('NVIDIA GeForce RTX 4090') that has Tensor Cores. To properly utilize them, you should set `torch.set_float32_matmul_precision('medium' | 'high')` which will trade-off precision for performance. For more details, read https://pytorch.org/docs/stable/generated/torch.set_float32_matmul_precision.html#torch.set_float32_matmul_precision\n"
     ]
    },
    {
     "name": "stdout",
     "output_type": "stream",
     "text": [
      "(1024, 1024, 3)\n",
      "the loaded normals are defined in the system of front view\n",
      "(1024, 1024, 3)\n",
      "the loaded normals are defined in the system of front view\n",
      "(1024, 1024, 3)\n",
      "the loaded normals are defined in the system of front view\n",
      "(1024, 1024, 3)\n",
      "the loaded normals are defined in the system of front view\n",
      "(1024, 1024, 3)\n",
      "the loaded normals are defined in the system of front view\n",
      "(1024, 1024, 3)\n",
      "the loaded normals are defined in the system of front view\n",
      "Testing: 0it [00:00, ?it/s]"
     ]
    },
    {
     "name": "stderr",
     "output_type": "stream",
     "text": [
      "LOCAL_RANK: 0 - CUDA_VISIBLE_DEVICES: [0]\n"
     ]
    },
    {
     "name": "stdout",
     "output_type": "stream",
     "text": [
      "Testing DataLoader 0: 100%|██████████| 6/6 [00:00<00:00, 750.57it/s]"
     ]
    },
    {
     "name": "stderr",
     "output_type": "stream",
     "text": [
      "Update grid level to 7\n",
      "Update finite_difference_eps to 0.011841535675862488\n"
     ]
    },
    {
     "name": "stdout",
     "output_type": "stream",
     "text": [
      "ortho scale is:  1.35\n",
      "Testing DataLoader 0: 100%|██████████| 6/6 [00:01<00:00,  3.18it/s] \n"
     ]
    },
    {
     "name": "stderr",
     "output_type": "stream",
     "text": [
      "Global seed set to 42\n",
      "Using finite difference to compute gradients with eps=progressive\n",
      "Using 16bit None Automatic Mixed Precision (AMP)\n",
      "GPU available: True (cuda), used: True\n",
      "TPU available: False, using: 0 TPU cores\n",
      "IPU available: False, using: 0 IPUs\n",
      "HPU available: False, using: 0 HPUs\n",
      "`Trainer(limit_train_batches=1.0)` was configured so 100% of the batches per epoch will be used..\n",
      "[rank: 0] Global seed set to 42\n",
      "Initializing distributed: GLOBAL_RANK: 0, MEMBER: 1/1\n",
      "----------------------------------------------------------------------------------------------------\n",
      "distributed_backend=nccl\n",
      "All distributed processes registered. Starting with 1 processes\n",
      "----------------------------------------------------------------------------------------------------\n",
      "\n",
      "You are using a CUDA device ('NVIDIA GeForce RTX 4090') that has Tensor Cores. To properly utilize them, you should set `torch.set_float32_matmul_precision('medium' | 'high')` which will trade-off precision for performance. For more details, read https://pytorch.org/docs/stable/generated/torch.set_float32_matmul_precision.html#torch.set_float32_matmul_precision\n"
     ]
    },
    {
     "name": "stdout",
     "output_type": "stream",
     "text": [
      "(1024, 1024, 3)\n",
      "the loaded normals are defined in the system of front view\n",
      "(1024, 1024, 3)\n",
      "the loaded normals are defined in the system of front view\n",
      "(1024, 1024, 3)\n",
      "the loaded normals are defined in the system of front view\n",
      "(1024, 1024, 3)\n",
      "the loaded normals are defined in the system of front view\n",
      "(1024, 1024, 3)\n",
      "the loaded normals are defined in the system of front view\n",
      "(1024, 1024, 3)\n",
      "the loaded normals are defined in the system of front view\n",
      "(1024, 1024, 3)\n",
      "the loaded normals are defined in the system of front view\n",
      "(1024, 1024, 3)\n",
      "the loaded normals are defined in the system of front view\n",
      "(1024, 1024, 3)\n",
      "the loaded normals are defined in the system of front view\n",
      "(1024, 1024, 3)\n",
      "the loaded normals are defined in the system of front view\n",
      "(1024, 1024, 3)\n",
      "the loaded normals are defined in the system of front view\n",
      "(1024, 1024, 3)\n",
      "the loaded normals are defined in the system of front view\n"
     ]
    },
    {
     "name": "stderr",
     "output_type": "stream",
     "text": [
      "LOCAL_RANK: 0 - CUDA_VISIBLE_DEVICES: [0]\n",
      "\n",
      "  | Name  | Type             | Params\n",
      "-------------------------------------------\n",
      "0 | cos   | CosineSimilarity | 0     \n",
      "1 | model | NeuSModel        | 7.7 M \n",
      "-------------------------------------------\n",
      "7.7 M     Trainable params\n",
      "0         Non-trainable params\n",
      "7.7 M     Total params\n",
      "15.371    Total estimated model params size (MB)\n"
     ]
    },
    {
     "name": "stdout",
     "output_type": "stream",
     "text": [
      "Epoch 0: : 0it [00:00, ?it/s]"
     ]
    },
    {
     "name": "stderr",
     "output_type": "stream",
     "text": [
      "Update finite_difference_eps to 0.027204705103003882\n"
     ]
    },
    {
     "name": "stdout",
     "output_type": "stream",
     "text": [
      "Epoch 0: : 504it [00:14, 35.04it/s, loss=0.0632, train/loss_rgb_mse=0.0645, train/loss_normal=0.0108, train/loss_eikonal=0.0122, train/loss_mask=0.0113, train/loss_sparsity=0.00272, train/loss_3d_normal_smooth=0.0136, train/inv_s=109.0, train/num_rays=2910.0]  "
     ]
    },
    {
     "name": "stderr",
     "output_type": "stream",
     "text": [
      "/home/yuxuan/miniconda3/envs/wonder3d/lib/python3.9/site-packages/torch/optim/lr_scheduler.py:163: UserWarning: The epoch parameter in `scheduler.step()` was not necessary and is being deprecated where possible. Please use `scheduler.step()` to step the scheduler. During the deprecation, if epoch is different from None, the closed form is used instead of the new chainable form, where available. Please open an issue if you are unable to replicate your use case: https://github.com/pytorch/pytorch/issues/new/choose.\n",
      "  warnings.warn(EPOCH_DEPRECATION_WARNING, UserWarning)\n"
     ]
    },
    {
     "name": "stdout",
     "output_type": "stream",
     "text": [
      "Epoch 0: : 1000it [00:27, 36.34it/s, loss=0.0463, train/loss_rgb_mse=0.0394, train/loss_normal=0.00713, train/loss_eikonal=0.010, train/loss_mask=0.0049, train/loss_sparsity=0.0012, train/loss_3d_normal_smooth=0.0116, train/inv_s=242.0, train/num_rays=4873.0]    "
     ]
    },
    {
     "name": "stderr",
     "output_type": "stream",
     "text": [
      "Update grid level to 5\n",
      "Update finite_difference_eps to 0.02061731110582648\n"
     ]
    },
    {
     "name": "stdout",
     "output_type": "stream",
     "text": [
      "Epoch 0: : 2003it [00:44, 44.62it/s, loss=0.0378, train/loss_rgb_mse=0.0327, train/loss_normal=0.0068, train/loss_eikonal=0.021, train/loss_mask=0.000683, train/loss_sparsity=0.00285, train/loss_3d_normal_smooth=0.0108, train/inv_s=363.0, train/num_rays=8192.0]   "
     ]
    },
    {
     "name": "stderr",
     "output_type": "stream",
     "text": [
      "Update grid level to 6\n",
      "Update finite_difference_eps to 0.015625000000000003\n"
     ]
    },
    {
     "name": "stdout",
     "output_type": "stream",
     "text": [
      "Epoch 0: : 3000it [00:58, 51.11it/s, loss=0.033, train/loss_rgb_mse=0.0252, train/loss_normal=0.00561, train/loss_eikonal=0.0128, train/loss_mask=0.00068, train/loss_sparsity=0.0024, train/loss_3d_normal_smooth=0.00917, train/inv_s=429.0, train/num_rays=8192.0]    \n"
     ]
    },
    {
     "name": "stderr",
     "output_type": "stream",
     "text": [
      "`Trainer.fit` stopped: `max_steps=3000` reached.\n",
      "[rank: 0] Global seed set to 42\n",
      "You are using a CUDA device ('NVIDIA GeForce RTX 4090') that has Tensor Cores. To properly utilize them, you should set `torch.set_float32_matmul_precision('medium' | 'high')` which will trade-off precision for performance. For more details, read https://pytorch.org/docs/stable/generated/torch.set_float32_matmul_precision.html#torch.set_float32_matmul_precision\n"
     ]
    },
    {
     "name": "stdout",
     "output_type": "stream",
     "text": [
      "(1024, 1024, 3)\n",
      "the loaded normals are defined in the system of front view\n",
      "(1024, 1024, 3)\n",
      "the loaded normals are defined in the system of front view\n",
      "(1024, 1024, 3)\n",
      "the loaded normals are defined in the system of front view\n",
      "(1024, 1024, 3)\n",
      "the loaded normals are defined in the system of front view\n",
      "(1024, 1024, 3)\n",
      "the loaded normals are defined in the system of front view\n",
      "(1024, 1024, 3)\n",
      "the loaded normals are defined in the system of front view\n",
      "Testing: 0it [00:00, ?it/s]"
     ]
    },
    {
     "name": "stderr",
     "output_type": "stream",
     "text": [
      "LOCAL_RANK: 0 - CUDA_VISIBLE_DEVICES: [0]\n"
     ]
    },
    {
     "name": "stdout",
     "output_type": "stream",
     "text": [
      "Testing DataLoader 0: 100%|██████████| 6/6 [00:00<00:00, 764.06it/s]"
     ]
    },
    {
     "name": "stderr",
     "output_type": "stream",
     "text": [
      "Update grid level to 7\n",
      "Update finite_difference_eps to 0.011841535675862488\n"
     ]
    },
    {
     "name": "stdout",
     "output_type": "stream",
     "text": [
      "ortho scale is:  1.35\n",
      "Testing DataLoader 0: 100%|██████████| 6/6 [00:01<00:00,  3.19it/s] \n"
     ]
    },
    {
     "name": "stderr",
     "output_type": "stream",
     "text": [
      "Global seed set to 42\n",
      "Using finite difference to compute gradients with eps=progressive\n",
      "Using 16bit None Automatic Mixed Precision (AMP)\n",
      "GPU available: True (cuda), used: True\n",
      "TPU available: False, using: 0 TPU cores\n",
      "IPU available: False, using: 0 IPUs\n",
      "HPU available: False, using: 0 HPUs\n",
      "`Trainer(limit_train_batches=1.0)` was configured so 100% of the batches per epoch will be used..\n",
      "[rank: 0] Global seed set to 42\n",
      "Initializing distributed: GLOBAL_RANK: 0, MEMBER: 1/1\n",
      "----------------------------------------------------------------------------------------------------\n",
      "distributed_backend=nccl\n",
      "All distributed processes registered. Starting with 1 processes\n",
      "----------------------------------------------------------------------------------------------------\n",
      "\n",
      "You are using a CUDA device ('NVIDIA GeForce RTX 4090') that has Tensor Cores. To properly utilize them, you should set `torch.set_float32_matmul_precision('medium' | 'high')` which will trade-off precision for performance. For more details, read https://pytorch.org/docs/stable/generated/torch.set_float32_matmul_precision.html#torch.set_float32_matmul_precision\n"
     ]
    },
    {
     "name": "stdout",
     "output_type": "stream",
     "text": [
      "(1024, 1024, 3)\n",
      "the loaded normals are defined in the system of front view\n",
      "(1024, 1024, 3)\n",
      "the loaded normals are defined in the system of front view\n",
      "(1024, 1024, 3)\n",
      "the loaded normals are defined in the system of front view\n",
      "(1024, 1024, 3)\n",
      "the loaded normals are defined in the system of front view\n",
      "(1024, 1024, 3)\n",
      "the loaded normals are defined in the system of front view\n",
      "(1024, 1024, 3)\n",
      "the loaded normals are defined in the system of front view\n",
      "(1024, 1024, 3)\n",
      "the loaded normals are defined in the system of front view\n",
      "(1024, 1024, 3)\n",
      "the loaded normals are defined in the system of front view\n",
      "(1024, 1024, 3)\n",
      "the loaded normals are defined in the system of front view\n",
      "(1024, 1024, 3)\n",
      "the loaded normals are defined in the system of front view\n",
      "(1024, 1024, 3)\n",
      "the loaded normals are defined in the system of front view\n",
      "(1024, 1024, 3)\n",
      "the loaded normals are defined in the system of front view\n"
     ]
    },
    {
     "name": "stderr",
     "output_type": "stream",
     "text": [
      "LOCAL_RANK: 0 - CUDA_VISIBLE_DEVICES: [0]\n",
      "\n",
      "  | Name  | Type             | Params\n",
      "-------------------------------------------\n",
      "0 | cos   | CosineSimilarity | 0     \n",
      "1 | model | NeuSModel        | 7.7 M \n",
      "-------------------------------------------\n",
      "7.7 M     Trainable params\n",
      "0         Non-trainable params\n",
      "7.7 M     Total params\n",
      "15.371    Total estimated model params size (MB)\n"
     ]
    },
    {
     "name": "stdout",
     "output_type": "stream",
     "text": [
      "Epoch 0: : 0it [00:00, ?it/s]"
     ]
    },
    {
     "name": "stderr",
     "output_type": "stream",
     "text": [
      "Update finite_difference_eps to 0.027204705103003882\n"
     ]
    },
    {
     "name": "stdout",
     "output_type": "stream",
     "text": [
      "Epoch 0: : 502it [00:13, 36.21it/s, loss=0.0596, train/loss_rgb_mse=0.0593, train/loss_normal=0.00781, train/loss_eikonal=0.0122, train/loss_mask=0.0107, train/loss_sparsity=0.00281, train/loss_3d_normal_smooth=0.0134, train/inv_s=103.0, train/num_rays=2899.0] "
     ]
    },
    {
     "name": "stderr",
     "output_type": "stream",
     "text": [
      "/home/yuxuan/miniconda3/envs/wonder3d/lib/python3.9/site-packages/torch/optim/lr_scheduler.py:163: UserWarning: The epoch parameter in `scheduler.step()` was not necessary and is being deprecated where possible. Please use `scheduler.step()` to step the scheduler. During the deprecation, if epoch is different from None, the closed form is used instead of the new chainable form, where available. Please open an issue if you are unable to replicate your use case: https://github.com/pytorch/pytorch/issues/new/choose.\n",
      "  warnings.warn(EPOCH_DEPRECATION_WARNING, UserWarning)\n"
     ]
    },
    {
     "name": "stdout",
     "output_type": "stream",
     "text": [
      "Epoch 0: : 1005it [00:27, 36.93it/s, loss=0.0435, train/loss_rgb_mse=0.039, train/loss_normal=0.00469, train/loss_eikonal=0.011, train/loss_mask=0.00657, train/loss_sparsity=0.00227, train/loss_3d_normal_smooth=0.0125, train/inv_s=250.0, train/num_rays=4856.0]   "
     ]
    },
    {
     "name": "stderr",
     "output_type": "stream",
     "text": [
      "Update grid level to 5\n",
      "Update finite_difference_eps to 0.02061731110582648\n"
     ]
    },
    {
     "name": "stdout",
     "output_type": "stream",
     "text": [
      "Epoch 0: : 2012it [00:44, 45.33it/s, loss=0.0333, train/loss_rgb_mse=0.0274, train/loss_normal=0.00389, train/loss_eikonal=0.0166, train/loss_mask=0.000681, train/loss_sparsity=0.00419, train/loss_3d_normal_smooth=0.0114, train/inv_s=408.0, train/num_rays=8192.0] "
     ]
    },
    {
     "name": "stderr",
     "output_type": "stream",
     "text": [
      "Update grid level to 6\n",
      "Update finite_difference_eps to 0.015625000000000003\n"
     ]
    },
    {
     "name": "stdout",
     "output_type": "stream",
     "text": [
      "Epoch 0: : 3000it [00:58, 51.20it/s, loss=0.0306, train/loss_rgb_mse=0.0251, train/loss_normal=0.00548, train/loss_eikonal=0.0117, train/loss_mask=0.000685, train/loss_sparsity=0.003, train/loss_3d_normal_smooth=0.00918, train/inv_s=488.0, train/num_rays=8192.0]   \n"
     ]
    },
    {
     "name": "stderr",
     "output_type": "stream",
     "text": [
      "`Trainer.fit` stopped: `max_steps=3000` reached.\n",
      "[rank: 0] Global seed set to 42\n",
      "You are using a CUDA device ('NVIDIA GeForce RTX 4090') that has Tensor Cores. To properly utilize them, you should set `torch.set_float32_matmul_precision('medium' | 'high')` which will trade-off precision for performance. For more details, read https://pytorch.org/docs/stable/generated/torch.set_float32_matmul_precision.html#torch.set_float32_matmul_precision\n"
     ]
    },
    {
     "name": "stdout",
     "output_type": "stream",
     "text": [
      "(1024, 1024, 3)\n",
      "the loaded normals are defined in the system of front view\n",
      "(1024, 1024, 3)\n",
      "the loaded normals are defined in the system of front view\n",
      "(1024, 1024, 3)\n",
      "the loaded normals are defined in the system of front view\n",
      "(1024, 1024, 3)\n",
      "the loaded normals are defined in the system of front view\n",
      "(1024, 1024, 3)\n",
      "the loaded normals are defined in the system of front view\n",
      "(1024, 1024, 3)\n",
      "the loaded normals are defined in the system of front view\n",
      "Testing: 0it [00:00, ?it/s]"
     ]
    },
    {
     "name": "stderr",
     "output_type": "stream",
     "text": [
      "LOCAL_RANK: 0 - CUDA_VISIBLE_DEVICES: [0]\n"
     ]
    },
    {
     "name": "stdout",
     "output_type": "stream",
     "text": [
      "Testing DataLoader 0: 100%|██████████| 6/6 [00:00<00:00, 809.16it/s]"
     ]
    },
    {
     "name": "stderr",
     "output_type": "stream",
     "text": [
      "Update grid level to 7\n",
      "Update finite_difference_eps to 0.011841535675862488\n"
     ]
    },
    {
     "name": "stdout",
     "output_type": "stream",
     "text": [
      "ortho scale is:  1.35\n",
      "Testing DataLoader 0: 100%|██████████| 6/6 [00:01<00:00,  3.14it/s] \n"
     ]
    },
    {
     "name": "stderr",
     "output_type": "stream",
     "text": [
      "Global seed set to 42\n",
      "Using finite difference to compute gradients with eps=progressive\n",
      "Using 16bit None Automatic Mixed Precision (AMP)\n",
      "GPU available: True (cuda), used: True\n",
      "TPU available: False, using: 0 TPU cores\n",
      "IPU available: False, using: 0 IPUs\n",
      "HPU available: False, using: 0 HPUs\n",
      "`Trainer(limit_train_batches=1.0)` was configured so 100% of the batches per epoch will be used..\n",
      "[rank: 0] Global seed set to 42\n",
      "Initializing distributed: GLOBAL_RANK: 0, MEMBER: 1/1\n",
      "----------------------------------------------------------------------------------------------------\n",
      "distributed_backend=nccl\n",
      "All distributed processes registered. Starting with 1 processes\n",
      "----------------------------------------------------------------------------------------------------\n",
      "\n",
      "You are using a CUDA device ('NVIDIA GeForce RTX 4090') that has Tensor Cores. To properly utilize them, you should set `torch.set_float32_matmul_precision('medium' | 'high')` which will trade-off precision for performance. For more details, read https://pytorch.org/docs/stable/generated/torch.set_float32_matmul_precision.html#torch.set_float32_matmul_precision\n"
     ]
    },
    {
     "name": "stdout",
     "output_type": "stream",
     "text": [
      "(1024, 1024, 3)\n",
      "the loaded normals are defined in the system of front view\n",
      "(1024, 1024, 3)\n",
      "the loaded normals are defined in the system of front view\n",
      "(1024, 1024, 3)\n",
      "the loaded normals are defined in the system of front view\n",
      "(1024, 1024, 3)\n",
      "the loaded normals are defined in the system of front view\n",
      "(1024, 1024, 3)\n",
      "the loaded normals are defined in the system of front view\n",
      "(1024, 1024, 3)\n",
      "the loaded normals are defined in the system of front view\n",
      "(1024, 1024, 3)\n",
      "the loaded normals are defined in the system of front view\n",
      "(1024, 1024, 3)\n",
      "the loaded normals are defined in the system of front view\n",
      "(1024, 1024, 3)\n",
      "the loaded normals are defined in the system of front view\n",
      "(1024, 1024, 3)\n",
      "the loaded normals are defined in the system of front view\n",
      "(1024, 1024, 3)\n",
      "the loaded normals are defined in the system of front view\n",
      "(1024, 1024, 3)\n",
      "the loaded normals are defined in the system of front view\n"
     ]
    },
    {
     "name": "stderr",
     "output_type": "stream",
     "text": [
      "LOCAL_RANK: 0 - CUDA_VISIBLE_DEVICES: [0]\n",
      "\n",
      "  | Name  | Type             | Params\n",
      "-------------------------------------------\n",
      "0 | cos   | CosineSimilarity | 0     \n",
      "1 | model | NeuSModel        | 7.7 M \n",
      "-------------------------------------------\n",
      "7.7 M     Trainable params\n",
      "0         Non-trainable params\n",
      "7.7 M     Total params\n",
      "15.371    Total estimated model params size (MB)\n"
     ]
    },
    {
     "name": "stdout",
     "output_type": "stream",
     "text": [
      "Epoch 0: : 0it [00:00, ?it/s]"
     ]
    },
    {
     "name": "stderr",
     "output_type": "stream",
     "text": [
      "Update finite_difference_eps to 0.027204705103003882\n"
     ]
    },
    {
     "name": "stdout",
     "output_type": "stream",
     "text": [
      "Epoch 0: : 505it [00:14, 35.67it/s, loss=0.0653, train/loss_rgb_mse=0.0424, train/loss_normal=0.00797, train/loss_eikonal=0.015, train/loss_mask=0.0109, train/loss_sparsity=0.00405, train/loss_3d_normal_smooth=0.0146, train/inv_s=111.0, train/num_rays=2911.0]  "
     ]
    },
    {
     "name": "stderr",
     "output_type": "stream",
     "text": [
      "/home/yuxuan/miniconda3/envs/wonder3d/lib/python3.9/site-packages/torch/optim/lr_scheduler.py:163: UserWarning: The epoch parameter in `scheduler.step()` was not necessary and is being deprecated where possible. Please use `scheduler.step()` to step the scheduler. During the deprecation, if epoch is different from None, the closed form is used instead of the new chainable form, where available. Please open an issue if you are unable to replicate your use case: https://github.com/pytorch/pytorch/issues/new/choose.\n",
      "  warnings.warn(EPOCH_DEPRECATION_WARNING, UserWarning)\n"
     ]
    },
    {
     "name": "stdout",
     "output_type": "stream",
     "text": [
      "Epoch 0: : 1007it [00:26, 37.49it/s, loss=0.0527, train/loss_rgb_mse=0.0469, train/loss_normal=0.00681, train/loss_eikonal=0.0133, train/loss_mask=0.00644, train/loss_sparsity=0.00295, train/loss_3d_normal_smooth=0.0133, train/inv_s=215.0, train/num_rays=4854.0]"
     ]
    },
    {
     "name": "stderr",
     "output_type": "stream",
     "text": [
      "Update grid level to 5\n",
      "Update finite_difference_eps to 0.02061731110582648\n"
     ]
    },
    {
     "name": "stdout",
     "output_type": "stream",
     "text": [
      "Epoch 0: : 2001it [00:43, 45.66it/s, loss=0.0382, train/loss_rgb_mse=0.0283, train/loss_normal=0.00679, train/loss_eikonal=0.018, train/loss_mask=0.000684, train/loss_sparsity=0.00222, train/loss_3d_normal_smooth=0.0111, train/inv_s=320.0, train/num_rays=8192.0]  "
     ]
    },
    {
     "name": "stderr",
     "output_type": "stream",
     "text": [
      "Update grid level to 6\n",
      "Update finite_difference_eps to 0.015625000000000003\n"
     ]
    },
    {
     "name": "stdout",
     "output_type": "stream",
     "text": [
      "Epoch 0: : 3000it [00:57, 51.96it/s, loss=0.0351, train/loss_rgb_mse=0.0249, train/loss_normal=0.00548, train/loss_eikonal=0.0117, train/loss_mask=0.000678, train/loss_sparsity=0.00232, train/loss_3d_normal_smooth=0.00986, train/inv_s=383.0, train/num_rays=8192.0]\n"
     ]
    },
    {
     "name": "stderr",
     "output_type": "stream",
     "text": [
      "`Trainer.fit` stopped: `max_steps=3000` reached.\n",
      "[rank: 0] Global seed set to 42\n",
      "You are using a CUDA device ('NVIDIA GeForce RTX 4090') that has Tensor Cores. To properly utilize them, you should set `torch.set_float32_matmul_precision('medium' | 'high')` which will trade-off precision for performance. For more details, read https://pytorch.org/docs/stable/generated/torch.set_float32_matmul_precision.html#torch.set_float32_matmul_precision\n"
     ]
    },
    {
     "name": "stdout",
     "output_type": "stream",
     "text": [
      "(1024, 1024, 3)\n",
      "the loaded normals are defined in the system of front view\n",
      "(1024, 1024, 3)\n",
      "the loaded normals are defined in the system of front view\n",
      "(1024, 1024, 3)\n",
      "the loaded normals are defined in the system of front view\n",
      "(1024, 1024, 3)\n",
      "the loaded normals are defined in the system of front view\n",
      "(1024, 1024, 3)\n",
      "the loaded normals are defined in the system of front view\n",
      "(1024, 1024, 3)\n",
      "the loaded normals are defined in the system of front view\n",
      "Testing: 0it [00:00, ?it/s]"
     ]
    },
    {
     "name": "stderr",
     "output_type": "stream",
     "text": [
      "LOCAL_RANK: 0 - CUDA_VISIBLE_DEVICES: [0]\n"
     ]
    },
    {
     "name": "stdout",
     "output_type": "stream",
     "text": [
      "Testing DataLoader 0: 100%|██████████| 6/6 [00:00<00:00, 777.18it/s]"
     ]
    },
    {
     "name": "stderr",
     "output_type": "stream",
     "text": [
      "Update grid level to 7\n",
      "Update finite_difference_eps to 0.011841535675862488\n"
     ]
    },
    {
     "name": "stdout",
     "output_type": "stream",
     "text": [
      "ortho scale is:  1.35\n",
      "Testing DataLoader 0: 100%|██████████| 6/6 [00:01<00:00,  3.24it/s] \n"
     ]
    },
    {
     "name": "stderr",
     "output_type": "stream",
     "text": [
      "Global seed set to 42\n",
      "Using finite difference to compute gradients with eps=progressive\n",
      "Using 16bit None Automatic Mixed Precision (AMP)\n",
      "GPU available: True (cuda), used: True\n",
      "TPU available: False, using: 0 TPU cores\n",
      "IPU available: False, using: 0 IPUs\n",
      "HPU available: False, using: 0 HPUs\n",
      "`Trainer(limit_train_batches=1.0)` was configured so 100% of the batches per epoch will be used..\n",
      "[rank: 0] Global seed set to 42\n",
      "Initializing distributed: GLOBAL_RANK: 0, MEMBER: 1/1\n",
      "----------------------------------------------------------------------------------------------------\n",
      "distributed_backend=nccl\n",
      "All distributed processes registered. Starting with 1 processes\n",
      "----------------------------------------------------------------------------------------------------\n",
      "\n",
      "You are using a CUDA device ('NVIDIA GeForce RTX 4090') that has Tensor Cores. To properly utilize them, you should set `torch.set_float32_matmul_precision('medium' | 'high')` which will trade-off precision for performance. For more details, read https://pytorch.org/docs/stable/generated/torch.set_float32_matmul_precision.html#torch.set_float32_matmul_precision\n"
     ]
    },
    {
     "name": "stdout",
     "output_type": "stream",
     "text": [
      "(1024, 1024, 3)\n",
      "the loaded normals are defined in the system of front view\n",
      "(1024, 1024, 3)\n",
      "the loaded normals are defined in the system of front view\n",
      "(1024, 1024, 3)\n",
      "the loaded normals are defined in the system of front view\n",
      "(1024, 1024, 3)\n",
      "the loaded normals are defined in the system of front view\n",
      "(1024, 1024, 3)\n",
      "the loaded normals are defined in the system of front view\n",
      "(1024, 1024, 3)\n",
      "the loaded normals are defined in the system of front view\n",
      "(1024, 1024, 3)\n",
      "the loaded normals are defined in the system of front view\n",
      "(1024, 1024, 3)\n",
      "the loaded normals are defined in the system of front view\n",
      "(1024, 1024, 3)\n",
      "the loaded normals are defined in the system of front view\n",
      "(1024, 1024, 3)\n",
      "the loaded normals are defined in the system of front view\n",
      "(1024, 1024, 3)\n",
      "the loaded normals are defined in the system of front view\n",
      "(1024, 1024, 3)\n",
      "the loaded normals are defined in the system of front view\n"
     ]
    },
    {
     "name": "stderr",
     "output_type": "stream",
     "text": [
      "LOCAL_RANK: 0 - CUDA_VISIBLE_DEVICES: [0]\n",
      "\n",
      "  | Name  | Type             | Params\n",
      "-------------------------------------------\n",
      "0 | cos   | CosineSimilarity | 0     \n",
      "1 | model | NeuSModel        | 7.7 M \n",
      "-------------------------------------------\n",
      "7.7 M     Trainable params\n",
      "0         Non-trainable params\n",
      "7.7 M     Total params\n",
      "15.371    Total estimated model params size (MB)\n"
     ]
    },
    {
     "name": "stdout",
     "output_type": "stream",
     "text": [
      "Epoch 0: : 0it [00:00, ?it/s]"
     ]
    },
    {
     "name": "stderr",
     "output_type": "stream",
     "text": [
      "Update finite_difference_eps to 0.027204705103003882\n"
     ]
    },
    {
     "name": "stdout",
     "output_type": "stream",
     "text": [
      "Epoch 0: : 501it [00:14, 35.77it/s, loss=0.0663, train/loss_rgb_mse=0.0668, train/loss_normal=0.00575, train/loss_eikonal=0.015, train/loss_mask=0.0168, train/loss_sparsity=0.0015, train/loss_3d_normal_smooth=0.0147, train/inv_s=110.0, train/num_rays=2879.0]   "
     ]
    },
    {
     "name": "stderr",
     "output_type": "stream",
     "text": [
      "/home/yuxuan/miniconda3/envs/wonder3d/lib/python3.9/site-packages/torch/optim/lr_scheduler.py:163: UserWarning: The epoch parameter in `scheduler.step()` was not necessary and is being deprecated where possible. Please use `scheduler.step()` to step the scheduler. During the deprecation, if epoch is different from None, the closed form is used instead of the new chainable form, where available. Please open an issue if you are unable to replicate your use case: https://github.com/pytorch/pytorch/issues/new/choose.\n",
      "  warnings.warn(EPOCH_DEPRECATION_WARNING, UserWarning)\n"
     ]
    },
    {
     "name": "stdout",
     "output_type": "stream",
     "text": [
      "Epoch 0: : 1001it [00:26, 37.31it/s, loss=0.0559, train/loss_rgb_mse=0.0507, train/loss_normal=0.00651, train/loss_eikonal=0.0135, train/loss_mask=0.00675, train/loss_sparsity=0.00118, train/loss_3d_normal_smooth=0.0144, train/inv_s=198.0, train/num_rays=4880.0]"
     ]
    },
    {
     "name": "stderr",
     "output_type": "stream",
     "text": [
      "Update grid level to 5\n",
      "Update finite_difference_eps to 0.02061731110582648\n"
     ]
    },
    {
     "name": "stdout",
     "output_type": "stream",
     "text": [
      "Epoch 0: : 2013it [00:43, 46.36it/s, loss=0.0421, train/loss_rgb_mse=0.0372, train/loss_normal=0.00589, train/loss_eikonal=0.0159, train/loss_mask=0.000684, train/loss_sparsity=0.00227, train/loss_3d_normal_smooth=0.0116, train/inv_s=301.0, train/num_rays=8192.0] "
     ]
    },
    {
     "name": "stderr",
     "output_type": "stream",
     "text": [
      "Update grid level to 6\n",
      "Update finite_difference_eps to 0.015625000000000003\n"
     ]
    },
    {
     "name": "stdout",
     "output_type": "stream",
     "text": [
      "Epoch 0: : 3000it [00:56, 53.32it/s, loss=0.0381, train/loss_rgb_mse=0.0352, train/loss_normal=0.0055, train/loss_eikonal=0.0108, train/loss_mask=0.000677, train/loss_sparsity=0.00397, train/loss_3d_normal_smooth=0.0101, train/inv_s=353.0, train/num_rays=8192.0]   \n"
     ]
    },
    {
     "name": "stderr",
     "output_type": "stream",
     "text": [
      "`Trainer.fit` stopped: `max_steps=3000` reached.\n",
      "[rank: 0] Global seed set to 42\n",
      "You are using a CUDA device ('NVIDIA GeForce RTX 4090') that has Tensor Cores. To properly utilize them, you should set `torch.set_float32_matmul_precision('medium' | 'high')` which will trade-off precision for performance. For more details, read https://pytorch.org/docs/stable/generated/torch.set_float32_matmul_precision.html#torch.set_float32_matmul_precision\n"
     ]
    },
    {
     "name": "stdout",
     "output_type": "stream",
     "text": [
      "(1024, 1024, 3)\n",
      "the loaded normals are defined in the system of front view\n",
      "(1024, 1024, 3)\n",
      "the loaded normals are defined in the system of front view\n",
      "(1024, 1024, 3)\n",
      "the loaded normals are defined in the system of front view\n",
      "(1024, 1024, 3)\n",
      "the loaded normals are defined in the system of front view\n",
      "(1024, 1024, 3)\n",
      "the loaded normals are defined in the system of front view\n",
      "(1024, 1024, 3)\n",
      "the loaded normals are defined in the system of front view\n",
      "Testing: 0it [00:00, ?it/s]"
     ]
    },
    {
     "name": "stderr",
     "output_type": "stream",
     "text": [
      "LOCAL_RANK: 0 - CUDA_VISIBLE_DEVICES: [0]\n"
     ]
    },
    {
     "name": "stdout",
     "output_type": "stream",
     "text": [
      "Testing DataLoader 0: 100%|██████████| 6/6 [00:00<00:00, 683.65it/s]"
     ]
    },
    {
     "name": "stderr",
     "output_type": "stream",
     "text": [
      "Update grid level to 7\n",
      "Update finite_difference_eps to 0.011841535675862488\n"
     ]
    },
    {
     "name": "stdout",
     "output_type": "stream",
     "text": [
      "ortho scale is:  1.35\n",
      "Testing DataLoader 0: 100%|██████████| 6/6 [00:01<00:00,  3.18it/s] \n"
     ]
    },
    {
     "name": "stderr",
     "output_type": "stream",
     "text": [
      "Global seed set to 42\n",
      "Using finite difference to compute gradients with eps=progressive\n",
      "Using 16bit None Automatic Mixed Precision (AMP)\n",
      "GPU available: True (cuda), used: True\n",
      "TPU available: False, using: 0 TPU cores\n",
      "IPU available: False, using: 0 IPUs\n",
      "HPU available: False, using: 0 HPUs\n",
      "`Trainer(limit_train_batches=1.0)` was configured so 100% of the batches per epoch will be used..\n",
      "[rank: 0] Global seed set to 42\n",
      "Initializing distributed: GLOBAL_RANK: 0, MEMBER: 1/1\n",
      "----------------------------------------------------------------------------------------------------\n",
      "distributed_backend=nccl\n",
      "All distributed processes registered. Starting with 1 processes\n",
      "----------------------------------------------------------------------------------------------------\n",
      "\n",
      "You are using a CUDA device ('NVIDIA GeForce RTX 4090') that has Tensor Cores. To properly utilize them, you should set `torch.set_float32_matmul_precision('medium' | 'high')` which will trade-off precision for performance. For more details, read https://pytorch.org/docs/stable/generated/torch.set_float32_matmul_precision.html#torch.set_float32_matmul_precision\n"
     ]
    },
    {
     "name": "stdout",
     "output_type": "stream",
     "text": [
      "(1024, 1024, 3)\n",
      "the loaded normals are defined in the system of front view\n",
      "(1024, 1024, 3)\n",
      "the loaded normals are defined in the system of front view\n",
      "(1024, 1024, 3)\n",
      "the loaded normals are defined in the system of front view\n",
      "(1024, 1024, 3)\n",
      "the loaded normals are defined in the system of front view\n",
      "(1024, 1024, 3)\n",
      "the loaded normals are defined in the system of front view\n",
      "(1024, 1024, 3)\n",
      "the loaded normals are defined in the system of front view\n",
      "(1024, 1024, 3)\n",
      "the loaded normals are defined in the system of front view\n",
      "(1024, 1024, 3)\n",
      "the loaded normals are defined in the system of front view\n",
      "(1024, 1024, 3)\n",
      "the loaded normals are defined in the system of front view\n",
      "(1024, 1024, 3)\n",
      "the loaded normals are defined in the system of front view\n",
      "(1024, 1024, 3)\n",
      "the loaded normals are defined in the system of front view\n",
      "(1024, 1024, 3)\n",
      "the loaded normals are defined in the system of front view\n"
     ]
    },
    {
     "name": "stderr",
     "output_type": "stream",
     "text": [
      "LOCAL_RANK: 0 - CUDA_VISIBLE_DEVICES: [0]\n",
      "\n",
      "  | Name  | Type             | Params\n",
      "-------------------------------------------\n",
      "0 | cos   | CosineSimilarity | 0     \n",
      "1 | model | NeuSModel        | 7.7 M \n",
      "-------------------------------------------\n",
      "7.7 M     Trainable params\n",
      "0         Non-trainable params\n",
      "7.7 M     Total params\n",
      "15.371    Total estimated model params size (MB)\n"
     ]
    },
    {
     "name": "stdout",
     "output_type": "stream",
     "text": [
      "Epoch 0: : 0it [00:00, ?it/s]"
     ]
    },
    {
     "name": "stderr",
     "output_type": "stream",
     "text": [
      "Update finite_difference_eps to 0.027204705103003882\n"
     ]
    },
    {
     "name": "stdout",
     "output_type": "stream",
     "text": [
      "Epoch 0: : 506it [00:14, 35.12it/s, loss=0.0624, train/loss_rgb_mse=0.0639, train/loss_normal=0.00805, train/loss_eikonal=0.00988, train/loss_mask=0.00939, train/loss_sparsity=0.00251, train/loss_3d_normal_smooth=0.0132, train/inv_s=109.0, train/num_rays=2893.0]"
     ]
    },
    {
     "name": "stderr",
     "output_type": "stream",
     "text": [
      "/home/yuxuan/miniconda3/envs/wonder3d/lib/python3.9/site-packages/torch/optim/lr_scheduler.py:163: UserWarning: The epoch parameter in `scheduler.step()` was not necessary and is being deprecated where possible. Please use `scheduler.step()` to step the scheduler. During the deprecation, if epoch is different from None, the closed form is used instead of the new chainable form, where available. Please open an issue if you are unable to replicate your use case: https://github.com/pytorch/pytorch/issues/new/choose.\n",
      "  warnings.warn(EPOCH_DEPRECATION_WARNING, UserWarning)\n"
     ]
    },
    {
     "name": "stdout",
     "output_type": "stream",
     "text": [
      "Epoch 0: : 1001it [00:27, 36.08it/s, loss=0.0472, train/loss_rgb_mse=0.0381, train/loss_normal=0.00848, train/loss_eikonal=0.0114, train/loss_mask=0.00398, train/loss_sparsity=0.00293, train/loss_3d_normal_smooth=0.0136, train/inv_s=238.0, train/num_rays=4832.0] "
     ]
    },
    {
     "name": "stderr",
     "output_type": "stream",
     "text": [
      "Update grid level to 5\n",
      "Update finite_difference_eps to 0.02061731110582648\n"
     ]
    },
    {
     "name": "stdout",
     "output_type": "stream",
     "text": [
      "Epoch 0: : 2008it [00:45, 44.24it/s, loss=0.0378, train/loss_rgb_mse=0.0242, train/loss_normal=0.00627, train/loss_eikonal=0.020, train/loss_mask=0.000683, train/loss_sparsity=0.00256, train/loss_3d_normal_smooth=0.0115, train/inv_s=370.0, train/num_rays=8192.0]  "
     ]
    },
    {
     "name": "stderr",
     "output_type": "stream",
     "text": [
      "Update grid level to 6\n",
      "Update finite_difference_eps to 0.015625000000000003\n"
     ]
    },
    {
     "name": "stdout",
     "output_type": "stream",
     "text": [
      "Epoch 0: : 3000it [00:58, 50.98it/s, loss=0.0347, train/loss_rgb_mse=0.0345, train/loss_normal=0.00719, train/loss_eikonal=0.0129, train/loss_mask=0.000687, train/loss_sparsity=0.00268, train/loss_3d_normal_smooth=0.00893, train/inv_s=445.0, train/num_rays=8192.0] \n"
     ]
    },
    {
     "name": "stderr",
     "output_type": "stream",
     "text": [
      "`Trainer.fit` stopped: `max_steps=3000` reached.\n",
      "[rank: 0] Global seed set to 42\n",
      "You are using a CUDA device ('NVIDIA GeForce RTX 4090') that has Tensor Cores. To properly utilize them, you should set `torch.set_float32_matmul_precision('medium' | 'high')` which will trade-off precision for performance. For more details, read https://pytorch.org/docs/stable/generated/torch.set_float32_matmul_precision.html#torch.set_float32_matmul_precision\n"
     ]
    },
    {
     "name": "stdout",
     "output_type": "stream",
     "text": [
      "(1024, 1024, 3)\n",
      "the loaded normals are defined in the system of front view\n",
      "(1024, 1024, 3)\n",
      "the loaded normals are defined in the system of front view\n",
      "(1024, 1024, 3)\n",
      "the loaded normals are defined in the system of front view\n",
      "(1024, 1024, 3)\n",
      "the loaded normals are defined in the system of front view\n",
      "(1024, 1024, 3)\n",
      "the loaded normals are defined in the system of front view\n",
      "(1024, 1024, 3)\n",
      "the loaded normals are defined in the system of front view\n",
      "Testing: 0it [00:00, ?it/s]"
     ]
    },
    {
     "name": "stderr",
     "output_type": "stream",
     "text": [
      "LOCAL_RANK: 0 - CUDA_VISIBLE_DEVICES: [0]\n"
     ]
    },
    {
     "name": "stdout",
     "output_type": "stream",
     "text": [
      "Testing DataLoader 0: 100%|██████████| 6/6 [00:00<00:00, 773.71it/s]"
     ]
    },
    {
     "name": "stderr",
     "output_type": "stream",
     "text": [
      "Update grid level to 7\n",
      "Update finite_difference_eps to 0.011841535675862488\n"
     ]
    },
    {
     "name": "stdout",
     "output_type": "stream",
     "text": [
      "ortho scale is:  1.35\n",
      "Testing DataLoader 0: 100%|██████████| 6/6 [00:02<00:00,  2.88it/s] \n"
     ]
    },
    {
     "name": "stderr",
     "output_type": "stream",
     "text": [
      "Global seed set to 42\n",
      "Using finite difference to compute gradients with eps=progressive\n",
      "Using 16bit None Automatic Mixed Precision (AMP)\n",
      "GPU available: True (cuda), used: True\n",
      "TPU available: False, using: 0 TPU cores\n",
      "IPU available: False, using: 0 IPUs\n",
      "HPU available: False, using: 0 HPUs\n",
      "`Trainer(limit_train_batches=1.0)` was configured so 100% of the batches per epoch will be used..\n",
      "[rank: 0] Global seed set to 42\n",
      "Initializing distributed: GLOBAL_RANK: 0, MEMBER: 1/1\n",
      "----------------------------------------------------------------------------------------------------\n",
      "distributed_backend=nccl\n",
      "All distributed processes registered. Starting with 1 processes\n",
      "----------------------------------------------------------------------------------------------------\n",
      "\n",
      "You are using a CUDA device ('NVIDIA GeForce RTX 4090') that has Tensor Cores. To properly utilize them, you should set `torch.set_float32_matmul_precision('medium' | 'high')` which will trade-off precision for performance. For more details, read https://pytorch.org/docs/stable/generated/torch.set_float32_matmul_precision.html#torch.set_float32_matmul_precision\n"
     ]
    },
    {
     "name": "stdout",
     "output_type": "stream",
     "text": [
      "(1024, 1024, 3)\n",
      "the loaded normals are defined in the system of front view\n",
      "(1024, 1024, 3)\n",
      "the loaded normals are defined in the system of front view\n",
      "(1024, 1024, 3)\n",
      "the loaded normals are defined in the system of front view\n",
      "(1024, 1024, 3)\n",
      "the loaded normals are defined in the system of front view\n",
      "(1024, 1024, 3)\n",
      "the loaded normals are defined in the system of front view\n",
      "(1024, 1024, 3)\n",
      "the loaded normals are defined in the system of front view\n",
      "(1024, 1024, 3)\n",
      "the loaded normals are defined in the system of front view\n",
      "(1024, 1024, 3)\n",
      "the loaded normals are defined in the system of front view\n",
      "(1024, 1024, 3)\n",
      "the loaded normals are defined in the system of front view\n",
      "(1024, 1024, 3)\n",
      "the loaded normals are defined in the system of front view\n",
      "(1024, 1024, 3)\n",
      "the loaded normals are defined in the system of front view\n",
      "(1024, 1024, 3)\n",
      "the loaded normals are defined in the system of front view\n"
     ]
    },
    {
     "name": "stderr",
     "output_type": "stream",
     "text": [
      "LOCAL_RANK: 0 - CUDA_VISIBLE_DEVICES: [0]\n",
      "\n",
      "  | Name  | Type             | Params\n",
      "-------------------------------------------\n",
      "0 | cos   | CosineSimilarity | 0     \n",
      "1 | model | NeuSModel        | 7.7 M \n",
      "-------------------------------------------\n",
      "7.7 M     Trainable params\n",
      "0         Non-trainable params\n",
      "7.7 M     Total params\n",
      "15.371    Total estimated model params size (MB)\n"
     ]
    },
    {
     "name": "stdout",
     "output_type": "stream",
     "text": [
      "Epoch 0: : 0it [00:00, ?it/s]"
     ]
    },
    {
     "name": "stderr",
     "output_type": "stream",
     "text": [
      "Update finite_difference_eps to 0.027204705103003882\n"
     ]
    },
    {
     "name": "stdout",
     "output_type": "stream",
     "text": [
      "Epoch 0: : 504it [00:14, 33.81it/s, loss=0.0675, train/loss_rgb_mse=0.0604, train/loss_normal=0.00672, train/loss_eikonal=0.0147, train/loss_mask=0.00903, train/loss_sparsity=0.00423, train/loss_3d_normal_smooth=0.0148, train/inv_s=102.0, train/num_rays=2881.0]"
     ]
    },
    {
     "name": "stderr",
     "output_type": "stream",
     "text": [
      "/home/yuxuan/miniconda3/envs/wonder3d/lib/python3.9/site-packages/torch/optim/lr_scheduler.py:163: UserWarning: The epoch parameter in `scheduler.step()` was not necessary and is being deprecated where possible. Please use `scheduler.step()` to step the scheduler. During the deprecation, if epoch is different from None, the closed form is used instead of the new chainable form, where available. Please open an issue if you are unable to replicate your use case: https://github.com/pytorch/pytorch/issues/new/choose.\n",
      "  warnings.warn(EPOCH_DEPRECATION_WARNING, UserWarning)\n"
     ]
    },
    {
     "name": "stdout",
     "output_type": "stream",
     "text": [
      "Epoch 0: : 1001it [00:28, 35.74it/s, loss=0.0506, train/loss_rgb_mse=0.0691, train/loss_normal=0.00559, train/loss_eikonal=0.0137, train/loss_mask=0.00625, train/loss_sparsity=0.00236, train/loss_3d_normal_smooth=0.0146, train/inv_s=206.0, train/num_rays=4817.0]"
     ]
    },
    {
     "name": "stderr",
     "output_type": "stream",
     "text": [
      "Update grid level to 5\n",
      "Update finite_difference_eps to 0.02061731110582648\n"
     ]
    },
    {
     "name": "stdout",
     "output_type": "stream",
     "text": [
      "Epoch 0: : 2003it [00:45, 43.95it/s, loss=0.0384, train/loss_rgb_mse=0.033, train/loss_normal=0.00618, train/loss_eikonal=0.0206, train/loss_mask=0.000681, train/loss_sparsity=0.00278, train/loss_3d_normal_smooth=0.0112, train/inv_s=305.0, train/num_rays=8192.0]  "
     ]
    },
    {
     "name": "stderr",
     "output_type": "stream",
     "text": [
      "Update grid level to 6\n",
      "Update finite_difference_eps to 0.015625000000000003\n"
     ]
    },
    {
     "name": "stdout",
     "output_type": "stream",
     "text": [
      "Epoch 0: : 3000it [00:59, 50.57it/s, loss=0.0358, train/loss_rgb_mse=0.0317, train/loss_normal=0.00566, train/loss_eikonal=0.0134, train/loss_mask=0.000679, train/loss_sparsity=0.00193, train/loss_3d_normal_smooth=0.0094, train/inv_s=357.0, train/num_rays=8192.0] \n"
     ]
    },
    {
     "name": "stderr",
     "output_type": "stream",
     "text": [
      "`Trainer.fit` stopped: `max_steps=3000` reached.\n",
      "[rank: 0] Global seed set to 42\n",
      "You are using a CUDA device ('NVIDIA GeForce RTX 4090') that has Tensor Cores. To properly utilize them, you should set `torch.set_float32_matmul_precision('medium' | 'high')` which will trade-off precision for performance. For more details, read https://pytorch.org/docs/stable/generated/torch.set_float32_matmul_precision.html#torch.set_float32_matmul_precision\n"
     ]
    },
    {
     "name": "stdout",
     "output_type": "stream",
     "text": [
      "(1024, 1024, 3)\n",
      "the loaded normals are defined in the system of front view\n",
      "(1024, 1024, 3)\n",
      "the loaded normals are defined in the system of front view\n",
      "(1024, 1024, 3)\n",
      "the loaded normals are defined in the system of front view\n",
      "(1024, 1024, 3)\n",
      "the loaded normals are defined in the system of front view\n",
      "(1024, 1024, 3)\n",
      "the loaded normals are defined in the system of front view\n",
      "(1024, 1024, 3)\n",
      "the loaded normals are defined in the system of front view\n"
     ]
    },
    {
     "name": "stderr",
     "output_type": "stream",
     "text": [
      "LOCAL_RANK: 0 - CUDA_VISIBLE_DEVICES: [0]\n"
     ]
    },
    {
     "name": "stdout",
     "output_type": "stream",
     "text": [
      "Testing DataLoader 0: 100%|██████████| 6/6 [00:00<00:00, 766.04it/s]"
     ]
    },
    {
     "name": "stderr",
     "output_type": "stream",
     "text": [
      "Update grid level to 7\n",
      "Update finite_difference_eps to 0.011841535675862488\n"
     ]
    },
    {
     "name": "stdout",
     "output_type": "stream",
     "text": [
      "ortho scale is:  1.35\n",
      "Testing DataLoader 0: 100%|██████████| 6/6 [00:01<00:00,  3.25it/s] \n"
     ]
    },
    {
     "name": "stderr",
     "output_type": "stream",
     "text": [
      "Global seed set to 42\n",
      "Using finite difference to compute gradients with eps=progressive\n",
      "Using 16bit None Automatic Mixed Precision (AMP)\n",
      "GPU available: True (cuda), used: True\n",
      "TPU available: False, using: 0 TPU cores\n",
      "IPU available: False, using: 0 IPUs\n",
      "HPU available: False, using: 0 HPUs\n",
      "`Trainer(limit_train_batches=1.0)` was configured so 100% of the batches per epoch will be used..\n",
      "[rank: 0] Global seed set to 42\n",
      "Initializing distributed: GLOBAL_RANK: 0, MEMBER: 1/1\n",
      "----------------------------------------------------------------------------------------------------\n",
      "distributed_backend=nccl\n",
      "All distributed processes registered. Starting with 1 processes\n",
      "----------------------------------------------------------------------------------------------------\n",
      "\n",
      "You are using a CUDA device ('NVIDIA GeForce RTX 4090') that has Tensor Cores. To properly utilize them, you should set `torch.set_float32_matmul_precision('medium' | 'high')` which will trade-off precision for performance. For more details, read https://pytorch.org/docs/stable/generated/torch.set_float32_matmul_precision.html#torch.set_float32_matmul_precision\n"
     ]
    },
    {
     "name": "stdout",
     "output_type": "stream",
     "text": [
      "(1024, 1024, 3)\n",
      "the loaded normals are defined in the system of front view\n",
      "(1024, 1024, 3)\n",
      "the loaded normals are defined in the system of front view\n",
      "(1024, 1024, 3)\n",
      "the loaded normals are defined in the system of front view\n",
      "(1024, 1024, 3)\n",
      "the loaded normals are defined in the system of front view\n",
      "(1024, 1024, 3)\n",
      "the loaded normals are defined in the system of front view\n",
      "(1024, 1024, 3)\n",
      "the loaded normals are defined in the system of front view\n",
      "(1024, 1024, 3)\n",
      "the loaded normals are defined in the system of front view\n",
      "(1024, 1024, 3)\n",
      "the loaded normals are defined in the system of front view\n",
      "(1024, 1024, 3)\n",
      "the loaded normals are defined in the system of front view\n",
      "(1024, 1024, 3)\n",
      "the loaded normals are defined in the system of front view\n",
      "(1024, 1024, 3)\n",
      "the loaded normals are defined in the system of front view\n",
      "(1024, 1024, 3)\n",
      "the loaded normals are defined in the system of front view\n"
     ]
    },
    {
     "name": "stderr",
     "output_type": "stream",
     "text": [
      "LOCAL_RANK: 0 - CUDA_VISIBLE_DEVICES: [0]\n",
      "\n",
      "  | Name  | Type             | Params\n",
      "-------------------------------------------\n",
      "0 | cos   | CosineSimilarity | 0     \n",
      "1 | model | NeuSModel        | 7.7 M \n",
      "-------------------------------------------\n",
      "7.7 M     Trainable params\n",
      "0         Non-trainable params\n",
      "7.7 M     Total params\n",
      "15.371    Total estimated model params size (MB)\n"
     ]
    },
    {
     "name": "stdout",
     "output_type": "stream",
     "text": [
      "Epoch 0: : 0it [00:00, ?it/s]"
     ]
    },
    {
     "name": "stderr",
     "output_type": "stream",
     "text": [
      "Update finite_difference_eps to 0.027204705103003882\n"
     ]
    },
    {
     "name": "stdout",
     "output_type": "stream",
     "text": [
      "Epoch 0: : 506it [00:13, 36.32it/s, loss=0.0604, train/loss_rgb_mse=0.049, train/loss_normal=0.00737, train/loss_eikonal=0.0129, train/loss_mask=0.0101, train/loss_sparsity=0.00252, train/loss_3d_normal_smooth=0.0131, train/inv_s=111.0, train/num_rays=2874.0]  "
     ]
    },
    {
     "name": "stderr",
     "output_type": "stream",
     "text": [
      "/home/yuxuan/miniconda3/envs/wonder3d/lib/python3.9/site-packages/torch/optim/lr_scheduler.py:163: UserWarning: The epoch parameter in `scheduler.step()` was not necessary and is being deprecated where possible. Please use `scheduler.step()` to step the scheduler. During the deprecation, if epoch is different from None, the closed form is used instead of the new chainable form, where available. Please open an issue if you are unable to replicate your use case: https://github.com/pytorch/pytorch/issues/new/choose.\n",
      "  warnings.warn(EPOCH_DEPRECATION_WARNING, UserWarning)\n"
     ]
    },
    {
     "name": "stdout",
     "output_type": "stream",
     "text": [
      "Epoch 0: : 1001it [00:26, 37.50it/s, loss=0.0464, train/loss_rgb_mse=0.0346, train/loss_normal=0.0073, train/loss_eikonal=0.014, train/loss_mask=0.00384, train/loss_sparsity=0.00263, train/loss_3d_normal_smooth=0.0134, train/inv_s=235.0, train/num_rays=4826.0]  "
     ]
    },
    {
     "name": "stderr",
     "output_type": "stream",
     "text": [
      "Update grid level to 5\n",
      "Update finite_difference_eps to 0.02061731110582648\n"
     ]
    },
    {
     "name": "stdout",
     "output_type": "stream",
     "text": [
      "Epoch 0: : 2009it [00:43, 46.15it/s, loss=0.0381, train/loss_rgb_mse=0.0312, train/loss_normal=0.00635, train/loss_eikonal=0.0188, train/loss_mask=0.000681, train/loss_sparsity=0.00272, train/loss_3d_normal_smooth=0.0114, train/inv_s=330.0, train/num_rays=8192.0] "
     ]
    },
    {
     "name": "stderr",
     "output_type": "stream",
     "text": [
      "Update grid level to 6\n",
      "Update finite_difference_eps to 0.015625000000000003\n"
     ]
    },
    {
     "name": "stdout",
     "output_type": "stream",
     "text": [
      "Epoch 0: : 3000it [00:56, 52.88it/s, loss=0.0342, train/loss_rgb_mse=0.0201, train/loss_normal=0.00581, train/loss_eikonal=0.0124, train/loss_mask=0.000679, train/loss_sparsity=0.00263, train/loss_3d_normal_smooth=0.00954, train/inv_s=388.0, train/num_rays=8192.0]\n"
     ]
    },
    {
     "name": "stderr",
     "output_type": "stream",
     "text": [
      "`Trainer.fit` stopped: `max_steps=3000` reached.\n",
      "[rank: 0] Global seed set to 42\n",
      "You are using a CUDA device ('NVIDIA GeForce RTX 4090') that has Tensor Cores. To properly utilize them, you should set `torch.set_float32_matmul_precision('medium' | 'high')` which will trade-off precision for performance. For more details, read https://pytorch.org/docs/stable/generated/torch.set_float32_matmul_precision.html#torch.set_float32_matmul_precision\n"
     ]
    },
    {
     "name": "stdout",
     "output_type": "stream",
     "text": [
      "(1024, 1024, 3)\n",
      "the loaded normals are defined in the system of front view\n",
      "(1024, 1024, 3)\n",
      "the loaded normals are defined in the system of front view\n",
      "(1024, 1024, 3)\n",
      "the loaded normals are defined in the system of front view\n",
      "(1024, 1024, 3)\n",
      "the loaded normals are defined in the system of front view\n",
      "(1024, 1024, 3)\n",
      "the loaded normals are defined in the system of front view\n",
      "(1024, 1024, 3)\n",
      "the loaded normals are defined in the system of front view\n"
     ]
    },
    {
     "name": "stderr",
     "output_type": "stream",
     "text": [
      "LOCAL_RANK: 0 - CUDA_VISIBLE_DEVICES: [0]\n"
     ]
    },
    {
     "name": "stdout",
     "output_type": "stream",
     "text": [
      "Testing DataLoader 0: 100%|██████████| 6/6 [00:00<00:00, 762.76it/s]"
     ]
    },
    {
     "name": "stderr",
     "output_type": "stream",
     "text": [
      "Update grid level to 7\n",
      "Update finite_difference_eps to 0.011841535675862488\n"
     ]
    },
    {
     "name": "stdout",
     "output_type": "stream",
     "text": [
      "ortho scale is:  1.35\n",
      "Testing DataLoader 0: 100%|██████████| 6/6 [00:01<00:00,  3.34it/s] \n"
     ]
    },
    {
     "name": "stderr",
     "output_type": "stream",
     "text": [
      "Global seed set to 42\n",
      "Using finite difference to compute gradients with eps=progressive\n",
      "Using 16bit None Automatic Mixed Precision (AMP)\n",
      "GPU available: True (cuda), used: True\n",
      "TPU available: False, using: 0 TPU cores\n",
      "IPU available: False, using: 0 IPUs\n",
      "HPU available: False, using: 0 HPUs\n",
      "`Trainer(limit_train_batches=1.0)` was configured so 100% of the batches per epoch will be used..\n",
      "[rank: 0] Global seed set to 42\n",
      "Initializing distributed: GLOBAL_RANK: 0, MEMBER: 1/1\n",
      "----------------------------------------------------------------------------------------------------\n",
      "distributed_backend=nccl\n",
      "All distributed processes registered. Starting with 1 processes\n",
      "----------------------------------------------------------------------------------------------------\n",
      "\n",
      "You are using a CUDA device ('NVIDIA GeForce RTX 4090') that has Tensor Cores. To properly utilize them, you should set `torch.set_float32_matmul_precision('medium' | 'high')` which will trade-off precision for performance. For more details, read https://pytorch.org/docs/stable/generated/torch.set_float32_matmul_precision.html#torch.set_float32_matmul_precision\n"
     ]
    },
    {
     "name": "stdout",
     "output_type": "stream",
     "text": [
      "(1024, 1024, 3)\n",
      "the loaded normals are defined in the system of front view\n",
      "(1024, 1024, 3)\n",
      "the loaded normals are defined in the system of front view\n",
      "(1024, 1024, 3)\n",
      "the loaded normals are defined in the system of front view\n",
      "(1024, 1024, 3)\n",
      "the loaded normals are defined in the system of front view\n",
      "(1024, 1024, 3)\n",
      "the loaded normals are defined in the system of front view\n",
      "(1024, 1024, 3)\n",
      "the loaded normals are defined in the system of front view\n",
      "(1024, 1024, 3)\n",
      "the loaded normals are defined in the system of front view\n",
      "(1024, 1024, 3)\n",
      "the loaded normals are defined in the system of front view\n",
      "(1024, 1024, 3)\n",
      "the loaded normals are defined in the system of front view\n",
      "(1024, 1024, 3)\n",
      "the loaded normals are defined in the system of front view\n",
      "(1024, 1024, 3)\n",
      "the loaded normals are defined in the system of front view\n",
      "(1024, 1024, 3)\n",
      "the loaded normals are defined in the system of front view\n"
     ]
    },
    {
     "name": "stderr",
     "output_type": "stream",
     "text": [
      "LOCAL_RANK: 0 - CUDA_VISIBLE_DEVICES: [0]\n",
      "\n",
      "  | Name  | Type             | Params\n",
      "-------------------------------------------\n",
      "0 | cos   | CosineSimilarity | 0     \n",
      "1 | model | NeuSModel        | 7.7 M \n",
      "-------------------------------------------\n",
      "7.7 M     Trainable params\n",
      "0         Non-trainable params\n",
      "7.7 M     Total params\n",
      "15.371    Total estimated model params size (MB)\n"
     ]
    },
    {
     "name": "stdout",
     "output_type": "stream",
     "text": [
      "Epoch 0: : 0it [00:00, ?it/s]"
     ]
    },
    {
     "name": "stderr",
     "output_type": "stream",
     "text": [
      "Update finite_difference_eps to 0.027204705103003882\n"
     ]
    },
    {
     "name": "stdout",
     "output_type": "stream",
     "text": [
      "Epoch 0: : 504it [00:13, 36.55it/s, loss=0.0652, train/loss_rgb_mse=0.0707, train/loss_normal=0.00872, train/loss_eikonal=0.0126, train/loss_mask=0.0102, train/loss_sparsity=0.00242, train/loss_3d_normal_smooth=0.014, train/inv_s=111.0, train/num_rays=2902.0]  "
     ]
    },
    {
     "name": "stderr",
     "output_type": "stream",
     "text": [
      "/home/yuxuan/miniconda3/envs/wonder3d/lib/python3.9/site-packages/torch/optim/lr_scheduler.py:163: UserWarning: The epoch parameter in `scheduler.step()` was not necessary and is being deprecated where possible. Please use `scheduler.step()` to step the scheduler. During the deprecation, if epoch is different from None, the closed form is used instead of the new chainable form, where available. Please open an issue if you are unable to replicate your use case: https://github.com/pytorch/pytorch/issues/new/choose.\n",
      "  warnings.warn(EPOCH_DEPRECATION_WARNING, UserWarning)\n"
     ]
    },
    {
     "name": "stdout",
     "output_type": "stream",
     "text": [
      "Epoch 0: : 1002it [00:26, 38.04it/s, loss=0.0497, train/loss_rgb_mse=0.0494, train/loss_normal=0.00823, train/loss_eikonal=0.0145, train/loss_mask=0.00561, train/loss_sparsity=0.00337, train/loss_3d_normal_smooth=0.0139, train/inv_s=252.0, train/num_rays=4875.0]"
     ]
    },
    {
     "name": "stderr",
     "output_type": "stream",
     "text": [
      "Update grid level to 5\n",
      "Update finite_difference_eps to 0.02061731110582648\n"
     ]
    },
    {
     "name": "stdout",
     "output_type": "stream",
     "text": [
      "Epoch 0: : 2011it [00:42, 46.82it/s, loss=0.0402, train/loss_rgb_mse=0.0253, train/loss_normal=0.0059, train/loss_eikonal=0.024, train/loss_mask=0.000678, train/loss_sparsity=0.00296, train/loss_3d_normal_smooth=0.011, train/inv_s=389.0, train/num_rays=8192.0]    "
     ]
    },
    {
     "name": "stderr",
     "output_type": "stream",
     "text": [
      "Update grid level to 6\n",
      "Update finite_difference_eps to 0.015625000000000003\n"
     ]
    },
    {
     "name": "stdout",
     "output_type": "stream",
     "text": [
      "Epoch 0: : 3000it [00:56, 53.43it/s, loss=0.0354, train/loss_rgb_mse=0.0323, train/loss_normal=0.00627, train/loss_eikonal=0.0142, train/loss_mask=0.000679, train/loss_sparsity=0.0025, train/loss_3d_normal_smooth=0.009, train/inv_s=454.0, train/num_rays=8192.0]   \n"
     ]
    },
    {
     "name": "stderr",
     "output_type": "stream",
     "text": [
      "`Trainer.fit` stopped: `max_steps=3000` reached.\n",
      "[rank: 0] Global seed set to 42\n",
      "You are using a CUDA device ('NVIDIA GeForce RTX 4090') that has Tensor Cores. To properly utilize them, you should set `torch.set_float32_matmul_precision('medium' | 'high')` which will trade-off precision for performance. For more details, read https://pytorch.org/docs/stable/generated/torch.set_float32_matmul_precision.html#torch.set_float32_matmul_precision\n"
     ]
    },
    {
     "name": "stdout",
     "output_type": "stream",
     "text": [
      "(1024, 1024, 3)\n",
      "the loaded normals are defined in the system of front view\n",
      "(1024, 1024, 3)\n",
      "the loaded normals are defined in the system of front view\n",
      "(1024, 1024, 3)\n",
      "the loaded normals are defined in the system of front view\n",
      "(1024, 1024, 3)\n",
      "the loaded normals are defined in the system of front view\n",
      "(1024, 1024, 3)\n",
      "the loaded normals are defined in the system of front view\n",
      "(1024, 1024, 3)\n",
      "the loaded normals are defined in the system of front view\n"
     ]
    },
    {
     "name": "stderr",
     "output_type": "stream",
     "text": [
      "LOCAL_RANK: 0 - CUDA_VISIBLE_DEVICES: [0]\n"
     ]
    },
    {
     "name": "stdout",
     "output_type": "stream",
     "text": [
      "Testing DataLoader 0: 100%|██████████| 6/6 [00:00<00:00, 774.55it/s]"
     ]
    },
    {
     "name": "stderr",
     "output_type": "stream",
     "text": [
      "Update grid level to 7\n",
      "Update finite_difference_eps to 0.011841535675862488\n"
     ]
    },
    {
     "name": "stdout",
     "output_type": "stream",
     "text": [
      "ortho scale is:  1.35\n",
      "Testing DataLoader 0: 100%|██████████| 6/6 [00:01<00:00,  3.18it/s] \n"
     ]
    },
    {
     "name": "stderr",
     "output_type": "stream",
     "text": [
      "Global seed set to 42\n",
      "Using finite difference to compute gradients with eps=progressive\n",
      "Using 16bit None Automatic Mixed Precision (AMP)\n",
      "GPU available: True (cuda), used: True\n",
      "TPU available: False, using: 0 TPU cores\n",
      "IPU available: False, using: 0 IPUs\n",
      "HPU available: False, using: 0 HPUs\n",
      "`Trainer(limit_train_batches=1.0)` was configured so 100% of the batches per epoch will be used..\n",
      "[rank: 0] Global seed set to 42\n",
      "Initializing distributed: GLOBAL_RANK: 0, MEMBER: 1/1\n",
      "----------------------------------------------------------------------------------------------------\n",
      "distributed_backend=nccl\n",
      "All distributed processes registered. Starting with 1 processes\n",
      "----------------------------------------------------------------------------------------------------\n",
      "\n",
      "You are using a CUDA device ('NVIDIA GeForce RTX 4090') that has Tensor Cores. To properly utilize them, you should set `torch.set_float32_matmul_precision('medium' | 'high')` which will trade-off precision for performance. For more details, read https://pytorch.org/docs/stable/generated/torch.set_float32_matmul_precision.html#torch.set_float32_matmul_precision\n"
     ]
    },
    {
     "name": "stdout",
     "output_type": "stream",
     "text": [
      "(1024, 1024, 3)\n",
      "the loaded normals are defined in the system of front view\n",
      "(1024, 1024, 3)\n",
      "the loaded normals are defined in the system of front view\n",
      "(1024, 1024, 3)\n",
      "the loaded normals are defined in the system of front view\n",
      "(1024, 1024, 3)\n",
      "the loaded normals are defined in the system of front view\n",
      "(1024, 1024, 3)\n",
      "the loaded normals are defined in the system of front view\n",
      "(1024, 1024, 3)\n",
      "the loaded normals are defined in the system of front view\n",
      "(1024, 1024, 3)\n",
      "the loaded normals are defined in the system of front view\n",
      "(1024, 1024, 3)\n",
      "the loaded normals are defined in the system of front view\n",
      "(1024, 1024, 3)\n",
      "the loaded normals are defined in the system of front view\n",
      "(1024, 1024, 3)\n",
      "the loaded normals are defined in the system of front view\n",
      "(1024, 1024, 3)\n",
      "the loaded normals are defined in the system of front view\n",
      "(1024, 1024, 3)\n",
      "the loaded normals are defined in the system of front view\n"
     ]
    },
    {
     "name": "stderr",
     "output_type": "stream",
     "text": [
      "LOCAL_RANK: 0 - CUDA_VISIBLE_DEVICES: [0]\n",
      "\n",
      "  | Name  | Type             | Params\n",
      "-------------------------------------------\n",
      "0 | cos   | CosineSimilarity | 0     \n",
      "1 | model | NeuSModel        | 7.7 M \n",
      "-------------------------------------------\n",
      "7.7 M     Trainable params\n",
      "0         Non-trainable params\n",
      "7.7 M     Total params\n",
      "15.371    Total estimated model params size (MB)\n"
     ]
    },
    {
     "name": "stdout",
     "output_type": "stream",
     "text": [
      "Epoch 0: : 0it [00:00, ?it/s]"
     ]
    },
    {
     "name": "stderr",
     "output_type": "stream",
     "text": [
      "Update finite_difference_eps to 0.027204705103003882\n"
     ]
    },
    {
     "name": "stdout",
     "output_type": "stream",
     "text": [
      "Epoch 0: : 502it [00:13, 36.49it/s, loss=0.066, train/loss_rgb_mse=0.0483, train/loss_normal=0.00907, train/loss_eikonal=0.012, train/loss_mask=0.00927, train/loss_sparsity=0.00365, train/loss_3d_normal_smooth=0.0138, train/inv_s=102.0, train/num_rays=2872.0]  "
     ]
    },
    {
     "name": "stderr",
     "output_type": "stream",
     "text": [
      "/home/yuxuan/miniconda3/envs/wonder3d/lib/python3.9/site-packages/torch/optim/lr_scheduler.py:163: UserWarning: The epoch parameter in `scheduler.step()` was not necessary and is being deprecated where possible. Please use `scheduler.step()` to step the scheduler. During the deprecation, if epoch is different from None, the closed form is used instead of the new chainable form, where available. Please open an issue if you are unable to replicate your use case: https://github.com/pytorch/pytorch/issues/new/choose.\n",
      "  warnings.warn(EPOCH_DEPRECATION_WARNING, UserWarning)\n"
     ]
    },
    {
     "name": "stdout",
     "output_type": "stream",
     "text": [
      "Epoch 0: : 1004it [00:26, 38.06it/s, loss=0.0499, train/loss_rgb_mse=0.0432, train/loss_normal=0.00886, train/loss_eikonal=0.0139, train/loss_mask=0.00533, train/loss_sparsity=0.00361, train/loss_3d_normal_smooth=0.0132, train/inv_s=219.0, train/num_rays=4828.0]"
     ]
    },
    {
     "name": "stderr",
     "output_type": "stream",
     "text": [
      "Update grid level to 5\n",
      "Update finite_difference_eps to 0.02061731110582648\n"
     ]
    },
    {
     "name": "stdout",
     "output_type": "stream",
     "text": [
      "Epoch 0: : 2010it [00:43, 46.32it/s, loss=0.0395, train/loss_rgb_mse=0.0355, train/loss_normal=0.00721, train/loss_eikonal=0.020, train/loss_mask=0.000685, train/loss_sparsity=0.00223, train/loss_3d_normal_smooth=0.0117, train/inv_s=412.0, train/num_rays=8192.0]  "
     ]
    },
    {
     "name": "stderr",
     "output_type": "stream",
     "text": [
      "Update grid level to 6\n",
      "Update finite_difference_eps to 0.015625000000000003\n"
     ]
    },
    {
     "name": "stdout",
     "output_type": "stream",
     "text": [
      "Epoch 0: : 3000it [00:56, 52.78it/s, loss=0.0361, train/loss_rgb_mse=0.0264, train/loss_normal=0.00691, train/loss_eikonal=0.0122, train/loss_mask=0.00068, train/loss_sparsity=0.00194, train/loss_3d_normal_smooth=0.00897, train/inv_s=506.0, train/num_rays=8192.0] \n"
     ]
    },
    {
     "name": "stderr",
     "output_type": "stream",
     "text": [
      "`Trainer.fit` stopped: `max_steps=3000` reached.\n",
      "[rank: 0] Global seed set to 42\n",
      "You are using a CUDA device ('NVIDIA GeForce RTX 4090') that has Tensor Cores. To properly utilize them, you should set `torch.set_float32_matmul_precision('medium' | 'high')` which will trade-off precision for performance. For more details, read https://pytorch.org/docs/stable/generated/torch.set_float32_matmul_precision.html#torch.set_float32_matmul_precision\n"
     ]
    },
    {
     "name": "stdout",
     "output_type": "stream",
     "text": [
      "(1024, 1024, 3)\n",
      "the loaded normals are defined in the system of front view\n",
      "(1024, 1024, 3)\n",
      "the loaded normals are defined in the system of front view\n",
      "(1024, 1024, 3)\n",
      "the loaded normals are defined in the system of front view\n",
      "(1024, 1024, 3)\n",
      "the loaded normals are defined in the system of front view\n",
      "(1024, 1024, 3)\n",
      "the loaded normals are defined in the system of front view\n",
      "(1024, 1024, 3)\n",
      "the loaded normals are defined in the system of front view\n",
      "Testing: 0it [00:00, ?it/s]"
     ]
    },
    {
     "name": "stderr",
     "output_type": "stream",
     "text": [
      "LOCAL_RANK: 0 - CUDA_VISIBLE_DEVICES: [0]\n"
     ]
    },
    {
     "name": "stdout",
     "output_type": "stream",
     "text": [
      "Testing DataLoader 0: 100%|██████████| 6/6 [00:00<00:00, 760.73it/s]"
     ]
    },
    {
     "name": "stderr",
     "output_type": "stream",
     "text": [
      "Update grid level to 7\n",
      "Update finite_difference_eps to 0.011841535675862488\n"
     ]
    },
    {
     "name": "stdout",
     "output_type": "stream",
     "text": [
      "ortho scale is:  1.35\n",
      "Testing DataLoader 0: 100%|██████████| 6/6 [00:01<00:00,  3.27it/s] \n"
     ]
    },
    {
     "name": "stderr",
     "output_type": "stream",
     "text": [
      "Global seed set to 42\n",
      "Using finite difference to compute gradients with eps=progressive\n",
      "Using 16bit None Automatic Mixed Precision (AMP)\n",
      "GPU available: True (cuda), used: True\n",
      "TPU available: False, using: 0 TPU cores\n",
      "IPU available: False, using: 0 IPUs\n",
      "HPU available: False, using: 0 HPUs\n",
      "`Trainer(limit_train_batches=1.0)` was configured so 100% of the batches per epoch will be used..\n",
      "[rank: 0] Global seed set to 42\n",
      "Initializing distributed: GLOBAL_RANK: 0, MEMBER: 1/1\n",
      "----------------------------------------------------------------------------------------------------\n",
      "distributed_backend=nccl\n",
      "All distributed processes registered. Starting with 1 processes\n",
      "----------------------------------------------------------------------------------------------------\n",
      "\n",
      "You are using a CUDA device ('NVIDIA GeForce RTX 4090') that has Tensor Cores. To properly utilize them, you should set `torch.set_float32_matmul_precision('medium' | 'high')` which will trade-off precision for performance. For more details, read https://pytorch.org/docs/stable/generated/torch.set_float32_matmul_precision.html#torch.set_float32_matmul_precision\n"
     ]
    },
    {
     "name": "stdout",
     "output_type": "stream",
     "text": [
      "(1024, 1024, 3)\n",
      "the loaded normals are defined in the system of front view\n",
      "(1024, 1024, 3)\n",
      "the loaded normals are defined in the system of front view\n",
      "(1024, 1024, 3)\n",
      "the loaded normals are defined in the system of front view\n",
      "(1024, 1024, 3)\n",
      "the loaded normals are defined in the system of front view\n",
      "(1024, 1024, 3)\n",
      "the loaded normals are defined in the system of front view\n",
      "(1024, 1024, 3)\n",
      "the loaded normals are defined in the system of front view\n",
      "(1024, 1024, 3)\n",
      "the loaded normals are defined in the system of front view\n",
      "(1024, 1024, 3)\n",
      "the loaded normals are defined in the system of front view\n",
      "(1024, 1024, 3)\n",
      "the loaded normals are defined in the system of front view\n",
      "(1024, 1024, 3)\n",
      "the loaded normals are defined in the system of front view\n",
      "(1024, 1024, 3)\n",
      "the loaded normals are defined in the system of front view\n",
      "(1024, 1024, 3)\n",
      "the loaded normals are defined in the system of front view\n"
     ]
    },
    {
     "name": "stderr",
     "output_type": "stream",
     "text": [
      "LOCAL_RANK: 0 - CUDA_VISIBLE_DEVICES: [0]\n",
      "\n",
      "  | Name  | Type             | Params\n",
      "-------------------------------------------\n",
      "0 | cos   | CosineSimilarity | 0     \n",
      "1 | model | NeuSModel        | 7.7 M \n",
      "-------------------------------------------\n",
      "7.7 M     Trainable params\n",
      "0         Non-trainable params\n",
      "7.7 M     Total params\n",
      "15.371    Total estimated model params size (MB)\n"
     ]
    },
    {
     "name": "stdout",
     "output_type": "stream",
     "text": [
      "Epoch 0: : 0it [00:00, ?it/s]"
     ]
    },
    {
     "name": "stderr",
     "output_type": "stream",
     "text": [
      "Update finite_difference_eps to 0.027204705103003882\n"
     ]
    },
    {
     "name": "stdout",
     "output_type": "stream",
     "text": [
      "Epoch 0: : 501it [00:13, 35.97it/s, loss=0.067, train/loss_rgb_mse=0.0501, train/loss_normal=0.00561, train/loss_eikonal=0.0143, train/loss_mask=0.0103, train/loss_sparsity=0.00284, train/loss_3d_normal_smooth=0.014, train/inv_s=113.0, train/num_rays=2877.0]   "
     ]
    },
    {
     "name": "stderr",
     "output_type": "stream",
     "text": [
      "/home/yuxuan/miniconda3/envs/wonder3d/lib/python3.9/site-packages/torch/optim/lr_scheduler.py:163: UserWarning: The epoch parameter in `scheduler.step()` was not necessary and is being deprecated where possible. Please use `scheduler.step()` to step the scheduler. During the deprecation, if epoch is different from None, the closed form is used instead of the new chainable form, where available. Please open an issue if you are unable to replicate your use case: https://github.com/pytorch/pytorch/issues/new/choose.\n",
      "  warnings.warn(EPOCH_DEPRECATION_WARNING, UserWarning)\n"
     ]
    },
    {
     "name": "stdout",
     "output_type": "stream",
     "text": [
      "Epoch 0: : 1005it [00:27, 37.01it/s, loss=0.0506, train/loss_rgb_mse=0.038, train/loss_normal=0.00601, train/loss_eikonal=0.0136, train/loss_mask=0.00426, train/loss_sparsity=0.00158, train/loss_3d_normal_smooth=0.013, train/inv_s=261.0, train/num_rays=4844.0]  "
     ]
    },
    {
     "name": "stderr",
     "output_type": "stream",
     "text": [
      "Update grid level to 5\n",
      "Update finite_difference_eps to 0.02061731110582648\n"
     ]
    },
    {
     "name": "stdout",
     "output_type": "stream",
     "text": [
      "Epoch 0: : 2000it [00:44, 45.04it/s, loss=0.0393, train/loss_rgb_mse=0.0289, train/loss_normal=0.00522, train/loss_eikonal=0.0128, train/loss_mask=0.000684, train/loss_sparsity=0.00213, train/loss_3d_normal_smooth=0.0111, train/inv_s=416.0, train/num_rays=8192.0] "
     ]
    },
    {
     "name": "stderr",
     "output_type": "stream",
     "text": [
      "Update grid level to 6\n",
      "Update finite_difference_eps to 0.015625000000000003\n"
     ]
    },
    {
     "name": "stdout",
     "output_type": "stream",
     "text": [
      "Epoch 0: : 3000it [00:58, 51.68it/s, loss=0.0339, train/loss_rgb_mse=0.032, train/loss_normal=0.00593, train/loss_eikonal=0.0103, train/loss_mask=0.000678, train/loss_sparsity=0.00163, train/loss_3d_normal_smooth=0.00981, train/inv_s=492.0, train/num_rays=8192.0]  \n"
     ]
    },
    {
     "name": "stderr",
     "output_type": "stream",
     "text": [
      "`Trainer.fit` stopped: `max_steps=3000` reached.\n",
      "[rank: 0] Global seed set to 42\n",
      "You are using a CUDA device ('NVIDIA GeForce RTX 4090') that has Tensor Cores. To properly utilize them, you should set `torch.set_float32_matmul_precision('medium' | 'high')` which will trade-off precision for performance. For more details, read https://pytorch.org/docs/stable/generated/torch.set_float32_matmul_precision.html#torch.set_float32_matmul_precision\n"
     ]
    },
    {
     "name": "stdout",
     "output_type": "stream",
     "text": [
      "(1024, 1024, 3)\n",
      "the loaded normals are defined in the system of front view\n",
      "(1024, 1024, 3)\n",
      "the loaded normals are defined in the system of front view\n",
      "(1024, 1024, 3)\n",
      "the loaded normals are defined in the system of front view\n",
      "(1024, 1024, 3)\n",
      "the loaded normals are defined in the system of front view\n",
      "(1024, 1024, 3)\n",
      "the loaded normals are defined in the system of front view\n",
      "(1024, 1024, 3)\n",
      "the loaded normals are defined in the system of front view\n",
      "Testing: 0it [00:00, ?it/s]"
     ]
    },
    {
     "name": "stderr",
     "output_type": "stream",
     "text": [
      "LOCAL_RANK: 0 - CUDA_VISIBLE_DEVICES: [0]\n"
     ]
    },
    {
     "name": "stdout",
     "output_type": "stream",
     "text": [
      "Testing DataLoader 0: 100%|██████████| 6/6 [00:00<00:00, 811.25it/s]"
     ]
    },
    {
     "name": "stderr",
     "output_type": "stream",
     "text": [
      "Update grid level to 7\n",
      "Update finite_difference_eps to 0.011841535675862488\n"
     ]
    },
    {
     "name": "stdout",
     "output_type": "stream",
     "text": [
      "ortho scale is:  1.35\n",
      "Testing DataLoader 0: 100%|██████████| 6/6 [00:01<00:00,  3.46it/s] \n"
     ]
    },
    {
     "name": "stderr",
     "output_type": "stream",
     "text": [
      "Global seed set to 42\n",
      "Using finite difference to compute gradients with eps=progressive\n",
      "Using 16bit None Automatic Mixed Precision (AMP)\n",
      "GPU available: True (cuda), used: True\n",
      "TPU available: False, using: 0 TPU cores\n",
      "IPU available: False, using: 0 IPUs\n",
      "HPU available: False, using: 0 HPUs\n",
      "`Trainer(limit_train_batches=1.0)` was configured so 100% of the batches per epoch will be used..\n",
      "[rank: 0] Global seed set to 42\n",
      "Initializing distributed: GLOBAL_RANK: 0, MEMBER: 1/1\n",
      "----------------------------------------------------------------------------------------------------\n",
      "distributed_backend=nccl\n",
      "All distributed processes registered. Starting with 1 processes\n",
      "----------------------------------------------------------------------------------------------------\n",
      "\n",
      "You are using a CUDA device ('NVIDIA GeForce RTX 4090') that has Tensor Cores. To properly utilize them, you should set `torch.set_float32_matmul_precision('medium' | 'high')` which will trade-off precision for performance. For more details, read https://pytorch.org/docs/stable/generated/torch.set_float32_matmul_precision.html#torch.set_float32_matmul_precision\n"
     ]
    },
    {
     "name": "stdout",
     "output_type": "stream",
     "text": [
      "(1024, 1024, 3)\n",
      "the loaded normals are defined in the system of front view\n",
      "(1024, 1024, 3)\n",
      "the loaded normals are defined in the system of front view\n",
      "(1024, 1024, 3)\n",
      "the loaded normals are defined in the system of front view\n",
      "(1024, 1024, 3)\n",
      "the loaded normals are defined in the system of front view\n",
      "(1024, 1024, 3)\n",
      "the loaded normals are defined in the system of front view\n",
      "(1024, 1024, 3)\n",
      "the loaded normals are defined in the system of front view\n",
      "(1024, 1024, 3)\n",
      "the loaded normals are defined in the system of front view\n",
      "(1024, 1024, 3)\n",
      "the loaded normals are defined in the system of front view\n",
      "(1024, 1024, 3)\n",
      "the loaded normals are defined in the system of front view\n",
      "(1024, 1024, 3)\n",
      "the loaded normals are defined in the system of front view\n",
      "(1024, 1024, 3)\n",
      "the loaded normals are defined in the system of front view\n",
      "(1024, 1024, 3)\n",
      "the loaded normals are defined in the system of front view\n"
     ]
    },
    {
     "name": "stderr",
     "output_type": "stream",
     "text": [
      "LOCAL_RANK: 0 - CUDA_VISIBLE_DEVICES: [0]\n",
      "\n",
      "  | Name  | Type             | Params\n",
      "-------------------------------------------\n",
      "0 | cos   | CosineSimilarity | 0     \n",
      "1 | model | NeuSModel        | 7.7 M \n",
      "-------------------------------------------\n",
      "7.7 M     Trainable params\n",
      "0         Non-trainable params\n",
      "7.7 M     Total params\n",
      "15.371    Total estimated model params size (MB)\n"
     ]
    },
    {
     "name": "stdout",
     "output_type": "stream",
     "text": [
      "Epoch 0: : 0it [00:00, ?it/s]"
     ]
    },
    {
     "name": "stderr",
     "output_type": "stream",
     "text": [
      "Update finite_difference_eps to 0.027204705103003882\n"
     ]
    },
    {
     "name": "stdout",
     "output_type": "stream",
     "text": [
      "Epoch 0: : 502it [00:13, 36.70it/s, loss=0.065, train/loss_rgb_mse=0.0504, train/loss_normal=0.00607, train/loss_eikonal=0.0115, train/loss_mask=0.00907, train/loss_sparsity=0.00265, train/loss_3d_normal_smooth=0.0138, train/inv_s=111.0, train/num_rays=2898.0] "
     ]
    },
    {
     "name": "stderr",
     "output_type": "stream",
     "text": [
      "/home/yuxuan/miniconda3/envs/wonder3d/lib/python3.9/site-packages/torch/optim/lr_scheduler.py:163: UserWarning: The epoch parameter in `scheduler.step()` was not necessary and is being deprecated where possible. Please use `scheduler.step()` to step the scheduler. During the deprecation, if epoch is different from None, the closed form is used instead of the new chainable form, where available. Please open an issue if you are unable to replicate your use case: https://github.com/pytorch/pytorch/issues/new/choose.\n",
      "  warnings.warn(EPOCH_DEPRECATION_WARNING, UserWarning)\n"
     ]
    },
    {
     "name": "stdout",
     "output_type": "stream",
     "text": [
      "Epoch 0: : 1002it [00:26, 38.21it/s, loss=0.0483, train/loss_rgb_mse=0.0431, train/loss_normal=0.00618, train/loss_eikonal=0.0118, train/loss_mask=0.00509, train/loss_sparsity=0.00178, train/loss_3d_normal_smooth=0.014, train/inv_s=249.0, train/num_rays=4864.0]  "
     ]
    },
    {
     "name": "stderr",
     "output_type": "stream",
     "text": [
      "Update grid level to 5\n",
      "Update finite_difference_eps to 0.02061731110582648\n"
     ]
    },
    {
     "name": "stdout",
     "output_type": "stream",
     "text": [
      "Epoch 0: : 2007it [00:42, 47.06it/s, loss=0.0376, train/loss_rgb_mse=0.0329, train/loss_normal=0.00527, train/loss_eikonal=0.0195, train/loss_mask=0.000688, train/loss_sparsity=0.00212, train/loss_3d_normal_smooth=0.0114, train/inv_s=390.0, train/num_rays=8192.0] "
     ]
    },
    {
     "name": "stderr",
     "output_type": "stream",
     "text": [
      "Update grid level to 6\n",
      "Update finite_difference_eps to 0.015625000000000003\n"
     ]
    },
    {
     "name": "stdout",
     "output_type": "stream",
     "text": [
      "Epoch 0: : 3000it [00:55, 54.33it/s, loss=0.0344, train/loss_rgb_mse=0.0277, train/loss_normal=0.00522, train/loss_eikonal=0.0116, train/loss_mask=0.000686, train/loss_sparsity=0.00218, train/loss_3d_normal_smooth=0.00948, train/inv_s=468.0, train/num_rays=8192.0] \n"
     ]
    },
    {
     "name": "stderr",
     "output_type": "stream",
     "text": [
      "`Trainer.fit` stopped: `max_steps=3000` reached.\n",
      "[rank: 0] Global seed set to 42\n",
      "You are using a CUDA device ('NVIDIA GeForce RTX 4090') that has Tensor Cores. To properly utilize them, you should set `torch.set_float32_matmul_precision('medium' | 'high')` which will trade-off precision for performance. For more details, read https://pytorch.org/docs/stable/generated/torch.set_float32_matmul_precision.html#torch.set_float32_matmul_precision\n"
     ]
    },
    {
     "name": "stdout",
     "output_type": "stream",
     "text": [
      "(1024, 1024, 3)\n",
      "the loaded normals are defined in the system of front view\n",
      "(1024, 1024, 3)\n",
      "the loaded normals are defined in the system of front view\n",
      "(1024, 1024, 3)\n",
      "the loaded normals are defined in the system of front view\n",
      "(1024, 1024, 3)\n",
      "the loaded normals are defined in the system of front view\n",
      "(1024, 1024, 3)\n",
      "the loaded normals are defined in the system of front view\n",
      "(1024, 1024, 3)\n",
      "the loaded normals are defined in the system of front view\n",
      "Testing: 0it [00:00, ?it/s]"
     ]
    },
    {
     "name": "stderr",
     "output_type": "stream",
     "text": [
      "LOCAL_RANK: 0 - CUDA_VISIBLE_DEVICES: [0]\n"
     ]
    },
    {
     "name": "stdout",
     "output_type": "stream",
     "text": [
      "Testing DataLoader 0: 100%|██████████| 6/6 [00:00<00:00, 800.64it/s]"
     ]
    },
    {
     "name": "stderr",
     "output_type": "stream",
     "text": [
      "Update grid level to 7\n",
      "Update finite_difference_eps to 0.011841535675862488\n"
     ]
    },
    {
     "name": "stdout",
     "output_type": "stream",
     "text": [
      "ortho scale is:  1.35\n",
      "Testing DataLoader 0: 100%|██████████| 6/6 [00:01<00:00,  3.36it/s] \n"
     ]
    },
    {
     "name": "stderr",
     "output_type": "stream",
     "text": [
      "Global seed set to 42\n",
      "Using finite difference to compute gradients with eps=progressive\n",
      "Using 16bit None Automatic Mixed Precision (AMP)\n",
      "GPU available: True (cuda), used: True\n",
      "TPU available: False, using: 0 TPU cores\n",
      "IPU available: False, using: 0 IPUs\n",
      "HPU available: False, using: 0 HPUs\n",
      "`Trainer(limit_train_batches=1.0)` was configured so 100% of the batches per epoch will be used..\n",
      "[rank: 0] Global seed set to 42\n",
      "Initializing distributed: GLOBAL_RANK: 0, MEMBER: 1/1\n",
      "----------------------------------------------------------------------------------------------------\n",
      "distributed_backend=nccl\n",
      "All distributed processes registered. Starting with 1 processes\n",
      "----------------------------------------------------------------------------------------------------\n",
      "\n",
      "You are using a CUDA device ('NVIDIA GeForce RTX 4090') that has Tensor Cores. To properly utilize them, you should set `torch.set_float32_matmul_precision('medium' | 'high')` which will trade-off precision for performance. For more details, read https://pytorch.org/docs/stable/generated/torch.set_float32_matmul_precision.html#torch.set_float32_matmul_precision\n"
     ]
    },
    {
     "name": "stdout",
     "output_type": "stream",
     "text": [
      "(1024, 1024, 3)\n",
      "the loaded normals are defined in the system of front view\n",
      "(1024, 1024, 3)\n",
      "the loaded normals are defined in the system of front view\n",
      "(1024, 1024, 3)\n",
      "the loaded normals are defined in the system of front view\n",
      "(1024, 1024, 3)\n",
      "the loaded normals are defined in the system of front view\n",
      "(1024, 1024, 3)\n",
      "the loaded normals are defined in the system of front view\n",
      "(1024, 1024, 3)\n",
      "the loaded normals are defined in the system of front view\n",
      "(1024, 1024, 3)\n",
      "the loaded normals are defined in the system of front view\n",
      "(1024, 1024, 3)\n",
      "the loaded normals are defined in the system of front view\n",
      "(1024, 1024, 3)\n",
      "the loaded normals are defined in the system of front view\n",
      "(1024, 1024, 3)\n",
      "the loaded normals are defined in the system of front view\n",
      "(1024, 1024, 3)\n",
      "the loaded normals are defined in the system of front view\n",
      "(1024, 1024, 3)\n",
      "the loaded normals are defined in the system of front view\n"
     ]
    },
    {
     "name": "stderr",
     "output_type": "stream",
     "text": [
      "LOCAL_RANK: 0 - CUDA_VISIBLE_DEVICES: [0]\n",
      "\n",
      "  | Name  | Type             | Params\n",
      "-------------------------------------------\n",
      "0 | cos   | CosineSimilarity | 0     \n",
      "1 | model | NeuSModel        | 7.7 M \n",
      "-------------------------------------------\n",
      "7.7 M     Trainable params\n",
      "0         Non-trainable params\n",
      "7.7 M     Total params\n",
      "15.371    Total estimated model params size (MB)\n"
     ]
    },
    {
     "name": "stdout",
     "output_type": "stream",
     "text": [
      "Epoch 0: : 0it [00:00, ?it/s]"
     ]
    },
    {
     "name": "stderr",
     "output_type": "stream",
     "text": [
      "Update finite_difference_eps to 0.027204705103003882\n"
     ]
    },
    {
     "name": "stdout",
     "output_type": "stream",
     "text": [
      "Epoch 0: : 503it [00:13, 36.55it/s, loss=0.0569, train/loss_rgb_mse=0.0302, train/loss_normal=0.00407, train/loss_eikonal=0.0153, train/loss_mask=0.00669, train/loss_sparsity=0.00224, train/loss_3d_normal_smooth=0.0146, train/inv_s=127.0, train/num_rays=2884.0]"
     ]
    },
    {
     "name": "stderr",
     "output_type": "stream",
     "text": [
      "/home/yuxuan/miniconda3/envs/wonder3d/lib/python3.9/site-packages/torch/optim/lr_scheduler.py:163: UserWarning: The epoch parameter in `scheduler.step()` was not necessary and is being deprecated where possible. Please use `scheduler.step()` to step the scheduler. During the deprecation, if epoch is different from None, the closed form is used instead of the new chainable form, where available. Please open an issue if you are unable to replicate your use case: https://github.com/pytorch/pytorch/issues/new/choose.\n",
      "  warnings.warn(EPOCH_DEPRECATION_WARNING, UserWarning)\n"
     ]
    },
    {
     "name": "stdout",
     "output_type": "stream",
     "text": [
      "Epoch 0: : 1001it [00:26, 38.03it/s, loss=0.0468, train/loss_rgb_mse=0.0447, train/loss_normal=0.00429, train/loss_eikonal=0.014, train/loss_mask=0.00753, train/loss_sparsity=0.00316, train/loss_3d_normal_smooth=0.0147, train/inv_s=275.0, train/num_rays=4870.0] "
     ]
    },
    {
     "name": "stderr",
     "output_type": "stream",
     "text": [
      "Update grid level to 5\n",
      "Update finite_difference_eps to 0.02061731110582648\n"
     ]
    },
    {
     "name": "stdout",
     "output_type": "stream",
     "text": [
      "Epoch 0: : 2000it [00:43, 46.27it/s, loss=0.034, train/loss_rgb_mse=0.0283, train/loss_normal=0.0039, train/loss_eikonal=0.0115, train/loss_mask=0.000684, train/loss_sparsity=0.00327, train/loss_3d_normal_smooth=0.0109, train/inv_s=484.0, train/num_rays=8192.0]   "
     ]
    },
    {
     "name": "stderr",
     "output_type": "stream",
     "text": [
      "Update grid level to 6\n",
      "Update finite_difference_eps to 0.015625000000000003\n"
     ]
    },
    {
     "name": "stdout",
     "output_type": "stream",
     "text": [
      "Epoch 0: : 3000it [00:56, 52.79it/s, loss=0.0307, train/loss_rgb_mse=0.0357, train/loss_normal=0.0046, train/loss_eikonal=0.00906, train/loss_mask=0.000678, train/loss_sparsity=0.00193, train/loss_3d_normal_smooth=0.00952, train/inv_s=584.0, train/num_rays=8192.0] \n"
     ]
    },
    {
     "name": "stderr",
     "output_type": "stream",
     "text": [
      "`Trainer.fit` stopped: `max_steps=3000` reached.\n",
      "[rank: 0] Global seed set to 42\n",
      "You are using a CUDA device ('NVIDIA GeForce RTX 4090') that has Tensor Cores. To properly utilize them, you should set `torch.set_float32_matmul_precision('medium' | 'high')` which will trade-off precision for performance. For more details, read https://pytorch.org/docs/stable/generated/torch.set_float32_matmul_precision.html#torch.set_float32_matmul_precision\n"
     ]
    },
    {
     "name": "stdout",
     "output_type": "stream",
     "text": [
      "(1024, 1024, 3)\n",
      "the loaded normals are defined in the system of front view\n",
      "(1024, 1024, 3)\n",
      "the loaded normals are defined in the system of front view\n",
      "(1024, 1024, 3)\n",
      "the loaded normals are defined in the system of front view\n",
      "(1024, 1024, 3)\n",
      "the loaded normals are defined in the system of front view\n",
      "(1024, 1024, 3)\n",
      "the loaded normals are defined in the system of front view\n",
      "(1024, 1024, 3)\n",
      "the loaded normals are defined in the system of front view\n"
     ]
    },
    {
     "name": "stderr",
     "output_type": "stream",
     "text": [
      "LOCAL_RANK: 0 - CUDA_VISIBLE_DEVICES: [0]\n"
     ]
    },
    {
     "name": "stdout",
     "output_type": "stream",
     "text": [
      "Testing DataLoader 0: 100%|██████████| 6/6 [00:00<00:00, 796.54it/s]"
     ]
    },
    {
     "name": "stderr",
     "output_type": "stream",
     "text": [
      "Update grid level to 7\n",
      "Update finite_difference_eps to 0.011841535675862488\n"
     ]
    },
    {
     "name": "stdout",
     "output_type": "stream",
     "text": [
      "ortho scale is:  1.35\n",
      "Testing DataLoader 0: 100%|██████████| 6/6 [00:01<00:00,  3.27it/s] \n"
     ]
    },
    {
     "name": "stderr",
     "output_type": "stream",
     "text": [
      "Global seed set to 42\n",
      "Using finite difference to compute gradients with eps=progressive\n",
      "Using 16bit None Automatic Mixed Precision (AMP)\n",
      "GPU available: True (cuda), used: True\n",
      "TPU available: False, using: 0 TPU cores\n",
      "IPU available: False, using: 0 IPUs\n",
      "HPU available: False, using: 0 HPUs\n",
      "`Trainer(limit_train_batches=1.0)` was configured so 100% of the batches per epoch will be used..\n",
      "[rank: 0] Global seed set to 42\n",
      "Initializing distributed: GLOBAL_RANK: 0, MEMBER: 1/1\n",
      "----------------------------------------------------------------------------------------------------\n",
      "distributed_backend=nccl\n",
      "All distributed processes registered. Starting with 1 processes\n",
      "----------------------------------------------------------------------------------------------------\n",
      "\n",
      "You are using a CUDA device ('NVIDIA GeForce RTX 4090') that has Tensor Cores. To properly utilize them, you should set `torch.set_float32_matmul_precision('medium' | 'high')` which will trade-off precision for performance. For more details, read https://pytorch.org/docs/stable/generated/torch.set_float32_matmul_precision.html#torch.set_float32_matmul_precision\n"
     ]
    },
    {
     "name": "stdout",
     "output_type": "stream",
     "text": [
      "(1024, 1024, 3)\n",
      "the loaded normals are defined in the system of front view\n",
      "(1024, 1024, 3)\n",
      "the loaded normals are defined in the system of front view\n",
      "(1024, 1024, 3)\n",
      "the loaded normals are defined in the system of front view\n",
      "(1024, 1024, 3)\n",
      "the loaded normals are defined in the system of front view\n",
      "(1024, 1024, 3)\n",
      "the loaded normals are defined in the system of front view\n",
      "(1024, 1024, 3)\n",
      "the loaded normals are defined in the system of front view\n",
      "(1024, 1024, 3)\n",
      "the loaded normals are defined in the system of front view\n",
      "(1024, 1024, 3)\n",
      "the loaded normals are defined in the system of front view\n",
      "(1024, 1024, 3)\n",
      "the loaded normals are defined in the system of front view\n",
      "(1024, 1024, 3)\n",
      "the loaded normals are defined in the system of front view\n",
      "(1024, 1024, 3)\n",
      "the loaded normals are defined in the system of front view\n",
      "(1024, 1024, 3)\n",
      "the loaded normals are defined in the system of front view\n"
     ]
    },
    {
     "name": "stderr",
     "output_type": "stream",
     "text": [
      "LOCAL_RANK: 0 - CUDA_VISIBLE_DEVICES: [0]\n",
      "\n",
      "  | Name  | Type             | Params\n",
      "-------------------------------------------\n",
      "0 | cos   | CosineSimilarity | 0     \n",
      "1 | model | NeuSModel        | 7.7 M \n",
      "-------------------------------------------\n",
      "7.7 M     Trainable params\n",
      "0         Non-trainable params\n",
      "7.7 M     Total params\n",
      "15.371    Total estimated model params size (MB)\n"
     ]
    },
    {
     "name": "stdout",
     "output_type": "stream",
     "text": [
      "Epoch 0: : 0it [00:00, ?it/s]"
     ]
    },
    {
     "name": "stderr",
     "output_type": "stream",
     "text": [
      "Update finite_difference_eps to 0.027204705103003882\n"
     ]
    },
    {
     "name": "stdout",
     "output_type": "stream",
     "text": [
      "Epoch 0: : 502it [00:14, 35.74it/s, loss=0.0597, train/loss_rgb_mse=0.0447, train/loss_normal=0.00612, train/loss_eikonal=0.0115, train/loss_mask=0.00986, train/loss_sparsity=0.00265, train/loss_3d_normal_smooth=0.0139, train/inv_s=105.0, train/num_rays=2896.0]"
     ]
    },
    {
     "name": "stderr",
     "output_type": "stream",
     "text": [
      "/home/yuxuan/miniconda3/envs/wonder3d/lib/python3.9/site-packages/torch/optim/lr_scheduler.py:163: UserWarning: The epoch parameter in `scheduler.step()` was not necessary and is being deprecated where possible. Please use `scheduler.step()` to step the scheduler. During the deprecation, if epoch is different from None, the closed form is used instead of the new chainable form, where available. Please open an issue if you are unable to replicate your use case: https://github.com/pytorch/pytorch/issues/new/choose.\n",
      "  warnings.warn(EPOCH_DEPRECATION_WARNING, UserWarning)\n"
     ]
    },
    {
     "name": "stdout",
     "output_type": "stream",
     "text": [
      "Epoch 0: : 1006it [00:27, 36.90it/s, loss=0.046, train/loss_rgb_mse=0.0311, train/loss_normal=0.00552, train/loss_eikonal=0.011, train/loss_mask=0.00369, train/loss_sparsity=0.000853, train/loss_3d_normal_smooth=0.0119, train/inv_s=210.0, train/num_rays=4877.0]  "
     ]
    },
    {
     "name": "stderr",
     "output_type": "stream",
     "text": [
      "Update grid level to 5\n",
      "Update finite_difference_eps to 0.02061731110582648\n"
     ]
    },
    {
     "name": "stdout",
     "output_type": "stream",
     "text": [
      "Epoch 0: : 2007it [00:44, 45.45it/s, loss=0.0381, train/loss_rgb_mse=0.0324, train/loss_normal=0.00526, train/loss_eikonal=0.0165, train/loss_mask=0.000681, train/loss_sparsity=0.00255, train/loss_3d_normal_smooth=0.0117, train/inv_s=271.0, train/num_rays=8192.0] "
     ]
    },
    {
     "name": "stderr",
     "output_type": "stream",
     "text": [
      "Update grid level to 6\n",
      "Update finite_difference_eps to 0.015625000000000003\n"
     ]
    },
    {
     "name": "stdout",
     "output_type": "stream",
     "text": [
      "Epoch 0: : 3000it [00:57, 52.12it/s, loss=0.0352, train/loss_rgb_mse=0.0316, train/loss_normal=0.00573, train/loss_eikonal=0.00973, train/loss_mask=0.00068, train/loss_sparsity=0.00142, train/loss_3d_normal_smooth=0.00958, train/inv_s=320.0, train/num_rays=8192.0] \n"
     ]
    },
    {
     "name": "stderr",
     "output_type": "stream",
     "text": [
      "`Trainer.fit` stopped: `max_steps=3000` reached.\n",
      "[rank: 0] Global seed set to 42\n",
      "You are using a CUDA device ('NVIDIA GeForce RTX 4090') that has Tensor Cores. To properly utilize them, you should set `torch.set_float32_matmul_precision('medium' | 'high')` which will trade-off precision for performance. For more details, read https://pytorch.org/docs/stable/generated/torch.set_float32_matmul_precision.html#torch.set_float32_matmul_precision\n"
     ]
    },
    {
     "name": "stdout",
     "output_type": "stream",
     "text": [
      "(1024, 1024, 3)\n",
      "the loaded normals are defined in the system of front view\n",
      "(1024, 1024, 3)\n",
      "the loaded normals are defined in the system of front view\n",
      "(1024, 1024, 3)\n",
      "the loaded normals are defined in the system of front view\n",
      "(1024, 1024, 3)\n",
      "the loaded normals are defined in the system of front view\n",
      "(1024, 1024, 3)\n",
      "the loaded normals are defined in the system of front view\n",
      "(1024, 1024, 3)\n",
      "the loaded normals are defined in the system of front view\n"
     ]
    },
    {
     "name": "stderr",
     "output_type": "stream",
     "text": [
      "LOCAL_RANK: 0 - CUDA_VISIBLE_DEVICES: [0]\n"
     ]
    },
    {
     "name": "stdout",
     "output_type": "stream",
     "text": [
      "Testing DataLoader 0: 100%|██████████| 6/6 [00:00<00:00, 625.92it/s]"
     ]
    },
    {
     "name": "stderr",
     "output_type": "stream",
     "text": [
      "Update grid level to 7\n",
      "Update finite_difference_eps to 0.011841535675862488\n"
     ]
    },
    {
     "name": "stdout",
     "output_type": "stream",
     "text": [
      "ortho scale is:  1.35\n",
      "Testing DataLoader 0: 100%|██████████| 6/6 [00:01<00:00,  3.23it/s] \n"
     ]
    },
    {
     "name": "stderr",
     "output_type": "stream",
     "text": [
      "Global seed set to 42\n",
      "Using finite difference to compute gradients with eps=progressive\n",
      "Using 16bit None Automatic Mixed Precision (AMP)\n",
      "GPU available: True (cuda), used: True\n",
      "TPU available: False, using: 0 TPU cores\n",
      "IPU available: False, using: 0 IPUs\n",
      "HPU available: False, using: 0 HPUs\n",
      "`Trainer(limit_train_batches=1.0)` was configured so 100% of the batches per epoch will be used..\n",
      "[rank: 0] Global seed set to 42\n",
      "Initializing distributed: GLOBAL_RANK: 0, MEMBER: 1/1\n",
      "----------------------------------------------------------------------------------------------------\n",
      "distributed_backend=nccl\n",
      "All distributed processes registered. Starting with 1 processes\n",
      "----------------------------------------------------------------------------------------------------\n",
      "\n",
      "You are using a CUDA device ('NVIDIA GeForce RTX 4090') that has Tensor Cores. To properly utilize them, you should set `torch.set_float32_matmul_precision('medium' | 'high')` which will trade-off precision for performance. For more details, read https://pytorch.org/docs/stable/generated/torch.set_float32_matmul_precision.html#torch.set_float32_matmul_precision\n"
     ]
    },
    {
     "name": "stdout",
     "output_type": "stream",
     "text": [
      "(1024, 1024, 3)\n",
      "the loaded normals are defined in the system of front view\n",
      "(1024, 1024, 3)\n",
      "the loaded normals are defined in the system of front view\n",
      "(1024, 1024, 3)\n",
      "the loaded normals are defined in the system of front view\n",
      "(1024, 1024, 3)\n",
      "the loaded normals are defined in the system of front view\n",
      "(1024, 1024, 3)\n",
      "the loaded normals are defined in the system of front view\n",
      "(1024, 1024, 3)\n",
      "the loaded normals are defined in the system of front view\n",
      "(1024, 1024, 3)\n",
      "the loaded normals are defined in the system of front view\n",
      "(1024, 1024, 3)\n",
      "the loaded normals are defined in the system of front view\n",
      "(1024, 1024, 3)\n",
      "the loaded normals are defined in the system of front view\n",
      "(1024, 1024, 3)\n",
      "the loaded normals are defined in the system of front view\n",
      "(1024, 1024, 3)\n",
      "the loaded normals are defined in the system of front view\n",
      "(1024, 1024, 3)\n",
      "the loaded normals are defined in the system of front view\n"
     ]
    },
    {
     "name": "stderr",
     "output_type": "stream",
     "text": [
      "LOCAL_RANK: 0 - CUDA_VISIBLE_DEVICES: [0]\n",
      "\n",
      "  | Name  | Type             | Params\n",
      "-------------------------------------------\n",
      "0 | cos   | CosineSimilarity | 0     \n",
      "1 | model | NeuSModel        | 7.7 M \n",
      "-------------------------------------------\n",
      "7.7 M     Trainable params\n",
      "0         Non-trainable params\n",
      "7.7 M     Total params\n",
      "15.371    Total estimated model params size (MB)\n"
     ]
    },
    {
     "name": "stdout",
     "output_type": "stream",
     "text": [
      "Epoch 0: : 0it [00:00, ?it/s]"
     ]
    },
    {
     "name": "stderr",
     "output_type": "stream",
     "text": [
      "Update finite_difference_eps to 0.027204705103003882\n"
     ]
    },
    {
     "name": "stdout",
     "output_type": "stream",
     "text": [
      "Epoch 0: : 501it [00:13, 35.98it/s, loss=0.0712, train/loss_rgb_mse=0.0534, train/loss_normal=0.00773, train/loss_eikonal=0.0147, train/loss_mask=0.011, train/loss_sparsity=0.00229, train/loss_3d_normal_smooth=0.0143, train/inv_s=113.0, train/num_rays=2911.0]  "
     ]
    },
    {
     "name": "stderr",
     "output_type": "stream",
     "text": [
      "/home/yuxuan/miniconda3/envs/wonder3d/lib/python3.9/site-packages/torch/optim/lr_scheduler.py:163: UserWarning: The epoch parameter in `scheduler.step()` was not necessary and is being deprecated where possible. Please use `scheduler.step()` to step the scheduler. During the deprecation, if epoch is different from None, the closed form is used instead of the new chainable form, where available. Please open an issue if you are unable to replicate your use case: https://github.com/pytorch/pytorch/issues/new/choose.\n",
      "  warnings.warn(EPOCH_DEPRECATION_WARNING, UserWarning)\n"
     ]
    },
    {
     "name": "stdout",
     "output_type": "stream",
     "text": [
      "Epoch 0: : 1005it [00:27, 36.89it/s, loss=0.0532, train/loss_rgb_mse=0.034, train/loss_normal=0.00677, train/loss_eikonal=0.0142, train/loss_mask=0.00535, train/loss_sparsity=0.00263, train/loss_3d_normal_smooth=0.0138, train/inv_s=281.0, train/num_rays=4881.0] "
     ]
    },
    {
     "name": "stderr",
     "output_type": "stream",
     "text": [
      "Update grid level to 5\n",
      "Update finite_difference_eps to 0.02061731110582648\n"
     ]
    },
    {
     "name": "stdout",
     "output_type": "stream",
     "text": [
      "Epoch 0: : 2015it [00:44, 45.27it/s, loss=0.0428, train/loss_rgb_mse=0.0404, train/loss_normal=0.00578, train/loss_eikonal=0.0187, train/loss_mask=0.000681, train/loss_sparsity=0.00263, train/loss_3d_normal_smooth=0.0117, train/inv_s=445.0, train/num_rays=8192.0] "
     ]
    },
    {
     "name": "stderr",
     "output_type": "stream",
     "text": [
      "Update grid level to 6\n",
      "Update finite_difference_eps to 0.015625000000000003\n"
     ]
    },
    {
     "name": "stdout",
     "output_type": "stream",
     "text": [
      "Epoch 0: : 3000it [00:57, 52.53it/s, loss=0.0376, train/loss_rgb_mse=0.0326, train/loss_normal=0.00683, train/loss_eikonal=0.0109, train/loss_mask=0.000686, train/loss_sparsity=0.00273, train/loss_3d_normal_smooth=0.00978, train/inv_s=531.0, train/num_rays=8192.0] \n"
     ]
    },
    {
     "name": "stderr",
     "output_type": "stream",
     "text": [
      "`Trainer.fit` stopped: `max_steps=3000` reached.\n",
      "[rank: 0] Global seed set to 42\n",
      "You are using a CUDA device ('NVIDIA GeForce RTX 4090') that has Tensor Cores. To properly utilize them, you should set `torch.set_float32_matmul_precision('medium' | 'high')` which will trade-off precision for performance. For more details, read https://pytorch.org/docs/stable/generated/torch.set_float32_matmul_precision.html#torch.set_float32_matmul_precision\n"
     ]
    },
    {
     "name": "stdout",
     "output_type": "stream",
     "text": [
      "(1024, 1024, 3)\n",
      "the loaded normals are defined in the system of front view\n",
      "(1024, 1024, 3)\n",
      "the loaded normals are defined in the system of front view\n",
      "(1024, 1024, 3)\n",
      "the loaded normals are defined in the system of front view\n",
      "(1024, 1024, 3)\n",
      "the loaded normals are defined in the system of front view\n",
      "(1024, 1024, 3)\n",
      "the loaded normals are defined in the system of front view\n",
      "(1024, 1024, 3)\n",
      "the loaded normals are defined in the system of front view\n"
     ]
    },
    {
     "name": "stderr",
     "output_type": "stream",
     "text": [
      "LOCAL_RANK: 0 - CUDA_VISIBLE_DEVICES: [0]\n"
     ]
    },
    {
     "name": "stdout",
     "output_type": "stream",
     "text": [
      "Testing DataLoader 0: 100%|██████████| 6/6 [00:00<00:00, 799.47it/s]"
     ]
    },
    {
     "name": "stderr",
     "output_type": "stream",
     "text": [
      "Update grid level to 7\n",
      "Update finite_difference_eps to 0.011841535675862488\n"
     ]
    },
    {
     "name": "stdout",
     "output_type": "stream",
     "text": [
      "ortho scale is:  1.35\n",
      "Testing DataLoader 0: 100%|██████████| 6/6 [00:01<00:00,  3.24it/s] \n"
     ]
    },
    {
     "name": "stderr",
     "output_type": "stream",
     "text": [
      "Global seed set to 42\n",
      "Using finite difference to compute gradients with eps=progressive\n",
      "Using 16bit None Automatic Mixed Precision (AMP)\n",
      "GPU available: True (cuda), used: True\n",
      "TPU available: False, using: 0 TPU cores\n",
      "IPU available: False, using: 0 IPUs\n",
      "HPU available: False, using: 0 HPUs\n",
      "`Trainer(limit_train_batches=1.0)` was configured so 100% of the batches per epoch will be used..\n",
      "[rank: 0] Global seed set to 42\n",
      "Initializing distributed: GLOBAL_RANK: 0, MEMBER: 1/1\n",
      "----------------------------------------------------------------------------------------------------\n",
      "distributed_backend=nccl\n",
      "All distributed processes registered. Starting with 1 processes\n",
      "----------------------------------------------------------------------------------------------------\n",
      "\n",
      "You are using a CUDA device ('NVIDIA GeForce RTX 4090') that has Tensor Cores. To properly utilize them, you should set `torch.set_float32_matmul_precision('medium' | 'high')` which will trade-off precision for performance. For more details, read https://pytorch.org/docs/stable/generated/torch.set_float32_matmul_precision.html#torch.set_float32_matmul_precision\n"
     ]
    },
    {
     "name": "stdout",
     "output_type": "stream",
     "text": [
      "(1024, 1024, 3)\n",
      "the loaded normals are defined in the system of front view\n",
      "(1024, 1024, 3)\n",
      "the loaded normals are defined in the system of front view\n",
      "(1024, 1024, 3)\n",
      "the loaded normals are defined in the system of front view\n",
      "(1024, 1024, 3)\n",
      "the loaded normals are defined in the system of front view\n",
      "(1024, 1024, 3)\n",
      "the loaded normals are defined in the system of front view\n",
      "(1024, 1024, 3)\n",
      "the loaded normals are defined in the system of front view\n",
      "(1024, 1024, 3)\n",
      "the loaded normals are defined in the system of front view\n",
      "(1024, 1024, 3)\n",
      "the loaded normals are defined in the system of front view\n",
      "(1024, 1024, 3)\n",
      "the loaded normals are defined in the system of front view\n",
      "(1024, 1024, 3)\n",
      "the loaded normals are defined in the system of front view\n",
      "(1024, 1024, 3)\n",
      "the loaded normals are defined in the system of front view\n",
      "(1024, 1024, 3)\n",
      "the loaded normals are defined in the system of front view\n"
     ]
    },
    {
     "name": "stderr",
     "output_type": "stream",
     "text": [
      "LOCAL_RANK: 0 - CUDA_VISIBLE_DEVICES: [0]\n",
      "\n",
      "  | Name  | Type             | Params\n",
      "-------------------------------------------\n",
      "0 | cos   | CosineSimilarity | 0     \n",
      "1 | model | NeuSModel        | 7.7 M \n",
      "-------------------------------------------\n",
      "7.7 M     Trainable params\n",
      "0         Non-trainable params\n",
      "7.7 M     Total params\n",
      "15.371    Total estimated model params size (MB)\n"
     ]
    },
    {
     "name": "stdout",
     "output_type": "stream",
     "text": [
      "Epoch 0: : 0it [00:00, ?it/s]"
     ]
    },
    {
     "name": "stderr",
     "output_type": "stream",
     "text": [
      "Update finite_difference_eps to 0.027204705103003882\n"
     ]
    },
    {
     "name": "stdout",
     "output_type": "stream",
     "text": [
      "Epoch 0: : 501it [00:14, 35.69it/s, loss=0.0617, train/loss_rgb_mse=0.0483, train/loss_normal=0.00721, train/loss_eikonal=0.0125, train/loss_mask=0.0112, train/loss_sparsity=0.00106, train/loss_3d_normal_smooth=0.0134, train/inv_s=106.0, train/num_rays=2875.0] "
     ]
    },
    {
     "name": "stderr",
     "output_type": "stream",
     "text": [
      "/home/yuxuan/miniconda3/envs/wonder3d/lib/python3.9/site-packages/torch/optim/lr_scheduler.py:163: UserWarning: The epoch parameter in `scheduler.step()` was not necessary and is being deprecated where possible. Please use `scheduler.step()` to step the scheduler. During the deprecation, if epoch is different from None, the closed form is used instead of the new chainable form, where available. Please open an issue if you are unable to replicate your use case: https://github.com/pytorch/pytorch/issues/new/choose.\n",
      "  warnings.warn(EPOCH_DEPRECATION_WARNING, UserWarning)\n"
     ]
    },
    {
     "name": "stdout",
     "output_type": "stream",
     "text": [
      "Epoch 0: : 1005it [00:27, 36.66it/s, loss=0.0499, train/loss_rgb_mse=0.0709, train/loss_normal=0.00692, train/loss_eikonal=0.0119, train/loss_mask=0.00757, train/loss_sparsity=0.00158, train/loss_3d_normal_smooth=0.0126, train/inv_s=255.0, train/num_rays=4793.0] "
     ]
    },
    {
     "name": "stderr",
     "output_type": "stream",
     "text": [
      "Update grid level to 5\n",
      "Update finite_difference_eps to 0.02061731110582648\n"
     ]
    },
    {
     "name": "stdout",
     "output_type": "stream",
     "text": [
      "Epoch 0: : 2008it [00:44, 45.32it/s, loss=0.0384, train/loss_rgb_mse=0.0454, train/loss_normal=0.00499, train/loss_eikonal=0.014, train/loss_mask=0.000682, train/loss_sparsity=0.00454, train/loss_3d_normal_smooth=0.0118, train/inv_s=398.0, train/num_rays=8192.0]  "
     ]
    },
    {
     "name": "stderr",
     "output_type": "stream",
     "text": [
      "Update grid level to 6\n",
      "Update finite_difference_eps to 0.015625000000000003\n"
     ]
    },
    {
     "name": "stdout",
     "output_type": "stream",
     "text": [
      "Epoch 0: : 3000it [00:57, 52.24it/s, loss=0.0359, train/loss_rgb_mse=0.0273, train/loss_normal=0.00482, train/loss_eikonal=0.00815, train/loss_mask=0.00068, train/loss_sparsity=0.00269, train/loss_3d_normal_smooth=0.00924, train/inv_s=464.0, train/num_rays=8192.0] \n"
     ]
    },
    {
     "name": "stderr",
     "output_type": "stream",
     "text": [
      "`Trainer.fit` stopped: `max_steps=3000` reached.\n",
      "[rank: 0] Global seed set to 42\n",
      "You are using a CUDA device ('NVIDIA GeForce RTX 4090') that has Tensor Cores. To properly utilize them, you should set `torch.set_float32_matmul_precision('medium' | 'high')` which will trade-off precision for performance. For more details, read https://pytorch.org/docs/stable/generated/torch.set_float32_matmul_precision.html#torch.set_float32_matmul_precision\n"
     ]
    },
    {
     "name": "stdout",
     "output_type": "stream",
     "text": [
      "(1024, 1024, 3)\n",
      "the loaded normals are defined in the system of front view\n",
      "(1024, 1024, 3)\n",
      "the loaded normals are defined in the system of front view\n",
      "(1024, 1024, 3)\n",
      "the loaded normals are defined in the system of front view\n",
      "(1024, 1024, 3)\n",
      "the loaded normals are defined in the system of front view\n",
      "(1024, 1024, 3)\n",
      "the loaded normals are defined in the system of front view\n",
      "(1024, 1024, 3)\n",
      "the loaded normals are defined in the system of front view\n"
     ]
    },
    {
     "name": "stderr",
     "output_type": "stream",
     "text": [
      "LOCAL_RANK: 0 - CUDA_VISIBLE_DEVICES: [0]\n"
     ]
    },
    {
     "name": "stdout",
     "output_type": "stream",
     "text": [
      "Testing DataLoader 0: 100%|██████████| 6/6 [00:00<00:00, 762.95it/s]"
     ]
    },
    {
     "name": "stderr",
     "output_type": "stream",
     "text": [
      "Update grid level to 7\n",
      "Update finite_difference_eps to 0.011841535675862488\n"
     ]
    },
    {
     "name": "stdout",
     "output_type": "stream",
     "text": [
      "ortho scale is:  1.35\n",
      "Testing DataLoader 0: 100%|██████████| 6/6 [00:01<00:00,  3.32it/s] \n"
     ]
    },
    {
     "name": "stderr",
     "output_type": "stream",
     "text": [
      "Global seed set to 42\n",
      "Using finite difference to compute gradients with eps=progressive\n",
      "Using 16bit None Automatic Mixed Precision (AMP)\n",
      "GPU available: True (cuda), used: True\n",
      "TPU available: False, using: 0 TPU cores\n",
      "IPU available: False, using: 0 IPUs\n",
      "HPU available: False, using: 0 HPUs\n",
      "`Trainer(limit_train_batches=1.0)` was configured so 100% of the batches per epoch will be used..\n",
      "[rank: 0] Global seed set to 42\n",
      "Initializing distributed: GLOBAL_RANK: 0, MEMBER: 1/1\n",
      "----------------------------------------------------------------------------------------------------\n",
      "distributed_backend=nccl\n",
      "All distributed processes registered. Starting with 1 processes\n",
      "----------------------------------------------------------------------------------------------------\n",
      "\n",
      "You are using a CUDA device ('NVIDIA GeForce RTX 4090') that has Tensor Cores. To properly utilize them, you should set `torch.set_float32_matmul_precision('medium' | 'high')` which will trade-off precision for performance. For more details, read https://pytorch.org/docs/stable/generated/torch.set_float32_matmul_precision.html#torch.set_float32_matmul_precision\n"
     ]
    },
    {
     "name": "stdout",
     "output_type": "stream",
     "text": [
      "(1024, 1024, 3)\n",
      "the loaded normals are defined in the system of front view\n",
      "(1024, 1024, 3)\n",
      "the loaded normals are defined in the system of front view\n",
      "(1024, 1024, 3)\n",
      "the loaded normals are defined in the system of front view\n",
      "(1024, 1024, 3)\n",
      "the loaded normals are defined in the system of front view\n",
      "(1024, 1024, 3)\n",
      "the loaded normals are defined in the system of front view\n",
      "(1024, 1024, 3)\n",
      "the loaded normals are defined in the system of front view\n",
      "(1024, 1024, 3)\n",
      "the loaded normals are defined in the system of front view\n",
      "(1024, 1024, 3)\n",
      "the loaded normals are defined in the system of front view\n",
      "(1024, 1024, 3)\n",
      "the loaded normals are defined in the system of front view\n",
      "(1024, 1024, 3)\n",
      "the loaded normals are defined in the system of front view\n",
      "(1024, 1024, 3)\n",
      "the loaded normals are defined in the system of front view\n",
      "(1024, 1024, 3)\n",
      "the loaded normals are defined in the system of front view\n"
     ]
    },
    {
     "name": "stderr",
     "output_type": "stream",
     "text": [
      "LOCAL_RANK: 0 - CUDA_VISIBLE_DEVICES: [0]\n",
      "\n",
      "  | Name  | Type             | Params\n",
      "-------------------------------------------\n",
      "0 | cos   | CosineSimilarity | 0     \n",
      "1 | model | NeuSModel        | 7.7 M \n",
      "-------------------------------------------\n",
      "7.7 M     Trainable params\n",
      "0         Non-trainable params\n",
      "7.7 M     Total params\n",
      "15.371    Total estimated model params size (MB)\n"
     ]
    },
    {
     "name": "stdout",
     "output_type": "stream",
     "text": [
      "Epoch 0: : 0it [00:00, ?it/s]"
     ]
    },
    {
     "name": "stderr",
     "output_type": "stream",
     "text": [
      "Update finite_difference_eps to 0.027204705103003882\n"
     ]
    },
    {
     "name": "stdout",
     "output_type": "stream",
     "text": [
      "Epoch 0: : 502it [00:14, 35.75it/s, loss=0.0664, train/loss_rgb_mse=0.0638, train/loss_normal=0.00688, train/loss_eikonal=0.0124, train/loss_mask=0.0138, train/loss_sparsity=0.00297, train/loss_3d_normal_smooth=0.0148, train/inv_s=105.0, train/num_rays=2897.0] "
     ]
    },
    {
     "name": "stderr",
     "output_type": "stream",
     "text": [
      "/home/yuxuan/miniconda3/envs/wonder3d/lib/python3.9/site-packages/torch/optim/lr_scheduler.py:163: UserWarning: The epoch parameter in `scheduler.step()` was not necessary and is being deprecated where possible. Please use `scheduler.step()` to step the scheduler. During the deprecation, if epoch is different from None, the closed form is used instead of the new chainable form, where available. Please open an issue if you are unable to replicate your use case: https://github.com/pytorch/pytorch/issues/new/choose.\n",
      "  warnings.warn(EPOCH_DEPRECATION_WARNING, UserWarning)\n"
     ]
    },
    {
     "name": "stdout",
     "output_type": "stream",
     "text": [
      "Epoch 0: : 1003it [00:26, 37.84it/s, loss=0.0483, train/loss_rgb_mse=0.028, train/loss_normal=0.00598, train/loss_eikonal=0.0115, train/loss_mask=0.00343, train/loss_sparsity=0.00217, train/loss_3d_normal_smooth=0.0129, train/inv_s=278.0, train/num_rays=4846.0]  "
     ]
    },
    {
     "name": "stderr",
     "output_type": "stream",
     "text": [
      "Update grid level to 5\n",
      "Update finite_difference_eps to 0.02061731110582648\n"
     ]
    },
    {
     "name": "stdout",
     "output_type": "stream",
     "text": [
      "Epoch 0: : 2010it [00:42, 47.04it/s, loss=0.0364, train/loss_rgb_mse=0.0283, train/loss_normal=0.00541, train/loss_eikonal=0.0202, train/loss_mask=0.00068, train/loss_sparsity=0.00356, train/loss_3d_normal_smooth=0.012, train/inv_s=486.0, train/num_rays=8192.0]   "
     ]
    },
    {
     "name": "stderr",
     "output_type": "stream",
     "text": [
      "Update grid level to 6\n",
      "Update finite_difference_eps to 0.015625000000000003\n"
     ]
    },
    {
     "name": "stdout",
     "output_type": "stream",
     "text": [
      "Epoch 0: : 3000it [00:55, 54.29it/s, loss=0.033, train/loss_rgb_mse=0.0305, train/loss_normal=0.00578, train/loss_eikonal=0.0113, train/loss_mask=0.000687, train/loss_sparsity=0.00247, train/loss_3d_normal_smooth=0.00906, train/inv_s=578.0, train/num_rays=8192.0] \n"
     ]
    },
    {
     "name": "stderr",
     "output_type": "stream",
     "text": [
      "`Trainer.fit` stopped: `max_steps=3000` reached.\n",
      "[rank: 0] Global seed set to 42\n",
      "You are using a CUDA device ('NVIDIA GeForce RTX 4090') that has Tensor Cores. To properly utilize them, you should set `torch.set_float32_matmul_precision('medium' | 'high')` which will trade-off precision for performance. For more details, read https://pytorch.org/docs/stable/generated/torch.set_float32_matmul_precision.html#torch.set_float32_matmul_precision\n"
     ]
    },
    {
     "name": "stdout",
     "output_type": "stream",
     "text": [
      "(1024, 1024, 3)\n",
      "the loaded normals are defined in the system of front view\n",
      "(1024, 1024, 3)\n",
      "the loaded normals are defined in the system of front view\n",
      "(1024, 1024, 3)\n",
      "the loaded normals are defined in the system of front view\n",
      "(1024, 1024, 3)\n",
      "the loaded normals are defined in the system of front view\n",
      "(1024, 1024, 3)\n",
      "the loaded normals are defined in the system of front view\n",
      "(1024, 1024, 3)\n",
      "the loaded normals are defined in the system of front view\n"
     ]
    },
    {
     "name": "stderr",
     "output_type": "stream",
     "text": [
      "LOCAL_RANK: 0 - CUDA_VISIBLE_DEVICES: [0]\n"
     ]
    },
    {
     "name": "stdout",
     "output_type": "stream",
     "text": [
      "Testing DataLoader 0: 100%|██████████| 6/6 [00:00<00:00, 788.72it/s]"
     ]
    },
    {
     "name": "stderr",
     "output_type": "stream",
     "text": [
      "Update grid level to 7\n",
      "Update finite_difference_eps to 0.011841535675862488\n"
     ]
    },
    {
     "name": "stdout",
     "output_type": "stream",
     "text": [
      "ortho scale is:  1.35\n",
      "Testing DataLoader 0: 100%|██████████| 6/6 [00:01<00:00,  3.15it/s] \n"
     ]
    },
    {
     "name": "stderr",
     "output_type": "stream",
     "text": [
      "Global seed set to 42\n",
      "Using finite difference to compute gradients with eps=progressive\n",
      "Using 16bit None Automatic Mixed Precision (AMP)\n",
      "GPU available: True (cuda), used: True\n",
      "TPU available: False, using: 0 TPU cores\n",
      "IPU available: False, using: 0 IPUs\n",
      "HPU available: False, using: 0 HPUs\n",
      "`Trainer(limit_train_batches=1.0)` was configured so 100% of the batches per epoch will be used..\n",
      "[rank: 0] Global seed set to 42\n",
      "Initializing distributed: GLOBAL_RANK: 0, MEMBER: 1/1\n",
      "----------------------------------------------------------------------------------------------------\n",
      "distributed_backend=nccl\n",
      "All distributed processes registered. Starting with 1 processes\n",
      "----------------------------------------------------------------------------------------------------\n",
      "\n",
      "You are using a CUDA device ('NVIDIA GeForce RTX 4090') that has Tensor Cores. To properly utilize them, you should set `torch.set_float32_matmul_precision('medium' | 'high')` which will trade-off precision for performance. For more details, read https://pytorch.org/docs/stable/generated/torch.set_float32_matmul_precision.html#torch.set_float32_matmul_precision\n"
     ]
    },
    {
     "name": "stdout",
     "output_type": "stream",
     "text": [
      "(1024, 1024, 3)\n",
      "the loaded normals are defined in the system of front view\n",
      "(1024, 1024, 3)\n",
      "the loaded normals are defined in the system of front view\n",
      "(1024, 1024, 3)\n",
      "the loaded normals are defined in the system of front view\n",
      "(1024, 1024, 3)\n",
      "the loaded normals are defined in the system of front view\n",
      "(1024, 1024, 3)\n",
      "the loaded normals are defined in the system of front view\n",
      "(1024, 1024, 3)\n",
      "the loaded normals are defined in the system of front view\n",
      "(1024, 1024, 3)\n",
      "the loaded normals are defined in the system of front view\n",
      "(1024, 1024, 3)\n",
      "the loaded normals are defined in the system of front view\n",
      "(1024, 1024, 3)\n",
      "the loaded normals are defined in the system of front view\n",
      "(1024, 1024, 3)\n",
      "the loaded normals are defined in the system of front view\n",
      "(1024, 1024, 3)\n",
      "the loaded normals are defined in the system of front view\n",
      "(1024, 1024, 3)\n",
      "the loaded normals are defined in the system of front view\n"
     ]
    },
    {
     "name": "stderr",
     "output_type": "stream",
     "text": [
      "LOCAL_RANK: 0 - CUDA_VISIBLE_DEVICES: [0]\n",
      "\n",
      "  | Name  | Type             | Params\n",
      "-------------------------------------------\n",
      "0 | cos   | CosineSimilarity | 0     \n",
      "1 | model | NeuSModel        | 7.7 M \n",
      "-------------------------------------------\n",
      "7.7 M     Trainable params\n",
      "0         Non-trainable params\n",
      "7.7 M     Total params\n",
      "15.371    Total estimated model params size (MB)\n"
     ]
    },
    {
     "name": "stdout",
     "output_type": "stream",
     "text": [
      "Epoch 0: : 0it [00:00, ?it/s]"
     ]
    },
    {
     "name": "stderr",
     "output_type": "stream",
     "text": [
      "Update finite_difference_eps to 0.027204705103003882\n"
     ]
    },
    {
     "name": "stdout",
     "output_type": "stream",
     "text": [
      "Epoch 0: : 501it [00:13, 36.01it/s, loss=0.0773, train/loss_rgb_mse=0.0894, train/loss_normal=0.0136, train/loss_eikonal=0.0125, train/loss_mask=0.0115, train/loss_sparsity=0.00271, train/loss_3d_normal_smooth=0.014, train/inv_s=98.60, train/num_rays=2817.0]  "
     ]
    },
    {
     "name": "stderr",
     "output_type": "stream",
     "text": [
      "/home/yuxuan/miniconda3/envs/wonder3d/lib/python3.9/site-packages/torch/optim/lr_scheduler.py:163: UserWarning: The epoch parameter in `scheduler.step()` was not necessary and is being deprecated where possible. Please use `scheduler.step()` to step the scheduler. During the deprecation, if epoch is different from None, the closed form is used instead of the new chainable form, where available. Please open an issue if you are unable to replicate your use case: https://github.com/pytorch/pytorch/issues/new/choose.\n",
      "  warnings.warn(EPOCH_DEPRECATION_WARNING, UserWarning)\n"
     ]
    },
    {
     "name": "stdout",
     "output_type": "stream",
     "text": [
      "Epoch 0: : 1005it [00:27, 37.03it/s, loss=0.062, train/loss_rgb_mse=0.0593, train/loss_normal=0.0101, train/loss_eikonal=0.0131, train/loss_mask=0.00641, train/loss_sparsity=0.00169, train/loss_3d_normal_smooth=0.0138, train/inv_s=179.0, train/num_rays=4761.0]   "
     ]
    },
    {
     "name": "stderr",
     "output_type": "stream",
     "text": [
      "Update grid level to 5\n",
      "Update finite_difference_eps to 0.02061731110582648\n"
     ]
    },
    {
     "name": "stdout",
     "output_type": "stream",
     "text": [
      "Epoch 0: : 2008it [00:44, 44.91it/s, loss=0.0478, train/loss_rgb_mse=0.0515, train/loss_normal=0.0102, train/loss_eikonal=0.023, train/loss_mask=0.000677, train/loss_sparsity=0.00352, train/loss_3d_normal_smooth=0.0132, train/inv_s=263.0, train/num_rays=8192.0]  "
     ]
    },
    {
     "name": "stderr",
     "output_type": "stream",
     "text": [
      "Update grid level to 6\n",
      "Update finite_difference_eps to 0.015625000000000003\n"
     ]
    },
    {
     "name": "stdout",
     "output_type": "stream",
     "text": [
      "Epoch 0: : 3000it [00:58, 51.09it/s, loss=0.0451, train/loss_rgb_mse=0.0418, train/loss_normal=0.00877, train/loss_eikonal=0.0162, train/loss_mask=0.000684, train/loss_sparsity=0.00411, train/loss_3d_normal_smooth=0.0107, train/inv_s=312.0, train/num_rays=8192.0]  \n"
     ]
    },
    {
     "name": "stderr",
     "output_type": "stream",
     "text": [
      "`Trainer.fit` stopped: `max_steps=3000` reached.\n",
      "[rank: 0] Global seed set to 42\n",
      "You are using a CUDA device ('NVIDIA GeForce RTX 4090') that has Tensor Cores. To properly utilize them, you should set `torch.set_float32_matmul_precision('medium' | 'high')` which will trade-off precision for performance. For more details, read https://pytorch.org/docs/stable/generated/torch.set_float32_matmul_precision.html#torch.set_float32_matmul_precision\n"
     ]
    },
    {
     "name": "stdout",
     "output_type": "stream",
     "text": [
      "(1024, 1024, 3)\n",
      "the loaded normals are defined in the system of front view\n",
      "(1024, 1024, 3)\n",
      "the loaded normals are defined in the system of front view\n",
      "(1024, 1024, 3)\n",
      "the loaded normals are defined in the system of front view\n",
      "(1024, 1024, 3)\n",
      "the loaded normals are defined in the system of front view\n",
      "(1024, 1024, 3)\n",
      "the loaded normals are defined in the system of front view\n",
      "(1024, 1024, 3)\n",
      "the loaded normals are defined in the system of front view\n"
     ]
    },
    {
     "name": "stderr",
     "output_type": "stream",
     "text": [
      "LOCAL_RANK: 0 - CUDA_VISIBLE_DEVICES: [0]\n"
     ]
    },
    {
     "name": "stdout",
     "output_type": "stream",
     "text": [
      "Testing DataLoader 0: 100%|██████████| 6/6 [00:00<00:00, 798.13it/s]"
     ]
    },
    {
     "name": "stderr",
     "output_type": "stream",
     "text": [
      "Update grid level to 7\n",
      "Update finite_difference_eps to 0.011841535675862488\n"
     ]
    },
    {
     "name": "stdout",
     "output_type": "stream",
     "text": [
      "ortho scale is:  1.35\n",
      "Testing DataLoader 0: 100%|██████████| 6/6 [00:01<00:00,  3.42it/s] \n"
     ]
    },
    {
     "name": "stderr",
     "output_type": "stream",
     "text": [
      "Global seed set to 42\n",
      "Using finite difference to compute gradients with eps=progressive\n",
      "Using 16bit None Automatic Mixed Precision (AMP)\n",
      "GPU available: True (cuda), used: True\n",
      "TPU available: False, using: 0 TPU cores\n",
      "IPU available: False, using: 0 IPUs\n",
      "HPU available: False, using: 0 HPUs\n",
      "`Trainer(limit_train_batches=1.0)` was configured so 100% of the batches per epoch will be used..\n",
      "[rank: 0] Global seed set to 42\n",
      "Initializing distributed: GLOBAL_RANK: 0, MEMBER: 1/1\n",
      "----------------------------------------------------------------------------------------------------\n",
      "distributed_backend=nccl\n",
      "All distributed processes registered. Starting with 1 processes\n",
      "----------------------------------------------------------------------------------------------------\n",
      "\n",
      "You are using a CUDA device ('NVIDIA GeForce RTX 4090') that has Tensor Cores. To properly utilize them, you should set `torch.set_float32_matmul_precision('medium' | 'high')` which will trade-off precision for performance. For more details, read https://pytorch.org/docs/stable/generated/torch.set_float32_matmul_precision.html#torch.set_float32_matmul_precision\n"
     ]
    },
    {
     "name": "stdout",
     "output_type": "stream",
     "text": [
      "(1024, 1024, 3)\n",
      "the loaded normals are defined in the system of front view\n",
      "(1024, 1024, 3)\n",
      "the loaded normals are defined in the system of front view\n",
      "(1024, 1024, 3)\n",
      "the loaded normals are defined in the system of front view\n",
      "(1024, 1024, 3)\n",
      "the loaded normals are defined in the system of front view\n",
      "(1024, 1024, 3)\n",
      "the loaded normals are defined in the system of front view\n",
      "(1024, 1024, 3)\n",
      "the loaded normals are defined in the system of front view\n",
      "(1024, 1024, 3)\n",
      "the loaded normals are defined in the system of front view\n",
      "(1024, 1024, 3)\n",
      "the loaded normals are defined in the system of front view\n",
      "(1024, 1024, 3)\n",
      "the loaded normals are defined in the system of front view\n",
      "(1024, 1024, 3)\n",
      "the loaded normals are defined in the system of front view\n",
      "(1024, 1024, 3)\n",
      "the loaded normals are defined in the system of front view\n",
      "(1024, 1024, 3)\n",
      "the loaded normals are defined in the system of front view\n"
     ]
    },
    {
     "name": "stderr",
     "output_type": "stream",
     "text": [
      "LOCAL_RANK: 0 - CUDA_VISIBLE_DEVICES: [0]\n",
      "\n",
      "  | Name  | Type             | Params\n",
      "-------------------------------------------\n",
      "0 | cos   | CosineSimilarity | 0     \n",
      "1 | model | NeuSModel        | 7.7 M \n",
      "-------------------------------------------\n",
      "7.7 M     Trainable params\n",
      "0         Non-trainable params\n",
      "7.7 M     Total params\n",
      "15.371    Total estimated model params size (MB)\n"
     ]
    },
    {
     "name": "stdout",
     "output_type": "stream",
     "text": [
      "Epoch 0: : 0it [00:00, ?it/s]"
     ]
    },
    {
     "name": "stderr",
     "output_type": "stream",
     "text": [
      "Update finite_difference_eps to 0.027204705103003882\n"
     ]
    },
    {
     "name": "stdout",
     "output_type": "stream",
     "text": [
      "Epoch 0: : 499it [00:13, 36.48it/s, loss=0.0549, train/loss_rgb_mse=0.0393, train/loss_normal=0.00788, train/loss_eikonal=0.0101, train/loss_mask=0.00995, train/loss_sparsity=0.00246, train/loss_3d_normal_smooth=0.0131, train/inv_s=108.0, train/num_rays=2889.0] "
     ]
    },
    {
     "name": "stderr",
     "output_type": "stream",
     "text": [
      "/home/yuxuan/miniconda3/envs/wonder3d/lib/python3.9/site-packages/torch/optim/lr_scheduler.py:163: UserWarning: The epoch parameter in `scheduler.step()` was not necessary and is being deprecated where possible. Please use `scheduler.step()` to step the scheduler. During the deprecation, if epoch is different from None, the closed form is used instead of the new chainable form, where available. Please open an issue if you are unable to replicate your use case: https://github.com/pytorch/pytorch/issues/new/choose.\n",
      "  warnings.warn(EPOCH_DEPRECATION_WARNING, UserWarning)\n"
     ]
    },
    {
     "name": "stdout",
     "output_type": "stream",
     "text": [
      "Epoch 0: : 1004it [00:26, 37.89it/s, loss=0.0423, train/loss_rgb_mse=0.0306, train/loss_normal=0.00606, train/loss_eikonal=0.0104, train/loss_mask=0.00448, train/loss_sparsity=0.00192, train/loss_3d_normal_smooth=0.0129, train/inv_s=246.0, train/num_rays=4831.0] "
     ]
    },
    {
     "name": "stderr",
     "output_type": "stream",
     "text": [
      "Update grid level to 5\n",
      "Update finite_difference_eps to 0.02061731110582648\n"
     ]
    },
    {
     "name": "stdout",
     "output_type": "stream",
     "text": [
      "Epoch 0: : 2003it [00:43, 46.36it/s, loss=0.033, train/loss_rgb_mse=0.0277, train/loss_normal=0.00454, train/loss_eikonal=0.0133, train/loss_mask=0.000683, train/loss_sparsity=0.00248, train/loss_3d_normal_smooth=0.011, train/inv_s=351.0, train/num_rays=8192.0]    "
     ]
    },
    {
     "name": "stderr",
     "output_type": "stream",
     "text": [
      "Update grid level to 6\n",
      "Update finite_difference_eps to 0.015625000000000003\n"
     ]
    },
    {
     "name": "stdout",
     "output_type": "stream",
     "text": [
      "Epoch 0: : 3000it [00:56, 53.05it/s, loss=0.0302, train/loss_rgb_mse=0.0265, train/loss_normal=0.0049, train/loss_eikonal=0.00853, train/loss_mask=0.000682, train/loss_sparsity=0.00213, train/loss_3d_normal_smooth=0.00877, train/inv_s=381.0, train/num_rays=8192.0]  \n"
     ]
    },
    {
     "name": "stderr",
     "output_type": "stream",
     "text": [
      "`Trainer.fit` stopped: `max_steps=3000` reached.\n",
      "[rank: 0] Global seed set to 42\n",
      "You are using a CUDA device ('NVIDIA GeForce RTX 4090') that has Tensor Cores. To properly utilize them, you should set `torch.set_float32_matmul_precision('medium' | 'high')` which will trade-off precision for performance. For more details, read https://pytorch.org/docs/stable/generated/torch.set_float32_matmul_precision.html#torch.set_float32_matmul_precision\n"
     ]
    },
    {
     "name": "stdout",
     "output_type": "stream",
     "text": [
      "(1024, 1024, 3)\n",
      "the loaded normals are defined in the system of front view\n",
      "(1024, 1024, 3)\n",
      "the loaded normals are defined in the system of front view\n",
      "(1024, 1024, 3)\n",
      "the loaded normals are defined in the system of front view\n",
      "(1024, 1024, 3)\n",
      "the loaded normals are defined in the system of front view\n",
      "(1024, 1024, 3)\n",
      "the loaded normals are defined in the system of front view\n",
      "(1024, 1024, 3)\n",
      "the loaded normals are defined in the system of front view\n",
      "Testing: 0it [00:00, ?it/s]"
     ]
    },
    {
     "name": "stderr",
     "output_type": "stream",
     "text": [
      "LOCAL_RANK: 0 - CUDA_VISIBLE_DEVICES: [0]\n"
     ]
    },
    {
     "name": "stdout",
     "output_type": "stream",
     "text": [
      "Testing DataLoader 0: 100%|██████████| 6/6 [00:00<00:00, 827.44it/s]"
     ]
    },
    {
     "name": "stderr",
     "output_type": "stream",
     "text": [
      "Update grid level to 7\n",
      "Update finite_difference_eps to 0.011841535675862488\n"
     ]
    },
    {
     "name": "stdout",
     "output_type": "stream",
     "text": [
      "ortho scale is:  1.35\n",
      "Testing DataLoader 0: 100%|██████████| 6/6 [00:01<00:00,  3.37it/s] \n"
     ]
    },
    {
     "name": "stderr",
     "output_type": "stream",
     "text": [
      "Global seed set to 42\n",
      "Using finite difference to compute gradients with eps=progressive\n",
      "Using 16bit None Automatic Mixed Precision (AMP)\n",
      "GPU available: True (cuda), used: True\n",
      "TPU available: False, using: 0 TPU cores\n",
      "IPU available: False, using: 0 IPUs\n",
      "HPU available: False, using: 0 HPUs\n",
      "`Trainer(limit_train_batches=1.0)` was configured so 100% of the batches per epoch will be used..\n",
      "[rank: 0] Global seed set to 42\n",
      "Initializing distributed: GLOBAL_RANK: 0, MEMBER: 1/1\n",
      "----------------------------------------------------------------------------------------------------\n",
      "distributed_backend=nccl\n",
      "All distributed processes registered. Starting with 1 processes\n",
      "----------------------------------------------------------------------------------------------------\n",
      "\n",
      "You are using a CUDA device ('NVIDIA GeForce RTX 4090') that has Tensor Cores. To properly utilize them, you should set `torch.set_float32_matmul_precision('medium' | 'high')` which will trade-off precision for performance. For more details, read https://pytorch.org/docs/stable/generated/torch.set_float32_matmul_precision.html#torch.set_float32_matmul_precision\n"
     ]
    },
    {
     "name": "stdout",
     "output_type": "stream",
     "text": [
      "(1024, 1024, 3)\n",
      "the loaded normals are defined in the system of front view\n",
      "(1024, 1024, 3)\n",
      "the loaded normals are defined in the system of front view\n",
      "(1024, 1024, 3)\n",
      "the loaded normals are defined in the system of front view\n",
      "(1024, 1024, 3)\n",
      "the loaded normals are defined in the system of front view\n",
      "(1024, 1024, 3)\n",
      "the loaded normals are defined in the system of front view\n",
      "(1024, 1024, 3)\n",
      "the loaded normals are defined in the system of front view\n",
      "(1024, 1024, 3)\n",
      "the loaded normals are defined in the system of front view\n",
      "(1024, 1024, 3)\n",
      "the loaded normals are defined in the system of front view\n",
      "(1024, 1024, 3)\n",
      "the loaded normals are defined in the system of front view\n",
      "(1024, 1024, 3)\n",
      "the loaded normals are defined in the system of front view\n",
      "(1024, 1024, 3)\n",
      "the loaded normals are defined in the system of front view\n",
      "(1024, 1024, 3)\n",
      "the loaded normals are defined in the system of front view\n"
     ]
    },
    {
     "name": "stderr",
     "output_type": "stream",
     "text": [
      "LOCAL_RANK: 0 - CUDA_VISIBLE_DEVICES: [0]\n",
      "\n",
      "  | Name  | Type             | Params\n",
      "-------------------------------------------\n",
      "0 | cos   | CosineSimilarity | 0     \n",
      "1 | model | NeuSModel        | 7.7 M \n",
      "-------------------------------------------\n",
      "7.7 M     Trainable params\n",
      "0         Non-trainable params\n",
      "7.7 M     Total params\n",
      "15.371    Total estimated model params size (MB)\n"
     ]
    },
    {
     "name": "stdout",
     "output_type": "stream",
     "text": [
      "Epoch 0: : 0it [00:00, ?it/s]"
     ]
    },
    {
     "name": "stderr",
     "output_type": "stream",
     "text": [
      "Update finite_difference_eps to 0.027204705103003882\n"
     ]
    },
    {
     "name": "stdout",
     "output_type": "stream",
     "text": [
      "Epoch 0: : 501it [00:14, 35.72it/s, loss=0.0637, train/loss_rgb_mse=0.0778, train/loss_normal=0.00616, train/loss_eikonal=0.0104, train/loss_mask=0.00826, train/loss_sparsity=0.00247, train/loss_3d_normal_smooth=0.0137, train/inv_s=113.0, train/num_rays=2892.0]"
     ]
    },
    {
     "name": "stderr",
     "output_type": "stream",
     "text": [
      "/home/yuxuan/miniconda3/envs/wonder3d/lib/python3.9/site-packages/torch/optim/lr_scheduler.py:163: UserWarning: The epoch parameter in `scheduler.step()` was not necessary and is being deprecated where possible. Please use `scheduler.step()` to step the scheduler. During the deprecation, if epoch is different from None, the closed form is used instead of the new chainable form, where available. Please open an issue if you are unable to replicate your use case: https://github.com/pytorch/pytorch/issues/new/choose.\n",
      "  warnings.warn(EPOCH_DEPRECATION_WARNING, UserWarning)\n"
     ]
    },
    {
     "name": "stdout",
     "output_type": "stream",
     "text": [
      "Epoch 0: : 1005it [00:27, 36.82it/s, loss=0.0507, train/loss_rgb_mse=0.0622, train/loss_normal=0.00457, train/loss_eikonal=0.0119, train/loss_mask=0.0062, train/loss_sparsity=0.000762, train/loss_3d_normal_smooth=0.0125, train/inv_s=240.0, train/num_rays=4881.0] "
     ]
    },
    {
     "name": "stderr",
     "output_type": "stream",
     "text": [
      "Update grid level to 5\n",
      "Update finite_difference_eps to 0.02061731110582648\n"
     ]
    },
    {
     "name": "stdout",
     "output_type": "stream",
     "text": [
      "Epoch 0: : 2008it [00:44, 45.52it/s, loss=0.0391, train/loss_rgb_mse=0.034, train/loss_normal=0.00536, train/loss_eikonal=0.0232, train/loss_mask=0.000681, train/loss_sparsity=0.00256, train/loss_3d_normal_smooth=0.0113, train/inv_s=382.0, train/num_rays=8192.0]  "
     ]
    },
    {
     "name": "stderr",
     "output_type": "stream",
     "text": [
      "Update grid level to 6\n",
      "Update finite_difference_eps to 0.015625000000000003\n"
     ]
    },
    {
     "name": "stdout",
     "output_type": "stream",
     "text": [
      "Epoch 0: : 3000it [00:56, 52.77it/s, loss=0.0373, train/loss_rgb_mse=0.0375, train/loss_normal=0.00502, train/loss_eikonal=0.0137, train/loss_mask=0.000686, train/loss_sparsity=0.00262, train/loss_3d_normal_smooth=0.0093, train/inv_s=464.0, train/num_rays=8192.0]  \n"
     ]
    },
    {
     "name": "stderr",
     "output_type": "stream",
     "text": [
      "`Trainer.fit` stopped: `max_steps=3000` reached.\n",
      "[rank: 0] Global seed set to 42\n",
      "You are using a CUDA device ('NVIDIA GeForce RTX 4090') that has Tensor Cores. To properly utilize them, you should set `torch.set_float32_matmul_precision('medium' | 'high')` which will trade-off precision for performance. For more details, read https://pytorch.org/docs/stable/generated/torch.set_float32_matmul_precision.html#torch.set_float32_matmul_precision\n"
     ]
    },
    {
     "name": "stdout",
     "output_type": "stream",
     "text": [
      "(1024, 1024, 3)\n",
      "the loaded normals are defined in the system of front view\n",
      "(1024, 1024, 3)\n",
      "the loaded normals are defined in the system of front view\n",
      "(1024, 1024, 3)\n",
      "the loaded normals are defined in the system of front view\n",
      "(1024, 1024, 3)\n",
      "the loaded normals are defined in the system of front view\n",
      "(1024, 1024, 3)\n",
      "the loaded normals are defined in the system of front view\n",
      "(1024, 1024, 3)\n",
      "the loaded normals are defined in the system of front view\n",
      "Testing: 0it [00:00, ?it/s]"
     ]
    },
    {
     "name": "stderr",
     "output_type": "stream",
     "text": [
      "LOCAL_RANK: 0 - CUDA_VISIBLE_DEVICES: [0]\n"
     ]
    },
    {
     "name": "stdout",
     "output_type": "stream",
     "text": [
      "Testing DataLoader 0: 100%|██████████| 6/6 [00:00<00:00, 778.19it/s]"
     ]
    },
    {
     "name": "stderr",
     "output_type": "stream",
     "text": [
      "Update grid level to 7\n",
      "Update finite_difference_eps to 0.011841535675862488\n"
     ]
    },
    {
     "name": "stdout",
     "output_type": "stream",
     "text": [
      "ortho scale is:  1.35\n",
      "Testing DataLoader 0: 100%|██████████| 6/6 [00:01<00:00,  3.16it/s] \n"
     ]
    },
    {
     "name": "stderr",
     "output_type": "stream",
     "text": [
      "Global seed set to 42\n",
      "Using finite difference to compute gradients with eps=progressive\n",
      "Using 16bit None Automatic Mixed Precision (AMP)\n",
      "GPU available: True (cuda), used: True\n",
      "TPU available: False, using: 0 TPU cores\n",
      "IPU available: False, using: 0 IPUs\n",
      "HPU available: False, using: 0 HPUs\n",
      "`Trainer(limit_train_batches=1.0)` was configured so 100% of the batches per epoch will be used..\n",
      "[rank: 0] Global seed set to 42\n",
      "Initializing distributed: GLOBAL_RANK: 0, MEMBER: 1/1\n",
      "----------------------------------------------------------------------------------------------------\n",
      "distributed_backend=nccl\n",
      "All distributed processes registered. Starting with 1 processes\n",
      "----------------------------------------------------------------------------------------------------\n",
      "\n",
      "You are using a CUDA device ('NVIDIA GeForce RTX 4090') that has Tensor Cores. To properly utilize them, you should set `torch.set_float32_matmul_precision('medium' | 'high')` which will trade-off precision for performance. For more details, read https://pytorch.org/docs/stable/generated/torch.set_float32_matmul_precision.html#torch.set_float32_matmul_precision\n"
     ]
    },
    {
     "name": "stdout",
     "output_type": "stream",
     "text": [
      "(1024, 1024, 3)\n",
      "the loaded normals are defined in the system of front view\n",
      "(1024, 1024, 3)\n",
      "the loaded normals are defined in the system of front view\n",
      "(1024, 1024, 3)\n",
      "the loaded normals are defined in the system of front view\n",
      "(1024, 1024, 3)\n",
      "the loaded normals are defined in the system of front view\n",
      "(1024, 1024, 3)\n",
      "the loaded normals are defined in the system of front view\n",
      "(1024, 1024, 3)\n",
      "the loaded normals are defined in the system of front view\n",
      "(1024, 1024, 3)\n",
      "the loaded normals are defined in the system of front view\n",
      "(1024, 1024, 3)\n",
      "the loaded normals are defined in the system of front view\n",
      "(1024, 1024, 3)\n",
      "the loaded normals are defined in the system of front view\n",
      "(1024, 1024, 3)\n",
      "the loaded normals are defined in the system of front view\n",
      "(1024, 1024, 3)\n",
      "the loaded normals are defined in the system of front view\n",
      "(1024, 1024, 3)\n",
      "the loaded normals are defined in the system of front view\n"
     ]
    },
    {
     "name": "stderr",
     "output_type": "stream",
     "text": [
      "LOCAL_RANK: 0 - CUDA_VISIBLE_DEVICES: [0]\n",
      "\n",
      "  | Name  | Type             | Params\n",
      "-------------------------------------------\n",
      "0 | cos   | CosineSimilarity | 0     \n",
      "1 | model | NeuSModel        | 7.7 M \n",
      "-------------------------------------------\n",
      "7.7 M     Trainable params\n",
      "0         Non-trainable params\n",
      "7.7 M     Total params\n",
      "15.371    Total estimated model params size (MB)\n"
     ]
    },
    {
     "name": "stdout",
     "output_type": "stream",
     "text": [
      "Epoch 0: : 0it [00:00, ?it/s]"
     ]
    },
    {
     "name": "stderr",
     "output_type": "stream",
     "text": [
      "Update finite_difference_eps to 0.027204705103003882\n"
     ]
    },
    {
     "name": "stdout",
     "output_type": "stream",
     "text": [
      "Epoch 0: : 501it [00:14, 35.74it/s, loss=0.0801, train/loss_rgb_mse=0.0692, train/loss_normal=0.00731, train/loss_eikonal=0.0133, train/loss_mask=0.0152, train/loss_sparsity=0.00248, train/loss_3d_normal_smooth=0.0135, train/inv_s=88.60, train/num_rays=2909.0] "
     ]
    },
    {
     "name": "stderr",
     "output_type": "stream",
     "text": [
      "/home/yuxuan/miniconda3/envs/wonder3d/lib/python3.9/site-packages/torch/optim/lr_scheduler.py:163: UserWarning: The epoch parameter in `scheduler.step()` was not necessary and is being deprecated where possible. Please use `scheduler.step()` to step the scheduler. During the deprecation, if epoch is different from None, the closed form is used instead of the new chainable form, where available. Please open an issue if you are unable to replicate your use case: https://github.com/pytorch/pytorch/issues/new/choose.\n",
      "  warnings.warn(EPOCH_DEPRECATION_WARNING, UserWarning)\n"
     ]
    },
    {
     "name": "stdout",
     "output_type": "stream",
     "text": [
      "Epoch 0: : 1004it [00:27, 37.02it/s, loss=0.0544, train/loss_rgb_mse=0.0901, train/loss_normal=0.00784, train/loss_eikonal=0.013, train/loss_mask=0.00682, train/loss_sparsity=0.00303, train/loss_3d_normal_smooth=0.013, train/inv_s=187.0, train/num_rays=4834.0]  "
     ]
    },
    {
     "name": "stderr",
     "output_type": "stream",
     "text": [
      "Update grid level to 5\n",
      "Update finite_difference_eps to 0.02061731110582648\n"
     ]
    },
    {
     "name": "stdout",
     "output_type": "stream",
     "text": [
      "Epoch 0: : 2007it [00:43, 45.67it/s, loss=0.0423, train/loss_rgb_mse=0.041, train/loss_normal=0.00644, train/loss_eikonal=0.0233, train/loss_mask=0.000689, train/loss_sparsity=0.00176, train/loss_3d_normal_smooth=0.0109, train/inv_s=271.0, train/num_rays=8192.0]  "
     ]
    },
    {
     "name": "stderr",
     "output_type": "stream",
     "text": [
      "Update grid level to 6\n",
      "Update finite_difference_eps to 0.015625000000000003\n"
     ]
    },
    {
     "name": "stdout",
     "output_type": "stream",
     "text": [
      "Epoch 0: : 3000it [00:57, 52.34it/s, loss=0.038, train/loss_rgb_mse=0.0327, train/loss_normal=0.0084, train/loss_eikonal=0.0129, train/loss_mask=0.000687, train/loss_sparsity=0.00288, train/loss_3d_normal_smooth=0.0092, train/inv_s=305.0, train/num_rays=8192.0]    \n"
     ]
    },
    {
     "name": "stderr",
     "output_type": "stream",
     "text": [
      "`Trainer.fit` stopped: `max_steps=3000` reached.\n",
      "[rank: 0] Global seed set to 42\n",
      "You are using a CUDA device ('NVIDIA GeForce RTX 4090') that has Tensor Cores. To properly utilize them, you should set `torch.set_float32_matmul_precision('medium' | 'high')` which will trade-off precision for performance. For more details, read https://pytorch.org/docs/stable/generated/torch.set_float32_matmul_precision.html#torch.set_float32_matmul_precision\n"
     ]
    },
    {
     "name": "stdout",
     "output_type": "stream",
     "text": [
      "(1024, 1024, 3)\n",
      "the loaded normals are defined in the system of front view\n",
      "(1024, 1024, 3)\n",
      "the loaded normals are defined in the system of front view\n",
      "(1024, 1024, 3)\n",
      "the loaded normals are defined in the system of front view\n",
      "(1024, 1024, 3)\n",
      "the loaded normals are defined in the system of front view\n",
      "(1024, 1024, 3)\n",
      "the loaded normals are defined in the system of front view\n",
      "(1024, 1024, 3)\n",
      "the loaded normals are defined in the system of front view\n"
     ]
    },
    {
     "name": "stderr",
     "output_type": "stream",
     "text": [
      "LOCAL_RANK: 0 - CUDA_VISIBLE_DEVICES: [0]\n"
     ]
    },
    {
     "name": "stdout",
     "output_type": "stream",
     "text": [
      "Testing DataLoader 0: 100%|██████████| 6/6 [00:00<00:00, 825.70it/s]"
     ]
    },
    {
     "name": "stderr",
     "output_type": "stream",
     "text": [
      "Update grid level to 7\n",
      "Update finite_difference_eps to 0.011841535675862488\n"
     ]
    },
    {
     "name": "stdout",
     "output_type": "stream",
     "text": [
      "ortho scale is:  1.35\n",
      "Testing DataLoader 0: 100%|██████████| 6/6 [00:01<00:00,  3.45it/s] \n"
     ]
    },
    {
     "name": "stderr",
     "output_type": "stream",
     "text": [
      "Global seed set to 42\n",
      "Using finite difference to compute gradients with eps=progressive\n",
      "Using 16bit None Automatic Mixed Precision (AMP)\n",
      "GPU available: True (cuda), used: True\n",
      "TPU available: False, using: 0 TPU cores\n",
      "IPU available: False, using: 0 IPUs\n",
      "HPU available: False, using: 0 HPUs\n",
      "`Trainer(limit_train_batches=1.0)` was configured so 100% of the batches per epoch will be used..\n",
      "[rank: 0] Global seed set to 42\n",
      "Initializing distributed: GLOBAL_RANK: 0, MEMBER: 1/1\n",
      "----------------------------------------------------------------------------------------------------\n",
      "distributed_backend=nccl\n",
      "All distributed processes registered. Starting with 1 processes\n",
      "----------------------------------------------------------------------------------------------------\n",
      "\n",
      "You are using a CUDA device ('NVIDIA GeForce RTX 4090') that has Tensor Cores. To properly utilize them, you should set `torch.set_float32_matmul_precision('medium' | 'high')` which will trade-off precision for performance. For more details, read https://pytorch.org/docs/stable/generated/torch.set_float32_matmul_precision.html#torch.set_float32_matmul_precision\n"
     ]
    },
    {
     "name": "stdout",
     "output_type": "stream",
     "text": [
      "(1024, 1024, 3)\n",
      "the loaded normals are defined in the system of front view\n",
      "(1024, 1024, 3)\n",
      "the loaded normals are defined in the system of front view\n",
      "(1024, 1024, 3)\n",
      "the loaded normals are defined in the system of front view\n",
      "(1024, 1024, 3)\n",
      "the loaded normals are defined in the system of front view\n",
      "(1024, 1024, 3)\n",
      "the loaded normals are defined in the system of front view\n",
      "(1024, 1024, 3)\n",
      "the loaded normals are defined in the system of front view\n",
      "(1024, 1024, 3)\n",
      "the loaded normals are defined in the system of front view\n",
      "(1024, 1024, 3)\n",
      "the loaded normals are defined in the system of front view\n",
      "(1024, 1024, 3)\n",
      "the loaded normals are defined in the system of front view\n",
      "(1024, 1024, 3)\n",
      "the loaded normals are defined in the system of front view\n",
      "(1024, 1024, 3)\n",
      "the loaded normals are defined in the system of front view\n",
      "(1024, 1024, 3)\n",
      "the loaded normals are defined in the system of front view\n"
     ]
    },
    {
     "name": "stderr",
     "output_type": "stream",
     "text": [
      "LOCAL_RANK: 0 - CUDA_VISIBLE_DEVICES: [0]\n",
      "\n",
      "  | Name  | Type             | Params\n",
      "-------------------------------------------\n",
      "0 | cos   | CosineSimilarity | 0     \n",
      "1 | model | NeuSModel        | 7.7 M \n",
      "-------------------------------------------\n",
      "7.7 M     Trainable params\n",
      "0         Non-trainable params\n",
      "7.7 M     Total params\n",
      "15.371    Total estimated model params size (MB)\n"
     ]
    },
    {
     "name": "stdout",
     "output_type": "stream",
     "text": [
      "Epoch 0: : 0it [00:00, ?it/s]"
     ]
    },
    {
     "name": "stderr",
     "output_type": "stream",
     "text": [
      "Update finite_difference_eps to 0.027204705103003882\n"
     ]
    },
    {
     "name": "stdout",
     "output_type": "stream",
     "text": [
      "Epoch 0: : 502it [00:13, 35.97it/s, loss=0.0533, train/loss_rgb_mse=0.0565, train/loss_normal=0.00886, train/loss_eikonal=0.0107, train/loss_mask=0.00824, train/loss_sparsity=0.00258, train/loss_3d_normal_smooth=0.0137, train/inv_s=109.0, train/num_rays=2879.0] "
     ]
    },
    {
     "name": "stderr",
     "output_type": "stream",
     "text": [
      "/home/yuxuan/miniconda3/envs/wonder3d/lib/python3.9/site-packages/torch/optim/lr_scheduler.py:163: UserWarning: The epoch parameter in `scheduler.step()` was not necessary and is being deprecated where possible. Please use `scheduler.step()` to step the scheduler. During the deprecation, if epoch is different from None, the closed form is used instead of the new chainable form, where available. Please open an issue if you are unable to replicate your use case: https://github.com/pytorch/pytorch/issues/new/choose.\n",
      "  warnings.warn(EPOCH_DEPRECATION_WARNING, UserWarning)\n"
     ]
    },
    {
     "name": "stdout",
     "output_type": "stream",
     "text": [
      "Epoch 0: : 1006it [00:27, 37.05it/s, loss=0.0424, train/loss_rgb_mse=0.029, train/loss_normal=0.0056, train/loss_eikonal=0.0103, train/loss_mask=0.00359, train/loss_sparsity=0.00202, train/loss_3d_normal_smooth=0.0122, train/inv_s=268.0, train/num_rays=4843.0]   "
     ]
    },
    {
     "name": "stderr",
     "output_type": "stream",
     "text": [
      "Update grid level to 5\n",
      "Update finite_difference_eps to 0.02061731110582648\n"
     ]
    },
    {
     "name": "stdout",
     "output_type": "stream",
     "text": [
      "Epoch 0: : 2000it [00:44, 44.97it/s, loss=0.0327, train/loss_rgb_mse=0.0262, train/loss_normal=0.00469, train/loss_eikonal=0.00822, train/loss_mask=0.000686, train/loss_sparsity=0.00294, train/loss_3d_normal_smooth=0.0105, train/inv_s=458.0, train/num_rays=8192.0] "
     ]
    },
    {
     "name": "stderr",
     "output_type": "stream",
     "text": [
      "Update grid level to 6\n",
      "Update finite_difference_eps to 0.015625000000000003\n"
     ]
    },
    {
     "name": "stdout",
     "output_type": "stream",
     "text": [
      "Epoch 0: : 3000it [00:58, 51.33it/s, loss=0.0288, train/loss_rgb_mse=0.0188, train/loss_normal=0.00564, train/loss_eikonal=0.00811, train/loss_mask=0.000681, train/loss_sparsity=0.0013, train/loss_3d_normal_smooth=0.00879, train/inv_s=568.0, train/num_rays=8192.0]  \n"
     ]
    },
    {
     "name": "stderr",
     "output_type": "stream",
     "text": [
      "`Trainer.fit` stopped: `max_steps=3000` reached.\n",
      "[rank: 0] Global seed set to 42\n",
      "You are using a CUDA device ('NVIDIA GeForce RTX 4090') that has Tensor Cores. To properly utilize them, you should set `torch.set_float32_matmul_precision('medium' | 'high')` which will trade-off precision for performance. For more details, read https://pytorch.org/docs/stable/generated/torch.set_float32_matmul_precision.html#torch.set_float32_matmul_precision\n"
     ]
    },
    {
     "name": "stdout",
     "output_type": "stream",
     "text": [
      "(1024, 1024, 3)\n",
      "the loaded normals are defined in the system of front view\n",
      "(1024, 1024, 3)\n",
      "the loaded normals are defined in the system of front view\n",
      "(1024, 1024, 3)\n",
      "the loaded normals are defined in the system of front view\n",
      "(1024, 1024, 3)\n",
      "the loaded normals are defined in the system of front view\n",
      "(1024, 1024, 3)\n",
      "the loaded normals are defined in the system of front view\n",
      "(1024, 1024, 3)\n",
      "the loaded normals are defined in the system of front view\n",
      "Testing: 0it [00:00, ?it/s]"
     ]
    },
    {
     "name": "stderr",
     "output_type": "stream",
     "text": [
      "LOCAL_RANK: 0 - CUDA_VISIBLE_DEVICES: [0]\n"
     ]
    },
    {
     "name": "stdout",
     "output_type": "stream",
     "text": [
      "Testing DataLoader 0: 100%|██████████| 6/6 [00:00<00:00, 773.26it/s]"
     ]
    },
    {
     "name": "stderr",
     "output_type": "stream",
     "text": [
      "Update grid level to 7\n",
      "Update finite_difference_eps to 0.011841535675862488\n"
     ]
    },
    {
     "name": "stdout",
     "output_type": "stream",
     "text": [
      "ortho scale is:  1.35\n",
      "Testing DataLoader 0: 100%|██████████| 6/6 [00:01<00:00,  3.07it/s] \n"
     ]
    },
    {
     "name": "stderr",
     "output_type": "stream",
     "text": [
      "Global seed set to 42\n",
      "Using finite difference to compute gradients with eps=progressive\n",
      "Using 16bit None Automatic Mixed Precision (AMP)\n",
      "GPU available: True (cuda), used: True\n",
      "TPU available: False, using: 0 TPU cores\n",
      "IPU available: False, using: 0 IPUs\n",
      "HPU available: False, using: 0 HPUs\n",
      "`Trainer(limit_train_batches=1.0)` was configured so 100% of the batches per epoch will be used..\n",
      "[rank: 0] Global seed set to 42\n",
      "Initializing distributed: GLOBAL_RANK: 0, MEMBER: 1/1\n",
      "----------------------------------------------------------------------------------------------------\n",
      "distributed_backend=nccl\n",
      "All distributed processes registered. Starting with 1 processes\n",
      "----------------------------------------------------------------------------------------------------\n",
      "\n",
      "You are using a CUDA device ('NVIDIA GeForce RTX 4090') that has Tensor Cores. To properly utilize them, you should set `torch.set_float32_matmul_precision('medium' | 'high')` which will trade-off precision for performance. For more details, read https://pytorch.org/docs/stable/generated/torch.set_float32_matmul_precision.html#torch.set_float32_matmul_precision\n"
     ]
    },
    {
     "name": "stdout",
     "output_type": "stream",
     "text": [
      "(1024, 1024, 3)\n",
      "the loaded normals are defined in the system of front view\n",
      "(1024, 1024, 3)\n",
      "the loaded normals are defined in the system of front view\n",
      "(1024, 1024, 3)\n",
      "the loaded normals are defined in the system of front view\n",
      "(1024, 1024, 3)\n",
      "the loaded normals are defined in the system of front view\n",
      "(1024, 1024, 3)\n",
      "the loaded normals are defined in the system of front view\n",
      "(1024, 1024, 3)\n",
      "the loaded normals are defined in the system of front view\n",
      "(1024, 1024, 3)\n",
      "the loaded normals are defined in the system of front view\n",
      "(1024, 1024, 3)\n",
      "the loaded normals are defined in the system of front view\n",
      "(1024, 1024, 3)\n",
      "the loaded normals are defined in the system of front view\n",
      "(1024, 1024, 3)\n",
      "the loaded normals are defined in the system of front view\n",
      "(1024, 1024, 3)\n",
      "the loaded normals are defined in the system of front view\n",
      "(1024, 1024, 3)\n",
      "the loaded normals are defined in the system of front view\n"
     ]
    },
    {
     "name": "stderr",
     "output_type": "stream",
     "text": [
      "LOCAL_RANK: 0 - CUDA_VISIBLE_DEVICES: [0]\n",
      "\n",
      "  | Name  | Type             | Params\n",
      "-------------------------------------------\n",
      "0 | cos   | CosineSimilarity | 0     \n",
      "1 | model | NeuSModel        | 7.7 M \n",
      "-------------------------------------------\n",
      "7.7 M     Trainable params\n",
      "0         Non-trainable params\n",
      "7.7 M     Total params\n",
      "15.371    Total estimated model params size (MB)\n"
     ]
    },
    {
     "name": "stdout",
     "output_type": "stream",
     "text": [
      "Epoch 0: : 0it [00:00, ?it/s]"
     ]
    },
    {
     "name": "stderr",
     "output_type": "stream",
     "text": [
      "Update finite_difference_eps to 0.027204705103003882\n"
     ]
    },
    {
     "name": "stdout",
     "output_type": "stream",
     "text": [
      "Epoch 0: : 501it [00:14, 35.53it/s, loss=0.07, train/loss_rgb_mse=0.0627, train/loss_normal=0.00495, train/loss_eikonal=0.0138, train/loss_mask=0.0132, train/loss_sparsity=0.00168, train/loss_3d_normal_smooth=0.0137, train/inv_s=110.0, train/num_rays=2878.0]   "
     ]
    },
    {
     "name": "stderr",
     "output_type": "stream",
     "text": [
      "/home/yuxuan/miniconda3/envs/wonder3d/lib/python3.9/site-packages/torch/optim/lr_scheduler.py:163: UserWarning: The epoch parameter in `scheduler.step()` was not necessary and is being deprecated where possible. Please use `scheduler.step()` to step the scheduler. During the deprecation, if epoch is different from None, the closed form is used instead of the new chainable form, where available. Please open an issue if you are unable to replicate your use case: https://github.com/pytorch/pytorch/issues/new/choose.\n",
      "  warnings.warn(EPOCH_DEPRECATION_WARNING, UserWarning)\n"
     ]
    },
    {
     "name": "stdout",
     "output_type": "stream",
     "text": [
      "Epoch 0: : 1005it [00:27, 36.55it/s, loss=0.0515, train/loss_rgb_mse=0.0523, train/loss_normal=0.00821, train/loss_eikonal=0.0143, train/loss_mask=0.00621, train/loss_sparsity=0.00205, train/loss_3d_normal_smooth=0.0138, train/inv_s=238.0, train/num_rays=4847.0]"
     ]
    },
    {
     "name": "stderr",
     "output_type": "stream",
     "text": [
      "Update grid level to 5\n",
      "Update finite_difference_eps to 0.02061731110582648\n"
     ]
    },
    {
     "name": "stdout",
     "output_type": "stream",
     "text": [
      "Epoch 0: : 2004it [00:44, 44.86it/s, loss=0.0393, train/loss_rgb_mse=0.0276, train/loss_normal=0.00534, train/loss_eikonal=0.0216, train/loss_mask=0.000677, train/loss_sparsity=0.00234, train/loss_3d_normal_smooth=0.0115, train/inv_s=411.0, train/num_rays=8192.0] "
     ]
    },
    {
     "name": "stderr",
     "output_type": "stream",
     "text": [
      "Update grid level to 6\n",
      "Update finite_difference_eps to 0.015625000000000003\n"
     ]
    },
    {
     "name": "stdout",
     "output_type": "stream",
     "text": [
      "Epoch 0: : 3000it [00:58, 51.62it/s, loss=0.0369, train/loss_rgb_mse=0.0325, train/loss_normal=0.00464, train/loss_eikonal=0.0137, train/loss_mask=0.000679, train/loss_sparsity=0.00252, train/loss_3d_normal_smooth=0.00951, train/inv_s=498.0, train/num_rays=8192.0] \n"
     ]
    },
    {
     "name": "stderr",
     "output_type": "stream",
     "text": [
      "`Trainer.fit` stopped: `max_steps=3000` reached.\n",
      "[rank: 0] Global seed set to 42\n",
      "You are using a CUDA device ('NVIDIA GeForce RTX 4090') that has Tensor Cores. To properly utilize them, you should set `torch.set_float32_matmul_precision('medium' | 'high')` which will trade-off precision for performance. For more details, read https://pytorch.org/docs/stable/generated/torch.set_float32_matmul_precision.html#torch.set_float32_matmul_precision\n"
     ]
    },
    {
     "name": "stdout",
     "output_type": "stream",
     "text": [
      "(1024, 1024, 3)\n",
      "the loaded normals are defined in the system of front view\n",
      "(1024, 1024, 3)\n",
      "the loaded normals are defined in the system of front view\n",
      "(1024, 1024, 3)\n",
      "the loaded normals are defined in the system of front view\n",
      "(1024, 1024, 3)\n",
      "the loaded normals are defined in the system of front view\n",
      "(1024, 1024, 3)\n",
      "the loaded normals are defined in the system of front view\n",
      "(1024, 1024, 3)\n",
      "the loaded normals are defined in the system of front view\n"
     ]
    },
    {
     "name": "stderr",
     "output_type": "stream",
     "text": [
      "LOCAL_RANK: 0 - CUDA_VISIBLE_DEVICES: [0]\n"
     ]
    },
    {
     "name": "stdout",
     "output_type": "stream",
     "text": [
      "Testing DataLoader 0: 100%|██████████| 6/6 [00:00<00:00, 779.88it/s]"
     ]
    },
    {
     "name": "stderr",
     "output_type": "stream",
     "text": [
      "Update grid level to 7\n",
      "Update finite_difference_eps to 0.011841535675862488\n"
     ]
    },
    {
     "name": "stdout",
     "output_type": "stream",
     "text": [
      "ortho scale is:  1.35\n",
      "Testing DataLoader 0: 100%|██████████| 6/6 [00:01<00:00,  3.30it/s] \n"
     ]
    },
    {
     "name": "stderr",
     "output_type": "stream",
     "text": [
      "Global seed set to 42\n",
      "Using finite difference to compute gradients with eps=progressive\n",
      "Using 16bit None Automatic Mixed Precision (AMP)\n",
      "GPU available: True (cuda), used: True\n",
      "TPU available: False, using: 0 TPU cores\n",
      "IPU available: False, using: 0 IPUs\n",
      "HPU available: False, using: 0 HPUs\n",
      "`Trainer(limit_train_batches=1.0)` was configured so 100% of the batches per epoch will be used..\n",
      "[rank: 0] Global seed set to 42\n",
      "Initializing distributed: GLOBAL_RANK: 0, MEMBER: 1/1\n",
      "----------------------------------------------------------------------------------------------------\n",
      "distributed_backend=nccl\n",
      "All distributed processes registered. Starting with 1 processes\n",
      "----------------------------------------------------------------------------------------------------\n",
      "\n",
      "You are using a CUDA device ('NVIDIA GeForce RTX 4090') that has Tensor Cores. To properly utilize them, you should set `torch.set_float32_matmul_precision('medium' | 'high')` which will trade-off precision for performance. For more details, read https://pytorch.org/docs/stable/generated/torch.set_float32_matmul_precision.html#torch.set_float32_matmul_precision\n"
     ]
    },
    {
     "name": "stdout",
     "output_type": "stream",
     "text": [
      "(1024, 1024, 3)\n",
      "the loaded normals are defined in the system of front view\n",
      "(1024, 1024, 3)\n",
      "the loaded normals are defined in the system of front view\n",
      "(1024, 1024, 3)\n",
      "the loaded normals are defined in the system of front view\n",
      "(1024, 1024, 3)\n",
      "the loaded normals are defined in the system of front view\n",
      "(1024, 1024, 3)\n",
      "the loaded normals are defined in the system of front view\n",
      "(1024, 1024, 3)\n",
      "the loaded normals are defined in the system of front view\n",
      "(1024, 1024, 3)\n",
      "the loaded normals are defined in the system of front view\n",
      "(1024, 1024, 3)\n",
      "the loaded normals are defined in the system of front view\n",
      "(1024, 1024, 3)\n",
      "the loaded normals are defined in the system of front view\n",
      "(1024, 1024, 3)\n",
      "the loaded normals are defined in the system of front view\n",
      "(1024, 1024, 3)\n",
      "the loaded normals are defined in the system of front view\n",
      "(1024, 1024, 3)\n",
      "the loaded normals are defined in the system of front view\n"
     ]
    },
    {
     "name": "stderr",
     "output_type": "stream",
     "text": [
      "LOCAL_RANK: 0 - CUDA_VISIBLE_DEVICES: [0]\n",
      "\n",
      "  | Name  | Type             | Params\n",
      "-------------------------------------------\n",
      "0 | cos   | CosineSimilarity | 0     \n",
      "1 | model | NeuSModel        | 7.7 M \n",
      "-------------------------------------------\n",
      "7.7 M     Trainable params\n",
      "0         Non-trainable params\n",
      "7.7 M     Total params\n",
      "15.371    Total estimated model params size (MB)\n"
     ]
    },
    {
     "name": "stdout",
     "output_type": "stream",
     "text": [
      "Epoch 0: : 0it [00:00, ?it/s]"
     ]
    },
    {
     "name": "stderr",
     "output_type": "stream",
     "text": [
      "Update finite_difference_eps to 0.027204705103003882\n"
     ]
    },
    {
     "name": "stdout",
     "output_type": "stream",
     "text": [
      "Epoch 0: : 507it [00:13, 36.39it/s, loss=0.069, train/loss_rgb_mse=0.0498, train/loss_normal=0.00737, train/loss_eikonal=0.0135, train/loss_mask=0.0121, train/loss_sparsity=0.00302, train/loss_3d_normal_smooth=0.0138, train/inv_s=102.0, train/num_rays=2877.0]  "
     ]
    },
    {
     "name": "stderr",
     "output_type": "stream",
     "text": [
      "/home/yuxuan/miniconda3/envs/wonder3d/lib/python3.9/site-packages/torch/optim/lr_scheduler.py:163: UserWarning: The epoch parameter in `scheduler.step()` was not necessary and is being deprecated where possible. Please use `scheduler.step()` to step the scheduler. During the deprecation, if epoch is different from None, the closed form is used instead of the new chainable form, where available. Please open an issue if you are unable to replicate your use case: https://github.com/pytorch/pytorch/issues/new/choose.\n",
      "  warnings.warn(EPOCH_DEPRECATION_WARNING, UserWarning)\n"
     ]
    },
    {
     "name": "stdout",
     "output_type": "stream",
     "text": [
      "Epoch 0: : 1004it [00:26, 37.98it/s, loss=0.0554, train/loss_rgb_mse=0.045, train/loss_normal=0.00665, train/loss_eikonal=0.0138, train/loss_mask=0.00705, train/loss_sparsity=0.00272, train/loss_3d_normal_smooth=0.0139, train/inv_s=182.0, train/num_rays=4808.0] "
     ]
    },
    {
     "name": "stderr",
     "output_type": "stream",
     "text": [
      "Update grid level to 5\n",
      "Update finite_difference_eps to 0.02061731110582648\n"
     ]
    },
    {
     "name": "stdout",
     "output_type": "stream",
     "text": [
      "Epoch 0: : 2009it [00:43, 45.82it/s, loss=0.0416, train/loss_rgb_mse=0.0305, train/loss_normal=0.00665, train/loss_eikonal=0.0169, train/loss_mask=0.000682, train/loss_sparsity=0.00373, train/loss_3d_normal_smooth=0.0122, train/inv_s=233.0, train/num_rays=8192.0] "
     ]
    },
    {
     "name": "stderr",
     "output_type": "stream",
     "text": [
      "Update grid level to 6\n",
      "Update finite_difference_eps to 0.015625000000000003\n"
     ]
    },
    {
     "name": "stdout",
     "output_type": "stream",
     "text": [
      "Epoch 0: : 3000it [00:57, 51.79it/s, loss=0.0391, train/loss_rgb_mse=0.047, train/loss_normal=0.00573, train/loss_eikonal=0.0108, train/loss_mask=0.000679, train/loss_sparsity=0.00252, train/loss_3d_normal_smooth=0.00954, train/inv_s=261.0, train/num_rays=8192.0] \n"
     ]
    },
    {
     "name": "stderr",
     "output_type": "stream",
     "text": [
      "`Trainer.fit` stopped: `max_steps=3000` reached.\n",
      "[rank: 0] Global seed set to 42\n",
      "You are using a CUDA device ('NVIDIA GeForce RTX 4090') that has Tensor Cores. To properly utilize them, you should set `torch.set_float32_matmul_precision('medium' | 'high')` which will trade-off precision for performance. For more details, read https://pytorch.org/docs/stable/generated/torch.set_float32_matmul_precision.html#torch.set_float32_matmul_precision\n"
     ]
    },
    {
     "name": "stdout",
     "output_type": "stream",
     "text": [
      "(1024, 1024, 3)\n",
      "the loaded normals are defined in the system of front view\n",
      "(1024, 1024, 3)\n",
      "the loaded normals are defined in the system of front view\n",
      "(1024, 1024, 3)\n",
      "the loaded normals are defined in the system of front view\n",
      "(1024, 1024, 3)\n",
      "the loaded normals are defined in the system of front view\n",
      "(1024, 1024, 3)\n",
      "the loaded normals are defined in the system of front view\n",
      "(1024, 1024, 3)\n",
      "the loaded normals are defined in the system of front view\n"
     ]
    },
    {
     "name": "stderr",
     "output_type": "stream",
     "text": [
      "LOCAL_RANK: 0 - CUDA_VISIBLE_DEVICES: [0]\n"
     ]
    },
    {
     "name": "stdout",
     "output_type": "stream",
     "text": [
      "Testing DataLoader 0: 100%|██████████| 6/6 [00:00<00:00, 657.16it/s]"
     ]
    },
    {
     "name": "stderr",
     "output_type": "stream",
     "text": [
      "Update grid level to 7\n",
      "Update finite_difference_eps to 0.011841535675862488\n"
     ]
    },
    {
     "name": "stdout",
     "output_type": "stream",
     "text": [
      "ortho scale is:  1.35\n",
      "Testing DataLoader 0: 100%|██████████| 6/6 [00:01<00:00,  3.31it/s] \n"
     ]
    },
    {
     "name": "stderr",
     "output_type": "stream",
     "text": [
      "Global seed set to 42\n",
      "Using finite difference to compute gradients with eps=progressive\n",
      "Using 16bit None Automatic Mixed Precision (AMP)\n",
      "GPU available: True (cuda), used: True\n",
      "TPU available: False, using: 0 TPU cores\n",
      "IPU available: False, using: 0 IPUs\n",
      "HPU available: False, using: 0 HPUs\n",
      "`Trainer(limit_train_batches=1.0)` was configured so 100% of the batches per epoch will be used..\n",
      "[rank: 0] Global seed set to 42\n",
      "Initializing distributed: GLOBAL_RANK: 0, MEMBER: 1/1\n",
      "----------------------------------------------------------------------------------------------------\n",
      "distributed_backend=nccl\n",
      "All distributed processes registered. Starting with 1 processes\n",
      "----------------------------------------------------------------------------------------------------\n",
      "\n",
      "You are using a CUDA device ('NVIDIA GeForce RTX 4090') that has Tensor Cores. To properly utilize them, you should set `torch.set_float32_matmul_precision('medium' | 'high')` which will trade-off precision for performance. For more details, read https://pytorch.org/docs/stable/generated/torch.set_float32_matmul_precision.html#torch.set_float32_matmul_precision\n"
     ]
    },
    {
     "name": "stdout",
     "output_type": "stream",
     "text": [
      "(1024, 1024, 3)\n",
      "the loaded normals are defined in the system of front view\n",
      "(1024, 1024, 3)\n",
      "the loaded normals are defined in the system of front view\n",
      "(1024, 1024, 3)\n",
      "the loaded normals are defined in the system of front view\n",
      "(1024, 1024, 3)\n",
      "the loaded normals are defined in the system of front view\n",
      "(1024, 1024, 3)\n",
      "the loaded normals are defined in the system of front view\n",
      "(1024, 1024, 3)\n",
      "the loaded normals are defined in the system of front view\n",
      "(1024, 1024, 3)\n",
      "the loaded normals are defined in the system of front view\n",
      "(1024, 1024, 3)\n",
      "the loaded normals are defined in the system of front view\n",
      "(1024, 1024, 3)\n",
      "the loaded normals are defined in the system of front view\n",
      "(1024, 1024, 3)\n",
      "the loaded normals are defined in the system of front view\n",
      "(1024, 1024, 3)\n",
      "the loaded normals are defined in the system of front view\n",
      "(1024, 1024, 3)\n",
      "the loaded normals are defined in the system of front view\n"
     ]
    },
    {
     "name": "stderr",
     "output_type": "stream",
     "text": [
      "LOCAL_RANK: 0 - CUDA_VISIBLE_DEVICES: [0]\n",
      "\n",
      "  | Name  | Type             | Params\n",
      "-------------------------------------------\n",
      "0 | cos   | CosineSimilarity | 0     \n",
      "1 | model | NeuSModel        | 7.7 M \n",
      "-------------------------------------------\n",
      "7.7 M     Trainable params\n",
      "0         Non-trainable params\n",
      "7.7 M     Total params\n",
      "15.371    Total estimated model params size (MB)\n"
     ]
    },
    {
     "name": "stdout",
     "output_type": "stream",
     "text": [
      "Epoch 0: : 0it [00:00, ?it/s]"
     ]
    },
    {
     "name": "stderr",
     "output_type": "stream",
     "text": [
      "Update finite_difference_eps to 0.027204705103003882\n"
     ]
    },
    {
     "name": "stdout",
     "output_type": "stream",
     "text": [
      "Epoch 0: : 502it [00:13, 36.32it/s, loss=0.0637, train/loss_rgb_mse=0.052, train/loss_normal=0.0047, train/loss_eikonal=0.0124, train/loss_mask=0.0111, train/loss_sparsity=0.00291, train/loss_3d_normal_smooth=0.0145, train/inv_s=103.0, train/num_rays=2899.0]   "
     ]
    },
    {
     "name": "stderr",
     "output_type": "stream",
     "text": [
      "/home/yuxuan/miniconda3/envs/wonder3d/lib/python3.9/site-packages/torch/optim/lr_scheduler.py:163: UserWarning: The epoch parameter in `scheduler.step()` was not necessary and is being deprecated where possible. Please use `scheduler.step()` to step the scheduler. During the deprecation, if epoch is different from None, the closed form is used instead of the new chainable form, where available. Please open an issue if you are unable to replicate your use case: https://github.com/pytorch/pytorch/issues/new/choose.\n",
      "  warnings.warn(EPOCH_DEPRECATION_WARNING, UserWarning)\n"
     ]
    },
    {
     "name": "stdout",
     "output_type": "stream",
     "text": [
      "Epoch 0: : 1005it [00:26, 37.97it/s, loss=0.0483, train/loss_rgb_mse=0.0444, train/loss_normal=0.004, train/loss_eikonal=0.0128, train/loss_mask=0.00494, train/loss_sparsity=0.00163, train/loss_3d_normal_smooth=0.0129, train/inv_s=200.0, train/num_rays=4868.0]  "
     ]
    },
    {
     "name": "stderr",
     "output_type": "stream",
     "text": [
      "Update grid level to 5\n",
      "Update finite_difference_eps to 0.02061731110582648\n"
     ]
    },
    {
     "name": "stdout",
     "output_type": "stream",
     "text": [
      "Epoch 0: : 2014it [00:42, 46.89it/s, loss=0.039, train/loss_rgb_mse=0.0299, train/loss_normal=0.00466, train/loss_eikonal=0.0214, train/loss_mask=0.000682, train/loss_sparsity=0.00216, train/loss_3d_normal_smooth=0.0119, train/inv_s=287.0, train/num_rays=8192.0]  "
     ]
    },
    {
     "name": "stderr",
     "output_type": "stream",
     "text": [
      "Update grid level to 6\n",
      "Update finite_difference_eps to 0.015625000000000003\n"
     ]
    },
    {
     "name": "stdout",
     "output_type": "stream",
     "text": [
      "Epoch 0: : 3000it [00:55, 53.88it/s, loss=0.0352, train/loss_rgb_mse=0.0241, train/loss_normal=0.00442, train/loss_eikonal=0.0125, train/loss_mask=0.000687, train/loss_sparsity=0.00233, train/loss_3d_normal_smooth=0.00931, train/inv_s=340.0, train/num_rays=8192.0] \n"
     ]
    },
    {
     "name": "stderr",
     "output_type": "stream",
     "text": [
      "`Trainer.fit` stopped: `max_steps=3000` reached.\n",
      "[rank: 0] Global seed set to 42\n",
      "You are using a CUDA device ('NVIDIA GeForce RTX 4090') that has Tensor Cores. To properly utilize them, you should set `torch.set_float32_matmul_precision('medium' | 'high')` which will trade-off precision for performance. For more details, read https://pytorch.org/docs/stable/generated/torch.set_float32_matmul_precision.html#torch.set_float32_matmul_precision\n"
     ]
    },
    {
     "name": "stdout",
     "output_type": "stream",
     "text": [
      "(1024, 1024, 3)\n",
      "the loaded normals are defined in the system of front view\n",
      "(1024, 1024, 3)\n",
      "the loaded normals are defined in the system of front view\n",
      "(1024, 1024, 3)\n",
      "the loaded normals are defined in the system of front view\n",
      "(1024, 1024, 3)\n",
      "the loaded normals are defined in the system of front view\n",
      "(1024, 1024, 3)\n",
      "the loaded normals are defined in the system of front view\n",
      "(1024, 1024, 3)\n",
      "the loaded normals are defined in the system of front view\n"
     ]
    },
    {
     "name": "stderr",
     "output_type": "stream",
     "text": [
      "LOCAL_RANK: 0 - CUDA_VISIBLE_DEVICES: [0]\n"
     ]
    },
    {
     "name": "stdout",
     "output_type": "stream",
     "text": [
      "Testing DataLoader 0: 100%|██████████| 6/6 [00:00<00:00, 770.59it/s]"
     ]
    },
    {
     "name": "stderr",
     "output_type": "stream",
     "text": [
      "Update grid level to 7\n",
      "Update finite_difference_eps to 0.011841535675862488\n"
     ]
    },
    {
     "name": "stdout",
     "output_type": "stream",
     "text": [
      "ortho scale is:  1.35\n",
      "Testing DataLoader 0: 100%|██████████| 6/6 [00:01<00:00,  3.27it/s] \n"
     ]
    },
    {
     "name": "stderr",
     "output_type": "stream",
     "text": [
      "Global seed set to 42\n",
      "Using finite difference to compute gradients with eps=progressive\n",
      "Using 16bit None Automatic Mixed Precision (AMP)\n",
      "GPU available: True (cuda), used: True\n",
      "TPU available: False, using: 0 TPU cores\n",
      "IPU available: False, using: 0 IPUs\n",
      "HPU available: False, using: 0 HPUs\n",
      "`Trainer(limit_train_batches=1.0)` was configured so 100% of the batches per epoch will be used..\n",
      "[rank: 0] Global seed set to 42\n",
      "Initializing distributed: GLOBAL_RANK: 0, MEMBER: 1/1\n",
      "----------------------------------------------------------------------------------------------------\n",
      "distributed_backend=nccl\n",
      "All distributed processes registered. Starting with 1 processes\n",
      "----------------------------------------------------------------------------------------------------\n",
      "\n",
      "You are using a CUDA device ('NVIDIA GeForce RTX 4090') that has Tensor Cores. To properly utilize them, you should set `torch.set_float32_matmul_precision('medium' | 'high')` which will trade-off precision for performance. For more details, read https://pytorch.org/docs/stable/generated/torch.set_float32_matmul_precision.html#torch.set_float32_matmul_precision\n"
     ]
    },
    {
     "name": "stdout",
     "output_type": "stream",
     "text": [
      "(1024, 1024, 3)\n",
      "the loaded normals are defined in the system of front view\n",
      "(1024, 1024, 3)\n",
      "the loaded normals are defined in the system of front view\n",
      "(1024, 1024, 3)\n",
      "the loaded normals are defined in the system of front view\n",
      "(1024, 1024, 3)\n",
      "the loaded normals are defined in the system of front view\n",
      "(1024, 1024, 3)\n",
      "the loaded normals are defined in the system of front view\n",
      "(1024, 1024, 3)\n",
      "the loaded normals are defined in the system of front view\n",
      "(1024, 1024, 3)\n",
      "the loaded normals are defined in the system of front view\n",
      "(1024, 1024, 3)\n",
      "the loaded normals are defined in the system of front view\n",
      "(1024, 1024, 3)\n",
      "the loaded normals are defined in the system of front view\n",
      "(1024, 1024, 3)\n",
      "the loaded normals are defined in the system of front view\n",
      "(1024, 1024, 3)\n",
      "the loaded normals are defined in the system of front view\n",
      "(1024, 1024, 3)\n",
      "the loaded normals are defined in the system of front view\n"
     ]
    },
    {
     "name": "stderr",
     "output_type": "stream",
     "text": [
      "LOCAL_RANK: 0 - CUDA_VISIBLE_DEVICES: [0]\n",
      "\n",
      "  | Name  | Type             | Params\n",
      "-------------------------------------------\n",
      "0 | cos   | CosineSimilarity | 0     \n",
      "1 | model | NeuSModel        | 7.7 M \n",
      "-------------------------------------------\n",
      "7.7 M     Trainable params\n",
      "0         Non-trainable params\n",
      "7.7 M     Total params\n",
      "15.371    Total estimated model params size (MB)\n"
     ]
    },
    {
     "name": "stdout",
     "output_type": "stream",
     "text": [
      "Epoch 0: : 0it [00:00, ?it/s]"
     ]
    },
    {
     "name": "stderr",
     "output_type": "stream",
     "text": [
      "Update finite_difference_eps to 0.027204705103003882\n"
     ]
    },
    {
     "name": "stdout",
     "output_type": "stream",
     "text": [
      "Epoch 0: : 504it [00:14, 35.94it/s, loss=0.0589, train/loss_rgb_mse=0.0412, train/loss_normal=0.00713, train/loss_eikonal=0.0115, train/loss_mask=0.00725, train/loss_sparsity=0.00247, train/loss_3d_normal_smooth=0.0135, train/inv_s=102.0, train/num_rays=2922.0]"
     ]
    },
    {
     "name": "stderr",
     "output_type": "stream",
     "text": [
      "/home/yuxuan/miniconda3/envs/wonder3d/lib/python3.9/site-packages/torch/optim/lr_scheduler.py:163: UserWarning: The epoch parameter in `scheduler.step()` was not necessary and is being deprecated where possible. Please use `scheduler.step()` to step the scheduler. During the deprecation, if epoch is different from None, the closed form is used instead of the new chainable form, where available. Please open an issue if you are unable to replicate your use case: https://github.com/pytorch/pytorch/issues/new/choose.\n",
      "  warnings.warn(EPOCH_DEPRECATION_WARNING, UserWarning)\n"
     ]
    },
    {
     "name": "stdout",
     "output_type": "stream",
     "text": [
      "Epoch 0: : 1003it [00:27, 36.97it/s, loss=0.0436, train/loss_rgb_mse=0.0335, train/loss_normal=0.0065, train/loss_eikonal=0.0112, train/loss_mask=0.00482, train/loss_sparsity=0.00258, train/loss_3d_normal_smooth=0.0124, train/inv_s=262.0, train/num_rays=4830.0]  "
     ]
    },
    {
     "name": "stderr",
     "output_type": "stream",
     "text": [
      "Update grid level to 5\n",
      "Update finite_difference_eps to 0.02061731110582648\n"
     ]
    },
    {
     "name": "stdout",
     "output_type": "stream",
     "text": [
      "Epoch 0: : 2006it [00:44, 44.87it/s, loss=0.0332, train/loss_rgb_mse=0.0281, train/loss_normal=0.00623, train/loss_eikonal=0.0154, train/loss_mask=0.000689, train/loss_sparsity=0.00309, train/loss_3d_normal_smooth=0.0115, train/inv_s=396.0, train/num_rays=8192.0]  "
     ]
    },
    {
     "name": "stderr",
     "output_type": "stream",
     "text": [
      "Update grid level to 6\n",
      "Update finite_difference_eps to 0.015625000000000003\n"
     ]
    },
    {
     "name": "stdout",
     "output_type": "stream",
     "text": [
      "Epoch 0: : 3000it [00:58, 51.12it/s, loss=0.0315, train/loss_rgb_mse=0.0239, train/loss_normal=0.00696, train/loss_eikonal=0.00929, train/loss_mask=0.000687, train/loss_sparsity=0.00318, train/loss_3d_normal_smooth=0.00906, train/inv_s=467.0, train/num_rays=8192.0] \n"
     ]
    },
    {
     "name": "stderr",
     "output_type": "stream",
     "text": [
      "`Trainer.fit` stopped: `max_steps=3000` reached.\n",
      "[rank: 0] Global seed set to 42\n",
      "You are using a CUDA device ('NVIDIA GeForce RTX 4090') that has Tensor Cores. To properly utilize them, you should set `torch.set_float32_matmul_precision('medium' | 'high')` which will trade-off precision for performance. For more details, read https://pytorch.org/docs/stable/generated/torch.set_float32_matmul_precision.html#torch.set_float32_matmul_precision\n"
     ]
    },
    {
     "name": "stdout",
     "output_type": "stream",
     "text": [
      "(1024, 1024, 3)\n",
      "the loaded normals are defined in the system of front view\n",
      "(1024, 1024, 3)\n",
      "the loaded normals are defined in the system of front view\n",
      "(1024, 1024, 3)\n",
      "the loaded normals are defined in the system of front view\n",
      "(1024, 1024, 3)\n",
      "the loaded normals are defined in the system of front view\n",
      "(1024, 1024, 3)\n",
      "the loaded normals are defined in the system of front view\n",
      "(1024, 1024, 3)\n",
      "the loaded normals are defined in the system of front view\n"
     ]
    },
    {
     "name": "stderr",
     "output_type": "stream",
     "text": [
      "LOCAL_RANK: 0 - CUDA_VISIBLE_DEVICES: [0]\n"
     ]
    },
    {
     "name": "stdout",
     "output_type": "stream",
     "text": [
      "Testing DataLoader 0: 100%|██████████| 6/6 [00:00<00:00, 641.82it/s]"
     ]
    },
    {
     "name": "stderr",
     "output_type": "stream",
     "text": [
      "Update grid level to 7\n",
      "Update finite_difference_eps to 0.011841535675862488\n"
     ]
    },
    {
     "name": "stdout",
     "output_type": "stream",
     "text": [
      "ortho scale is:  1.35\n",
      "Testing DataLoader 0: 100%|██████████| 6/6 [00:01<00:00,  3.19it/s] \n"
     ]
    },
    {
     "name": "stderr",
     "output_type": "stream",
     "text": [
      "Global seed set to 42\n",
      "Using finite difference to compute gradients with eps=progressive\n",
      "Using 16bit None Automatic Mixed Precision (AMP)\n",
      "GPU available: True (cuda), used: True\n",
      "TPU available: False, using: 0 TPU cores\n",
      "IPU available: False, using: 0 IPUs\n",
      "HPU available: False, using: 0 HPUs\n",
      "`Trainer(limit_train_batches=1.0)` was configured so 100% of the batches per epoch will be used..\n",
      "[rank: 0] Global seed set to 42\n",
      "Initializing distributed: GLOBAL_RANK: 0, MEMBER: 1/1\n",
      "----------------------------------------------------------------------------------------------------\n",
      "distributed_backend=nccl\n",
      "All distributed processes registered. Starting with 1 processes\n",
      "----------------------------------------------------------------------------------------------------\n",
      "\n",
      "You are using a CUDA device ('NVIDIA GeForce RTX 4090') that has Tensor Cores. To properly utilize them, you should set `torch.set_float32_matmul_precision('medium' | 'high')` which will trade-off precision for performance. For more details, read https://pytorch.org/docs/stable/generated/torch.set_float32_matmul_precision.html#torch.set_float32_matmul_precision\n"
     ]
    },
    {
     "name": "stdout",
     "output_type": "stream",
     "text": [
      "(1024, 1024, 3)\n",
      "the loaded normals are defined in the system of front view\n",
      "(1024, 1024, 3)\n",
      "the loaded normals are defined in the system of front view\n",
      "(1024, 1024, 3)\n",
      "the loaded normals are defined in the system of front view\n",
      "(1024, 1024, 3)\n",
      "the loaded normals are defined in the system of front view\n",
      "(1024, 1024, 3)\n",
      "the loaded normals are defined in the system of front view\n",
      "(1024, 1024, 3)\n",
      "the loaded normals are defined in the system of front view\n",
      "(1024, 1024, 3)\n",
      "the loaded normals are defined in the system of front view\n",
      "(1024, 1024, 3)\n",
      "the loaded normals are defined in the system of front view\n",
      "(1024, 1024, 3)\n",
      "the loaded normals are defined in the system of front view\n",
      "(1024, 1024, 3)\n",
      "the loaded normals are defined in the system of front view\n",
      "(1024, 1024, 3)\n",
      "the loaded normals are defined in the system of front view\n",
      "(1024, 1024, 3)\n",
      "the loaded normals are defined in the system of front view\n"
     ]
    },
    {
     "name": "stderr",
     "output_type": "stream",
     "text": [
      "LOCAL_RANK: 0 - CUDA_VISIBLE_DEVICES: [0]\n",
      "\n",
      "  | Name  | Type             | Params\n",
      "-------------------------------------------\n",
      "0 | cos   | CosineSimilarity | 0     \n",
      "1 | model | NeuSModel        | 7.7 M \n",
      "-------------------------------------------\n",
      "7.7 M     Trainable params\n",
      "0         Non-trainable params\n",
      "7.7 M     Total params\n",
      "15.371    Total estimated model params size (MB)\n"
     ]
    },
    {
     "name": "stdout",
     "output_type": "stream",
     "text": [
      "Epoch 0: : 0it [00:00, ?it/s]"
     ]
    },
    {
     "name": "stderr",
     "output_type": "stream",
     "text": [
      "Update finite_difference_eps to 0.027204705103003882\n"
     ]
    },
    {
     "name": "stdout",
     "output_type": "stream",
     "text": [
      "Epoch 0: : 504it [00:13, 36.70it/s, loss=0.0575, train/loss_rgb_mse=0.0562, train/loss_normal=0.00615, train/loss_eikonal=0.013, train/loss_mask=0.00857, train/loss_sparsity=0.00221, train/loss_3d_normal_smooth=0.0145, train/inv_s=126.0, train/num_rays=2894.0] "
     ]
    },
    {
     "name": "stderr",
     "output_type": "stream",
     "text": [
      "/home/yuxuan/miniconda3/envs/wonder3d/lib/python3.9/site-packages/torch/optim/lr_scheduler.py:163: UserWarning: The epoch parameter in `scheduler.step()` was not necessary and is being deprecated where possible. Please use `scheduler.step()` to step the scheduler. During the deprecation, if epoch is different from None, the closed form is used instead of the new chainable form, where available. Please open an issue if you are unable to replicate your use case: https://github.com/pytorch/pytorch/issues/new/choose.\n",
      "  warnings.warn(EPOCH_DEPRECATION_WARNING, UserWarning)\n"
     ]
    },
    {
     "name": "stdout",
     "output_type": "stream",
     "text": [
      "Epoch 0: : 1007it [00:26, 38.16it/s, loss=0.0464, train/loss_rgb_mse=0.0243, train/loss_normal=0.00372, train/loss_eikonal=0.0139, train/loss_mask=0.00505, train/loss_sparsity=0.00236, train/loss_3d_normal_smooth=0.0137, train/inv_s=255.0, train/num_rays=4856.0]"
     ]
    },
    {
     "name": "stderr",
     "output_type": "stream",
     "text": [
      "Update grid level to 5\n",
      "Update finite_difference_eps to 0.02061731110582648\n"
     ]
    },
    {
     "name": "stdout",
     "output_type": "stream",
     "text": [
      "Epoch 0: : 2000it [00:42, 46.65it/s, loss=0.0363, train/loss_rgb_mse=0.037, train/loss_normal=0.00429, train/loss_eikonal=0.0128, train/loss_mask=0.000682, train/loss_sparsity=0.00373, train/loss_3d_normal_smooth=0.0107, train/inv_s=366.0, train/num_rays=8192.0]  "
     ]
    },
    {
     "name": "stderr",
     "output_type": "stream",
     "text": [
      "Update grid level to 6\n",
      "Update finite_difference_eps to 0.015625000000000003\n"
     ]
    },
    {
     "name": "stdout",
     "output_type": "stream",
     "text": [
      "Epoch 0: : 3000it [00:56, 53.31it/s, loss=0.0324, train/loss_rgb_mse=0.0285, train/loss_normal=0.00467, train/loss_eikonal=0.010, train/loss_mask=0.000679, train/loss_sparsity=0.00387, train/loss_3d_normal_smooth=0.00957, train/inv_s=427.0, train/num_rays=8192.0]  \n"
     ]
    },
    {
     "name": "stderr",
     "output_type": "stream",
     "text": [
      "`Trainer.fit` stopped: `max_steps=3000` reached.\n",
      "[rank: 0] Global seed set to 42\n",
      "You are using a CUDA device ('NVIDIA GeForce RTX 4090') that has Tensor Cores. To properly utilize them, you should set `torch.set_float32_matmul_precision('medium' | 'high')` which will trade-off precision for performance. For more details, read https://pytorch.org/docs/stable/generated/torch.set_float32_matmul_precision.html#torch.set_float32_matmul_precision\n"
     ]
    },
    {
     "name": "stdout",
     "output_type": "stream",
     "text": [
      "(1024, 1024, 3)\n",
      "the loaded normals are defined in the system of front view\n",
      "(1024, 1024, 3)\n",
      "the loaded normals are defined in the system of front view\n",
      "(1024, 1024, 3)\n",
      "the loaded normals are defined in the system of front view\n",
      "(1024, 1024, 3)\n",
      "the loaded normals are defined in the system of front view\n",
      "(1024, 1024, 3)\n",
      "the loaded normals are defined in the system of front view\n",
      "(1024, 1024, 3)\n",
      "the loaded normals are defined in the system of front view\n"
     ]
    },
    {
     "name": "stderr",
     "output_type": "stream",
     "text": [
      "LOCAL_RANK: 0 - CUDA_VISIBLE_DEVICES: [0]\n"
     ]
    },
    {
     "name": "stdout",
     "output_type": "stream",
     "text": [
      "Testing DataLoader 0: 100%|██████████| 6/6 [00:00<00:00, 748.96it/s]"
     ]
    },
    {
     "name": "stderr",
     "output_type": "stream",
     "text": [
      "Update grid level to 7\n",
      "Update finite_difference_eps to 0.011841535675862488\n"
     ]
    },
    {
     "name": "stdout",
     "output_type": "stream",
     "text": [
      "ortho scale is:  1.35\n",
      "Testing DataLoader 0: 100%|██████████| 6/6 [00:01<00:00,  3.38it/s] \n"
     ]
    },
    {
     "name": "stderr",
     "output_type": "stream",
     "text": [
      "Global seed set to 42\n",
      "Using finite difference to compute gradients with eps=progressive\n",
      "Using 16bit None Automatic Mixed Precision (AMP)\n",
      "GPU available: True (cuda), used: True\n",
      "TPU available: False, using: 0 TPU cores\n",
      "IPU available: False, using: 0 IPUs\n",
      "HPU available: False, using: 0 HPUs\n",
      "`Trainer(limit_train_batches=1.0)` was configured so 100% of the batches per epoch will be used..\n",
      "[rank: 0] Global seed set to 42\n",
      "Initializing distributed: GLOBAL_RANK: 0, MEMBER: 1/1\n",
      "----------------------------------------------------------------------------------------------------\n",
      "distributed_backend=nccl\n",
      "All distributed processes registered. Starting with 1 processes\n",
      "----------------------------------------------------------------------------------------------------\n",
      "\n",
      "You are using a CUDA device ('NVIDIA GeForce RTX 4090') that has Tensor Cores. To properly utilize them, you should set `torch.set_float32_matmul_precision('medium' | 'high')` which will trade-off precision for performance. For more details, read https://pytorch.org/docs/stable/generated/torch.set_float32_matmul_precision.html#torch.set_float32_matmul_precision\n"
     ]
    },
    {
     "name": "stdout",
     "output_type": "stream",
     "text": [
      "(1024, 1024, 3)\n",
      "the loaded normals are defined in the system of front view\n",
      "(1024, 1024, 3)\n",
      "the loaded normals are defined in the system of front view\n",
      "(1024, 1024, 3)\n",
      "the loaded normals are defined in the system of front view\n",
      "(1024, 1024, 3)\n",
      "the loaded normals are defined in the system of front view\n",
      "(1024, 1024, 3)\n",
      "the loaded normals are defined in the system of front view\n",
      "(1024, 1024, 3)\n",
      "the loaded normals are defined in the system of front view\n",
      "(1024, 1024, 3)\n",
      "the loaded normals are defined in the system of front view\n",
      "(1024, 1024, 3)\n",
      "the loaded normals are defined in the system of front view\n",
      "(1024, 1024, 3)\n",
      "the loaded normals are defined in the system of front view\n",
      "(1024, 1024, 3)\n",
      "the loaded normals are defined in the system of front view\n",
      "(1024, 1024, 3)\n",
      "the loaded normals are defined in the system of front view\n",
      "(1024, 1024, 3)\n",
      "the loaded normals are defined in the system of front view\n"
     ]
    },
    {
     "name": "stderr",
     "output_type": "stream",
     "text": [
      "LOCAL_RANK: 0 - CUDA_VISIBLE_DEVICES: [0]\n",
      "\n",
      "  | Name  | Type             | Params\n",
      "-------------------------------------------\n",
      "0 | cos   | CosineSimilarity | 0     \n",
      "1 | model | NeuSModel        | 7.7 M \n",
      "-------------------------------------------\n",
      "7.7 M     Trainable params\n",
      "0         Non-trainable params\n",
      "7.7 M     Total params\n",
      "15.371    Total estimated model params size (MB)\n"
     ]
    },
    {
     "name": "stdout",
     "output_type": "stream",
     "text": [
      "Epoch 0: : 0it [00:00, ?it/s]"
     ]
    },
    {
     "name": "stderr",
     "output_type": "stream",
     "text": [
      "Update finite_difference_eps to 0.027204705103003882\n"
     ]
    },
    {
     "name": "stdout",
     "output_type": "stream",
     "text": [
      "Epoch 0: : 501it [00:13, 35.81it/s, loss=0.0597, train/loss_rgb_mse=0.0428, train/loss_normal=0.00524, train/loss_eikonal=0.0163, train/loss_mask=0.00815, train/loss_sparsity=0.00242, train/loss_3d_normal_smooth=0.0143, train/inv_s=121.0, train/num_rays=2889.0]"
     ]
    },
    {
     "name": "stderr",
     "output_type": "stream",
     "text": [
      "/home/yuxuan/miniconda3/envs/wonder3d/lib/python3.9/site-packages/torch/optim/lr_scheduler.py:163: UserWarning: The epoch parameter in `scheduler.step()` was not necessary and is being deprecated where possible. Please use `scheduler.step()` to step the scheduler. During the deprecation, if epoch is different from None, the closed form is used instead of the new chainable form, where available. Please open an issue if you are unable to replicate your use case: https://github.com/pytorch/pytorch/issues/new/choose.\n",
      "  warnings.warn(EPOCH_DEPRECATION_WARNING, UserWarning)\n"
     ]
    },
    {
     "name": "stdout",
     "output_type": "stream",
     "text": [
      "Epoch 0: : 1005it [00:27, 36.75it/s, loss=0.0481, train/loss_rgb_mse=0.0357, train/loss_normal=0.00559, train/loss_eikonal=0.0132, train/loss_mask=0.0067, train/loss_sparsity=0.00194, train/loss_3d_normal_smooth=0.0129, train/inv_s=247.0, train/num_rays=4874.0] "
     ]
    },
    {
     "name": "stderr",
     "output_type": "stream",
     "text": [
      "Update grid level to 5\n",
      "Update finite_difference_eps to 0.02061731110582648\n"
     ]
    },
    {
     "name": "stdout",
     "output_type": "stream",
     "text": [
      "Epoch 0: : 2013it [00:44, 44.91it/s, loss=0.0376, train/loss_rgb_mse=0.041, train/loss_normal=0.00611, train/loss_eikonal=0.0147, train/loss_mask=0.000683, train/loss_sparsity=0.00273, train/loss_3d_normal_smooth=0.0112, train/inv_s=373.0, train/num_rays=8192.0]  "
     ]
    },
    {
     "name": "stderr",
     "output_type": "stream",
     "text": [
      "Update grid level to 6\n",
      "Update finite_difference_eps to 0.015625000000000003\n"
     ]
    },
    {
     "name": "stdout",
     "output_type": "stream",
     "text": [
      "Epoch 0: : 3000it [00:58, 51.20it/s, loss=0.0339, train/loss_rgb_mse=0.0315, train/loss_normal=0.00595, train/loss_eikonal=0.00912, train/loss_mask=0.000686, train/loss_sparsity=0.00373, train/loss_3d_normal_smooth=0.00913, train/inv_s=432.0, train/num_rays=8192.0]\n"
     ]
    },
    {
     "name": "stderr",
     "output_type": "stream",
     "text": [
      "`Trainer.fit` stopped: `max_steps=3000` reached.\n",
      "[rank: 0] Global seed set to 42\n",
      "You are using a CUDA device ('NVIDIA GeForce RTX 4090') that has Tensor Cores. To properly utilize them, you should set `torch.set_float32_matmul_precision('medium' | 'high')` which will trade-off precision for performance. For more details, read https://pytorch.org/docs/stable/generated/torch.set_float32_matmul_precision.html#torch.set_float32_matmul_precision\n"
     ]
    },
    {
     "name": "stdout",
     "output_type": "stream",
     "text": [
      "(1024, 1024, 3)\n",
      "the loaded normals are defined in the system of front view\n",
      "(1024, 1024, 3)\n",
      "the loaded normals are defined in the system of front view\n",
      "(1024, 1024, 3)\n",
      "the loaded normals are defined in the system of front view\n",
      "(1024, 1024, 3)\n",
      "the loaded normals are defined in the system of front view\n",
      "(1024, 1024, 3)\n",
      "the loaded normals are defined in the system of front view\n",
      "(1024, 1024, 3)\n",
      "the loaded normals are defined in the system of front view\n"
     ]
    },
    {
     "name": "stderr",
     "output_type": "stream",
     "text": [
      "LOCAL_RANK: 0 - CUDA_VISIBLE_DEVICES: [0]\n"
     ]
    },
    {
     "name": "stdout",
     "output_type": "stream",
     "text": [
      "Testing DataLoader 0: 100%|██████████| 6/6 [00:00<00:00, 769.43it/s]"
     ]
    },
    {
     "name": "stderr",
     "output_type": "stream",
     "text": [
      "Update grid level to 7\n",
      "Update finite_difference_eps to 0.011841535675862488\n"
     ]
    },
    {
     "name": "stdout",
     "output_type": "stream",
     "text": [
      "ortho scale is:  1.35\n",
      "Testing DataLoader 0: 100%|██████████| 6/6 [00:01<00:00,  3.26it/s] \n"
     ]
    },
    {
     "name": "stderr",
     "output_type": "stream",
     "text": [
      "Global seed set to 42\n",
      "Using finite difference to compute gradients with eps=progressive\n",
      "Using 16bit None Automatic Mixed Precision (AMP)\n",
      "GPU available: True (cuda), used: True\n",
      "TPU available: False, using: 0 TPU cores\n",
      "IPU available: False, using: 0 IPUs\n",
      "HPU available: False, using: 0 HPUs\n",
      "`Trainer(limit_train_batches=1.0)` was configured so 100% of the batches per epoch will be used..\n",
      "[rank: 0] Global seed set to 42\n",
      "Initializing distributed: GLOBAL_RANK: 0, MEMBER: 1/1\n",
      "----------------------------------------------------------------------------------------------------\n",
      "distributed_backend=nccl\n",
      "All distributed processes registered. Starting with 1 processes\n",
      "----------------------------------------------------------------------------------------------------\n",
      "\n",
      "You are using a CUDA device ('NVIDIA GeForce RTX 4090') that has Tensor Cores. To properly utilize them, you should set `torch.set_float32_matmul_precision('medium' | 'high')` which will trade-off precision for performance. For more details, read https://pytorch.org/docs/stable/generated/torch.set_float32_matmul_precision.html#torch.set_float32_matmul_precision\n"
     ]
    },
    {
     "name": "stdout",
     "output_type": "stream",
     "text": [
      "(1024, 1024, 3)\n",
      "the loaded normals are defined in the system of front view\n",
      "(1024, 1024, 3)\n",
      "the loaded normals are defined in the system of front view\n",
      "(1024, 1024, 3)\n",
      "the loaded normals are defined in the system of front view\n",
      "(1024, 1024, 3)\n",
      "the loaded normals are defined in the system of front view\n",
      "(1024, 1024, 3)\n",
      "the loaded normals are defined in the system of front view\n",
      "(1024, 1024, 3)\n",
      "the loaded normals are defined in the system of front view\n",
      "(1024, 1024, 3)\n",
      "the loaded normals are defined in the system of front view\n",
      "(1024, 1024, 3)\n",
      "the loaded normals are defined in the system of front view\n",
      "(1024, 1024, 3)\n",
      "the loaded normals are defined in the system of front view\n",
      "(1024, 1024, 3)\n",
      "the loaded normals are defined in the system of front view\n",
      "(1024, 1024, 3)\n",
      "the loaded normals are defined in the system of front view\n",
      "(1024, 1024, 3)\n",
      "the loaded normals are defined in the system of front view\n"
     ]
    },
    {
     "name": "stderr",
     "output_type": "stream",
     "text": [
      "LOCAL_RANK: 0 - CUDA_VISIBLE_DEVICES: [0]\n",
      "\n",
      "  | Name  | Type             | Params\n",
      "-------------------------------------------\n",
      "0 | cos   | CosineSimilarity | 0     \n",
      "1 | model | NeuSModel        | 7.7 M \n",
      "-------------------------------------------\n",
      "7.7 M     Trainable params\n",
      "0         Non-trainable params\n",
      "7.7 M     Total params\n",
      "15.371    Total estimated model params size (MB)\n"
     ]
    },
    {
     "name": "stdout",
     "output_type": "stream",
     "text": [
      "Epoch 0: : 0it [00:00, ?it/s]"
     ]
    },
    {
     "name": "stderr",
     "output_type": "stream",
     "text": [
      "Update finite_difference_eps to 0.027204705103003882\n"
     ]
    },
    {
     "name": "stdout",
     "output_type": "stream",
     "text": [
      "Epoch 0: : 501it [00:14, 35.77it/s, loss=0.0541, train/loss_rgb_mse=0.0374, train/loss_normal=0.00566, train/loss_eikonal=0.00897, train/loss_mask=0.00794, train/loss_sparsity=0.00226, train/loss_3d_normal_smooth=0.0126, train/inv_s=113.0, train/num_rays=2902.0]"
     ]
    },
    {
     "name": "stderr",
     "output_type": "stream",
     "text": [
      "/home/yuxuan/miniconda3/envs/wonder3d/lib/python3.9/site-packages/torch/optim/lr_scheduler.py:163: UserWarning: The epoch parameter in `scheduler.step()` was not necessary and is being deprecated where possible. Please use `scheduler.step()` to step the scheduler. During the deprecation, if epoch is different from None, the closed form is used instead of the new chainable form, where available. Please open an issue if you are unable to replicate your use case: https://github.com/pytorch/pytorch/issues/new/choose.\n",
      "  warnings.warn(EPOCH_DEPRECATION_WARNING, UserWarning)\n"
     ]
    },
    {
     "name": "stdout",
     "output_type": "stream",
     "text": [
      "Epoch 0: : 1006it [00:27, 36.87it/s, loss=0.041, train/loss_rgb_mse=0.0283, train/loss_normal=0.0061, train/loss_eikonal=0.00868, train/loss_mask=0.00468, train/loss_sparsity=0.00183, train/loss_3d_normal_smooth=0.0114, train/inv_s=234.0, train/num_rays=4864.0]  "
     ]
    },
    {
     "name": "stderr",
     "output_type": "stream",
     "text": [
      "Update grid level to 5\n",
      "Update finite_difference_eps to 0.02061731110582648\n"
     ]
    },
    {
     "name": "stdout",
     "output_type": "stream",
     "text": [
      "Epoch 0: : 2008it [00:45, 44.06it/s, loss=0.0318, train/loss_rgb_mse=0.0234, train/loss_normal=0.00487, train/loss_eikonal=0.0144, train/loss_mask=0.000682, train/loss_sparsity=0.00184, train/loss_3d_normal_smooth=0.0111, train/inv_s=349.0, train/num_rays=8192.0]  "
     ]
    },
    {
     "name": "stderr",
     "output_type": "stream",
     "text": [
      "Update grid level to 6\n",
      "Update finite_difference_eps to 0.015625000000000003\n"
     ]
    },
    {
     "name": "stdout",
     "output_type": "stream",
     "text": [
      "Epoch 0: : 3000it [01:00, 49.45it/s, loss=0.0303, train/loss_rgb_mse=0.0281, train/loss_normal=0.00584, train/loss_eikonal=0.00949, train/loss_mask=0.000685, train/loss_sparsity=0.00353, train/loss_3d_normal_smooth=0.00908, train/inv_s=407.0, train/num_rays=8192.0]\n"
     ]
    },
    {
     "name": "stderr",
     "output_type": "stream",
     "text": [
      "`Trainer.fit` stopped: `max_steps=3000` reached.\n",
      "[rank: 0] Global seed set to 42\n",
      "You are using a CUDA device ('NVIDIA GeForce RTX 4090') that has Tensor Cores. To properly utilize them, you should set `torch.set_float32_matmul_precision('medium' | 'high')` which will trade-off precision for performance. For more details, read https://pytorch.org/docs/stable/generated/torch.set_float32_matmul_precision.html#torch.set_float32_matmul_precision\n"
     ]
    },
    {
     "name": "stdout",
     "output_type": "stream",
     "text": [
      "(1024, 1024, 3)\n",
      "the loaded normals are defined in the system of front view\n",
      "(1024, 1024, 3)\n",
      "the loaded normals are defined in the system of front view\n",
      "(1024, 1024, 3)\n",
      "the loaded normals are defined in the system of front view\n",
      "(1024, 1024, 3)\n",
      "the loaded normals are defined in the system of front view\n",
      "(1024, 1024, 3)\n",
      "the loaded normals are defined in the system of front view\n",
      "(1024, 1024, 3)\n",
      "the loaded normals are defined in the system of front view\n"
     ]
    },
    {
     "name": "stderr",
     "output_type": "stream",
     "text": [
      "LOCAL_RANK: 0 - CUDA_VISIBLE_DEVICES: [0]\n"
     ]
    },
    {
     "name": "stdout",
     "output_type": "stream",
     "text": [
      "Testing DataLoader 0: 100%|██████████| 6/6 [00:00<00:00, 791.70it/s]"
     ]
    },
    {
     "name": "stderr",
     "output_type": "stream",
     "text": [
      "Update grid level to 7\n",
      "Update finite_difference_eps to 0.011841535675862488\n"
     ]
    },
    {
     "name": "stdout",
     "output_type": "stream",
     "text": [
      "ortho scale is:  1.35\n",
      "Testing DataLoader 0: 100%|██████████| 6/6 [00:01<00:00,  3.23it/s] \n"
     ]
    },
    {
     "name": "stderr",
     "output_type": "stream",
     "text": [
      "Global seed set to 42\n",
      "Using finite difference to compute gradients with eps=progressive\n",
      "Using 16bit None Automatic Mixed Precision (AMP)\n",
      "GPU available: True (cuda), used: True\n",
      "TPU available: False, using: 0 TPU cores\n",
      "IPU available: False, using: 0 IPUs\n",
      "HPU available: False, using: 0 HPUs\n",
      "`Trainer(limit_train_batches=1.0)` was configured so 100% of the batches per epoch will be used..\n",
      "[rank: 0] Global seed set to 42\n",
      "Initializing distributed: GLOBAL_RANK: 0, MEMBER: 1/1\n",
      "----------------------------------------------------------------------------------------------------\n",
      "distributed_backend=nccl\n",
      "All distributed processes registered. Starting with 1 processes\n",
      "----------------------------------------------------------------------------------------------------\n",
      "\n",
      "You are using a CUDA device ('NVIDIA GeForce RTX 4090') that has Tensor Cores. To properly utilize them, you should set `torch.set_float32_matmul_precision('medium' | 'high')` which will trade-off precision for performance. For more details, read https://pytorch.org/docs/stable/generated/torch.set_float32_matmul_precision.html#torch.set_float32_matmul_precision\n"
     ]
    },
    {
     "name": "stdout",
     "output_type": "stream",
     "text": [
      "(1024, 1024, 3)\n",
      "the loaded normals are defined in the system of front view\n",
      "(1024, 1024, 3)\n",
      "the loaded normals are defined in the system of front view\n",
      "(1024, 1024, 3)\n",
      "the loaded normals are defined in the system of front view\n",
      "(1024, 1024, 3)\n",
      "the loaded normals are defined in the system of front view\n",
      "(1024, 1024, 3)\n",
      "the loaded normals are defined in the system of front view\n",
      "(1024, 1024, 3)\n",
      "the loaded normals are defined in the system of front view\n",
      "(1024, 1024, 3)\n",
      "the loaded normals are defined in the system of front view\n",
      "(1024, 1024, 3)\n",
      "the loaded normals are defined in the system of front view\n",
      "(1024, 1024, 3)\n",
      "the loaded normals are defined in the system of front view\n",
      "(1024, 1024, 3)\n",
      "the loaded normals are defined in the system of front view\n",
      "(1024, 1024, 3)\n",
      "the loaded normals are defined in the system of front view\n",
      "(1024, 1024, 3)\n",
      "the loaded normals are defined in the system of front view\n"
     ]
    },
    {
     "name": "stderr",
     "output_type": "stream",
     "text": [
      "LOCAL_RANK: 0 - CUDA_VISIBLE_DEVICES: [0]\n",
      "\n",
      "  | Name  | Type             | Params\n",
      "-------------------------------------------\n",
      "0 | cos   | CosineSimilarity | 0     \n",
      "1 | model | NeuSModel        | 7.7 M \n",
      "-------------------------------------------\n",
      "7.7 M     Trainable params\n",
      "0         Non-trainable params\n",
      "7.7 M     Total params\n",
      "15.371    Total estimated model params size (MB)\n"
     ]
    },
    {
     "name": "stdout",
     "output_type": "stream",
     "text": [
      "Epoch 0: : 0it [00:00, ?it/s]"
     ]
    },
    {
     "name": "stderr",
     "output_type": "stream",
     "text": [
      "Update finite_difference_eps to 0.027204705103003882\n"
     ]
    },
    {
     "name": "stdout",
     "output_type": "stream",
     "text": [
      "Epoch 0: : 503it [00:13, 36.31it/s, loss=0.0662, train/loss_rgb_mse=0.0432, train/loss_normal=0.00761, train/loss_eikonal=0.0143, train/loss_mask=0.0105, train/loss_sparsity=0.0034, train/loss_3d_normal_smooth=0.0139, train/inv_s=108.0, train/num_rays=2855.0] "
     ]
    },
    {
     "name": "stderr",
     "output_type": "stream",
     "text": [
      "/home/yuxuan/miniconda3/envs/wonder3d/lib/python3.9/site-packages/torch/optim/lr_scheduler.py:163: UserWarning: The epoch parameter in `scheduler.step()` was not necessary and is being deprecated where possible. Please use `scheduler.step()` to step the scheduler. During the deprecation, if epoch is different from None, the closed form is used instead of the new chainable form, where available. Please open an issue if you are unable to replicate your use case: https://github.com/pytorch/pytorch/issues/new/choose.\n",
      "  warnings.warn(EPOCH_DEPRECATION_WARNING, UserWarning)\n"
     ]
    },
    {
     "name": "stdout",
     "output_type": "stream",
     "text": [
      "Epoch 0: : 1001it [00:26, 37.84it/s, loss=0.0505, train/loss_rgb_mse=0.036, train/loss_normal=0.00827, train/loss_eikonal=0.0149, train/loss_mask=0.00504, train/loss_sparsity=0.0031, train/loss_3d_normal_smooth=0.0139, train/inv_s=241.0, train/num_rays=4761.0]  "
     ]
    },
    {
     "name": "stderr",
     "output_type": "stream",
     "text": [
      "Update grid level to 5\n",
      "Update finite_difference_eps to 0.02061731110582648\n"
     ]
    },
    {
     "name": "stdout",
     "output_type": "stream",
     "text": [
      "Epoch 0: : 2008it [00:43, 45.87it/s, loss=0.0407, train/loss_rgb_mse=0.0286, train/loss_normal=0.00778, train/loss_eikonal=0.0225, train/loss_mask=0.000677, train/loss_sparsity=0.0037, train/loss_3d_normal_smooth=0.012, train/inv_s=402.0, train/num_rays=8192.0]   "
     ]
    },
    {
     "name": "stderr",
     "output_type": "stream",
     "text": [
      "Update grid level to 6\n",
      "Update finite_difference_eps to 0.015625000000000003\n"
     ]
    },
    {
     "name": "stdout",
     "output_type": "stream",
     "text": [
      "Epoch 0: : 3000it [00:57, 52.01it/s, loss=0.0354, train/loss_rgb_mse=0.0253, train/loss_normal=0.00631, train/loss_eikonal=0.0151, train/loss_mask=0.000684, train/loss_sparsity=0.00295, train/loss_3d_normal_smooth=0.00957, train/inv_s=483.0, train/num_rays=8192.0]\n"
     ]
    },
    {
     "name": "stderr",
     "output_type": "stream",
     "text": [
      "`Trainer.fit` stopped: `max_steps=3000` reached.\n",
      "[rank: 0] Global seed set to 42\n",
      "You are using a CUDA device ('NVIDIA GeForce RTX 4090') that has Tensor Cores. To properly utilize them, you should set `torch.set_float32_matmul_precision('medium' | 'high')` which will trade-off precision for performance. For more details, read https://pytorch.org/docs/stable/generated/torch.set_float32_matmul_precision.html#torch.set_float32_matmul_precision\n"
     ]
    },
    {
     "name": "stdout",
     "output_type": "stream",
     "text": [
      "(1024, 1024, 3)\n",
      "the loaded normals are defined in the system of front view\n",
      "(1024, 1024, 3)\n",
      "the loaded normals are defined in the system of front view\n",
      "(1024, 1024, 3)\n",
      "the loaded normals are defined in the system of front view\n",
      "(1024, 1024, 3)\n",
      "the loaded normals are defined in the system of front view\n",
      "(1024, 1024, 3)\n",
      "the loaded normals are defined in the system of front view\n",
      "(1024, 1024, 3)\n",
      "the loaded normals are defined in the system of front view\n",
      "Testing: 0it [00:00, ?it/s]"
     ]
    },
    {
     "name": "stderr",
     "output_type": "stream",
     "text": [
      "LOCAL_RANK: 0 - CUDA_VISIBLE_DEVICES: [0]\n"
     ]
    },
    {
     "name": "stdout",
     "output_type": "stream",
     "text": [
      "Testing DataLoader 0: 100%|██████████| 6/6 [00:00<00:00, 785.97it/s]"
     ]
    },
    {
     "name": "stderr",
     "output_type": "stream",
     "text": [
      "Update grid level to 7\n",
      "Update finite_difference_eps to 0.011841535675862488\n"
     ]
    },
    {
     "name": "stdout",
     "output_type": "stream",
     "text": [
      "ortho scale is:  1.35\n",
      "Testing DataLoader 0: 100%|██████████| 6/6 [00:01<00:00,  3.26it/s] \n"
     ]
    },
    {
     "name": "stderr",
     "output_type": "stream",
     "text": [
      "Global seed set to 42\n",
      "Using finite difference to compute gradients with eps=progressive\n",
      "Using 16bit None Automatic Mixed Precision (AMP)\n",
      "GPU available: True (cuda), used: True\n",
      "TPU available: False, using: 0 TPU cores\n",
      "IPU available: False, using: 0 IPUs\n",
      "HPU available: False, using: 0 HPUs\n",
      "`Trainer(limit_train_batches=1.0)` was configured so 100% of the batches per epoch will be used..\n",
      "[rank: 0] Global seed set to 42\n",
      "Initializing distributed: GLOBAL_RANK: 0, MEMBER: 1/1\n",
      "----------------------------------------------------------------------------------------------------\n",
      "distributed_backend=nccl\n",
      "All distributed processes registered. Starting with 1 processes\n",
      "----------------------------------------------------------------------------------------------------\n",
      "\n",
      "You are using a CUDA device ('NVIDIA GeForce RTX 4090') that has Tensor Cores. To properly utilize them, you should set `torch.set_float32_matmul_precision('medium' | 'high')` which will trade-off precision for performance. For more details, read https://pytorch.org/docs/stable/generated/torch.set_float32_matmul_precision.html#torch.set_float32_matmul_precision\n"
     ]
    },
    {
     "name": "stdout",
     "output_type": "stream",
     "text": [
      "(1024, 1024, 3)\n",
      "the loaded normals are defined in the system of front view\n",
      "(1024, 1024, 3)\n",
      "the loaded normals are defined in the system of front view\n",
      "(1024, 1024, 3)\n",
      "the loaded normals are defined in the system of front view\n",
      "(1024, 1024, 3)\n",
      "the loaded normals are defined in the system of front view\n",
      "(1024, 1024, 3)\n",
      "the loaded normals are defined in the system of front view\n",
      "(1024, 1024, 3)\n",
      "the loaded normals are defined in the system of front view\n",
      "(1024, 1024, 3)\n",
      "the loaded normals are defined in the system of front view\n",
      "(1024, 1024, 3)\n",
      "the loaded normals are defined in the system of front view\n",
      "(1024, 1024, 3)\n",
      "the loaded normals are defined in the system of front view\n",
      "(1024, 1024, 3)\n",
      "the loaded normals are defined in the system of front view\n",
      "(1024, 1024, 3)\n",
      "the loaded normals are defined in the system of front view\n",
      "(1024, 1024, 3)\n",
      "the loaded normals are defined in the system of front view\n"
     ]
    },
    {
     "name": "stderr",
     "output_type": "stream",
     "text": [
      "LOCAL_RANK: 0 - CUDA_VISIBLE_DEVICES: [0]\n",
      "\n",
      "  | Name  | Type             | Params\n",
      "-------------------------------------------\n",
      "0 | cos   | CosineSimilarity | 0     \n",
      "1 | model | NeuSModel        | 7.7 M \n",
      "-------------------------------------------\n",
      "7.7 M     Trainable params\n",
      "0         Non-trainable params\n",
      "7.7 M     Total params\n",
      "15.371    Total estimated model params size (MB)\n"
     ]
    },
    {
     "name": "stdout",
     "output_type": "stream",
     "text": [
      "Epoch 0: : 0it [00:00, ?it/s]"
     ]
    },
    {
     "name": "stderr",
     "output_type": "stream",
     "text": [
      "Update finite_difference_eps to 0.027204705103003882\n"
     ]
    },
    {
     "name": "stdout",
     "output_type": "stream",
     "text": [
      "Epoch 0: : 501it [00:14, 35.78it/s, loss=0.0595, train/loss_rgb_mse=0.0547, train/loss_normal=0.0119, train/loss_eikonal=0.00912, train/loss_mask=0.0106, train/loss_sparsity=0.00118, train/loss_3d_normal_smooth=0.0123, train/inv_s=106.0, train/num_rays=2896.0]   "
     ]
    },
    {
     "name": "stderr",
     "output_type": "stream",
     "text": [
      "/home/yuxuan/miniconda3/envs/wonder3d/lib/python3.9/site-packages/torch/optim/lr_scheduler.py:163: UserWarning: The epoch parameter in `scheduler.step()` was not necessary and is being deprecated where possible. Please use `scheduler.step()` to step the scheduler. During the deprecation, if epoch is different from None, the closed form is used instead of the new chainable form, where available. Please open an issue if you are unable to replicate your use case: https://github.com/pytorch/pytorch/issues/new/choose.\n",
      "  warnings.warn(EPOCH_DEPRECATION_WARNING, UserWarning)\n"
     ]
    },
    {
     "name": "stdout",
     "output_type": "stream",
     "text": [
      "Epoch 0: : 1005it [00:27, 36.79it/s, loss=0.0444, train/loss_rgb_mse=0.0467, train/loss_normal=0.00723, train/loss_eikonal=0.00867, train/loss_mask=0.00385, train/loss_sparsity=0.00175, train/loss_3d_normal_smooth=0.0121, train/inv_s=252.0, train/num_rays=4874.0]"
     ]
    },
    {
     "name": "stderr",
     "output_type": "stream",
     "text": [
      "Update grid level to 5\n",
      "Update finite_difference_eps to 0.02061731110582648\n"
     ]
    },
    {
     "name": "stdout",
     "output_type": "stream",
     "text": [
      "Epoch 0: : 2000it [00:44, 44.85it/s, loss=0.0368, train/loss_rgb_mse=0.0325, train/loss_normal=0.00603, train/loss_eikonal=0.0128, train/loss_mask=0.000684, train/loss_sparsity=0.00191, train/loss_3d_normal_smooth=0.010, train/inv_s=400.0, train/num_rays=8192.0]  "
     ]
    },
    {
     "name": "stderr",
     "output_type": "stream",
     "text": [
      "Update grid level to 6\n",
      "Update finite_difference_eps to 0.015625000000000003\n"
     ]
    },
    {
     "name": "stdout",
     "output_type": "stream",
     "text": [
      "Epoch 0: : 3000it [00:58, 51.35it/s, loss=0.034, train/loss_rgb_mse=0.022, train/loss_normal=0.00653, train/loss_eikonal=0.0106, train/loss_mask=0.000687, train/loss_sparsity=0.00212, train/loss_3d_normal_smooth=0.00896, train/inv_s=481.0, train/num_rays=8192.0]   \n"
     ]
    },
    {
     "name": "stderr",
     "output_type": "stream",
     "text": [
      "`Trainer.fit` stopped: `max_steps=3000` reached.\n",
      "[rank: 0] Global seed set to 42\n",
      "You are using a CUDA device ('NVIDIA GeForce RTX 4090') that has Tensor Cores. To properly utilize them, you should set `torch.set_float32_matmul_precision('medium' | 'high')` which will trade-off precision for performance. For more details, read https://pytorch.org/docs/stable/generated/torch.set_float32_matmul_precision.html#torch.set_float32_matmul_precision\n"
     ]
    },
    {
     "name": "stdout",
     "output_type": "stream",
     "text": [
      "(1024, 1024, 3)\n",
      "the loaded normals are defined in the system of front view\n",
      "(1024, 1024, 3)\n",
      "the loaded normals are defined in the system of front view\n",
      "(1024, 1024, 3)\n",
      "the loaded normals are defined in the system of front view\n",
      "(1024, 1024, 3)\n",
      "the loaded normals are defined in the system of front view\n",
      "(1024, 1024, 3)\n",
      "the loaded normals are defined in the system of front view\n",
      "(1024, 1024, 3)\n",
      "the loaded normals are defined in the system of front view\n",
      "Testing: 0it [00:00, ?it/s]"
     ]
    },
    {
     "name": "stderr",
     "output_type": "stream",
     "text": [
      "LOCAL_RANK: 0 - CUDA_VISIBLE_DEVICES: [0]\n"
     ]
    },
    {
     "name": "stdout",
     "output_type": "stream",
     "text": [
      "Testing DataLoader 0: 100%|██████████| 6/6 [00:00<00:00, 613.26it/s]"
     ]
    },
    {
     "name": "stderr",
     "output_type": "stream",
     "text": [
      "Update grid level to 7\n",
      "Update finite_difference_eps to 0.011841535675862488\n"
     ]
    },
    {
     "name": "stdout",
     "output_type": "stream",
     "text": [
      "ortho scale is:  1.35\n",
      "Testing DataLoader 0: 100%|██████████| 6/6 [00:01<00:00,  3.04it/s] \n"
     ]
    },
    {
     "name": "stderr",
     "output_type": "stream",
     "text": [
      "Global seed set to 42\n",
      "Using finite difference to compute gradients with eps=progressive\n",
      "Using 16bit None Automatic Mixed Precision (AMP)\n",
      "GPU available: True (cuda), used: True\n",
      "TPU available: False, using: 0 TPU cores\n",
      "IPU available: False, using: 0 IPUs\n",
      "HPU available: False, using: 0 HPUs\n",
      "`Trainer(limit_train_batches=1.0)` was configured so 100% of the batches per epoch will be used..\n",
      "[rank: 0] Global seed set to 42\n",
      "Initializing distributed: GLOBAL_RANK: 0, MEMBER: 1/1\n",
      "----------------------------------------------------------------------------------------------------\n",
      "distributed_backend=nccl\n",
      "All distributed processes registered. Starting with 1 processes\n",
      "----------------------------------------------------------------------------------------------------\n",
      "\n",
      "You are using a CUDA device ('NVIDIA GeForce RTX 4090') that has Tensor Cores. To properly utilize them, you should set `torch.set_float32_matmul_precision('medium' | 'high')` which will trade-off precision for performance. For more details, read https://pytorch.org/docs/stable/generated/torch.set_float32_matmul_precision.html#torch.set_float32_matmul_precision\n"
     ]
    },
    {
     "name": "stdout",
     "output_type": "stream",
     "text": [
      "(1024, 1024, 3)\n",
      "the loaded normals are defined in the system of front view\n",
      "(1024, 1024, 3)\n",
      "the loaded normals are defined in the system of front view\n",
      "(1024, 1024, 3)\n",
      "the loaded normals are defined in the system of front view\n",
      "(1024, 1024, 3)\n",
      "the loaded normals are defined in the system of front view\n",
      "(1024, 1024, 3)\n",
      "the loaded normals are defined in the system of front view\n",
      "(1024, 1024, 3)\n",
      "the loaded normals are defined in the system of front view\n",
      "(1024, 1024, 3)\n",
      "the loaded normals are defined in the system of front view\n",
      "(1024, 1024, 3)\n",
      "the loaded normals are defined in the system of front view\n",
      "(1024, 1024, 3)\n",
      "the loaded normals are defined in the system of front view\n",
      "(1024, 1024, 3)\n",
      "the loaded normals are defined in the system of front view\n",
      "(1024, 1024, 3)\n",
      "the loaded normals are defined in the system of front view\n",
      "(1024, 1024, 3)\n",
      "the loaded normals are defined in the system of front view\n"
     ]
    },
    {
     "name": "stderr",
     "output_type": "stream",
     "text": [
      "LOCAL_RANK: 0 - CUDA_VISIBLE_DEVICES: [0]\n",
      "\n",
      "  | Name  | Type             | Params\n",
      "-------------------------------------------\n",
      "0 | cos   | CosineSimilarity | 0     \n",
      "1 | model | NeuSModel        | 7.7 M \n",
      "-------------------------------------------\n",
      "7.7 M     Trainable params\n",
      "0         Non-trainable params\n",
      "7.7 M     Total params\n",
      "15.371    Total estimated model params size (MB)\n"
     ]
    },
    {
     "name": "stdout",
     "output_type": "stream",
     "text": [
      "Epoch 0: : 0it [00:00, ?it/s]"
     ]
    },
    {
     "name": "stderr",
     "output_type": "stream",
     "text": [
      "Update finite_difference_eps to 0.027204705103003882\n"
     ]
    },
    {
     "name": "stdout",
     "output_type": "stream",
     "text": [
      "Epoch 0: : 501it [00:13, 35.90it/s, loss=0.0707, train/loss_rgb_mse=0.0512, train/loss_normal=0.0106, train/loss_eikonal=0.0131, train/loss_mask=0.0127, train/loss_sparsity=0.00253, train/loss_3d_normal_smooth=0.0134, train/inv_s=88.90, train/num_rays=2877.0] "
     ]
    },
    {
     "name": "stderr",
     "output_type": "stream",
     "text": [
      "/home/yuxuan/miniconda3/envs/wonder3d/lib/python3.9/site-packages/torch/optim/lr_scheduler.py:163: UserWarning: The epoch parameter in `scheduler.step()` was not necessary and is being deprecated where possible. Please use `scheduler.step()` to step the scheduler. During the deprecation, if epoch is different from None, the closed form is used instead of the new chainable form, where available. Please open an issue if you are unable to replicate your use case: https://github.com/pytorch/pytorch/issues/new/choose.\n",
      "  warnings.warn(EPOCH_DEPRECATION_WARNING, UserWarning)\n"
     ]
    },
    {
     "name": "stdout",
     "output_type": "stream",
     "text": [
      "Epoch 0: : 1005it [00:27, 37.05it/s, loss=0.0535, train/loss_rgb_mse=0.050, train/loss_normal=0.00884, train/loss_eikonal=0.0133, train/loss_mask=0.00596, train/loss_sparsity=0.00132, train/loss_3d_normal_smooth=0.0129, train/inv_s=175.0, train/num_rays=4826.0] "
     ]
    },
    {
     "name": "stderr",
     "output_type": "stream",
     "text": [
      "Update grid level to 5\n",
      "Update finite_difference_eps to 0.02061731110582648\n"
     ]
    },
    {
     "name": "stdout",
     "output_type": "stream",
     "text": [
      "Epoch 0: : 2010it [00:44, 44.95it/s, loss=0.0419, train/loss_rgb_mse=0.0408, train/loss_normal=0.00755, train/loss_eikonal=0.022, train/loss_mask=0.000684, train/loss_sparsity=0.00296, train/loss_3d_normal_smooth=0.0118, train/inv_s=249.0, train/num_rays=8192.0]  "
     ]
    },
    {
     "name": "stderr",
     "output_type": "stream",
     "text": [
      "Update grid level to 6\n",
      "Update finite_difference_eps to 0.015625000000000003\n"
     ]
    },
    {
     "name": "stdout",
     "output_type": "stream",
     "text": [
      "Epoch 0: : 3000it [00:58, 51.05it/s, loss=0.037, train/loss_rgb_mse=0.0322, train/loss_normal=0.00727, train/loss_eikonal=0.014, train/loss_mask=0.000679, train/loss_sparsity=0.002, train/loss_3d_normal_smooth=0.00912, train/inv_s=290.0, train/num_rays=8192.0]    \n"
     ]
    },
    {
     "name": "stderr",
     "output_type": "stream",
     "text": [
      "`Trainer.fit` stopped: `max_steps=3000` reached.\n",
      "[rank: 0] Global seed set to 42\n",
      "You are using a CUDA device ('NVIDIA GeForce RTX 4090') that has Tensor Cores. To properly utilize them, you should set `torch.set_float32_matmul_precision('medium' | 'high')` which will trade-off precision for performance. For more details, read https://pytorch.org/docs/stable/generated/torch.set_float32_matmul_precision.html#torch.set_float32_matmul_precision\n"
     ]
    },
    {
     "name": "stdout",
     "output_type": "stream",
     "text": [
      "(1024, 1024, 3)\n",
      "the loaded normals are defined in the system of front view\n",
      "(1024, 1024, 3)\n",
      "the loaded normals are defined in the system of front view\n",
      "(1024, 1024, 3)\n",
      "the loaded normals are defined in the system of front view\n",
      "(1024, 1024, 3)\n",
      "the loaded normals are defined in the system of front view\n",
      "(1024, 1024, 3)\n",
      "the loaded normals are defined in the system of front view\n",
      "(1024, 1024, 3)\n",
      "the loaded normals are defined in the system of front view\n"
     ]
    },
    {
     "name": "stderr",
     "output_type": "stream",
     "text": [
      "LOCAL_RANK: 0 - CUDA_VISIBLE_DEVICES: [0]\n"
     ]
    },
    {
     "name": "stdout",
     "output_type": "stream",
     "text": [
      "Testing DataLoader 0: 100%|██████████| 6/6 [00:00<00:00, 779.49it/s]"
     ]
    },
    {
     "name": "stderr",
     "output_type": "stream",
     "text": [
      "Update grid level to 7\n",
      "Update finite_difference_eps to 0.011841535675862488\n"
     ]
    },
    {
     "name": "stdout",
     "output_type": "stream",
     "text": [
      "ortho scale is:  1.35\n",
      "Testing DataLoader 0: 100%|██████████| 6/6 [00:01<00:00,  3.30it/s] \n"
     ]
    },
    {
     "name": "stderr",
     "output_type": "stream",
     "text": [
      "Global seed set to 42\n",
      "Using finite difference to compute gradients with eps=progressive\n",
      "Using 16bit None Automatic Mixed Precision (AMP)\n",
      "GPU available: True (cuda), used: True\n",
      "TPU available: False, using: 0 TPU cores\n",
      "IPU available: False, using: 0 IPUs\n",
      "HPU available: False, using: 0 HPUs\n",
      "`Trainer(limit_train_batches=1.0)` was configured so 100% of the batches per epoch will be used..\n",
      "[rank: 0] Global seed set to 42\n",
      "Initializing distributed: GLOBAL_RANK: 0, MEMBER: 1/1\n",
      "----------------------------------------------------------------------------------------------------\n",
      "distributed_backend=nccl\n",
      "All distributed processes registered. Starting with 1 processes\n",
      "----------------------------------------------------------------------------------------------------\n",
      "\n",
      "You are using a CUDA device ('NVIDIA GeForce RTX 4090') that has Tensor Cores. To properly utilize them, you should set `torch.set_float32_matmul_precision('medium' | 'high')` which will trade-off precision for performance. For more details, read https://pytorch.org/docs/stable/generated/torch.set_float32_matmul_precision.html#torch.set_float32_matmul_precision\n"
     ]
    },
    {
     "name": "stdout",
     "output_type": "stream",
     "text": [
      "(1024, 1024, 3)\n",
      "the loaded normals are defined in the system of front view\n",
      "(1024, 1024, 3)\n",
      "the loaded normals are defined in the system of front view\n",
      "(1024, 1024, 3)\n",
      "the loaded normals are defined in the system of front view\n",
      "(1024, 1024, 3)\n",
      "the loaded normals are defined in the system of front view\n",
      "(1024, 1024, 3)\n",
      "the loaded normals are defined in the system of front view\n",
      "(1024, 1024, 3)\n",
      "the loaded normals are defined in the system of front view\n",
      "(1024, 1024, 3)\n",
      "the loaded normals are defined in the system of front view\n",
      "(1024, 1024, 3)\n",
      "the loaded normals are defined in the system of front view\n",
      "(1024, 1024, 3)\n",
      "the loaded normals are defined in the system of front view\n",
      "(1024, 1024, 3)\n",
      "the loaded normals are defined in the system of front view\n",
      "(1024, 1024, 3)\n",
      "the loaded normals are defined in the system of front view\n",
      "(1024, 1024, 3)\n",
      "the loaded normals are defined in the system of front view\n"
     ]
    },
    {
     "name": "stderr",
     "output_type": "stream",
     "text": [
      "LOCAL_RANK: 0 - CUDA_VISIBLE_DEVICES: [0]\n",
      "\n",
      "  | Name  | Type             | Params\n",
      "-------------------------------------------\n",
      "0 | cos   | CosineSimilarity | 0     \n",
      "1 | model | NeuSModel        | 7.7 M \n",
      "-------------------------------------------\n",
      "7.7 M     Trainable params\n",
      "0         Non-trainable params\n",
      "7.7 M     Total params\n",
      "15.371    Total estimated model params size (MB)\n"
     ]
    },
    {
     "name": "stdout",
     "output_type": "stream",
     "text": [
      "Epoch 0: : 0it [00:00, ?it/s]"
     ]
    },
    {
     "name": "stderr",
     "output_type": "stream",
     "text": [
      "Update finite_difference_eps to 0.027204705103003882\n"
     ]
    },
    {
     "name": "stdout",
     "output_type": "stream",
     "text": [
      "Epoch 0: : 501it [00:13, 36.66it/s, loss=0.0608, train/loss_rgb_mse=0.0491, train/loss_normal=0.00611, train/loss_eikonal=0.010, train/loss_mask=0.00821, train/loss_sparsity=0.00209, train/loss_3d_normal_smooth=0.0126, train/inv_s=106.0, train/num_rays=2880.0]  "
     ]
    },
    {
     "name": "stderr",
     "output_type": "stream",
     "text": [
      "/home/yuxuan/miniconda3/envs/wonder3d/lib/python3.9/site-packages/torch/optim/lr_scheduler.py:163: UserWarning: The epoch parameter in `scheduler.step()` was not necessary and is being deprecated where possible. Please use `scheduler.step()` to step the scheduler. During the deprecation, if epoch is different from None, the closed form is used instead of the new chainable form, where available. Please open an issue if you are unable to replicate your use case: https://github.com/pytorch/pytorch/issues/new/choose.\n",
      "  warnings.warn(EPOCH_DEPRECATION_WARNING, UserWarning)\n"
     ]
    },
    {
     "name": "stdout",
     "output_type": "stream",
     "text": [
      "Epoch 0: : 1002it [00:26, 38.27it/s, loss=0.0506, train/loss_rgb_mse=0.0564, train/loss_normal=0.00586, train/loss_eikonal=0.0103, train/loss_mask=0.00529, train/loss_sparsity=0.00343, train/loss_3d_normal_smooth=0.0131, train/inv_s=187.0, train/num_rays=4875.0] "
     ]
    },
    {
     "name": "stderr",
     "output_type": "stream",
     "text": [
      "Update grid level to 5\n",
      "Update finite_difference_eps to 0.02061731110582648\n"
     ]
    },
    {
     "name": "stdout",
     "output_type": "stream",
     "text": [
      "Epoch 0: : 2014it [00:43, 46.68it/s, loss=0.04, train/loss_rgb_mse=0.0318, train/loss_normal=0.00591, train/loss_eikonal=0.0143, train/loss_mask=0.00068, train/loss_sparsity=0.00318, train/loss_3d_normal_smooth=0.012, train/inv_s=249.0, train/num_rays=8192.0]      "
     ]
    },
    {
     "name": "stderr",
     "output_type": "stream",
     "text": [
      "Update grid level to 6\n",
      "Update finite_difference_eps to 0.015625000000000003\n"
     ]
    },
    {
     "name": "stdout",
     "output_type": "stream",
     "text": [
      "Epoch 0: : 3000it [00:56, 52.91it/s, loss=0.0357, train/loss_rgb_mse=0.0429, train/loss_normal=0.00496, train/loss_eikonal=0.0091, train/loss_mask=0.000679, train/loss_sparsity=0.0027, train/loss_3d_normal_smooth=0.009, train/inv_s=281.0, train/num_rays=8192.0]    \n"
     ]
    },
    {
     "name": "stderr",
     "output_type": "stream",
     "text": [
      "`Trainer.fit` stopped: `max_steps=3000` reached.\n",
      "[rank: 0] Global seed set to 42\n",
      "You are using a CUDA device ('NVIDIA GeForce RTX 4090') that has Tensor Cores. To properly utilize them, you should set `torch.set_float32_matmul_precision('medium' | 'high')` which will trade-off precision for performance. For more details, read https://pytorch.org/docs/stable/generated/torch.set_float32_matmul_precision.html#torch.set_float32_matmul_precision\n"
     ]
    },
    {
     "name": "stdout",
     "output_type": "stream",
     "text": [
      "(1024, 1024, 3)\n",
      "the loaded normals are defined in the system of front view\n",
      "(1024, 1024, 3)\n",
      "the loaded normals are defined in the system of front view\n",
      "(1024, 1024, 3)\n",
      "the loaded normals are defined in the system of front view\n",
      "(1024, 1024, 3)\n",
      "the loaded normals are defined in the system of front view\n",
      "(1024, 1024, 3)\n",
      "the loaded normals are defined in the system of front view\n",
      "(1024, 1024, 3)\n",
      "the loaded normals are defined in the system of front view\n",
      "Testing: 0it [00:00, ?it/s]"
     ]
    },
    {
     "name": "stderr",
     "output_type": "stream",
     "text": [
      "LOCAL_RANK: 0 - CUDA_VISIBLE_DEVICES: [0]\n"
     ]
    },
    {
     "name": "stdout",
     "output_type": "stream",
     "text": [
      "Testing DataLoader 0: 100%|██████████| 6/6 [00:00<00:00, 792.50it/s]"
     ]
    },
    {
     "name": "stderr",
     "output_type": "stream",
     "text": [
      "Update grid level to 7\n",
      "Update finite_difference_eps to 0.011841535675862488\n"
     ]
    },
    {
     "name": "stdout",
     "output_type": "stream",
     "text": [
      "ortho scale is:  1.35\n",
      "Testing DataLoader 0: 100%|██████████| 6/6 [00:01<00:00,  3.34it/s] \n"
     ]
    }
   ],
   "source": [
    "import subprocess\n",
    "import os\n",
    "\n",
    "path = '/home/yuxuan/project/Wonder3D/outputs/2k2k_front/cropsize-192-cfg1.0'\n",
    "for subj in os.listdir(path):\n",
    "    subj_path = os.path.join(path, subj)\n",
    "    command = [\n",
    "        '/home/yuxuan/miniconda3/envs/wonder3d/bin/python',  # Replace with the full path to the Python executable in your conda environment\n",
    "        'launch.py',\n",
    "        '--config', 'configs/neuralangelo-ortho-wmask.yaml',\n",
    "        '--gpu', '0',\n",
    "        f'--train', f'dataset.scene={subj}'\n",
    "    ]\n",
    "    subprocess.run(command, cwd='/home/yuxuan/project/Wonder3D/instant-nsr-pl')"
   ]
  }
 ],
 "metadata": {
  "kernelspec": {
   "display_name": "wonder3d",
   "language": "python",
   "name": "python3"
  },
  "language_info": {
   "codemirror_mode": {
    "name": "ipython",
    "version": 3
   },
   "file_extension": ".py",
   "mimetype": "text/x-python",
   "name": "python",
   "nbconvert_exporter": "python",
   "pygments_lexer": "ipython3",
   "version": "3.9.18"
  }
 },
 "nbformat": 4,
 "nbformat_minor": 2
}
